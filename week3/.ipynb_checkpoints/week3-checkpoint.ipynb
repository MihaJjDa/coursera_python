{
 "cells": [
  {
   "cell_type": "markdown",
   "metadata": {},
   "source": [
    "# Неделя 3\n",
    "\n",
    "# Объектно-ориентированое программирование\n",
    "\n",
    "Помимо всего прочего, Python является объектно-ориентированным языком программирования --- в языке реализованы классы и три основные концепции ООП: наследование, полиморфизм, инкапсуляция. Код на Python-е можно писать, используя только функции.\n",
    "\n",
    "Однако, часто код программ на Python-е (а также код стандартной библиотеки) написан именно с использованием классов. На этой неделе вы познакомитесь с классами, наследованием классов, композицией, а также научитесь обрабатывать ошибки в программах."
   ]
  },
  {
   "cell_type": "markdown",
   "metadata": {},
   "source": [
    "## 3.1. Классы и объекты\n",
    "\n",
    "### 3.1.1, 3.1.2. Классы и экземпляры. Часть 1\n",
    "\n",
    "\n",
    "Объектно-ориентированное программирование --- это особый способ организации кода. Часто говорят, что классы используют тогда, когда нужно отобразить реальные предметы на программный код. Отчасти это так, но в общем случае классы служат для объединения функционала, связанного общей идеей и смыслом, в одну сущность, у которой может быть свое внутреннее состояние, а также методы, которые позволяют модифицировать это состояние. Реальный пример класса: обертка над соединением к базе данных (состояние --- постоянное TCP-соединение с базой, методы класса предоставляют интерфейс доступа к соединению). Тем самым TCP соединение инкапсулируется внутри класса, а пользователю класса предоставляем удобный интерфейс доступа к данным. Много примеров классов можно найти в реализации игр жанра RPG. Квесты, монстры, игроки, предметы инвентаря --- всё это может быть классами со своими свойствами и возможностями.\n",
    "\n",
    "Типы данных (такие как int, float и др.) в Python являются классами, структуры данных (dict, list, …) --- это также классы."
   ]
  },
  {
   "cell_type": "code",
   "execution_count": 1,
   "metadata": {},
   "outputs": [
    {
     "name": "stdout",
     "output_type": "stream",
     "text": [
      "<class 'dict'>\n"
     ]
    }
   ],
   "source": [
    "print(dict)"
   ]
  },
  {
   "cell_type": "code",
   "execution_count": 2,
   "metadata": {},
   "outputs": [
    {
     "name": "stdout",
     "output_type": "stream",
     "text": [
      "<class 'int'>\n"
     ]
    }
   ],
   "source": [
    "print(int)"
   ]
  },
  {
   "cell_type": "code",
   "execution_count": 3,
   "metadata": {},
   "outputs": [
    {
     "name": "stdout",
     "output_type": "stream",
     "text": [
      "<class 'int'>\n"
     ]
    }
   ],
   "source": [
    "print(int)"
   ]
  },
  {
   "cell_type": "code",
   "execution_count": 4,
   "metadata": {},
   "outputs": [
    {
     "name": "stdout",
     "output_type": "stream",
     "text": [
      "<class 'float'>\n"
     ]
    }
   ],
   "source": [
    "num = 13.0\n",
    "print(type(num))"
   ]
  },
  {
   "cell_type": "markdown",
   "metadata": {},
   "source": [
    "#### isinstance\n",
    "\n",
    "Для того, что узнать, принадлежит ли объект к определённому типу (т.е. классу), существует стандартная функция isinstance:"
   ]
  },
  {
   "cell_type": "code",
   "execution_count": 5,
   "metadata": {},
   "outputs": [
    {
     "data": {
      "text/plain": [
       "True"
      ]
     },
     "execution_count": 5,
     "metadata": {},
     "output_type": "execute_result"
    }
   ],
   "source": [
    "num = 13\n",
    "isinstance(num, int)"
   ]
  },
  {
   "cell_type": "code",
   "execution_count": 6,
   "metadata": {},
   "outputs": [
    {
     "data": {
      "text/plain": [
       "True"
      ]
     },
     "execution_count": 6,
     "metadata": {},
     "output_type": "execute_result"
    }
   ],
   "source": [
    "numbers = {}\n",
    "isinstance(numbers, dict)"
   ]
  },
  {
   "cell_type": "markdown",
   "metadata": {},
   "source": [
    "#### Объявление класса\n",
    "\n",
    "Итак, классы есть в стандартной библиотеке Python, но также пользователь может реализовывать собственные классы. Это делается с помощью ключевого слова class. (Классы в Python принято называть CamelCase-ом.) После этого ставится двоеточие и дальше идет блок пространства имен класса. Посмотрим на примере простейшего класса, который ничего не делает:"
   ]
  },
  {
   "cell_type": "code",
   "execution_count": 7,
   "metadata": {},
   "outputs": [],
   "source": [
    "class Human:\n",
    "    pass"
   ]
  },
  {
   "cell_type": "markdown",
   "metadata": {},
   "source": [
    "Вместо слова pass можем вставить docstring:"
   ]
  },
  {
   "cell_type": "code",
   "execution_count": 8,
   "metadata": {},
   "outputs": [],
   "source": [
    "class Robot:\n",
    "    \"\"\"Данный класс позволяет создавать роботов\"\"\""
   ]
  },
  {
   "cell_type": "code",
   "execution_count": 9,
   "metadata": {},
   "outputs": [
    {
     "name": "stdout",
     "output_type": "stream",
     "text": [
      "<class '__main__.Robot'>\n"
     ]
    }
   ],
   "source": [
    "print(Robot)"
   ]
  },
  {
   "cell_type": "markdown",
   "metadata": {},
   "source": [
    "Посмотрим, какие методы есть у созданного объекта (и увидим, что их достаточно много):"
   ]
  },
  {
   "cell_type": "code",
   "execution_count": 10,
   "metadata": {},
   "outputs": [
    {
     "name": "stdout",
     "output_type": "stream",
     "text": [
      "['__class__', '__delattr__', '__dict__', '__dir__', '__doc__', '__eq__', '__format__', '__ge__', '__getattribute__', '__gt__', '__hash__', '__init__', '__init_subclass__', '__le__', '__lt__', '__module__', '__ne__', '__new__', '__reduce__', '__reduce_ex__', '__repr__', '__setattr__', '__sizeof__', '__str__', '__subclasshook__', '__weakref__']\n"
     ]
    }
   ],
   "source": [
    "print(dir(Robot))"
   ]
  },
  {
   "cell_type": "markdown",
   "metadata": {},
   "source": [
    "#### Создание экземпляра (объекта) класса\n",
    "\n",
    "Предположим, что наш класс описывает планету (причём любую, абстрактную планету). Экземплярами класса будут являться конкретные планеты --- Земля, Марс и т.д."
   ]
  },
  {
   "cell_type": "code",
   "execution_count": 1,
   "metadata": {},
   "outputs": [],
   "source": [
    "class Planet:\n",
    "    pass"
   ]
  },
  {
   "cell_type": "markdown",
   "metadata": {},
   "source": [
    "Для того, чтобы создать экземпляр класса, обращаются к имени класса с помощью ():"
   ]
  },
  {
   "cell_type": "code",
   "execution_count": 2,
   "metadata": {},
   "outputs": [],
   "source": [
    "planet = Planet()"
   ]
  },
  {
   "cell_type": "code",
   "execution_count": 3,
   "metadata": {},
   "outputs": [
    {
     "name": "stdout",
     "output_type": "stream",
     "text": [
      "<__main__.Planet object at 0x7fd5b03659e8>\n"
     ]
    }
   ],
   "source": [
    "print(planet)"
   ]
  },
  {
   "cell_type": "markdown",
   "metadata": {},
   "source": [
    "Мы получили не просто класс, а объект этого класса. Но ничто не мешает нам оперировать с классами как с объектами, так как всё в Python есть объект.\n",
    "\n",
    "Давайте с помощью небольшого скрипта промоделируем создание Солнечной системы:"
   ]
  },
  {
   "cell_type": "code",
   "execution_count": 4,
   "metadata": {},
   "outputs": [
    {
     "name": "stdout",
     "output_type": "stream",
     "text": [
      "[<__main__.Planet object at 0x7fd5b0365e48>, <__main__.Planet object at 0x7fd5b03659e8>, <__main__.Planet object at 0x7fd5b0365eb8>, <__main__.Planet object at 0x7fd5b0365ef0>, <__main__.Planet object at 0x7fd5b0365f28>, <__main__.Planet object at 0x7fd5b0365f60>, <__main__.Planet object at 0x7fd5b0365f98>, <__main__.Planet object at 0x7fd5b0365fd0>]\n"
     ]
    }
   ],
   "source": [
    "solar_system = []\n",
    "for i in range(8):\n",
    "    planet = Planet()\n",
    "    solar_system.append(planet)\n",
    "\n",
    "print(solar_system) "
   ]
  },
  {
   "cell_type": "markdown",
   "metadata": {},
   "source": [
    "Важно отметить, что экземпляры класса --- это хэшируемые объекты (могут быть ключами словаря). Например, исправим предыдущий пример так, чтобы экземпляры класса Planet стали ключами словаря:"
   ]
  },
  {
   "cell_type": "code",
   "execution_count": 5,
   "metadata": {},
   "outputs": [
    {
     "name": "stdout",
     "output_type": "stream",
     "text": [
      "{<__main__.Planet object at 0x7fd5b03659e8>: True, <__main__.Planet object at 0x7fd5b0365fd0>: True, <__main__.Planet object at 0x7fd5b0365eb8>: True, <__main__.Planet object at 0x7fd5b0365ef0>: True, <__main__.Planet object at 0x7fd5b0365f28>: True, <__main__.Planet object at 0x7fd5b0365f60>: True, <__main__.Planet object at 0x7fd5b0365f98>: True, <__main__.Planet object at 0x7fd5b030c748>: True}\n"
     ]
    }
   ],
   "source": [
    "solar_system = {}\n",
    "for i in range(8):\n",
    "    planet = Planet()\n",
    "    solar_system[planet] = True\n",
    "\n",
    "print(solar_system)"
   ]
  },
  {
   "cell_type": "markdown",
   "metadata": {},
   "source": [
    "#### Инициализация экземпляра\n",
    "\n",
    "Чтобы назвать планеты нашей Солнечной системы, мы будем использовать один из магических методов класса --- метод __init__. Этот метод вызывается автоматически при создании экземпляра класса. Первым аргументом метод __init__ принимает ссылку на только что созданный экземпляр класса, далее могут идти другие аргументы. Внутри\n",
    "инициализатора мы можем по ссылке self установить так называемые атрибуты экземпляра. В данном случае мы ставим атрибут экземпляра name и присваиваем ему аргумент name --- имя планеты:"
   ]
  },
  {
   "cell_type": "code",
   "execution_count": 6,
   "metadata": {},
   "outputs": [],
   "source": [
    "class Planet:\n",
    "    \n",
    "    def __init__(self, name):\n",
    "        self.name = name"
   ]
  },
  {
   "cell_type": "markdown",
   "metadata": {},
   "source": [
    "Мы можем обратиться к атрибуту класса, написав его через точку после названия экземпляра:"
   ]
  },
  {
   "cell_type": "code",
   "execution_count": 7,
   "metadata": {},
   "outputs": [
    {
     "name": "stdout",
     "output_type": "stream",
     "text": [
      "Earth\n",
      "<__main__.Planet object at 0x7fd5b0365dd8>\n"
     ]
    }
   ],
   "source": [
    "earth = Planet(\"Earth\")\n",
    "print(earth.name)\n",
    "print(earth)"
   ]
  },
  {
   "cell_type": "markdown",
   "metadata": {},
   "source": [
    "Можно сделать так, чтобы print(earth) печатал имя планеты. Для этого есть магический метод __str__, позволяющий переопределить то, как будет печататься объект:"
   ]
  },
  {
   "cell_type": "code",
   "execution_count": 8,
   "metadata": {},
   "outputs": [
    {
     "name": "stdout",
     "output_type": "stream",
     "text": [
      "Earth\n"
     ]
    }
   ],
   "source": [
    "class Planet:\n",
    "    \n",
    "    def __init__(self, name):\n",
    "        self.name = name\n",
    "        \n",
    "    def __str__(self):\n",
    "        return self.name\n",
    "\n",
    "\n",
    "earth = Planet(\"Earth\")\n",
    "print(earth)"
   ]
  },
  {
   "cell_type": "markdown",
   "metadata": {},
   "source": [
    "Давайте назовём все планеты солнечной системы:"
   ]
  },
  {
   "cell_type": "code",
   "execution_count": 9,
   "metadata": {},
   "outputs": [
    {
     "name": "stdout",
     "output_type": "stream",
     "text": [
      "[<__main__.Planet object at 0x7fd5b0365f28>, <__main__.Planet object at 0x7fd5b0365ef0>, <__main__.Planet object at 0x7fd5b0365eb8>, <__main__.Planet object at 0x7fd5b0365fd0>, <__main__.Planet object at 0x7fd5b03659e8>, <__main__.Planet object at 0x7fd5b030c748>, <__main__.Planet object at 0x7fd5b030c198>, <__main__.Planet object at 0x7fd5b030c160>]\n"
     ]
    }
   ],
   "source": [
    "solar_system = []\n",
    "\n",
    "planet_names = [\n",
    "    \"Mercury\", \"Venus\", \"Earth\", \"Mars\", \n",
    "    \"Jupiter\", \"Saturn\", \"Uranus\", \"Neptune\"\n",
    "]\n",
    "\n",
    "for name in planet_names:\n",
    "    planet = Planet(name)\n",
    "    solar_system.append(planet)\n",
    "\n",
    "print(solar_system)"
   ]
  },
  {
   "cell_type": "markdown",
   "metadata": {},
   "source": [
    "Несмотря на то, что мы переопределили метод __str__, внутри списка мы видим объекты в старом представлении. Чтобы отображать объекты в списке, Python использует другой магический метод --- __repr__, который мы тоже можем переопределить:"
   ]
  },
  {
   "cell_type": "code",
   "execution_count": 10,
   "metadata": {},
   "outputs": [],
   "source": [
    "class Planet:\n",
    "    \n",
    "    def __init__(self, name):\n",
    "        self.name = name\n",
    "\n",
    "    def __repr__(self):\n",
    "        return f\"Planet {self.name}\""
   ]
  },
  {
   "cell_type": "code",
   "execution_count": 11,
   "metadata": {},
   "outputs": [
    {
     "name": "stdout",
     "output_type": "stream",
     "text": [
      "[Planet Mercury, Planet Venus, Planet Earth, Planet Mars, Planet Jupiter, Planet Saturn, Planet Uranus, Planet Neptune]\n"
     ]
    }
   ],
   "source": [
    "solar_system = []\n",
    "\n",
    "planet_names = [\n",
    "    \"Mercury\", \"Venus\", \"Earth\", \"Mars\", \n",
    "    \"Jupiter\", \"Saturn\", \"Uranus\", \"Neptune\"\n",
    "]\n",
    "\n",
    "for name in planet_names:\n",
    "    planet = Planet(name)\n",
    "    solar_system.append(planet)\n",
    "\n",
    "print(solar_system)"
   ]
  },
  {
   "cell_type": "markdown",
   "metadata": {},
   "source": [
    "Существует огромное множество других магических методов классов, про некоторые из которых мы поговорим позже. Например, \\_\\_add\\_\\_ позволяет определить или переопредлить действие при сложении объектов"
   ]
  },
  {
   "cell_type": "markdown",
   "metadata": {},
   "source": [
    "#### Работа с атрибутами экземпляра\n",
    "\n",
    "Есть возможность в любой момент поменять значение атрибута класса:"
   ]
  },
  {
   "cell_type": "code",
   "execution_count": 13,
   "metadata": {},
   "outputs": [
    {
     "name": "stdout",
     "output_type": "stream",
     "text": [
      "Planet Mars\n"
     ]
    }
   ],
   "source": [
    "mars = Planet(\"Mars\")\n",
    "print(mars)"
   ]
  },
  {
   "cell_type": "code",
   "execution_count": 14,
   "metadata": {},
   "outputs": [
    {
     "data": {
      "text/plain": [
       "'Mars'"
      ]
     },
     "execution_count": 14,
     "metadata": {},
     "output_type": "execute_result"
    }
   ],
   "source": [
    "mars.name"
   ]
  },
  {
   "cell_type": "code",
   "execution_count": 15,
   "metadata": {},
   "outputs": [
    {
     "data": {
      "text/plain": [
       "'Second Earth?'"
      ]
     },
     "execution_count": 15,
     "metadata": {},
     "output_type": "execute_result"
    }
   ],
   "source": [
    "mars.name = \"Second Earth?\"\n",
    "mars.name"
   ]
  },
  {
   "cell_type": "markdown",
   "metadata": {},
   "source": [
    "Если обратиться к несуществующему атрибуту экземпляра, Python выдаст исключение"
   ]
  },
  {
   "cell_type": "code",
   "execution_count": 16,
   "metadata": {},
   "outputs": [
    {
     "ename": "AttributeError",
     "evalue": "'Planet' object has no attribute 'mass'",
     "output_type": "error",
     "traceback": [
      "\u001b[0;31m---------------------------------------------------------------------------\u001b[0m",
      "\u001b[0;31mAttributeError\u001b[0m                            Traceback (most recent call last)",
      "\u001b[0;32m<ipython-input-16-318658eaebb0>\u001b[0m in \u001b[0;36m<module>\u001b[0;34m()\u001b[0m\n\u001b[0;32m----> 1\u001b[0;31m \u001b[0mmars\u001b[0m\u001b[0;34m.\u001b[0m\u001b[0mmass\u001b[0m\u001b[0;34m\u001b[0m\u001b[0;34m\u001b[0m\u001b[0m\n\u001b[0m",
      "\u001b[0;31mAttributeError\u001b[0m: 'Planet' object has no attribute 'mass'"
     ]
    }
   ],
   "source": [
    "mars.mass"
   ]
  },
  {
   "cell_type": "markdown",
   "metadata": {},
   "source": [
    "Кроме того, мы можем удалить атрибут из нашего экземпляра класса:"
   ]
  },
  {
   "cell_type": "code",
   "execution_count": 17,
   "metadata": {},
   "outputs": [],
   "source": [
    "del mars.name"
   ]
  },
  {
   "cell_type": "code",
   "execution_count": 18,
   "metadata": {},
   "outputs": [
    {
     "ename": "AttributeError",
     "evalue": "'Planet' object has no attribute 'name'",
     "output_type": "error",
     "traceback": [
      "\u001b[0;31m---------------------------------------------------------------------------\u001b[0m",
      "\u001b[0;31mAttributeError\u001b[0m                            Traceback (most recent call last)",
      "\u001b[0;32m<ipython-input-18-373d1c5d2a16>\u001b[0m in \u001b[0;36m<module>\u001b[0;34m()\u001b[0m\n\u001b[0;32m----> 1\u001b[0;31m \u001b[0mmars\u001b[0m\u001b[0;34m.\u001b[0m\u001b[0mname\u001b[0m\u001b[0;34m\u001b[0m\u001b[0;34m\u001b[0m\u001b[0m\n\u001b[0m",
      "\u001b[0;31mAttributeError\u001b[0m: 'Planet' object has no attribute 'name'"
     ]
    }
   ],
   "source": [
    "mars.name"
   ]
  },
  {
   "cell_type": "markdown",
   "metadata": {},
   "source": [
    "#### Атрибуты класса\n",
    "\n",
    "Иногда нужно создать переменную, которая будет работать в контексте класса, но не будет связана с каждым конкретным экземпляром (т.е. будет относиться непосредственно к самому классу, а не к экземпляру). В этом примере count (счётчик планет) --- это атрибут класса:"
   ]
  },
  {
   "cell_type": "code",
   "execution_count": 19,
   "metadata": {},
   "outputs": [],
   "source": [
    "class Planet:\n",
    " \n",
    "    count = 0\n",
    " \n",
    "    def __init__(self, name, population=None):\n",
    "        self.name = name\n",
    "        self.population = population or []\n",
    "        Planet.count += 1"
   ]
  },
  {
   "cell_type": "markdown",
   "metadata": {},
   "source": [
    "Можем напрямую обратиться к атрибуту класса через точку:"
   ]
  },
  {
   "cell_type": "code",
   "execution_count": 21,
   "metadata": {},
   "outputs": [
    {
     "name": "stdout",
     "output_type": "stream",
     "text": [
      "2\n"
     ]
    }
   ],
   "source": [
    "earth = Planet(\"Earth\")\n",
    "mars = Planet(\"Mars\")\n",
    "\n",
    "print(Planet.count)"
   ]
  },
  {
   "cell_type": "markdown",
   "metadata": {},
   "source": [
    "Значение атрибута класса также можно получить, обращаясь к экземплярам:"
   ]
  },
  {
   "cell_type": "code",
   "execution_count": 22,
   "metadata": {},
   "outputs": [
    {
     "data": {
      "text/plain": [
       "2"
      ]
     },
     "execution_count": 22,
     "metadata": {},
     "output_type": "execute_result"
    }
   ],
   "source": [
    "mars.count"
   ]
  },
  {
   "cell_type": "markdown",
   "metadata": {},
   "source": [
    "#### Деструктор экземпляра класса\n",
    "\n",
    "В этот момент Python видит, что внутри экземпляра класса такого атрибута нет, проверяет сам класс на наличие атрибута и находит его.\n",
    "Когда счетчик ссылок на экземпляр класса достигает нуля (мы уже говорили про сборщик мусора в Python и то, что он использует счетчик ссылок), вызывается метод \\_\\_del\\_\\_ экземпляра. Это также магический метод, который Python нам предоставляет возможность переопределить:"
   ]
  },
  {
   "cell_type": "code",
   "execution_count": 23,
   "metadata": {},
   "outputs": [],
   "source": [
    "class Human:\n",
    "\n",
    "    def __del__(self):\n",
    "        print(\"Goodbye!\")"
   ]
  },
  {
   "cell_type": "code",
   "execution_count": 24,
   "metadata": {},
   "outputs": [
    {
     "name": "stdout",
     "output_type": "stream",
     "text": [
      "Goodbye!\n"
     ]
    }
   ],
   "source": [
    "human = Human()\n",
    "# в данном случае деструктор отработает - но все же \n",
    "# лучше создать метод и вызывать его явно\n",
    "del human"
   ]
  },
  {
   "cell_type": "markdown",
   "metadata": {},
   "source": [
    "Однако, на практике магический метод \\_\\_del\\_\\_ рекомендуют не переопределять, так как нет гарантии, что по завершении работы интерпретатора Python он будет вызван. Лучше явно определить метод, который будет выполнять те действия, которые вам нужны (закрыть файл, разорвать сетевое соединение и т.д.)."
   ]
  },
  {
   "cell_type": "markdown",
   "metadata": {},
   "source": [
    "#### Словарь экземпляра и класса\n",
    "\n",
    "Открыть словарь с атрибутами класса можно с помощь метода __dict__:"
   ]
  },
  {
   "cell_type": "code",
   "execution_count": 25,
   "metadata": {},
   "outputs": [],
   "source": [
    "class Planet:\n",
    "    \"\"\"This class describes planets\"\"\"\n",
    "    \n",
    "    count = 1\n",
    "    \n",
    "    def __init__(self, name, population=None):\n",
    "        self.name = name\n",
    "        self.population = population or []\n",
    "\n",
    "\n",
    "planet = Planet(\"Earth\")"
   ]
  },
  {
   "cell_type": "code",
   "execution_count": 26,
   "metadata": {},
   "outputs": [
    {
     "data": {
      "text/plain": [
       "{'name': 'Earth', 'population': []}"
      ]
     },
     "execution_count": 26,
     "metadata": {},
     "output_type": "execute_result"
    }
   ],
   "source": [
    "planet.__dict__"
   ]
  },
  {
   "cell_type": "markdown",
   "metadata": {},
   "source": [
    "Если мы добавим нашему экземпляру какой-нибудь атрибут, он появится в словаре атрибутов этого экземпляра:"
   ]
  },
  {
   "cell_type": "code",
   "execution_count": 28,
   "metadata": {},
   "outputs": [],
   "source": [
    "planet.mass = 5.97e24"
   ]
  },
  {
   "cell_type": "code",
   "execution_count": 29,
   "metadata": {},
   "outputs": [
    {
     "data": {
      "text/plain": [
       "{'mass': 5.97e+24, 'name': 'Earth', 'population': []}"
      ]
     },
     "execution_count": 29,
     "metadata": {},
     "output_type": "execute_result"
    }
   ],
   "source": [
    "planet.__dict__"
   ]
  },
  {
   "cell_type": "markdown",
   "metadata": {},
   "source": [
    "Словарь атрибутов есть также и у самого класса (обратите внимание на атрибуты \\_\\_doc\\_\\_ и count):"
   ]
  },
  {
   "cell_type": "code",
   "execution_count": 30,
   "metadata": {},
   "outputs": [
    {
     "data": {
      "text/plain": [
       "mappingproxy({'__dict__': <attribute '__dict__' of 'Planet' objects>,\n",
       "              '__doc__': 'This class describes planets',\n",
       "              '__init__': <function __main__.Planet.__init__>,\n",
       "              '__module__': '__main__',\n",
       "              '__weakref__': <attribute '__weakref__' of 'Planet' objects>,\n",
       "              'count': 1})"
      ]
     },
     "execution_count": 30,
     "metadata": {},
     "output_type": "execute_result"
    }
   ],
   "source": [
    "Planet.__dict__"
   ]
  },
  {
   "cell_type": "markdown",
   "metadata": {},
   "source": [
    "К элементам из словаря атрибутов класса можно обращаться как через имя класса, так и через имя какого-нибудь экземпляра этого класса:"
   ]
  },
  {
   "cell_type": "code",
   "execution_count": 31,
   "metadata": {},
   "outputs": [
    {
     "data": {
      "text/plain": [
       "'This class describes planets'"
      ]
     },
     "execution_count": 31,
     "metadata": {},
     "output_type": "execute_result"
    }
   ],
   "source": [
    "Planet.__doc__"
   ]
  },
  {
   "cell_type": "code",
   "execution_count": 32,
   "metadata": {},
   "outputs": [
    {
     "data": {
      "text/plain": [
       "'This class describes planets'"
      ]
     },
     "execution_count": 32,
     "metadata": {},
     "output_type": "execute_result"
    }
   ],
   "source": [
    "planet.__doc__"
   ]
  },
  {
   "cell_type": "markdown",
   "metadata": {},
   "source": [
    "У экземпляра класса есть ещё много магических методов (например, метод \\_\\_hash\\_\\_, ведь экземпляры класса --- это хэшируемые объекты)."
   ]
  },
  {
   "cell_type": "code",
   "execution_count": 33,
   "metadata": {},
   "outputs": [
    {
     "name": "stdout",
     "output_type": "stream",
     "text": [
      "['__class__', '__delattr__', '__dict__', '__dir__', '__doc__', '__eq__', '__format__', '__ge__', '__getattribute__', '__gt__', '__hash__', '__init__', '__init_subclass__', '__le__', '__lt__', '__module__', '__ne__', '__new__', '__reduce__', '__reduce_ex__', '__repr__', '__setattr__', '__sizeof__', '__str__', '__subclasshook__', '__weakref__', 'count', 'mass', 'name', 'population']\n"
     ]
    }
   ],
   "source": [
    "print(dir(planet))"
   ]
  },
  {
   "cell_type": "markdown",
   "metadata": {},
   "source": [
    "В любой момент мы можем узнать, какому классу принадлежит данный экземпляр:"
   ]
  },
  {
   "cell_type": "code",
   "execution_count": 34,
   "metadata": {},
   "outputs": [
    {
     "data": {
      "text/plain": [
       "__main__.Planet"
      ]
     },
     "execution_count": 34,
     "metadata": {},
     "output_type": "execute_result"
    }
   ],
   "source": [
    "planet.__class__"
   ]
  },
  {
   "cell_type": "markdown",
   "metadata": {},
   "source": [
    "#### Конструктор экземпляра класса\n",
    "\n",
    "Конструктор экземпляра класса позволяет нам переопределить действия, которые происходят с экземпляром до его инициализации. На следующих неделях будет показан пример использования магического метода \\_\\_new\\_\\_, который как раз является конструктором экземпляра класса, в рамках использования метаклассов. Пока же посмотрим на простой пример класса с переопределённым методом \\_\\_new\\_\\_:"
   ]
  },
  {
   "cell_type": "code",
   "execution_count": 35,
   "metadata": {},
   "outputs": [],
   "source": [
    "class Planet:\n",
    "\n",
    "    def __new__(cls, *args, **kwargs):\n",
    "        print(\"__new__ called\")\n",
    "        obj = super().__new__(cls)\n",
    "        return obj\n",
    "\n",
    "    def __init__(self, name):\n",
    "        print(\"__init__ called\")\n",
    "        self.name = name"
   ]
  },
  {
   "cell_type": "code",
   "execution_count": 36,
   "metadata": {},
   "outputs": [
    {
     "name": "stdout",
     "output_type": "stream",
     "text": [
      "__new__ called\n",
      "__init__ called\n"
     ]
    }
   ],
   "source": [
    "earth = Planet(\"Earth\")"
   ]
  },
  {
   "cell_type": "markdown",
   "metadata": {},
   "source": [
    "В этом примере в исходный метод \\_\\_new\\_\\_ был добавлен вызов print(). В следующей строке метод super() возвращает родителя нашего класса, в данном случае это object --- класс, от которого наследуются все пользовательские классы в Python 3. Затем вызывается метод \\_\\_new\\_\\_ класса object, который возвращает экземляр класса. Этот экземпляр (который и является нашим классом) возвращается из функции.\n",
    "\n",
    "То есть при вызове Planet(\"Earth\") произошло примерно следующее:"
   ]
  },
  {
   "cell_type": "code",
   "execution_count": 37,
   "metadata": {},
   "outputs": [
    {
     "name": "stdout",
     "output_type": "stream",
     "text": [
      "__new__ called\n",
      "__init__ called\n"
     ]
    }
   ],
   "source": [
    "planet = Planet.__new__(Planet, \"Earth\")\n",
    "if isinstance(planet, Planet): # если __new__ вернул правильный класс\n",
    "    Planet.__init__(planet, \"Earth\")"
   ]
  },
  {
   "cell_type": "markdown",
   "metadata": {},
   "source": [
    "### 3.1.3, 3.1.4. Методы.\n",
    "\n",
    "#### Работа с методами экземпляра\n",
    "\n",
    "Методы --- это функции, которые действуют в контексте экземпляра класса. Таким образом, они могут менять состояние экземпляра, обращаясь к атрибутам экземпляра или делать любую другую полезную работу. В следующем примере мы создали класс human, у которого есть два атрибута: name и age, а также у нас есть класс планеты, у которой\n",
    "есть атрибут name и атрибут population (список людей, которые есть на планете):"
   ]
  },
  {
   "cell_type": "code",
   "execution_count": 39,
   "metadata": {},
   "outputs": [],
   "source": [
    "class Human:\n",
    "\n",
    "    def __init__(self, name, age=0):\n",
    "        self.name = name\n",
    "        self.age = age\n",
    "\n",
    "\n",
    "class Planet:\n",
    "\n",
    "    def __init__(self, name, population=None):\n",
    "        self.name = name\n",
    "        self.population = population or []\n",
    " \n",
    "    def add_human(self, human):\n",
    "        print(f\"Welcome to {self.name}, {human.name}!\")\n",
    "        self.population.append(human)"
   ]
  },
  {
   "cell_type": "markdown",
   "metadata": {},
   "source": [
    "Здесь мы объявили метод экземпляра add human --- просто функцию, которая принимает первым аргументом self (т.е. ссылку на экземпляр класса), а дальше --- любые другие аргументы (в случае выше это экземпляр класса Human). Обновим население планеты:"
   ]
  },
  {
   "cell_type": "code",
   "execution_count": 40,
   "metadata": {},
   "outputs": [
    {
     "name": "stdout",
     "output_type": "stream",
     "text": [
      "Welcome to Mars, Bob!\n"
     ]
    }
   ],
   "source": [
    "mars = Planet(\"Mars\")\n",
    "\n",
    "bob = Human(\"Bob\")\n",
    "\n",
    "mars.add_human(bob)"
   ]
  },
  {
   "cell_type": "code",
   "execution_count": 41,
   "metadata": {},
   "outputs": [
    {
     "name": "stdout",
     "output_type": "stream",
     "text": [
      "[<__main__.Human object at 0x7fd5b030c2b0>]\n"
     ]
    }
   ],
   "source": [
    "print(mars.population)"
   ]
  },
  {
   "cell_type": "markdown",
   "metadata": {},
   "source": [
    "#### Вызов методов из методов\n",
    "\n",
    "Ничто не мешает вызывать из методов другие методы. Посмотрим на примере:"
   ]
  },
  {
   "cell_type": "code",
   "execution_count": 42,
   "metadata": {},
   "outputs": [],
   "source": [
    "class Human:\n",
    "    def __init__(self, name, age=0):\n",
    "        self._name = name\n",
    "        self._age = age\n",
    " \n",
    "    def _say(self, text):\n",
    "        print(text)\n",
    " \n",
    "    def say_name(self):\n",
    "        self._say(f\"Hello, I am {self._name}\")\n",
    " \n",
    "    def say_how_old(self):\n",
    "        self._say(f\"I am {self._age} years old\")"
   ]
  },
  {
   "cell_type": "markdown",
   "metadata": {},
   "source": [
    "Здесь объявляем класс Human, у которого названия атрибутов \\_name и \\_age начинаются с символа нижнего подчёркивания. Также у этого класса метод экземпляра \\_say, который также начинается с нижнего подчёркивания, а ещё два метода say_name и say_how_old, которые печатают, сколько человеку лет и какое у него имя. Символы нижнего подчёркивания показывают, что это внутренний метод, который вызывается только другими методами класса, но не должен вызываться пользователем. Такой механизм похож на private/protected атрибуты в других языках, однако в Python это всего лишь соглашение. Тем не менее, если атрибут либо метод названы c символа нижнего подчёркивания, то ими пользоваться не рекомендуется потому, что в дальнейших версиях той или иной библиотеки могут отказаться от этих атрибутов или методов, начинающихся с символа нижнего подчеркивания, либо поменять их поведение."
   ]
  },
  {
   "cell_type": "code",
   "execution_count": 43,
   "metadata": {},
   "outputs": [],
   "source": [
    "bob = Human(\"Bob\", age=29)"
   ]
  },
  {
   "cell_type": "code",
   "execution_count": 44,
   "metadata": {},
   "outputs": [
    {
     "name": "stdout",
     "output_type": "stream",
     "text": [
      "Hello, I am Bob\n",
      "I am 29 years old\n"
     ]
    }
   ],
   "source": [
    "bob.say_name()\n",
    "bob.say_how_old()"
   ]
  },
  {
   "cell_type": "code",
   "execution_count": 45,
   "metadata": {},
   "outputs": [
    {
     "name": "stdout",
     "output_type": "stream",
     "text": [
      "Bob\n",
      "Whatever we want\n"
     ]
    }
   ],
   "source": [
    "# не рекомендуется!\n",
    "print(bob._name)\n",
    "\n",
    "# не рекомендуется!\n",
    "bob._say(\"Whatever we want\")"
   ]
  },
  {
   "cell_type": "markdown",
   "metadata": {},
   "source": [
    "#### Метод класса (@classmethod)\n",
    "\n",
    "Бывает, что вам нужно объявить метод, который не привязан к конкретному экземпляру, но в тоже время вовлекает в свою работу сам класс. Для этого существует стандартный декоратор @classmethod (метод класса). Например, создадим класс, который отображает какое-нибудь событие:"
   ]
  },
  {
   "cell_type": "code",
   "execution_count": 46,
   "metadata": {},
   "outputs": [],
   "source": [
    "class Event:\n",
    " \n",
    "    def __init__(self, description, event_date):\n",
    "        self.description = description\n",
    "        self.date = event_date\n",
    "\n",
    "    def __str__(self):\n",
    "        return f\"Event \\\"{self.description}\\\" at {self.date}\""
   ]
  },
  {
   "cell_type": "code",
   "execution_count": 47,
   "metadata": {},
   "outputs": [
    {
     "name": "stdout",
     "output_type": "stream",
     "text": [
      "Event \"Рассказать, что такое @classmethod\" at 2020-02-17\n"
     ]
    }
   ],
   "source": [
    "from datetime import date\n",
    "\n",
    "event_description = \"Рассказать, что такое @classmethod\"\n",
    "event_date = date.today()\n",
    "\n",
    "event = Event(event_description, event_date)\n",
    "print(event)"
   ]
  },
  {
   "cell_type": "markdown",
   "metadata": {},
   "source": [
    "Дополним этот класс методом класса. Метод from_string извлекает из пользовательского ввода информацию о некотором событии (например, такой метод может быть полезен при написании бота для мессенджера, который заносит события в календарь). Этот метод принимает на вход первым атрибутом сам класс cls, а затем ввод пользователя. Он возвращает экземпляр класса, таким образом, это альтернативный способ создания класса."
   ]
  },
  {
   "cell_type": "code",
   "execution_count": 48,
   "metadata": {},
   "outputs": [],
   "source": [
    "class Event:\n",
    " \n",
    "    def __init__(self, description, event_date):\n",
    "        self.description = description\n",
    "        self.date = event_date\n",
    "    \n",
    "    def __str__(self):\n",
    "        return f\"Event \\\"{self.description}\\\" at {self.date}\"\n",
    "\n",
    "    @classmethod\n",
    "    def from_string(cls, user_input):\n",
    "        description = extract_description(user_input)\n",
    "        date = extract_date(user_input)\n",
    "        return cls(description, date)"
   ]
  },
  {
   "cell_type": "markdown",
   "metadata": {},
   "source": [
    "Вообще, извлечение данных из сообщений --- это сложная задача. В данном примере мы используем заглушки:"
   ]
  },
  {
   "cell_type": "code",
   "execution_count": 49,
   "metadata": {},
   "outputs": [],
   "source": [
    "def extract_description(user_string):\n",
    "    return \"открытие чемпионата мира по футболу\"\n",
    "\n",
    "\n",
    "def extract_date(user_string):\n",
    "    return date(2018, 6, 14)"
   ]
  },
  {
   "cell_type": "markdown",
   "metadata": {},
   "source": [
    "Протестируем:"
   ]
  },
  {
   "cell_type": "code",
   "execution_count": 52,
   "metadata": {},
   "outputs": [
    {
     "name": "stdout",
     "output_type": "stream",
     "text": [
      "Event \"открытие чемпионата мира по футболу\" at 2018-06-14\n"
     ]
    }
   ],
   "source": [
    "event = Event.from_string(\"добавить в мой календарь \" \\\n",
    "                          \"открытие чемпионата мира по футболу\" \\\n",
    "                          \"на 14 июня 2018 года\")\n",
    "print(event)"
   ]
  },
  {
   "cell_type": "markdown",
   "metadata": {},
   "source": [
    "@classmethod может быть альтернативой конструктору класса. К нему можно обращаться как от экземпляра класса, так и от имени класса. Его первый аргумент --- это сам класс.\n",
    "\n",
    "Внутри стандартной библиотеки класс-методы тоже активно используются. Например, тип dict --- это класс, у которого есть метод fromkeys. fromkeys --- как раз метод класса, который принимает итерабельный объект и возвращает проинициализированный словарь:"
   ]
  },
  {
   "cell_type": "code",
   "execution_count": 53,
   "metadata": {},
   "outputs": [
    {
     "data": {
      "text/plain": [
       "{'1': None, '2': None, '3': None, '4': None, '5': None}"
      ]
     },
     "execution_count": 53,
     "metadata": {},
     "output_type": "execute_result"
    }
   ],
   "source": [
    "dict.fromkeys(\"12345\")"
   ]
  },
  {
   "cell_type": "markdown",
   "metadata": {},
   "source": [
    "#### Статический метод класса (@staticmethod)\n",
    "\n",
    "Иногда нужно объявить метод в контексте класса, но этот метод не оперирует ни ссылкой на конкретный экземпляр класса, ни самим классом непосредственно (как в случае @classmethod). В таком случае используют статический метод (@staticmethod). Пример:"
   ]
  },
  {
   "cell_type": "code",
   "execution_count": 54,
   "metadata": {},
   "outputs": [],
   "source": [
    "class Human:\n",
    " \n",
    "    def __init__(self, name, age=0):\n",
    "        self.name = name\n",
    "        self.age = age\n",
    "\n",
    "    @staticmethod\n",
    "    def is_age_valid(age):\n",
    "        return 0 < age < 150"
   ]
  },
  {
   "cell_type": "markdown",
   "metadata": {},
   "source": [
    "У статического метода нет аргументов self или class. К статическому методу можно обращаться по-разному:"
   ]
  },
  {
   "cell_type": "code",
   "execution_count": 55,
   "metadata": {},
   "outputs": [
    {
     "data": {
      "text/plain": [
       "True"
      ]
     },
     "execution_count": 55,
     "metadata": {},
     "output_type": "execute_result"
    }
   ],
   "source": [
    "# можно обращаться от имени класса\n",
    "Human.is_age_valid(35)"
   ]
  },
  {
   "cell_type": "code",
   "execution_count": 56,
   "metadata": {},
   "outputs": [
    {
     "data": {
      "text/plain": [
       "False"
      ]
     },
     "execution_count": 56,
     "metadata": {},
     "output_type": "execute_result"
    }
   ],
   "source": [
    "# или от экземпляра:\n",
    "human = Human(\"Old Bobby\")\n",
    "human.is_age_valid(234)"
   ]
  },
  {
   "cell_type": "markdown",
   "metadata": {},
   "source": [
    "Функцию is_age_valid можно было объявить вне пространства имён класса. Где её объявлять --- это вопрос организации кода."
   ]
  },
  {
   "cell_type": "markdown",
   "metadata": {},
   "source": [
    "#### Вычисляемые свойства класса (property)\n",
    "\n",
    "Ещё один важный концепт --- вычисляемые свойства класса (property). Property позволяют изменять поведение и выполнять какую-либо работу при обращении к атрибуту экземпляра, либо при изменении атрибута, либо при его удалении. Начнём немного издалека и определим класс Robot с атрибутом power:"
   ]
  },
  {
   "cell_type": "code",
   "execution_count": 57,
   "metadata": {},
   "outputs": [],
   "source": [
    "class Robot:\n",
    "\n",
    "    def __init__(self, power):\n",
    "        self.power = power"
   ]
  },
  {
   "cell_type": "code",
   "execution_count": 58,
   "metadata": {},
   "outputs": [
    {
     "name": "stdout",
     "output_type": "stream",
     "text": [
      "200\n"
     ]
    }
   ],
   "source": [
    "wall_e = Robot(100)\n",
    "wall_e.power = 200\n",
    "print(wall_e.power)"
   ]
  },
  {
   "cell_type": "markdown",
   "metadata": {},
   "source": [
    "Предположим, вы заметили, что другие программисты, которые пользуются вашим классом Robot, иногда ставят ему отрицательную мощность (power):"
   ]
  },
  {
   "cell_type": "code",
   "execution_count": 59,
   "metadata": {},
   "outputs": [],
   "source": [
    "wall_e.power = -20"
   ]
  },
  {
   "cell_type": "markdown",
   "metadata": {},
   "source": [
    "Вам хотелось бы, чтобы в таком случае мощность на самом деле ставилась бы в ноль. Для этого можно отрефакторить класс и добавить метод экземпляра set_power, в котором и будет реализован такой функционал:"
   ]
  },
  {
   "cell_type": "code",
   "execution_count": 60,
   "metadata": {},
   "outputs": [],
   "source": [
    "class Robot:\n",
    "\n",
    "    def __init__(self, power):\n",
    "        self.power = power\n",
    "    \n",
    "    def set_power(self, power):\n",
    "        if power < 0:\n",
    "            self.power = 0\n",
    "        else:\n",
    "            self.power = power"
   ]
  },
  {
   "cell_type": "code",
   "execution_count": 61,
   "metadata": {},
   "outputs": [
    {
     "name": "stdout",
     "output_type": "stream",
     "text": [
      "0\n"
     ]
    }
   ],
   "source": [
    "wall_e = Robot(100)\n",
    "wall_e.set_power(-20)\n",
    "print(wall_e.power)"
   ]
  },
  {
   "cell_type": "markdown",
   "metadata": {},
   "source": [
    "Но в таком случае не только вам, но и всем программистам, использующим ваш класс, придётся менять код. Есть способ проще --- сделать power объектом property(). У propert есть три метода: setter, getter, deleter. Переопределим эти три метода и обернём их декораторами: power.setter (будет выполняться при изменении атрибута power) power.getter (выполнится при чтении атрибута power) и power.deleter (будет выполняться при удалении атрибута):"
   ]
  },
  {
   "cell_type": "code",
   "execution_count": 62,
   "metadata": {},
   "outputs": [],
   "source": [
    "class Robot:\n",
    " \n",
    "    def __init__(self, power):\n",
    "        self._power = power\n",
    "\n",
    "    power = property()\n",
    "\n",
    "    @power.setter\n",
    "    # повторяет функционал старого метода set_power\n",
    "    def power(self, value):\n",
    "        if value < 0:\n",
    "            self._power = 0\n",
    "        else:\n",
    "            self._power = value\n",
    "\n",
    "    @power.getter\n",
    "    def power(self):\n",
    "        return self._power\n",
    "    \n",
    "    @power.deleter\n",
    "    def power(self):\n",
    "        print(\"make robot useless\")\n",
    "        del self._power"
   ]
  },
  {
   "cell_type": "code",
   "execution_count": 63,
   "metadata": {},
   "outputs": [
    {
     "name": "stdout",
     "output_type": "stream",
     "text": [
      "0\n"
     ]
    }
   ],
   "source": [
    "wall_e = Robot(100)\n",
    "wall_e.power = -20\n",
    "print(wall_e.power)"
   ]
  },
  {
   "cell_type": "code",
   "execution_count": 64,
   "metadata": {},
   "outputs": [
    {
     "name": "stdout",
     "output_type": "stream",
     "text": [
      "make robot useless\n"
     ]
    }
   ],
   "source": [
    "del wall_e.power"
   ]
  },
  {
   "cell_type": "markdown",
   "metadata": {},
   "source": [
    "Иногда единственное, что вам требуется --- это модифицировать чтение атрибута. Вам не нужно менять поведение при изменении значения атрибута/его удалении. В таком случае есть более короткая запись. Тогда можно обернуть метод декоратором @property и обращаться к нему просто с помощью .power:"
   ]
  },
  {
   "cell_type": "code",
   "execution_count": 65,
   "metadata": {},
   "outputs": [],
   "source": [
    "class Robot:\n",
    "    def __init__(self, power):\n",
    "        self._power = power\n",
    "    \n",
    "    @property\n",
    "    def power(self):\n",
    "        # здесь могут быть любые полезные вычисления\n",
    "        return self._power"
   ]
  },
  {
   "cell_type": "code",
   "execution_count": 66,
   "metadata": {},
   "outputs": [
    {
     "data": {
      "text/plain": [
       "200"
      ]
     },
     "execution_count": 66,
     "metadata": {},
     "output_type": "execute_result"
    }
   ],
   "source": [
    "wall_e = Robot(200)\n",
    "wall_e.power"
   ]
  },
  {
   "cell_type": "markdown",
   "metadata": {},
   "source": [
    "### 3.1.5. Пример на классы\n",
    "\n",
    "Класс будет принимать на вход название города и иметь метод, который будет возвращать прогноз погоды в этом городе. (Этот класс можно будет расширять бесконечно, например, добавляя ему методы для получения грядущих событий в городе либо новостей, относящихся к нему.)\n",
    "\n",
    "Создадим директорию для работы, перейдем в неё, создадим virtual env --- вы уже умеете это делать. После того, как виртуальное окружение создастся, мы должны его активировать. Нам понадобятся две сторонние библиотеки для работы нашей программы: requests и python-dateutil. requests нужна, чтобы делать http-запросы, а pythondateutil позволит преобразовывать даты, которые представлены в виде строки, в Pythonовское представление (то есть в объекты модуля datetime).\n",
    "\n",
    "Напишем if \\_\\_name\\_\\_ == \"\\_\\_main\\_\\_\" , чтобы запускать программу только тогда, когда она вызывается напрямую, а не импортируется. Внутри этой конструкции вызовем функцию \\_main. Назовем её с символа нижнего подчеркивания, указывая таким образом на то, что она является приватной и не должна использоватся из стороннего кода. Внутри функции \\_main напишем скелет будущей программы:\n",
    "\n",
    "```python\n",
    "import pprint\n",
    "\n",
    "class CityInfo:\n",
    "\n",
    "    def __init__(self, city, forecast_provider=None):\n",
    "        self.city = city\n",
    "        \n",
    "    def weather_forecast(self):\n",
    "        # пока не знаем, откуда получать прогноз\n",
    "        pass\n",
    "    \n",
    "def _main():\n",
    "    # будем смотреть погоду в Москве\n",
    "    city = CityInfo(\"Moscow\")          \n",
    "    # метод, который возвращает прогноз погоды\n",
    "    forecast = city.weather_forecast() \n",
    "    # напечатаем прогноз красиво с помощью PrettyPrinter\n",
    "    pprint.pprint(forecast)\n",
    "    \n",
    "if __name__ == \"__main__\":\n",
    "    _main()\n",
    "```"
   ]
  },
  {
   "cell_type": "markdown",
   "metadata": {},
   "source": [
    "Чтобы получить прогноз, воспользуемся Yahoo Weather API. На этой странице можно экспериментировать с http-запросами к API. Там уже составлен практически правильный запрос, нужно лишь поменять его окончание на where text=\"moscow\") and u=\"c\" (город Москва, температура в градусах Цельсия). После нажатия кнопки Test в окошке снизу\n",
    "появится ссылка на JSON с нужной нам информацией. Прогноз погоды на сегодняшнюю и следующие даты скрыт под тегом forecast.\n",
    "\n",
    "Не будем писать код, делающий http-запросы, внутри метода weather_forecast. Мы создадим специальный класс YahooWeatherForecast с методом get, который будет принимать город. Это даёт нам возможность в будущем подменить этот класс другим.\n",
    "\n",
    "Если вдруг с API Yahoo что-то случится, мы сможем поменять только один компонент нашей программы, а весь остальной код продолжит работать.\n",
    "Напишем новый класс, в URL-запрос подставим аргумент с названием города, а затем получим из JSON-а список словарей, содержащих дату и самую высокую температуру на этот день. Чтобы преобразовать дату из строки в питоновский формат, будем использовать функцию parse() из dateutil.parser:\n",
    "\n",
    "```python\n",
    "import requests\n",
    "from dateutil.parser import parse\n",
    "\n",
    "class YahooWeatherForecast:\n",
    "\n",
    "    #def __init__(self):\n",
    "    #    self._city_cache = {}\n",
    "\n",
    "    def get(self, city):\n",
    "        #if city in self._cached_data:\n",
    "        #     return self._cached_data[city]\n",
    "        url = f\"https://query.yahooapis.com/v1/public/yql?q=\\select%20*%20from%20weather.forecast%20where%20woeid%20in%20(select%20woeid%20from%20geo.places(1)%20where%20text%3D%22{city}%22)%20and%20u%3D%27c%27&format=json&env=store%3A%2F%2Fdatatables.org%2Falltableswithkeys\"\n",
    "        data = requests.get(url).json()\n",
    "        forecast = []\n",
    "        forecast_data = data[\"query\"] \\\n",
    "                            [\"results\"] \\\n",
    "                            [\"channel\"] \\\n",
    "                            [\"item\"] \\\n",
    "                            [\"forecast\"]\n",
    "        for day_data in forecast_data:\n",
    "            forecast.append({\n",
    "                \"date\": parse(day_data[\"date\"]),\n",
    "                \"high_temp\": int(day_data[\"high\"])\n",
    "            })\n",
    "        #self._cached_data[city] = forecast\n",
    "        return forecast\n",
    "\n",
    "```"
   ]
  },
  {
   "cell_type": "markdown",
   "metadata": {},
   "source": [
    "Теперь вернемся к методу экземпляра weather_forecast, где мы обратимся к классу YahooWeatherForecast и вызовем его метод get для нужного города. Также расширим метод \\_\\_init\\_\\_ --- он будет принимать необязательный параметр weather_forecast и ставить приватную переменную \\_weather\\_forecast экземпляру класса. Если этот параметр не был передан, по умолчанию будет использоваться YahooWeatherForecast:\n",
    "\n",
    "```python\n",
    "class CityInfo:\n",
    "\n",
    "    def __init__(self, city, forecast_provider=None):\n",
    "        self.city = city.lower()\n",
    "        self._forecast_provider = forecast_provider or \\\n",
    "                                  YahooWeatherForecast()\n",
    "        \n",
    "    def weather_forecast(self):\n",
    "        return self._forecast_provider.get(self.city)\n",
    "```"
   ]
  },
  {
   "cell_type": "markdown",
   "metadata": {},
   "source": [
    "Запустим нашу программу из консоли и получим прогноз погоды в Москве."
   ]
  },
  {
   "cell_type": "markdown",
   "metadata": {},
   "source": [
    "Можно сделать ещё лучше и смоделировать ситуацию, в которой нам будет приходить много http-запросов (которые иногда занимают значительное время), но мы справимся с этим с помощью кэширования данных. Также имя города будем передавать как аргумент скрипта:\n",
    "\n",
    "```python\n",
    "import sys\n",
    "import pprint\n",
    "import requests\n",
    "from dateutil.parser import parse\n",
    "\n",
    "\n",
    "class YahooWeatherForecast:\n",
    "\n",
    "    def __init__(self):\n",
    "        self._city_cache = {}\n",
    "\n",
    "    def get(self, city):\n",
    "        if city in self._cached_data:\n",
    "             return self._cached_data[city]\n",
    "        url = f\"https://query.yahooapis.com/v1/public/yql?q=select%20*%20from%20weather.forecast%20where%20woeid%20in%20(select%20woeid%20from%20geo.places(1)%20where%20text%3D%22{city}%22)%20and%20u%3D%27c%27&format=json&env=store%3A%2F%2Fdatatables.org%2Falltableswithkeys\"\n",
    "        data = requests.get(url).json()\n",
    "        forecast = []\n",
    "        forecast_data = data[\"query\"][\"results\"][\"channel\"][\"item\"][\"forecast\"]\n",
    "        for day_data in forecast_data:\n",
    "            forecast.append({\n",
    "                \"date\": parse(day_data[\"date\"]),\n",
    "                \"high_temp\": int(day_data[\"high\"])\n",
    "            })\n",
    "        self._cached_data[city] = forecast\n",
    "        return forecast\n",
    "\n",
    "\n",
    "class CityInfo:\n",
    "\n",
    "    def __init__(self, city, forecast_provider=None):\n",
    "        self.city = city.lower()\n",
    "        self._forecast_provider = forecast_provider or YahooWeatherForecast()\n",
    "\n",
    "    def weather_forecast(self):\n",
    "        return self._forecast_provider.get(self.city)\n",
    "\n",
    "\n",
    "def _main():\n",
    "    city = CityInfo(sys.argv[1])\n",
    "    forecast = city.weather_forecast()\n",
    "    pprint.pprint(forecast)\n",
    "\n",
    "\n",
    "if __name__ == \"__main__\":\n",
    "    _main()\n",
    "```"
   ]
  },
  {
   "cell_type": "markdown",
   "metadata": {},
   "source": [
    "В данном примере мы применили композицию классов --- это очень хороший подход к написанию кода.\n",
    "\n",
    "В данном примере мы не обрабатывали исключения, которые могли возникнуть. Вопервых, сайт Yahoo мог быть недоступен, во-вторых, каждый раз, когда мы обращались к ключу словаря, мог произойти KeyError (потому что Yahoo вернул нам невалидные данные). Также exception мог произойти, когда мы преобразовывали дату из строки в объект datetime. В скором будущем вы научитесь обрабатывать такие exception-ы."
   ]
  },
  {
   "cell_type": "markdown",
   "metadata": {},
   "source": [
    "## 3.2. Наследование\n",
    "\n",
    "### 3.2.1. Наследование в Python\n",
    "\n",
    "#### Наследование в Python\n",
    "- наследование классов\n",
    "- множественное наследование\n",
    "- вызов super()\n",
    "- name mangling\n",
    "- композиция vs наследование\n",
    "\n",
    "Наследование классов нужно для изменения поведения конкретного класса, а также расширения его функционала. Допустим, у нас есть готовый класс для домашнего питомца:"
   ]
  },
  {
   "cell_type": "code",
   "execution_count": 1,
   "metadata": {},
   "outputs": [],
   "source": [
    "class Pet:\n",
    "    def __init__(self, name=None):\n",
    "        self.name = name"
   ]
  },
  {
   "cell_type": "markdown",
   "metadata": {},
   "source": [
    "Давайте представим, что нам необходимо промоделировать процесс заселения планеты Земля домашними питомцами. Но нам неинтересно населять планету Земля непонятными питомцами, мы хотим населить её конкретно собаками, при этом не меняя класса Pet. Поэтому давайте расширим этот класс.\n",
    "\n",
    "Чтобы унаследовать класс \"питомец\", мы объявляем класс Dog, и в скобках указываем родительский класс Pet. Новый класс, созданный при помощи наследования, наследует все атрибуты и методы родительского класса. В данном случае класс \"питомец\" является родительским классом, также его называют базовым классом или суперклассом. А класс \"собака\" называется дочерним классом или классом-наследником.\n",
    "\n",
    "Чтобы изменить поведение класса Dog, переопределим метод \\_\\_init\\_\\_ и добавим новый атрибут breed, в котором будем хранить породу собаки. В новом методе \\_\\_init\\_\\_ мы также вызовем инициализатор родительского класса, используя функцию super().\n",
    "\n",
    "Кроме того, мы добавим новый метод say():"
   ]
  },
  {
   "cell_type": "code",
   "execution_count": 2,
   "metadata": {},
   "outputs": [
    {
     "name": "stdout",
     "output_type": "stream",
     "text": [
      "Шарик\n",
      "Шарик: waw\n"
     ]
    }
   ],
   "source": [
    "class Dog(Pet):\n",
    "    def __init__(self, name, breed=None):\n",
    "        super().__init__(name)\n",
    "        self.breed = breed\n",
    "    \n",
    "    def say(self):\n",
    "        return \"{0}: waw\".format(self.name)\n",
    "\n",
    "dog = Dog(\"Шарик\", \"Доберман\")\n",
    "print(dog.name)\n",
    "print(dog.say())"
   ]
  },
  {
   "cell_type": "markdown",
   "metadata": {},
   "source": [
    "#### Множественное наследование\n",
    "\n",
    "В Python разрешено наследование от нескольких классов предков, или как это ещё называется, множественное наследование. Очень часто этот приём используется для реализации классов-примесей. Предположим, что нам необходимо экспортировать данные о наших объектах (собачках) в формате json, чтобы хранить эти данные на жестком диске, либо передавать по сети. Мы можем решить подобную задачу при помощи классовпримесей и множественного наследования.\n",
    "\n",
    "Объявим класс ExportJSON, реализуем метод, который экспортирует данные в формате json, и создадим новый класс, который называется ExDog --- он будет наследоваться от класса \"собака\" и нашего нового класса-примеси"
   ]
  },
  {
   "cell_type": "code",
   "execution_count": 3,
   "metadata": {},
   "outputs": [
    {
     "name": "stdout",
     "output_type": "stream",
     "text": [
      "{\"name\": \"\\u0411\\u0435\\u043b\\u043a\\u0430\", \"breed\": \"\\u0414\\u0432\\u043e\\u0440\\u043d\\u044f\\u0436\\u043a\\u0430\"}\n"
     ]
    }
   ],
   "source": [
    "import json \n",
    "\n",
    "class ExportJSON:\n",
    "    def to_json(self):\n",
    "        return json.dumps({\n",
    "            \"name\": self.name,\n",
    "            \"breed\": self.breed\n",
    "        })\n",
    "\n",
    "class ExDog(Dog, ExportJSON):\n",
    "    pass\n",
    "\n",
    "dog = ExDog(\"Белка\", breed=\"Дворняжка\")\n",
    "print(dog.to_json())"
   ]
  },
  {
   "cell_type": "markdown",
   "metadata": {},
   "source": [
    "С одной стороны, это кажется удобным и гибким, однако множественное наследование и использование большого количества примесей ухудшает читаемость кода. Поэтому не стоит сильно увлекаться и создавать большое количество классов-примесей."
   ]
  },
  {
   "cell_type": "markdown",
   "metadata": {},
   "source": [
    "#### issubclass\n",
    "\n",
    "Любой класс в Python является потомком класса object. Мы можем легко убедиться в этом, если попробуем использовать функцию issubclass:"
   ]
  },
  {
   "cell_type": "code",
   "execution_count": 4,
   "metadata": {},
   "outputs": [
    {
     "data": {
      "text/plain": [
       "True"
      ]
     },
     "execution_count": 4,
     "metadata": {},
     "output_type": "execute_result"
    }
   ],
   "source": [
    "issubclass(int, object)"
   ]
  },
  {
   "cell_type": "code",
   "execution_count": 5,
   "metadata": {},
   "outputs": [
    {
     "data": {
      "text/plain": [
       "True"
      ]
     },
     "execution_count": 5,
     "metadata": {},
     "output_type": "execute_result"
    }
   ],
   "source": [
    "issubclass(Dog, object)"
   ]
  },
  {
   "cell_type": "code",
   "execution_count": 6,
   "metadata": {},
   "outputs": [
    {
     "data": {
      "text/plain": [
       "True"
      ]
     },
     "execution_count": 6,
     "metadata": {},
     "output_type": "execute_result"
    }
   ],
   "source": [
    "issubclass(Dog, Pet)"
   ]
  },
  {
   "cell_type": "code",
   "execution_count": 7,
   "metadata": {},
   "outputs": [
    {
     "data": {
      "text/plain": [
       "False"
      ]
     },
     "execution_count": 7,
     "metadata": {},
     "output_type": "execute_result"
    }
   ],
   "source": [
    "issubclass(Dog, int)"
   ]
  },
  {
   "cell_type": "markdown",
   "metadata": {},
   "source": [
    "#### isinstance\n",
    "\n",
    "Также при помощи функции isinstance мы можем проверять, является ли конкретный объект экземпляром какого-то класса:"
   ]
  },
  {
   "cell_type": "code",
   "execution_count": 8,
   "metadata": {},
   "outputs": [
    {
     "data": {
      "text/plain": [
       "True"
      ]
     },
     "execution_count": 8,
     "metadata": {},
     "output_type": "execute_result"
    }
   ],
   "source": [
    "isinstance(dog, Dog)"
   ]
  },
  {
   "cell_type": "code",
   "execution_count": 9,
   "metadata": {},
   "outputs": [
    {
     "data": {
      "text/plain": [
       "True"
      ]
     },
     "execution_count": 9,
     "metadata": {},
     "output_type": "execute_result"
    }
   ],
   "source": [
    "isinstance(dog, Pet)"
   ]
  },
  {
   "cell_type": "code",
   "execution_count": 10,
   "metadata": {},
   "outputs": [
    {
     "data": {
      "text/plain": [
       "True"
      ]
     },
     "execution_count": 10,
     "metadata": {},
     "output_type": "execute_result"
    }
   ],
   "source": [
    "isinstance(dog, object)"
   ]
  },
  {
   "cell_type": "markdown",
   "metadata": {},
   "source": [
    "#### Поиск атрибутов и методов объекта, линеаризация класса\n",
    "\n",
    "При помощи наследования Python позволяет выстраивать достаточно сложные иерархии классов. Мы построили довольно сложную иерархию: есть класс ExDog, который мы создали при помощи множественного наследования от класса Dog и класса-примеси ExportJSON. В свою очередь, класс Dog наследуется от класса \"питомец\", и все остальные классы наследуются от класса object. Если мы попробуем создать экземпляр класса ExDog и обратиться к атрибуту name, то как же Python будет искать этот атрибут в существующей иерархии классов?\n",
    "\n",
    "Для этого в Python существует так называемый Method Resolution Order, или порядок разрешения методов, и это отдельная тема для изучения. Однако все, что вам нужно знать --- это порядок, в котором Python ищет нужный атрибут или метод. Этот порядок можно получить при помощи атрибута \\_\\_mro\\_\\_. Он говорит о том, что если мы попробуем обратиться к атрибуту name, Python будет искать сначала в классе ExDog, затем Dog, и после того, как он обратится к классу Pet, нужный атрибут name будет найден. Данный список ещё называется линеаризацией класса, то есть Python последовательно ищет любые атрибуты и методы в этом списке. Если он пройдется по всему списку и не найдет нужный атрибут или метод, то будет сгенерировано исключение AttributeError."
   ]
  },
  {
   "cell_type": "code",
   "execution_count": 11,
   "metadata": {},
   "outputs": [
    {
     "data": {
      "text/plain": [
       "(__main__.ExDog, __main__.Dog, __main__.Pet, __main__.ExportJSON, object)"
      ]
     },
     "execution_count": 11,
     "metadata": {},
     "output_type": "execute_result"
    }
   ],
   "source": [
    "#     object\n",
    "#     /   \\\n",
    "#    /     \\\n",
    "#  Pet    ExportJSON\n",
    "#   |      /\n",
    "#  Dog    /\n",
    "#    \\   /\n",
    "#    ExDog\n",
    "\n",
    "# Method Resolution Order\n",
    "ExDog.__mro__"
   ]
  },
  {
   "cell_type": "markdown",
   "metadata": {},
   "source": [
    "#### Использование super()\n",
    "\n",
    "В самом начале, когда мы создавали класс Dog, мы рассматривали вызов инициализатора базового класса с помощью функции super() без параметров. Однако в Python можно обратиться не только к базовому классу, но и к любому методу в существующей иерархии. Вызов функции super() без параметров равносилен тому, что мы указали сам\n",
    "класс и передали туда объект self. Однако если необходимо вызвать метод конкретного класса, то в функцию super() надо передать его родителя.\n",
    "\n",
    "Итак, если мы создадим новый класс WoolenDog и захотим обратиться к инициализатору класса \"питомец\", то нам необходимо в функции super() указать класс-родитель. Далее попробуем создать объект класса WoolenDog и обратиться к атрибуту breed:"
   ]
  },
  {
   "cell_type": "code",
   "execution_count": 12,
   "metadata": {},
   "outputs": [
    {
     "name": "stdout",
     "output_type": "stream",
     "text": [
      "Шерстяная собака породы Такса\n"
     ]
    }
   ],
   "source": [
    "class ExDog(Dog, ExportJSON):\n",
    "    def __init__(self, name, breed=None):\n",
    "        # вызов метода по MRO\n",
    "        super().__init__(name, breed)\n",
    "        # super(ExDog, self).__init__(name)\n",
    "        \n",
    "class WoolenDog(Dog, ExportJSON):\n",
    "    def __init__(self, name, breed=None):\n",
    "        # явное указание метода конкретного класса\n",
    "        super(Dog, self).__init__(name)\n",
    "        self.breed = \"Шерстяная собака породы {0}\".format(breed)\n",
    "\n",
    "dog = WoolenDog(\"Жучка\", breed=\"Такса\")\n",
    "print(dog.breed)"
   ]
  },
  {
   "cell_type": "markdown",
   "metadata": {},
   "source": [
    "#### Разрешение конфликта имен, name mangling\n",
    "\n",
    "Также в Python существуют приватные атрибуты. Для того чтобы создать приватный атрибут, необходимо его имя записать через два символа нижнего подчёркивания. Предположим, что атрибут breed мы решили сделать приватным, тогда в самом классе к нему можно обращаться так же, а вот для классов-наследников этот атрибут будет уже недоступен:"
   ]
  },
  {
   "cell_type": "code",
   "execution_count": 18,
   "metadata": {},
   "outputs": [],
   "source": [
    "class Pet:\n",
    "    def __init__(self, name):\n",
    "        self.name = name\n",
    "\n",
    "class Dog(Pet):\n",
    "    def __init__(self, name, breed=None):\n",
    "        super().__init__(name)\n",
    "        self.__breed = breed\n",
    "    \n",
    "    def say(self):\n",
    "        return \"{0}: waw!\".format(self.name)\n",
    "    \n",
    "    def get_breed(self):\n",
    "        return self.__breed\n",
    "    \n",
    "class ExportJSON:\n",
    "    def to_json(self):\n",
    "        pass\n",
    "\n",
    "class ExDog(Dog, ExportJSON):\n",
    "    def get_breed(self):\n",
    "        return \"порода: {0} - {1}\".format(self.name, self.__breed)"
   ]
  },
  {
   "cell_type": "markdown",
   "metadata": {},
   "source": [
    "Можете проверить, что такой вызов приведёт к AttributeError:"
   ]
  },
  {
   "cell_type": "code",
   "execution_count": 19,
   "metadata": {},
   "outputs": [
    {
     "ename": "AttributeError",
     "evalue": "'ExDog' object has no attribute '_ExDog__breed'",
     "output_type": "error",
     "traceback": [
      "\u001b[0;31m---------------------------------------------------------------------------\u001b[0m",
      "\u001b[0;31mAttributeError\u001b[0m                            Traceback (most recent call last)",
      "\u001b[0;32m<ipython-input-19-2ab25c502291>\u001b[0m in \u001b[0;36m<module>\u001b[0;34m()\u001b[0m\n\u001b[1;32m      1\u001b[0m \u001b[0mdog\u001b[0m \u001b[0;34m=\u001b[0m \u001b[0mExDog\u001b[0m\u001b[0;34m(\u001b[0m\u001b[0;34m\"Фокс\"\u001b[0m\u001b[0;34m,\u001b[0m \u001b[0;34m\"Мопс\"\u001b[0m\u001b[0;34m)\u001b[0m\u001b[0;34m\u001b[0m\u001b[0;34m\u001b[0m\u001b[0m\n\u001b[0;32m----> 2\u001b[0;31m \u001b[0mdog\u001b[0m\u001b[0;34m.\u001b[0m\u001b[0mget_breed\u001b[0m\u001b[0;34m(\u001b[0m\u001b[0;34m)\u001b[0m\u001b[0;34m\u001b[0m\u001b[0;34m\u001b[0m\u001b[0m\n\u001b[0m",
      "\u001b[0;32m<ipython-input-18-e63e5d246df7>\u001b[0m in \u001b[0;36mget_breed\u001b[0;34m(self)\u001b[0m\n\u001b[1;32m     20\u001b[0m \u001b[0;32mclass\u001b[0m \u001b[0mExDog\u001b[0m\u001b[0;34m(\u001b[0m\u001b[0mDog\u001b[0m\u001b[0;34m,\u001b[0m \u001b[0mExportJSON\u001b[0m\u001b[0;34m)\u001b[0m\u001b[0;34m:\u001b[0m\u001b[0;34m\u001b[0m\u001b[0;34m\u001b[0m\u001b[0m\n\u001b[1;32m     21\u001b[0m     \u001b[0;32mdef\u001b[0m \u001b[0mget_breed\u001b[0m\u001b[0;34m(\u001b[0m\u001b[0mself\u001b[0m\u001b[0;34m)\u001b[0m\u001b[0;34m:\u001b[0m\u001b[0;34m\u001b[0m\u001b[0;34m\u001b[0m\u001b[0m\n\u001b[0;32m---> 22\u001b[0;31m         \u001b[0;32mreturn\u001b[0m \u001b[0;34m\"порода: {0} - {1}\"\u001b[0m\u001b[0;34m.\u001b[0m\u001b[0mformat\u001b[0m\u001b[0;34m(\u001b[0m\u001b[0mself\u001b[0m\u001b[0;34m.\u001b[0m\u001b[0mname\u001b[0m\u001b[0;34m,\u001b[0m \u001b[0mself\u001b[0m\u001b[0;34m.\u001b[0m\u001b[0m__breed\u001b[0m\u001b[0;34m)\u001b[0m\u001b[0;34m\u001b[0m\u001b[0;34m\u001b[0m\u001b[0m\n\u001b[0m",
      "\u001b[0;31mAttributeError\u001b[0m: 'ExDog' object has no attribute '_ExDog__breed'"
     ]
    }
   ],
   "source": [
    "dog = ExDog(\"Фокс\", \"Мопс\")\n",
    "dog.get_breed()"
   ]
  },
  {
   "cell_type": "markdown",
   "metadata": {},
   "source": [
    "Можно распечатать внутренний атрибут \\_\\_dict\\_\\_, который нам покажет все атрибуты нашего созданного объекта. Мы видим, что Python автоматически изменил имя приватного агрумента."
   ]
  },
  {
   "cell_type": "code",
   "execution_count": 16,
   "metadata": {},
   "outputs": [
    {
     "data": {
      "text/plain": [
       "{'_Dog__breed': 'Мопс', 'name': 'Фокс'}"
      ]
     },
     "execution_count": 16,
     "metadata": {},
     "output_type": "execute_result"
    }
   ],
   "source": [
    "dog.__dict__"
   ]
  },
  {
   "cell_type": "markdown",
   "metadata": {},
   "source": [
    "Мы можем обратиться к аргументу по новому имени _Dog__breed Таким образом, Python всё же позволяет обращаться к приватным атрибутам класса вне самого класса, однако не стоит этим увлекаться."
   ]
  },
  {
   "cell_type": "code",
   "execution_count": 20,
   "metadata": {},
   "outputs": [
    {
     "data": {
      "text/plain": [
       "'порода: Фокс - Мопс'"
      ]
     },
     "execution_count": 20,
     "metadata": {},
     "output_type": "execute_result"
    }
   ],
   "source": [
    "class ExDog(Dog, ExportJSON):\n",
    "    def get_breed(self):\n",
    "        return \"порода: {0} - {1}\".format(self.name, self._Dog__breed)\n",
    "    \n",
    "dog = ExDog(\"Фокс\", \"Мопс\")\n",
    "dog.get_breed()"
   ]
  },
  {
   "cell_type": "markdown",
   "metadata": {},
   "source": [
    "### 3.2.2. Композиция классов, пример\n",
    "\n",
    "В Python существует альтернативный подход наследованию --- это композиция. Вспомним пример из предыдущего видео. У нас был класс \"питомец\", мы от него унаследовали класс Dog. Затем мы захотели, чтобы наши объекты классов \"собака\" могли выполнять экспорт данных, и мы ввели класс-примесь ExportJSON. После этого наш финальный\n",
    "класс ExDog использовал множественное наследование и наследовался от класса \"собачка\" и ExportJSON. Если бы нам пришлось экспортировать данные не только в формате json, но в другом формате (например, XML), нам бы понадобился ещё один класс-примесь:"
   ]
  },
  {
   "cell_type": "code",
   "execution_count": 49,
   "metadata": {},
   "outputs": [],
   "source": [
    "class Pet:\n",
    "    def __init__(self, name):\n",
    "        self.name = name\n",
    "\n",
    "class Dog(Pet):\n",
    "    def __init__(self, name, breed=None):\n",
    "        super().__init__(name)\n",
    "        self.breed = breed\n",
    "    \n",
    "    def say(self):\n",
    "        return \"{0}: waw\".format(self.name)\n",
    "    \n",
    "class ExportJSON:\n",
    "    def to_json(self):\n",
    "        pass\n",
    "\n",
    "class ExportXML:\n",
    "    def to_xml(self):\n",
    "        pass\n",
    "\n",
    "class ExDog(Dog, ExportJSON, ExportXML):\n",
    "    pass"
   ]
  },
  {
   "cell_type": "code",
   "execution_count": 50,
   "metadata": {},
   "outputs": [],
   "source": [
    "dog = ExDog(\"Фокс\", \"мопс\")\n",
    "dog.to_xml()"
   ]
  },
  {
   "cell_type": "code",
   "execution_count": 51,
   "metadata": {},
   "outputs": [],
   "source": [
    "dog.to_json()"
   ]
  },
  {
   "cell_type": "markdown",
   "metadata": {},
   "source": [
    "Давайте представим, что нам нужно будет добавлять еще несколько методов для экспорта данных. В таком случае нам постоянно придется изменять код нашего класса ExDog, дописывая туда новые классы-примеси, что может слишком усложнить наш код. Именно для того, чтобы этого избежать, используют композицию классов.\n",
    "\n",
    "Создадим новый класс PetExport:"
   ]
  },
  {
   "cell_type": "code",
   "execution_count": 52,
   "metadata": {},
   "outputs": [],
   "source": [
    "class PetExport:\n",
    "    def export(self, dog):\n",
    "        # не будем создавать экземпляров класса,\n",
    "        # он нужен только для наследования\n",
    "        raise NotImplementedError"
   ]
  },
  {
   "cell_type": "markdown",
   "metadata": {},
   "source": [
    "Теперь снова создадим класс ExDog, уже без использования множественного наследования. Он будет принимать дополнительный объект для экспорта данных. Вместо наследования используется композиция: нужный класс передается нашему классу как объект."
   ]
  },
  {
   "cell_type": "code",
   "execution_count": 53,
   "metadata": {},
   "outputs": [],
   "source": [
    "class ExDog(Dog):\n",
    "    def __init__(self, name, breed=None, exporter=None):\n",
    "        super().__init__(name, breed)\n",
    "        \n",
    "        self._exporter = exporter\n",
    "    \n",
    "    def export(self):\n",
    "        return self._exporter.export(self)"
   ]
  },
  {
   "cell_type": "markdown",
   "metadata": {},
   "source": [
    "Осталось реализовать только методы для экспорта в начальной иерархии классов. С json все просто --- используем модуль json и метод dumps. Реализуем метод export в классе ExportXML:"
   ]
  },
  {
   "cell_type": "code",
   "execution_count": 54,
   "metadata": {},
   "outputs": [],
   "source": [
    "import json\n",
    "\n",
    "class ExportXML(PetExport):\n",
    "    def export(self, dog):\n",
    "        return \"\"\"<xml version=\"1.0\" encoding=\"utf-8\">\n",
    "<dog>\n",
    "  <name>{0}</name>\n",
    "  <breed>{1}</breed>\n",
    "</dog>\"\"\".format(dog.name, dog.breed)\n",
    "\n",
    "\n",
    "class ExportJSON(PetExport):\n",
    "    def export(self, dog):\n",
    "        return json.dumps({\n",
    "            \"name\": dog.name,\n",
    "            \"breed\": dog.breed,\n",
    "        })"
   ]
  },
  {
   "cell_type": "markdown",
   "metadata": {},
   "source": [
    "Давайте попробуем создать экземпляр нашего класса ExDog. Предположим, мы хотим, чтобы объект этого класса умел экспортировать свои данные в xml. Давайте передадим нужный exporter. Обратите внимание, что при использовании композиции нужный объект создается именно в момент выполнения конкретной программы:"
   ]
  },
  {
   "cell_type": "code",
   "execution_count": 55,
   "metadata": {},
   "outputs": [
    {
     "data": {
      "text/plain": [
       "'<xml version=\"1.0\" encoding=\"utf-8\">\\n<dog>\\n  <name>Шарик</name>\\n  <breed>Дворняга</breed>\\n</dog>'"
      ]
     },
     "execution_count": 55,
     "metadata": {},
     "output_type": "execute_result"
    }
   ],
   "source": [
    "dog = ExDog(\"Шарик\", \"Дворняга\", exporter=ExportXML())\n",
    "dog.export()"
   ]
  },
  {
   "cell_type": "markdown",
   "metadata": {},
   "source": [
    "Однако, неудобно каждый раз задавать метод для экспорта. Давайте немного изменим наш класс ExDog и зададим метод для экспорта по умолчанию. Также сделаем проверку на то, является ли переданный объект экземпляром класса PetExport и может ли он вообще выполнять экспорт данных. Для этого мы можем воспользоваться проверкой\n",
    "isinstance.\n",
    "\n",
    "Что делать, если нам передали объект, который не может выполнять экспорт? Давайте сгенерируем исключение (в данном случае, ValueError) --- это будет означать, что программа дальше не сможет продолжить свою работу и будет остановлена."
   ]
  },
  {
   "cell_type": "code",
   "execution_count": 56,
   "metadata": {},
   "outputs": [],
   "source": [
    "class ExDog(Dog):\n",
    "    def __init__(self, name, breed=None, exporter=None):\n",
    "        super().__init__(name, breed)\n",
    "        \n",
    "        self._exporter = exporter or ExportJSON()\n",
    "\n",
    "        if not isinstance(self._exporter, PetExport):\n",
    "            raise ValueEror(\"bad export instance value\", exporter)\n",
    "    \n",
    "    def export(self):\n",
    "        return self._exporter.export(self)"
   ]
  },
  {
   "cell_type": "markdown",
   "metadata": {},
   "source": [
    "Теперь, если нам нужно будет добавить в этот код новый метод для экспорта, мы с легкостью сможем сделать это. Просто объявим новый класс, добавим его в существующую иерархию для экспорта, а класс ExDog менять не будем. А экспортировать в различные форматы мы сможем легко и удобно в итоговой программе, подставив нужный exporter или создав его."
   ]
  },
  {
   "cell_type": "code",
   "execution_count": 57,
   "metadata": {},
   "outputs": [
    {
     "name": "stdout",
     "output_type": "stream",
     "text": [
      "<xml version=\"1.0\" encoding=\"utf-8\">\n",
      "<dog>\n",
      "  <name>Фокс</name>\n",
      "  <breed>мопс</breed>\n",
      "</dog>\n"
     ]
    }
   ],
   "source": [
    "fox = ExDog(\"Фокс\", \"мопс\", exporter=ExportXML())\n",
    "print(fox.export())"
   ]
  },
  {
   "cell_type": "code",
   "execution_count": 58,
   "metadata": {},
   "outputs": [
    {
     "name": "stdout",
     "output_type": "stream",
     "text": [
      "{\"name\": \"\\u041c\\u0443\\u0445\\u0442\\u0430\\u0440\", \"breed\": \"\\u043f\\u0438\\u0442\\u0431\\u0443\\u043b\\u044c\"}\n"
     ]
    }
   ],
   "source": [
    "muhtar = ExDog(\"Мухтар\", \"питбуль\")\n",
    "print(muhtar.export())"
   ]
  },
  {
   "cell_type": "markdown",
   "metadata": {},
   "source": [
    "## 3.3. Работа с ошибками\n",
    "\n",
    "### 3.3.1. Классы исключений и их обработка\n",
    "\n",
    "В предыдущих видео мы несколько раз упоминали про исключения в Python. Для начала давайте попробуем вызвать исключение и посмотрим, что при этом произойдет:"
   ]
  },
  {
   "cell_type": "code",
   "execution_count": 59,
   "metadata": {},
   "outputs": [
    {
     "ename": "ZeroDivisionError",
     "evalue": "division by zero",
     "output_type": "error",
     "traceback": [
      "\u001b[0;31m---------------------------------------------------------------------------\u001b[0m",
      "\u001b[0;31mZeroDivisionError\u001b[0m                         Traceback (most recent call last)",
      "\u001b[0;32m<ipython-input-59-9e1622b385b6>\u001b[0m in \u001b[0;36m<module>\u001b[0;34m()\u001b[0m\n\u001b[0;32m----> 1\u001b[0;31m \u001b[0;36m1\u001b[0m\u001b[0;34m/\u001b[0m\u001b[0;36m0\u001b[0m\u001b[0;34m\u001b[0m\u001b[0;34m\u001b[0m\u001b[0m\n\u001b[0m",
      "\u001b[0;31mZeroDivisionError\u001b[0m: division by zero"
     ]
    }
   ],
   "source": [
    "1/0"
   ]
  },
  {
   "cell_type": "markdown",
   "metadata": {},
   "source": [
    "При делении на 0 возникло исключение, и в этом случае на стандартный вывод печатается информация о его типе (в нашем случае это ZeroDivisionError), дополнительная информация об исключении, а также стек вызовов. \n",
    "\n",
    "В этом примере стек вызовов очень небольшой. Когда исключение возникает в реальной программе, в стеке вызовов мы можем увидеть всю последовательность вызовов функций, которая привела к исключению. Также интерпретатор Python завершит свою работу.\n",
    "\n",
    "В Python есть два больших типа исключений. Первый --- это исключения из стандартной библиотеки в Python, второй тип исключений --- это пользовательские исключения. Они могут быть сгенерированы и обработаны самим программистом при написании программ на Python. Давайте посмотрим на иерархию исключений в стандартной библиотеке Python. Все исключения наследуются от базового класса BaseException:\n",
    "\n",
    "- BaseException\n",
    "    - SystemExit\n",
    "    - KeyboardInterrupt\n",
    "    - GeneratorExit\n",
    "    - Exception\n",
    "        - StopIteration\n",
    "        - AssertionError\n",
    "        - AttributeError\n",
    "        - LookupError\n",
    "            - IndexError\n",
    "            - KeyError\n",
    "        - OSError\n",
    "        - SystemError\n",
    "        - TypeError\n",
    "        - ValueError\n",
    "        \n",
    "Существуют несколько системных исключений, например, SystemExit (генерируется, если мы вызвали функцию OSExit), KeyboardInterrupt (генерируется, если мы нажали сочетание клавиш Ctrl + C) и так далее. Все остальные исключения генерируется от базового класса Exception. Именно от этого класса нужно порождать свои исключения.\n",
    "\n",
    "Давайте посмотрим и обсудим некоторые исключения из стандартной библиотеки, такие как, например, AttributeError, IndexError, KeyError, TypeError, и попробуем их вызвать."
   ]
  },
  {
   "cell_type": "code",
   "execution_count": 8,
   "metadata": {},
   "outputs": [
    {
     "ename": "ZeroDivisionError",
     "evalue": "division by zero",
     "output_type": "error",
     "traceback": [
      "\u001b[0;31m---------------------------------------------------------------------------\u001b[0m",
      "\u001b[0;31mZeroDivisionError\u001b[0m                         Traceback (most recent call last)",
      "\u001b[0;32m<ipython-input-8-9e1622b385b6>\u001b[0m in \u001b[0;36m<module>\u001b[0;34m()\u001b[0m\n\u001b[0;32m----> 1\u001b[0;31m \u001b[0;36m1\u001b[0m\u001b[0;34m/\u001b[0m\u001b[0;36m0\u001b[0m\u001b[0;34m\u001b[0m\u001b[0;34m\u001b[0m\u001b[0m\n\u001b[0m",
      "\u001b[0;31mZeroDivisionError\u001b[0m: division by zero"
     ]
    }
   ],
   "source": [
    "1/0"
   ]
  },
  {
   "cell_type": "code",
   "execution_count": 9,
   "metadata": {},
   "outputs": [
    {
     "ename": "PermissionError",
     "evalue": "[Errno 13] Permission denied: '/etc/shadow'",
     "output_type": "error",
     "traceback": [
      "\u001b[0;31m---------------------------------------------------------------------------\u001b[0m",
      "\u001b[0;31mPermissionError\u001b[0m                           Traceback (most recent call last)",
      "\u001b[0;32m<ipython-input-9-c87b92daa241>\u001b[0m in \u001b[0;36m<module>\u001b[0;34m()\u001b[0m\n\u001b[0;32m----> 1\u001b[0;31m \u001b[0mf\u001b[0m \u001b[0;34m=\u001b[0m \u001b[0mopen\u001b[0m\u001b[0;34m(\u001b[0m\u001b[0;34m\"/etc/shadow\"\u001b[0m\u001b[0;34m)\u001b[0m\u001b[0;34m\u001b[0m\u001b[0;34m\u001b[0m\u001b[0m\n\u001b[0m",
      "\u001b[0;31mPermissionError\u001b[0m: [Errno 13] Permission denied: '/etc/shadow'"
     ]
    }
   ],
   "source": [
    "f = open(\"/etc/shadow\")"
   ]
  },
  {
   "cell_type": "markdown",
   "metadata": {},
   "source": [
    "Обращаемся к несуществующему атрибуту класса, чтобы получить AttributeError:"
   ]
  },
  {
   "cell_type": "code",
   "execution_count": 60,
   "metadata": {},
   "outputs": [
    {
     "ename": "AttributeError",
     "evalue": "'MyClass' object has no attribute 'foo'",
     "output_type": "error",
     "traceback": [
      "\u001b[0;31m---------------------------------------------------------------------------\u001b[0m",
      "\u001b[0;31mAttributeError\u001b[0m                            Traceback (most recent call last)",
      "\u001b[0;32m<ipython-input-60-18b0ccbad08c>\u001b[0m in \u001b[0;36m<module>\u001b[0;34m()\u001b[0m\n\u001b[1;32m      3\u001b[0m \u001b[0;34m\u001b[0m\u001b[0m\n\u001b[1;32m      4\u001b[0m \u001b[0mobj\u001b[0m \u001b[0;34m=\u001b[0m \u001b[0mMyClass\u001b[0m\u001b[0;34m(\u001b[0m\u001b[0;34m)\u001b[0m\u001b[0;34m\u001b[0m\u001b[0;34m\u001b[0m\u001b[0m\n\u001b[0;32m----> 5\u001b[0;31m \u001b[0mobj\u001b[0m\u001b[0;34m.\u001b[0m\u001b[0mfoo\u001b[0m\u001b[0;34m\u001b[0m\u001b[0;34m\u001b[0m\u001b[0m\n\u001b[0m",
      "\u001b[0;31mAttributeError\u001b[0m: 'MyClass' object has no attribute 'foo'"
     ]
    }
   ],
   "source": [
    "class MyClass():\n",
    "    pass\n",
    "\n",
    "obj = MyClass()\n",
    "obj.foo"
   ]
  },
  {
   "cell_type": "markdown",
   "metadata": {},
   "source": [
    "Ищем значение по несуществующему ключу в словаре, получаем KeyError:"
   ]
  },
  {
   "cell_type": "code",
   "execution_count": 61,
   "metadata": {},
   "outputs": [
    {
     "ename": "KeyError",
     "evalue": "'bar'",
     "output_type": "error",
     "traceback": [
      "\u001b[0;31m---------------------------------------------------------------------------\u001b[0m",
      "\u001b[0;31mKeyError\u001b[0m                                  Traceback (most recent call last)",
      "\u001b[0;32m<ipython-input-61-df00f3f2d32a>\u001b[0m in \u001b[0;36m<module>\u001b[0;34m()\u001b[0m\n\u001b[1;32m      1\u001b[0m \u001b[0md\u001b[0m \u001b[0;34m=\u001b[0m \u001b[0;34m{\u001b[0m\u001b[0;34m\"foo\"\u001b[0m\u001b[0;34m:\u001b[0m \u001b[0;36m1\u001b[0m\u001b[0;34m}\u001b[0m\u001b[0;34m\u001b[0m\u001b[0;34m\u001b[0m\u001b[0m\n\u001b[0;32m----> 2\u001b[0;31m \u001b[0md\u001b[0m\u001b[0;34m[\u001b[0m\u001b[0;34m\"bar\"\u001b[0m\u001b[0;34m]\u001b[0m\u001b[0;34m\u001b[0m\u001b[0;34m\u001b[0m\u001b[0m\n\u001b[0m",
      "\u001b[0;31mKeyError\u001b[0m: 'bar'"
     ]
    }
   ],
   "source": [
    "d = {\"foo\": 1}\n",
    "d[\"bar\"]"
   ]
  },
  {
   "cell_type": "markdown",
   "metadata": {},
   "source": [
    "Обратимся к несуществующему индексу в списке, получим IndexError:"
   ]
  },
  {
   "cell_type": "code",
   "execution_count": 62,
   "metadata": {},
   "outputs": [
    {
     "ename": "IndexError",
     "evalue": "list index out of range",
     "output_type": "error",
     "traceback": [
      "\u001b[0;31m---------------------------------------------------------------------------\u001b[0m",
      "\u001b[0;31mIndexError\u001b[0m                                Traceback (most recent call last)",
      "\u001b[0;32m<ipython-input-62-9e4360012ff6>\u001b[0m in \u001b[0;36m<module>\u001b[0;34m()\u001b[0m\n\u001b[1;32m      1\u001b[0m \u001b[0ml\u001b[0m \u001b[0;34m=\u001b[0m \u001b[0;34m[\u001b[0m\u001b[0;36m1\u001b[0m\u001b[0;34m,\u001b[0m\u001b[0;36m2\u001b[0m\u001b[0;34m]\u001b[0m\u001b[0;34m\u001b[0m\u001b[0;34m\u001b[0m\u001b[0m\n\u001b[0;32m----> 2\u001b[0;31m \u001b[0ml\u001b[0m\u001b[0;34m[\u001b[0m\u001b[0;36m10\u001b[0m\u001b[0;34m]\u001b[0m\u001b[0;34m\u001b[0m\u001b[0;34m\u001b[0m\u001b[0m\n\u001b[0m",
      "\u001b[0;31mIndexError\u001b[0m: list index out of range"
     ]
    }
   ],
   "source": [
    "l = [1,2]\n",
    "l[10]"
   ]
  },
  {
   "cell_type": "markdown",
   "metadata": {},
   "source": [
    "Попробуем преобразовать строку в целое число, видим ValueError:"
   ]
  },
  {
   "cell_type": "code",
   "execution_count": 63,
   "metadata": {},
   "outputs": [
    {
     "ename": "ValueError",
     "evalue": "invalid literal for int() with base 10: 'asdf'",
     "output_type": "error",
     "traceback": [
      "\u001b[0;31m---------------------------------------------------------------------------\u001b[0m",
      "\u001b[0;31mValueError\u001b[0m                                Traceback (most recent call last)",
      "\u001b[0;32m<ipython-input-63-84b8a2bb8310>\u001b[0m in \u001b[0;36m<module>\u001b[0;34m()\u001b[0m\n\u001b[0;32m----> 1\u001b[0;31m \u001b[0mint\u001b[0m\u001b[0;34m(\u001b[0m\u001b[0;34m\"asdf\"\u001b[0m\u001b[0;34m)\u001b[0m\u001b[0;34m\u001b[0m\u001b[0;34m\u001b[0m\u001b[0m\n\u001b[0m",
      "\u001b[0;31mValueError\u001b[0m: invalid literal for int() with base 10: 'asdf'"
     ]
    }
   ],
   "source": [
    "int(\"asdf\")"
   ]
  },
  {
   "cell_type": "markdown",
   "metadata": {},
   "source": [
    "Наконец, получим TypeError при попытке сложить целое число со строкой:"
   ]
  },
  {
   "cell_type": "code",
   "execution_count": 64,
   "metadata": {},
   "outputs": [
    {
     "ename": "TypeError",
     "evalue": "unsupported operand type(s) for +: 'int' and 'str'",
     "output_type": "error",
     "traceback": [
      "\u001b[0;31m---------------------------------------------------------------------------\u001b[0m",
      "\u001b[0;31mTypeError\u001b[0m                                 Traceback (most recent call last)",
      "\u001b[0;32m<ipython-input-64-fb1d2c3e2afe>\u001b[0m in \u001b[0;36m<module>\u001b[0;34m()\u001b[0m\n\u001b[0;32m----> 1\u001b[0;31m \u001b[0;36m1\u001b[0m \u001b[0;34m+\u001b[0m \u001b[0;34m\"10\"\u001b[0m\u001b[0;34m\u001b[0m\u001b[0;34m\u001b[0m\u001b[0m\n\u001b[0m",
      "\u001b[0;31mTypeError\u001b[0m: unsupported operand type(s) for +: 'int' and 'str'"
     ]
    }
   ],
   "source": [
    "1 + \"10\""
   ]
  },
  {
   "cell_type": "markdown",
   "metadata": {},
   "source": [
    "#### Обработка исключений \n",
    "\n",
    "Если исключение сгенерировано, Python-интерпретатор остановит свою работу и на экран будет выведен стек вызовов и информация о типе исключений. Чтобы программа не останавливала работу, можно обработать исключение при помощи блока try except.\n",
    "\n",
    "То есть код, который потенциально может генерировать исключения, мы обрамляем в блок try except, и при генерации исключений управление будет передано в блок except. Таким образом можно отловить все исключения, которые генерируются в блоке try except:"
   ]
  },
  {
   "cell_type": "code",
   "execution_count": 65,
   "metadata": {},
   "outputs": [
    {
     "name": "stdout",
     "output_type": "stream",
     "text": [
      "Ошибка\n"
     ]
    }
   ],
   "source": [
    "try:\n",
    "    1 / 0\n",
    "except:\n",
    "    print(\"Ошибка\")"
   ]
  },
  {
   "cell_type": "markdown",
   "metadata": {},
   "source": [
    "В блоке except можно указать тип исключения (в данном случае Exception), чтобы отлавливать исключения всех типов, у которых класс этого типа является родителем. "
   ]
  },
  {
   "cell_type": "code",
   "execution_count": 66,
   "metadata": {},
   "outputs": [
    {
     "name": "stdout",
     "output_type": "stream",
     "text": [
      "Ошибка\n"
     ]
    }
   ],
   "source": [
    "try:\n",
    "    1 / 0\n",
    "except Exception:\n",
    "    print(\"Ошибка\")"
   ]
  },
  {
   "cell_type": "markdown",
   "metadata": {},
   "source": [
    "В целом неправильно ждать любые исключения, и это может привести к непредвиденным сюрпризам работы вашей программы. Покажем на примере:\n",
    "\n",
    "```python\n",
    "while True:\n",
    "    try:\n",
    "        raw = input(\"введите число: \")\n",
    "        number = int(raw)\n",
    "        break\n",
    "    # не указали тип исключения, значит, обрабатываем все\n",
    "    except:\n",
    "        print(\"некорректное значение\")\n",
    "```\n",
    "\n",
    "Если мы запустим эту программу в командной строке и попробуем завершить её сочетанием Ctrl-C, мы получим ответ некорректное значение, что отличается от желаемого поведения программы. Поэтому всегда нужно обрабатывать конкретные исключения. Перепишем нашу программу в соотвествии с этим правилом:\n",
    "\n",
    "```python\n",
    "while True:\n",
    "    try:\n",
    "        raw = input(\"введите число: \")\n",
    "        number = int(raw)\n",
    "        break\n",
    "    except ValueError:\n",
    "        print(\"некорректное значение\")\n",
    "```"
   ]
  },
  {
   "cell_type": "markdown",
   "metadata": {},
   "source": [
    "#### Блок else\n",
    "\n",
    "Также у блока try except может быть блок else. Блок else вызывается в том случае, если никакого исключения не произошло:\n",
    "\n",
    "```python\n",
    "while True:\n",
    "    try:\n",
    "        raw = input(\"введите число: \")\n",
    "        number = int(raw)\n",
    "    except ValueError:\n",
    "        print(\"некорректное значение!\")\n",
    "    else:\n",
    "        break\n",
    "```"
   ]
  },
  {
   "cell_type": "markdown",
   "metadata": {},
   "source": [
    "#### Обработка нескольких исключений\n",
    "\n",
    "Если нам нужно обработать несколько исключений, мы можем использовать несколько блоков except и указать разные классы для обработки исключения. Причем в каждом блоке except может быть свой собственный обработчик:\n",
    "\n",
    "```python\n",
    "while True:\n",
    "    try:\n",
    "        raw = input(\"введите число: \")\n",
    "        number = int(raw)\n",
    "        break\n",
    "    except ValueError:\n",
    "        print(\"некорректное значение!\")\n",
    "    except KeyboardInterrupt:\n",
    "        print(\"выход\")\n",
    "        break\n",
    "```\n",
    "\n",
    "Если обработчик исключений выглядит одинаково, то несколько исключений можно передать в виде списка в блок except:\n",
    "\n",
    "```python\n",
    "total_count = 100_000\n",
    "while True:\n",
    "    try:\n",
    "        raw = input(\"введите число: \")\n",
    "        number = int(raw)\n",
    "        total_count = total_count / number\n",
    "        break\n",
    "    except (ValueError, ZeroDivisionError):\n",
    "        print(\"некорректное значение!\")\n",
    "```"
   ]
  },
  {
   "cell_type": "markdown",
   "metadata": {},
   "source": [
    "#### Наследование\n",
    "\n",
    "Бывает удобно пользоваться иерархией классов исключений. Посмотрим на два класса исключений IndexError и KeyError и их родителя LookupError:\n",
    "\n",
    "\n",
    "- LookupError\n",
    "    - IndexError\n",
    "    - KeyError"
   ]
  },
  {
   "cell_type": "code",
   "execution_count": 1,
   "metadata": {},
   "outputs": [
    {
     "data": {
      "text/plain": [
       "True"
      ]
     },
     "execution_count": 1,
     "metadata": {},
     "output_type": "execute_result"
    }
   ],
   "source": [
    "issubclass(KeyError, LookupError)"
   ]
  },
  {
   "cell_type": "code",
   "execution_count": 2,
   "metadata": {},
   "outputs": [
    {
     "data": {
      "text/plain": [
       "True"
      ]
     },
     "execution_count": 2,
     "metadata": {},
     "output_type": "execute_result"
    }
   ],
   "source": [
    "issubclass(IndexError, LookupError)"
   ]
  },
  {
   "cell_type": "markdown",
   "metadata": {},
   "source": [
    "Благодаря наследованию мы можем обрабатывать сразу обе ошибки в следующей программе, которая получает надписи на футболках из базы данных, где они отсортированы по цвету:"
   ]
  },
  {
   "cell_type": "code",
   "execution_count": 3,
   "metadata": {},
   "outputs": [
    {
     "name": "stdout",
     "output_type": "stream",
     "text": [
      "введите цвет: 1\n",
      "введите номер по порядку: 2\n",
      "Объект не найден\n"
     ]
    }
   ],
   "source": [
    "database = {\n",
    "    \"red\": [\"fox\", \"flower\"],\n",
    "    \"green\": [\"peace\", \"M\", \"python\"]\n",
    "}\n",
    " \n",
    "try:\n",
    "    color = input(\"введите цвет: \")\n",
    "    number = input(\"введите номер по порядку: \")\n",
    "    \n",
    "    label = database[color][int(number)]\n",
    "    print(\"вы выбрали:\", label)\n",
    "# except (IndexError, KeyError):\n",
    "except LookupError:\n",
    "    print(\"Объект не найден\")"
   ]
  },
  {
   "cell_type": "markdown",
   "metadata": {},
   "source": [
    "#### Блок finally\n",
    "\n",
    "Также у исключений есть дополнительный блок finally. Рассмотрим проблему. Например, мы открываем файл, читаем строки, обрабатываем эти строки, и в процессе работы нашей программы возникает исключение, которое мы не ждем. В таком случае файл закрыт не будет. Открытые файловые дескрипторы могут накапливаться, чего не следует допускать. Таким же образом могут накапливаться открытые сокеты или не освобождаться память. "
   ]
  },
  {
   "cell_type": "code",
   "execution_count": 4,
   "metadata": {},
   "outputs": [
    {
     "name": "stdout",
     "output_type": "stream",
     "text": [
      "127.0.0.1\tlocalhost\n"
     ]
    },
    {
     "ename": "ZeroDivisionError",
     "evalue": "division by zero",
     "output_type": "error",
     "traceback": [
      "\u001b[0;31m---------------------------------------------------------------------------\u001b[0m",
      "\u001b[0;31mZeroDivisionError\u001b[0m                         Traceback (most recent call last)",
      "\u001b[0;32m<ipython-input-4-61bd5ea84787>\u001b[0m in \u001b[0;36m<module>\u001b[0;34m()\u001b[0m\n\u001b[1;32m      3\u001b[0m     \u001b[0;32mfor\u001b[0m \u001b[0mline\u001b[0m \u001b[0;32min\u001b[0m \u001b[0mf\u001b[0m\u001b[0;34m:\u001b[0m\u001b[0;34m\u001b[0m\u001b[0;34m\u001b[0m\u001b[0m\n\u001b[1;32m      4\u001b[0m         \u001b[0mprint\u001b[0m\u001b[0;34m(\u001b[0m\u001b[0mline\u001b[0m\u001b[0;34m.\u001b[0m\u001b[0mrstrip\u001b[0m\u001b[0;34m(\u001b[0m\u001b[0;34m\"\\n\"\u001b[0m\u001b[0;34m)\u001b[0m\u001b[0;34m)\u001b[0m\u001b[0;34m\u001b[0m\u001b[0;34m\u001b[0m\u001b[0m\n\u001b[0;32m----> 5\u001b[0;31m         \u001b[0;36m1\u001b[0m \u001b[0;34m/\u001b[0m \u001b[0;36m0\u001b[0m\u001b[0;34m\u001b[0m\u001b[0;34m\u001b[0m\u001b[0m\n\u001b[0m\u001b[1;32m      6\u001b[0m \u001b[0;34m\u001b[0m\u001b[0m\n\u001b[1;32m      7\u001b[0m     \u001b[0mf\u001b[0m\u001b[0;34m.\u001b[0m\u001b[0mclose\u001b[0m\u001b[0;34m(\u001b[0m\u001b[0;34m)\u001b[0m\u001b[0;34m\u001b[0m\u001b[0;34m\u001b[0m\u001b[0m\n",
      "\u001b[0;31mZeroDivisionError\u001b[0m: division by zero"
     ]
    }
   ],
   "source": [
    "f = open(\"/etc/hosts\")\n",
    "try:\n",
    "    for line in f:\n",
    "        print(line.rstrip(\"\\n\"))\n",
    "        1 / 0\n",
    " \n",
    "    f.close()\n",
    "except OSError:\n",
    "    print(\"ошибка\")"
   ]
  },
  {
   "cell_type": "markdown",
   "metadata": {},
   "source": [
    "Для контроля таких ситуаций существуют, во-первых, контекстные менеджеры, а во-вторых, можно использовать блок finally в исключениях. \n",
    "\n",
    "Мы пишем блок finally и вызываем метод close() для нашего объекта f. Возникло исключение или не возникло --- блок finally будет выполнен и файл закроется:"
   ]
  },
  {
   "cell_type": "code",
   "execution_count": 7,
   "metadata": {},
   "outputs": [
    {
     "name": "stdout",
     "output_type": "stream",
     "text": [
      "127.0.0.1\tlocalhost\n"
     ]
    },
    {
     "ename": "ZeroDivisionError",
     "evalue": "division by zero",
     "output_type": "error",
     "traceback": [
      "\u001b[0;31m---------------------------------------------------------------------------\u001b[0m",
      "\u001b[0;31mZeroDivisionError\u001b[0m                         Traceback (most recent call last)",
      "\u001b[0;32m<ipython-input-7-80e83c9f8fda>\u001b[0m in \u001b[0;36m<module>\u001b[0;34m()\u001b[0m\n\u001b[1;32m      3\u001b[0m     \u001b[0;32mfor\u001b[0m \u001b[0mline\u001b[0m \u001b[0;32min\u001b[0m \u001b[0mf\u001b[0m\u001b[0;34m:\u001b[0m\u001b[0;34m\u001b[0m\u001b[0;34m\u001b[0m\u001b[0m\n\u001b[1;32m      4\u001b[0m         \u001b[0mprint\u001b[0m\u001b[0;34m(\u001b[0m\u001b[0mline\u001b[0m\u001b[0;34m.\u001b[0m\u001b[0mrstrip\u001b[0m\u001b[0;34m(\u001b[0m\u001b[0;34m\"\\n\"\u001b[0m\u001b[0;34m)\u001b[0m\u001b[0;34m)\u001b[0m\u001b[0;34m\u001b[0m\u001b[0;34m\u001b[0m\u001b[0m\n\u001b[0;32m----> 5\u001b[0;31m         \u001b[0;36m1\u001b[0m \u001b[0;34m/\u001b[0m \u001b[0;36m0\u001b[0m\u001b[0;34m\u001b[0m\u001b[0;34m\u001b[0m\u001b[0m\n\u001b[0m\u001b[1;32m      6\u001b[0m \u001b[0;32mexcept\u001b[0m \u001b[0mOSError\u001b[0m\u001b[0;34m:\u001b[0m\u001b[0;34m\u001b[0m\u001b[0;34m\u001b[0m\u001b[0m\n\u001b[1;32m      7\u001b[0m     \u001b[0mprint\u001b[0m\u001b[0;34m(\u001b[0m\u001b[0;34m\"ошибка\"\u001b[0m\u001b[0;34m)\u001b[0m\u001b[0;34m\u001b[0m\u001b[0;34m\u001b[0m\u001b[0m\n",
      "\u001b[0;31mZeroDivisionError\u001b[0m: division by zero"
     ]
    }
   ],
   "source": [
    "f = open(\"/etc/hosts\")\n",
    "try:\n",
    "    for line in f:\n",
    "        print(line.rstrip(\"\\n\"))\n",
    "        1 / 0\n",
    "except OSError:\n",
    "    print(\"ошибка\")\n",
    "finally:\n",
    "    f.close()"
   ]
  },
  {
   "cell_type": "markdown",
   "metadata": {},
   "source": [
    "### 3.3.2. Генерация исключений\n",
    "\n",
    "#### Доступ к объекту исключения, атрибут args\n",
    "\n",
    "Для получения доступа к объекту исключений, нам необходимо воспользоваться конструкцией except ... as err. В следующем примере, если будет сгенерировано исключение OSError, то сам объект исключений будет связан с переменной err и эта переменная err будет доступна в блоке except. У каждого объекта типа исключений есть свои свойства, например, errno и srterror --- это строковое описание ошибки и код ошибки. При помощи этих атрибутов можно получать доступ и обрабатывать исключения нужным вам образом."
   ]
  },
  {
   "cell_type": "code",
   "execution_count": 10,
   "metadata": {},
   "outputs": [
    {
     "name": "stdout",
     "output_type": "stream",
     "text": [
      "2 No such file or directory\n"
     ]
    }
   ],
   "source": [
    "try:\n",
    "    with open(\"/file/not/found\") as f:\n",
    "        content = f.read()\n",
    "except OSError as err:\n",
    "    print(err.errno, err.strerror)"
   ]
  },
  {
   "cell_type": "markdown",
   "metadata": {},
   "source": [
    "При вызове исключения можно передать ему любые аргументы, которые потом будут доступны как атрибут args. Предположим, продолжая предыдущий пример, что в момент генерации исключения ValueError мы передали туда строку и имя файла. Теперь в блоке except обратиться к атрибуту args объекта исключения --- это и будет список наших параметров:"
   ]
  },
  {
   "cell_type": "code",
   "execution_count": 12,
   "metadata": {},
   "outputs": [
    {
     "name": "stdout",
     "output_type": "stream",
     "text": [
      "файл не существует /file/not/found\n"
     ]
    }
   ],
   "source": [
    "# атрибут args\n",
    "import os.path\n",
    "\n",
    "filename = \"/file/not/found\"\n",
    "try:\n",
    "    if not os.path.exists(filename):\n",
    "        raise ValueError(\"файл не существует\", filename)\n",
    "except ValueError as err:\n",
    "    message, filename = err.args[0], err.args[1]\n",
    "    print(message, filename)"
   ]
  },
  {
   "cell_type": "markdown",
   "metadata": {},
   "source": [
    "#### Доступ к стеку вызовов\n",
    "\n",
    "Иногда нам может потребоваться стек вызовов при обработке исключения. Стек вызовов можно получить при помощи модуля traceback, вызвав метод print_exc:"
   ]
  },
  {
   "cell_type": "code",
   "execution_count": 14,
   "metadata": {},
   "outputs": [
    {
     "name": "stdout",
     "output_type": "stream",
     "text": [
      "None\n"
     ]
    },
    {
     "name": "stderr",
     "output_type": "stream",
     "text": [
      "Traceback (most recent call last):\n",
      "  File \"<ipython-input-14-f8decf109717>\", line 4, in <module>\n",
      "    with open(\"/file/not/found\") as f:\n",
      "FileNotFoundError: [Errno 2] No such file or directory: '/file/not/found'\n"
     ]
    }
   ],
   "source": [
    "import traceback\n",
    " \n",
    "try:\n",
    "    with open(\"/file/not/found\") as f:\n",
    "        content = f.read()\n",
    "except OSError as err:\n",
    "    trace = traceback.print_exc()\n",
    "    print(trace)"
   ]
  },
  {
   "cell_type": "markdown",
   "metadata": {},
   "source": [
    "#### Генерация исключения, инструкция raise\n",
    "\n",
    "Как вы, возможно, уже догадались, исключение генерируется инструкцией raise. Для генерации исключения мы должны написать raise и указать класс исключения. Также можно указывать не только класс, но и объект исключения, указав ему дополнительные свойства. Как уже было сказано, к этим свойствам потом можно будет обратится через объект исключения при помощи атрибута args. В следующем примере мы проверяем, что пользователь ввёл число, в противном случае генерируем исключение и затем в блоке except обрабатываем его:"
   ]
  },
  {
   "cell_type": "code",
   "execution_count": 15,
   "metadata": {},
   "outputs": [
    {
     "name": "stdout",
     "output_type": "stream",
     "text": [
      "введите число: kjh\n",
      "некорректное значение!\n"
     ]
    }
   ],
   "source": [
    "try:\n",
    "    raw = input(\"введите число: \")\n",
    "    if not raw.isdigit():\n",
    "        raise ValueError\n",
    "except ValueError:\n",
    "    print(\"некорректное значение!\")"
   ]
  },
  {
   "cell_type": "code",
   "execution_count": 16,
   "metadata": {},
   "outputs": [
    {
     "name": "stdout",
     "output_type": "stream",
     "text": [
      "введите число: gd\n",
      "некорректное значение! ('плохое число', 'gd')\n"
     ]
    }
   ],
   "source": [
    "try:\n",
    "    raw = input(\"введите число: \")\n",
    "    if not raw.isdigit():\n",
    "        raise ValueError(\"плохое число\", raw)\n",
    "except ValueError as err:\n",
    "    print(\"некорректное значение!\", err)"
   ]
  },
  {
   "cell_type": "markdown",
   "metadata": {},
   "source": [
    "#### Проброс исключения \"выше\"\n",
    "\n",
    "Иногда, поймав исключение, мы хотим делегировать обработку этого исключения другим функциям --- тем, который вызвали данную функцию. Для этого нужно использовать инструкцию raise без параметров. В следующем примере в случае некорректного числа на экран выводится надпись: \"Некорректное значение\", и при помощи инструкции raise мы делегируем исключение на уровень выше. Если мы попробуем исполнить данный код, интерпретатор покажет на стандартный вывод информации об этом исключении и прекратит работу программы."
   ]
  },
  {
   "cell_type": "code",
   "execution_count": 17,
   "metadata": {},
   "outputs": [
    {
     "name": "stdout",
     "output_type": "stream",
     "text": [
      "введите число: rse\n",
      "некорректное значение! ('плохое число', 'rse')\n"
     ]
    },
    {
     "ename": "ValueError",
     "evalue": "('плохое число', 'rse')",
     "output_type": "error",
     "traceback": [
      "\u001b[0;31m---------------------------------------------------------------------------\u001b[0m",
      "\u001b[0;31mValueError\u001b[0m                                Traceback (most recent call last)",
      "\u001b[0;32m<ipython-input-17-ed3b82a070db>\u001b[0m in \u001b[0;36m<module>\u001b[0;34m()\u001b[0m\n\u001b[1;32m      2\u001b[0m     \u001b[0mraw\u001b[0m \u001b[0;34m=\u001b[0m \u001b[0minput\u001b[0m\u001b[0;34m(\u001b[0m\u001b[0;34m\"введите число: \"\u001b[0m\u001b[0;34m)\u001b[0m\u001b[0;34m\u001b[0m\u001b[0;34m\u001b[0m\u001b[0m\n\u001b[1;32m      3\u001b[0m     \u001b[0;32mif\u001b[0m \u001b[0;32mnot\u001b[0m \u001b[0mraw\u001b[0m\u001b[0;34m.\u001b[0m\u001b[0misdigit\u001b[0m\u001b[0;34m(\u001b[0m\u001b[0;34m)\u001b[0m\u001b[0;34m:\u001b[0m\u001b[0;34m\u001b[0m\u001b[0;34m\u001b[0m\u001b[0m\n\u001b[0;32m----> 4\u001b[0;31m         \u001b[0;32mraise\u001b[0m \u001b[0mValueError\u001b[0m\u001b[0;34m(\u001b[0m\u001b[0;34m\"плохое число\"\u001b[0m\u001b[0;34m,\u001b[0m \u001b[0mraw\u001b[0m\u001b[0;34m)\u001b[0m\u001b[0;34m\u001b[0m\u001b[0;34m\u001b[0m\u001b[0m\n\u001b[0m\u001b[1;32m      5\u001b[0m \u001b[0;32mexcept\u001b[0m \u001b[0mValueError\u001b[0m \u001b[0;32mas\u001b[0m \u001b[0merr\u001b[0m\u001b[0;34m:\u001b[0m\u001b[0;34m\u001b[0m\u001b[0;34m\u001b[0m\u001b[0m\n\u001b[1;32m      6\u001b[0m     \u001b[0mprint\u001b[0m\u001b[0;34m(\u001b[0m\u001b[0;34m\"некорректное значение!\"\u001b[0m\u001b[0;34m,\u001b[0m \u001b[0merr\u001b[0m\u001b[0;34m)\u001b[0m\u001b[0;34m\u001b[0m\u001b[0;34m\u001b[0m\u001b[0m\n",
      "\u001b[0;31mValueError\u001b[0m: ('плохое число', 'rse')"
     ]
    }
   ],
   "source": [
    "try:\n",
    "    raw = input(\"введите число: \")\n",
    "    if not raw.isdigit():\n",
    "        raise ValueError(\"плохое число\", raw)\n",
    "except ValueError as err:\n",
    "    print(\"некорректное значение!\", err)\n",
    "    # делегирование обработки исключения\n",
    "    raise"
   ]
  },
  {
   "cell_type": "markdown",
   "metadata": {},
   "source": [
    "Если таких мест, в которых исключения делегируются, очень много, то иногда не понятно по последнему исключению, где именно оно возникло и для этого может использоваться конструкция raise from Exception. Давайте посмотрим, как отработает наша программа. Если мы сгенерируем одно исключение, отловим его в блоке except, и затем сгенерируем второе исключение TypeError, но укажем ему конструкцию from err. \n",
    "\n",
    "Так, давайте попробуем ввести плохое число. У нас получилось вызвать исключение и давайте внимательно посмотрим на stack trace, который произошел. Мы видим, что произошло исключение ValueError — это изначально которое мы сгенерировали. И дальше мы видим его stack trace, этого исключения. Дальше мы видим, что после этого исключения произошло второе исключение — TypeError и его stack trace. Таким образом, если мы будем использовать конструкцию raise from Exception, мы сможем отслеживать всю цепочку исключений, которая была сгенерирована."
   ]
  },
  {
   "cell_type": "code",
   "execution_count": 18,
   "metadata": {},
   "outputs": [
    {
     "name": "stdout",
     "output_type": "stream",
     "text": [
      "введите число: fds\n",
      "ошибка: плохое число fds\n"
     ]
    },
    {
     "ename": "TypeError",
     "evalue": "ошибка",
     "output_type": "error",
     "traceback": [
      "\u001b[0;31m---------------------------------------------------------------------------\u001b[0m",
      "\u001b[0;31mValueError\u001b[0m                                Traceback (most recent call last)",
      "\u001b[0;32m<ipython-input-18-491f0e40c1f4>\u001b[0m in \u001b[0;36m<module>\u001b[0;34m()\u001b[0m\n\u001b[1;32m      4\u001b[0m     \u001b[0;32mif\u001b[0m \u001b[0;32mnot\u001b[0m \u001b[0mraw\u001b[0m\u001b[0;34m.\u001b[0m\u001b[0misdigit\u001b[0m\u001b[0;34m(\u001b[0m\u001b[0;34m)\u001b[0m\u001b[0;34m:\u001b[0m\u001b[0;34m\u001b[0m\u001b[0;34m\u001b[0m\u001b[0m\n\u001b[0;32m----> 5\u001b[0;31m         \u001b[0;32mraise\u001b[0m \u001b[0mValueError\u001b[0m\u001b[0;34m(\u001b[0m\u001b[0;34m\"плохое число\"\u001b[0m\u001b[0;34m,\u001b[0m \u001b[0mraw\u001b[0m\u001b[0;34m)\u001b[0m\u001b[0;34m\u001b[0m\u001b[0;34m\u001b[0m\u001b[0m\n\u001b[0m\u001b[1;32m      6\u001b[0m \u001b[0;32mexcept\u001b[0m \u001b[0mValueError\u001b[0m \u001b[0;32mas\u001b[0m \u001b[0merr\u001b[0m\u001b[0;34m:\u001b[0m\u001b[0;34m\u001b[0m\u001b[0;34m\u001b[0m\u001b[0m\n",
      "\u001b[0;31mValueError\u001b[0m: ('плохое число', 'fds')",
      "\nThe above exception was the direct cause of the following exception:\n",
      "\u001b[0;31mTypeError\u001b[0m                                 Traceback (most recent call last)",
      "\u001b[0;32m<ipython-input-18-491f0e40c1f4>\u001b[0m in \u001b[0;36m<module>\u001b[0;34m()\u001b[0m\n\u001b[1;32m      7\u001b[0m     \u001b[0mprint\u001b[0m\u001b[0;34m(\u001b[0m\u001b[0;34m\"ошибка:\"\u001b[0m\u001b[0;34m,\u001b[0m \u001b[0merr\u001b[0m\u001b[0;34m.\u001b[0m\u001b[0margs\u001b[0m\u001b[0;34m[\u001b[0m\u001b[0;36m0\u001b[0m\u001b[0;34m]\u001b[0m\u001b[0;34m,\u001b[0m \u001b[0merr\u001b[0m\u001b[0;34m.\u001b[0m\u001b[0margs\u001b[0m\u001b[0;34m[\u001b[0m\u001b[0;36m1\u001b[0m\u001b[0;34m]\u001b[0m\u001b[0;34m)\u001b[0m\u001b[0;34m\u001b[0m\u001b[0;34m\u001b[0m\u001b[0m\n\u001b[1;32m      8\u001b[0m \u001b[0;34m\u001b[0m\u001b[0m\n\u001b[0;32m----> 9\u001b[0;31m     \u001b[0;32mraise\u001b[0m \u001b[0mTypeError\u001b[0m\u001b[0;34m(\u001b[0m\u001b[0;34m\"ошибка\"\u001b[0m\u001b[0;34m)\u001b[0m \u001b[0;32mfrom\u001b[0m \u001b[0merr\u001b[0m\u001b[0;34m\u001b[0m\u001b[0;34m\u001b[0m\u001b[0m\n\u001b[0m",
      "\u001b[0;31mTypeError\u001b[0m: ошибка"
     ]
    }
   ],
   "source": [
    "try:\n",
    "    raw = input(\"введите число: \")\n",
    "    \n",
    "    if not raw.isdigit():\n",
    "        raise ValueError(\"плохое число\", raw)\n",
    "except ValueError as err:\n",
    "    print(\"ошибка:\", err.args[0], err.args[1])\n",
    "    \n",
    "    raise TypeError(\"ошибка\") from err"
   ]
  },
  {
   "cell_type": "markdown",
   "metadata": {},
   "source": [
    "#### Инструкция assert\n",
    "\n",
    "Говоря об исключениях, нельзя не затронуть инструкцию assert. По умолчанию, если выполнить инструкцию assert с логическим выражением, результат которого равен True, ничего не произойдет. Но если попробовать выполнить инструкцию assert с логическим выражением, которое равно False, то будет сгенерировано исключение AssertionError."
   ]
  },
  {
   "cell_type": "code",
   "execution_count": 19,
   "metadata": {},
   "outputs": [],
   "source": [
    "assert True"
   ]
  },
  {
   "cell_type": "code",
   "execution_count": 20,
   "metadata": {},
   "outputs": [
    {
     "ename": "AssertionError",
     "evalue": "",
     "output_type": "error",
     "traceback": [
      "\u001b[0;31m---------------------------------------------------------------------------\u001b[0m",
      "\u001b[0;31mAssertionError\u001b[0m                            Traceback (most recent call last)",
      "\u001b[0;32m<ipython-input-20-e99f91a18d62>\u001b[0m in \u001b[0;36m<module>\u001b[0;34m()\u001b[0m\n\u001b[0;32m----> 1\u001b[0;31m \u001b[0;32massert\u001b[0m \u001b[0;36m1\u001b[0m \u001b[0;34m==\u001b[0m \u001b[0;36m0\u001b[0m\u001b[0;34m\u001b[0m\u001b[0;34m\u001b[0m\u001b[0m\n\u001b[0m",
      "\u001b[0;31mAssertionError\u001b[0m: "
     ]
    }
   ],
   "source": [
    "assert 1 == 0"
   ]
  },
  {
   "cell_type": "markdown",
   "metadata": {},
   "source": [
    "Также мы можем передать дополнительную строку в сам объект AssertionError."
   ]
  },
  {
   "cell_type": "code",
   "execution_count": 21,
   "metadata": {},
   "outputs": [
    {
     "ename": "AssertionError",
     "evalue": "1 не равен 0",
     "output_type": "error",
     "traceback": [
      "\u001b[0;31m---------------------------------------------------------------------------\u001b[0m",
      "\u001b[0;31mAssertionError\u001b[0m                            Traceback (most recent call last)",
      "\u001b[0;32m<ipython-input-21-e2b654902c90>\u001b[0m in \u001b[0;36m<module>\u001b[0;34m()\u001b[0m\n\u001b[0;32m----> 1\u001b[0;31m \u001b[0;32massert\u001b[0m \u001b[0;36m1\u001b[0m \u001b[0;34m==\u001b[0m \u001b[0;36m0\u001b[0m\u001b[0;34m,\u001b[0m \u001b[0;34m\"1 не равен 0\"\u001b[0m\u001b[0;34m\u001b[0m\u001b[0;34m\u001b[0m\u001b[0m\n\u001b[0m",
      "\u001b[0;31mAssertionError\u001b[0m: 1 не равен 0"
     ]
    }
   ],
   "source": [
    "assert 1 == 0, \"1 не равен 0\""
   ]
  },
  {
   "cell_type": "markdown",
   "metadata": {},
   "source": [
    "Предположим, у нас есть функция get_user_by_id, которая ищет пользователя по численному идентификатору. Убедиться в том, что нам действительно передали число, можно при помощи assert и функции isinstance. Если isinstance вернёт False, то будет сгенерирована AssertionError:"
   ]
  },
  {
   "cell_type": "code",
   "execution_count": 23,
   "metadata": {},
   "outputs": [
    {
     "ename": "AssertionError",
     "evalue": "id должен быть целым числом",
     "output_type": "error",
     "traceback": [
      "\u001b[0;31m---------------------------------------------------------------------------\u001b[0m",
      "\u001b[0;31mAssertionError\u001b[0m                            Traceback (most recent call last)",
      "\u001b[0;32m<ipython-input-23-15bc385365c3>\u001b[0m in \u001b[0;36m<module>\u001b[0;34m()\u001b[0m\n\u001b[1;32m      5\u001b[0m \u001b[0;34m\u001b[0m\u001b[0m\n\u001b[1;32m      6\u001b[0m \u001b[0;32mif\u001b[0m \u001b[0m__name__\u001b[0m \u001b[0;34m==\u001b[0m \u001b[0;34m\"__main__\"\u001b[0m\u001b[0;34m:\u001b[0m\u001b[0;34m\u001b[0m\u001b[0;34m\u001b[0m\u001b[0m\n\u001b[0;32m----> 7\u001b[0;31m     \u001b[0mget_user_by_id\u001b[0m\u001b[0;34m(\u001b[0m\u001b[0;34m\"foo\"\u001b[0m\u001b[0;34m)\u001b[0m\u001b[0;34m\u001b[0m\u001b[0;34m\u001b[0m\u001b[0m\n\u001b[0m",
      "\u001b[0;32m<ipython-input-23-15bc385365c3>\u001b[0m in \u001b[0;36mget_user_by_id\u001b[0;34m(id)\u001b[0m\n\u001b[1;32m      1\u001b[0m \u001b[0;32mdef\u001b[0m \u001b[0mget_user_by_id\u001b[0m\u001b[0;34m(\u001b[0m\u001b[0mid\u001b[0m\u001b[0;34m)\u001b[0m\u001b[0;34m:\u001b[0m\u001b[0;34m\u001b[0m\u001b[0;34m\u001b[0m\u001b[0m\n\u001b[0;32m----> 2\u001b[0;31m     \u001b[0;32massert\u001b[0m \u001b[0misinstance\u001b[0m\u001b[0;34m(\u001b[0m\u001b[0mid\u001b[0m\u001b[0;34m,\u001b[0m \u001b[0mint\u001b[0m\u001b[0;34m)\u001b[0m\u001b[0;34m,\u001b[0m \u001b[0;34m\"id должен быть целым числом\"\u001b[0m\u001b[0;34m\u001b[0m\u001b[0;34m\u001b[0m\u001b[0m\n\u001b[0m\u001b[1;32m      3\u001b[0m     \u001b[0mprint\u001b[0m\u001b[0;34m(\u001b[0m\u001b[0;34m\"выполняем поиск\"\u001b[0m\u001b[0;34m)\u001b[0m\u001b[0;34m\u001b[0m\u001b[0;34m\u001b[0m\u001b[0m\n\u001b[1;32m      4\u001b[0m \u001b[0;34m\u001b[0m\u001b[0m\n\u001b[1;32m      5\u001b[0m \u001b[0;34m\u001b[0m\u001b[0m\n",
      "\u001b[0;31mAssertionError\u001b[0m: id должен быть целым числом"
     ]
    }
   ],
   "source": [
    "def get_user_by_id(id):\n",
    "    assert isinstance(id, int), \"id должен быть целым числом\"   \n",
    "    print(\"выполняем поиск\")\n",
    "    \n",
    "\n",
    "if __name__ == \"__main__\":\n",
    "    get_user_by_id(\"foo\")"
   ]
  },
  {
   "cell_type": "markdown",
   "metadata": {},
   "source": [
    "Исключения AssertionError предназначены скорее для программистов. При написании наших программ на этапе разработки мы должны видеть, что делаем что-то не так (например, передали в функцию некорректное значение). Не нужно, например, обрабатывать пользовательский ввод и пытаться обработать исключение AssertionError блоком try except, это не корректно. Если таких мест будет очень много, то это затронет и производительность нашей программы.\n",
    "\n",
    "Однако, есть возможность отключить все инструкции assert при помощи флага −O:\n",
    "\n",
    "```bash\n",
    "python3 -O\n",
    "```\n",
    "\n",
    "Тогда AssertionError не будет сгенерирована. Этим и отличаются исключения AssertionError от обычных пользовательских исключений и исключений стандартной библиотеки."
   ]
  },
  {
   "cell_type": "markdown",
   "metadata": {},
   "source": [
    "#### Производительность исключений\n",
    "\n",
    "Несмотря на то, что механизм обработки исключений очень удобен, он не \"бесплатен\". Рассмотрим пример: в цикле мы обращаемся к несуществующему ключу словаря и каждый раз при этом обращении генерируется исключение KeyError. Попробуем при помощи timeit замерить, сколько это займет:"
   ]
  },
  {
   "cell_type": "code",
   "execution_count": 24,
   "metadata": {},
   "outputs": [
    {
     "name": "stdout",
     "output_type": "stream",
     "text": [
      "1000 loops, best of 3: 211 µs per loop\n"
     ]
    }
   ],
   "source": [
    "%%timeit\n",
    "my_dict = {\"foo\": 1}\n",
    "for _ in range(1000):\n",
    "    try:\n",
    "        my_dict[\"bar\"]\n",
    "    except KeyError:\n",
    "        pass"
   ]
  },
  {
   "cell_type": "markdown",
   "metadata": {},
   "source": [
    "Если мы попробуем реализовать ту же самую задачу, но без использования исключений (например, при помощи конструкции in), мы увидим, что результат отличается на порядок (а иногда он может отличаться и на несколько порядков):"
   ]
  },
  {
   "cell_type": "code",
   "execution_count": 25,
   "metadata": {},
   "outputs": [
    {
     "name": "stdout",
     "output_type": "stream",
     "text": [
      "10000 loops, best of 3: 34.3 µs per loop\n"
     ]
    }
   ],
   "source": [
    "%%timeit\n",
    "my_dict = {\"foo\": 1}\n",
    "for _ in range(1000):\n",
    "    if \"bar\" in my_dict:\n",
    "        _ = my_dict[\"bar\"]"
   ]
  },
  {
   "cell_type": "markdown",
   "metadata": {},
   "source": [
    "Вывод: если исключения генерируются в программе очень часто, возможно, следует изменить код вашей программы, чтобы не потерять в производительности."
   ]
  },
  {
   "cell_type": "markdown",
   "metadata": {},
   "source": [
    "### 3.3.3. Исключения в requests, пример\n",
    "\n",
    "Рассмотрим теперь, как устроены пользовательские исключения в библиотеке requests.\n",
    "\n",
    "Напишем для примера программу, которая на вход принимает адрес в интернете, выполняет скачивание содержимого страницы и выводит его на стандартный вывод. Эта программа будет обрабатывать исключения, которые могут возникнуть.\n",
    "\n",
    "Можно посмотреть, какие исключения вообще есть в библиотеке requests. Для этого импортируем её и посмотрим, где находятся её файлы:"
   ]
  },
  {
   "cell_type": "code",
   "execution_count": 26,
   "metadata": {},
   "outputs": [
    {
     "data": {
      "text/plain": [
       "'/usr/lib/python3/dist-packages/requests/__init__.py'"
      ]
     },
     "execution_count": 26,
     "metadata": {},
     "output_type": "execute_result"
    }
   ],
   "source": [
    "import requests\n",
    "requests.__file__"
   ]
  },
  {
   "cell_type": "markdown",
   "metadata": {},
   "source": [
    "В этой же директории можем найти файл exceptions.py. Открыв его, увидим, что все исключения наследуют базовый класс RequestException.\n",
    "\n",
    "```python\n",
    "# -*- coding: utf-8 -*-\n",
    "\n",
    "\"\"\"\n",
    "requests.exceptions\n",
    "~~~~~~~~~~~~~~~~~~~\n",
    "\n",
    "This module contains the set of Requests' exceptions.\n",
    "\"\"\"\n",
    "from urllib3.exceptions import HTTPError as BaseHTTPError\n",
    "\n",
    "\n",
    "class RequestException(IOError):\n",
    "    \"\"\"There was an ambiguous exception that occurred while handling your\n",
    "    request.\n",
    "    \"\"\"\n",
    "\n",
    "    def __init__(self, *args, **kwargs):\n",
    "        \"\"\"Initialize RequestException with `request` and `response` objects.\"\"\"\n",
    "        response = kwargs.pop('response', None)\n",
    "        self.response = response\n",
    "        self.request = kwargs.pop('request', None)\n",
    "        if (response is not None and not self.request and\n",
    "                hasattr(response, 'request')):\n",
    "            self.request = self.response.request\n",
    "        super(RequestException, self).__init__(*args, **kwargs)\n",
    "\n",
    "\n",
    "class HTTPError(RequestException):\n",
    "    \"\"\"An HTTP error occurred.\"\"\"\n",
    "\n",
    "\n",
    "class ConnectionError(RequestException):\n",
    "    \"\"\"A Connection error occurred.\"\"\"\n",
    "\n",
    "\n",
    "class ProxyError(ConnectionError):\n",
    "    \"\"\"A proxy error occurred.\"\"\"\n",
    "\n",
    "\n",
    "class SSLError(ConnectionError):\n",
    "    \"\"\"An SSL error occurred.\"\"\"\n",
    "\n",
    "\n",
    "class Timeout(RequestException):\n",
    "    \"\"\"The request timed out.\n",
    "\n",
    "    Catching this error will catch both\n",
    "    :exc:`~requests.exceptions.ConnectTimeout` and\n",
    "    :exc:`~requests.exceptions.ReadTimeout` errors.\n",
    "    \"\"\"\n",
    "\n",
    "\n",
    "class ConnectTimeout(ConnectionError, Timeout):\n",
    "    \"\"\"The request timed out while trying to connect to the remote server.\n",
    "\n",
    "    Requests that produced this error are safe to retry.\n",
    "    \"\"\"\n",
    "\n",
    "\n",
    "class ReadTimeout(Timeout):\n",
    "    \"\"\"The server did not send any data in the allotted amount of time.\"\"\"\n",
    "\n",
    "\n",
    "class URLRequired(RequestException):\n",
    "    \"\"\"A valid URL is required to make a request.\"\"\"\n",
    "\n",
    "\n",
    "class TooManyRedirects(RequestException):\n",
    "    \"\"\"Too many redirects.\"\"\"\n",
    "\n",
    "\n",
    "class MissingSchema(RequestException, ValueError):\n",
    "    \"\"\"The URL schema (e.g. http or https) is missing.\"\"\"\n",
    "\n",
    "\n",
    "class InvalidSchema(RequestException, ValueError):\n",
    "    \"\"\"See defaults.py for valid schemas.\"\"\"\n",
    "\n",
    "\n",
    "class InvalidURL(RequestException, ValueError):\n",
    "    \"\"\"The URL provided was somehow invalid.\"\"\"\n",
    "\n",
    "\n",
    "class InvalidHeader(RequestException, ValueError):\n",
    "    \"\"\"The header value provided was somehow invalid.\"\"\"\n",
    "\n",
    "\n",
    "class ChunkedEncodingError(RequestException):\n",
    "    \"\"\"The server declared chunked encoding but sent an invalid chunk.\"\"\"\n",
    "\n",
    "\n",
    "class ContentDecodingError(RequestException, BaseHTTPError):\n",
    "    \"\"\"Failed to decode response content\"\"\"\n",
    "\n",
    "\n",
    "class StreamConsumedError(RequestException, TypeError):\n",
    "    \"\"\"The content for this response was already consumed\"\"\"\n",
    "\n",
    "\n",
    "class RetryError(RequestException):\n",
    "    \"\"\"Custom retries logic failed\"\"\"\n",
    "\n",
    "\n",
    "class UnrewindableBodyError(RequestException):\n",
    "    \"\"\"Requests encountered an error when trying to rewind a body\"\"\"\n",
    "\n",
    "# Warnings\n",
    "\n",
    "\n",
    "class RequestsWarning(Warning):\n",
    "    \"\"\"Base warning for Requests.\"\"\"\n",
    "    pass\n",
    "\n",
    "\n",
    "class FileModeWarning(RequestsWarning, DeprecationWarning):\n",
    "    \"\"\"A file was opened in text mode, but Requests determined its binary length.\"\"\"\n",
    "    pass\n",
    "\n",
    "\n",
    "class RequestsDependencyWarning(RequestsWarning):\n",
    "    \"\"\"An imported dependency doesn't match the expected version range.\"\"\"\n",
    "    pass\n",
    "```\n",
    "\n",
    "Напишем каркас программы:"
   ]
  },
  {
   "cell_type": "code",
   "execution_count": 38,
   "metadata": {},
   "outputs": [
    {
     "ename": "ConnectionError",
     "evalue": "HTTPSConnectionPool(host='github-not-found.com', port=443): Max retries exceeded with url: / (Caused by NewConnectionError('<urllib3.connection.VerifiedHTTPSConnection object at 0x7f06e047f8d0>: Failed to establish a new connection: [Errno -2] Name or service not known',))",
     "output_type": "error",
     "traceback": [
      "\u001b[0;31m---------------------------------------------------------------------------\u001b[0m",
      "\u001b[0;31mgaierror\u001b[0m                                  Traceback (most recent call last)",
      "\u001b[0;32m/usr/lib/python3/dist-packages/urllib3/connection.py\u001b[0m in \u001b[0;36m_new_conn\u001b[0;34m(self)\u001b[0m\n\u001b[1;32m    140\u001b[0m             conn = connection.create_connection(\n\u001b[0;32m--> 141\u001b[0;31m                 (self.host, self.port), self.timeout, **extra_kw)\n\u001b[0m\u001b[1;32m    142\u001b[0m \u001b[0;34m\u001b[0m\u001b[0m\n",
      "\u001b[0;32m/usr/lib/python3/dist-packages/urllib3/util/connection.py\u001b[0m in \u001b[0;36mcreate_connection\u001b[0;34m(address, timeout, source_address, socket_options)\u001b[0m\n\u001b[1;32m     59\u001b[0m \u001b[0;34m\u001b[0m\u001b[0m\n\u001b[0;32m---> 60\u001b[0;31m     \u001b[0;32mfor\u001b[0m \u001b[0mres\u001b[0m \u001b[0;32min\u001b[0m \u001b[0msocket\u001b[0m\u001b[0;34m.\u001b[0m\u001b[0mgetaddrinfo\u001b[0m\u001b[0;34m(\u001b[0m\u001b[0mhost\u001b[0m\u001b[0;34m,\u001b[0m \u001b[0mport\u001b[0m\u001b[0;34m,\u001b[0m \u001b[0mfamily\u001b[0m\u001b[0;34m,\u001b[0m \u001b[0msocket\u001b[0m\u001b[0;34m.\u001b[0m\u001b[0mSOCK_STREAM\u001b[0m\u001b[0;34m)\u001b[0m\u001b[0;34m:\u001b[0m\u001b[0;34m\u001b[0m\u001b[0;34m\u001b[0m\u001b[0m\n\u001b[0m\u001b[1;32m     61\u001b[0m         \u001b[0maf\u001b[0m\u001b[0;34m,\u001b[0m \u001b[0msocktype\u001b[0m\u001b[0;34m,\u001b[0m \u001b[0mproto\u001b[0m\u001b[0;34m,\u001b[0m \u001b[0mcanonname\u001b[0m\u001b[0;34m,\u001b[0m \u001b[0msa\u001b[0m \u001b[0;34m=\u001b[0m \u001b[0mres\u001b[0m\u001b[0;34m\u001b[0m\u001b[0;34m\u001b[0m\u001b[0m\n",
      "\u001b[0;32m/usr/lib/python3.6/socket.py\u001b[0m in \u001b[0;36mgetaddrinfo\u001b[0;34m(host, port, family, type, proto, flags)\u001b[0m\n\u001b[1;32m    744\u001b[0m     \u001b[0maddrlist\u001b[0m \u001b[0;34m=\u001b[0m \u001b[0;34m[\u001b[0m\u001b[0;34m]\u001b[0m\u001b[0;34m\u001b[0m\u001b[0;34m\u001b[0m\u001b[0m\n\u001b[0;32m--> 745\u001b[0;31m     \u001b[0;32mfor\u001b[0m \u001b[0mres\u001b[0m \u001b[0;32min\u001b[0m \u001b[0m_socket\u001b[0m\u001b[0;34m.\u001b[0m\u001b[0mgetaddrinfo\u001b[0m\u001b[0;34m(\u001b[0m\u001b[0mhost\u001b[0m\u001b[0;34m,\u001b[0m \u001b[0mport\u001b[0m\u001b[0;34m,\u001b[0m \u001b[0mfamily\u001b[0m\u001b[0;34m,\u001b[0m \u001b[0mtype\u001b[0m\u001b[0;34m,\u001b[0m \u001b[0mproto\u001b[0m\u001b[0;34m,\u001b[0m \u001b[0mflags\u001b[0m\u001b[0;34m)\u001b[0m\u001b[0;34m:\u001b[0m\u001b[0;34m\u001b[0m\u001b[0;34m\u001b[0m\u001b[0m\n\u001b[0m\u001b[1;32m    746\u001b[0m         \u001b[0maf\u001b[0m\u001b[0;34m,\u001b[0m \u001b[0msocktype\u001b[0m\u001b[0;34m,\u001b[0m \u001b[0mproto\u001b[0m\u001b[0;34m,\u001b[0m \u001b[0mcanonname\u001b[0m\u001b[0;34m,\u001b[0m \u001b[0msa\u001b[0m \u001b[0;34m=\u001b[0m \u001b[0mres\u001b[0m\u001b[0;34m\u001b[0m\u001b[0;34m\u001b[0m\u001b[0m\n",
      "\u001b[0;31mgaierror\u001b[0m: [Errno -2] Name or service not known",
      "\nDuring handling of the above exception, another exception occurred:\n",
      "\u001b[0;31mNewConnectionError\u001b[0m                        Traceback (most recent call last)",
      "\u001b[0;32m/usr/lib/python3/dist-packages/urllib3/connectionpool.py\u001b[0m in \u001b[0;36murlopen\u001b[0;34m(self, method, url, body, headers, retries, redirect, assert_same_host, timeout, pool_timeout, release_conn, chunked, body_pos, **response_kw)\u001b[0m\n\u001b[1;32m    600\u001b[0m                                                   \u001b[0mbody\u001b[0m\u001b[0;34m=\u001b[0m\u001b[0mbody\u001b[0m\u001b[0;34m,\u001b[0m \u001b[0mheaders\u001b[0m\u001b[0;34m=\u001b[0m\u001b[0mheaders\u001b[0m\u001b[0;34m,\u001b[0m\u001b[0;34m\u001b[0m\u001b[0;34m\u001b[0m\u001b[0m\n\u001b[0;32m--> 601\u001b[0;31m                                                   chunked=chunked)\n\u001b[0m\u001b[1;32m    602\u001b[0m \u001b[0;34m\u001b[0m\u001b[0m\n",
      "\u001b[0;32m/usr/lib/python3/dist-packages/urllib3/connectionpool.py\u001b[0m in \u001b[0;36m_make_request\u001b[0;34m(self, conn, method, url, timeout, chunked, **httplib_request_kw)\u001b[0m\n\u001b[1;32m    345\u001b[0m         \u001b[0;32mtry\u001b[0m\u001b[0;34m:\u001b[0m\u001b[0;34m\u001b[0m\u001b[0;34m\u001b[0m\u001b[0m\n\u001b[0;32m--> 346\u001b[0;31m             \u001b[0mself\u001b[0m\u001b[0;34m.\u001b[0m\u001b[0m_validate_conn\u001b[0m\u001b[0;34m(\u001b[0m\u001b[0mconn\u001b[0m\u001b[0;34m)\u001b[0m\u001b[0;34m\u001b[0m\u001b[0;34m\u001b[0m\u001b[0m\n\u001b[0m\u001b[1;32m    347\u001b[0m         \u001b[0;32mexcept\u001b[0m \u001b[0;34m(\u001b[0m\u001b[0mSocketTimeout\u001b[0m\u001b[0;34m,\u001b[0m \u001b[0mBaseSSLError\u001b[0m\u001b[0;34m)\u001b[0m \u001b[0;32mas\u001b[0m \u001b[0me\u001b[0m\u001b[0;34m:\u001b[0m\u001b[0;34m\u001b[0m\u001b[0;34m\u001b[0m\u001b[0m\n",
      "\u001b[0;32m/usr/lib/python3/dist-packages/urllib3/connectionpool.py\u001b[0m in \u001b[0;36m_validate_conn\u001b[0;34m(self, conn)\u001b[0m\n\u001b[1;32m    851\u001b[0m         \u001b[0;32mif\u001b[0m \u001b[0;32mnot\u001b[0m \u001b[0mgetattr\u001b[0m\u001b[0;34m(\u001b[0m\u001b[0mconn\u001b[0m\u001b[0;34m,\u001b[0m \u001b[0;34m'sock'\u001b[0m\u001b[0;34m,\u001b[0m \u001b[0;32mNone\u001b[0m\u001b[0;34m)\u001b[0m\u001b[0;34m:\u001b[0m  \u001b[0;31m# AppEngine might not have  `.sock`\u001b[0m\u001b[0;34m\u001b[0m\u001b[0;34m\u001b[0m\u001b[0m\n\u001b[0;32m--> 852\u001b[0;31m             \u001b[0mconn\u001b[0m\u001b[0;34m.\u001b[0m\u001b[0mconnect\u001b[0m\u001b[0;34m(\u001b[0m\u001b[0;34m)\u001b[0m\u001b[0;34m\u001b[0m\u001b[0;34m\u001b[0m\u001b[0m\n\u001b[0m\u001b[1;32m    853\u001b[0m \u001b[0;34m\u001b[0m\u001b[0m\n",
      "\u001b[0;32m/usr/lib/python3/dist-packages/urllib3/connection.py\u001b[0m in \u001b[0;36mconnect\u001b[0;34m(self)\u001b[0m\n\u001b[1;32m    283\u001b[0m         \u001b[0;31m# Add certificate verification\u001b[0m\u001b[0;34m\u001b[0m\u001b[0;34m\u001b[0m\u001b[0;34m\u001b[0m\u001b[0m\n\u001b[0;32m--> 284\u001b[0;31m         \u001b[0mconn\u001b[0m \u001b[0;34m=\u001b[0m \u001b[0mself\u001b[0m\u001b[0;34m.\u001b[0m\u001b[0m_new_conn\u001b[0m\u001b[0;34m(\u001b[0m\u001b[0;34m)\u001b[0m\u001b[0;34m\u001b[0m\u001b[0;34m\u001b[0m\u001b[0m\n\u001b[0m\u001b[1;32m    285\u001b[0m \u001b[0;34m\u001b[0m\u001b[0m\n",
      "\u001b[0;32m/usr/lib/python3/dist-packages/urllib3/connection.py\u001b[0m in \u001b[0;36m_new_conn\u001b[0;34m(self)\u001b[0m\n\u001b[1;32m    149\u001b[0m             raise NewConnectionError(\n\u001b[0;32m--> 150\u001b[0;31m                 self, \"Failed to establish a new connection: %s\" % e)\n\u001b[0m\u001b[1;32m    151\u001b[0m \u001b[0;34m\u001b[0m\u001b[0m\n",
      "\u001b[0;31mNewConnectionError\u001b[0m: <urllib3.connection.VerifiedHTTPSConnection object at 0x7f06e047f8d0>: Failed to establish a new connection: [Errno -2] Name or service not known",
      "\nDuring handling of the above exception, another exception occurred:\n",
      "\u001b[0;31mMaxRetryError\u001b[0m                             Traceback (most recent call last)",
      "\u001b[0;32m/usr/lib/python3/dist-packages/requests/adapters.py\u001b[0m in \u001b[0;36msend\u001b[0;34m(self, request, stream, timeout, verify, cert, proxies)\u001b[0m\n\u001b[1;32m    439\u001b[0m                     \u001b[0mretries\u001b[0m\u001b[0;34m=\u001b[0m\u001b[0mself\u001b[0m\u001b[0;34m.\u001b[0m\u001b[0mmax_retries\u001b[0m\u001b[0;34m,\u001b[0m\u001b[0;34m\u001b[0m\u001b[0;34m\u001b[0m\u001b[0m\n\u001b[0;32m--> 440\u001b[0;31m                     \u001b[0mtimeout\u001b[0m\u001b[0;34m=\u001b[0m\u001b[0mtimeout\u001b[0m\u001b[0;34m\u001b[0m\u001b[0;34m\u001b[0m\u001b[0m\n\u001b[0m\u001b[1;32m    441\u001b[0m                 )\n",
      "\u001b[0;32m/usr/lib/python3/dist-packages/urllib3/connectionpool.py\u001b[0m in \u001b[0;36murlopen\u001b[0;34m(self, method, url, body, headers, retries, redirect, assert_same_host, timeout, pool_timeout, release_conn, chunked, body_pos, **response_kw)\u001b[0m\n\u001b[1;32m    638\u001b[0m             retries = retries.increment(method, url, error=e, _pool=self,\n\u001b[0;32m--> 639\u001b[0;31m                                         _stacktrace=sys.exc_info()[2])\n\u001b[0m\u001b[1;32m    640\u001b[0m             \u001b[0mretries\u001b[0m\u001b[0;34m.\u001b[0m\u001b[0msleep\u001b[0m\u001b[0;34m(\u001b[0m\u001b[0;34m)\u001b[0m\u001b[0;34m\u001b[0m\u001b[0;34m\u001b[0m\u001b[0m\n",
      "\u001b[0;32m/usr/lib/python3/dist-packages/urllib3/util/retry.py\u001b[0m in \u001b[0;36mincrement\u001b[0;34m(self, method, url, response, error, _pool, _stacktrace)\u001b[0m\n\u001b[1;32m    397\u001b[0m         \u001b[0;32mif\u001b[0m \u001b[0mnew_retry\u001b[0m\u001b[0;34m.\u001b[0m\u001b[0mis_exhausted\u001b[0m\u001b[0;34m(\u001b[0m\u001b[0;34m)\u001b[0m\u001b[0;34m:\u001b[0m\u001b[0;34m\u001b[0m\u001b[0;34m\u001b[0m\u001b[0m\n\u001b[0;32m--> 398\u001b[0;31m             \u001b[0;32mraise\u001b[0m \u001b[0mMaxRetryError\u001b[0m\u001b[0;34m(\u001b[0m\u001b[0m_pool\u001b[0m\u001b[0;34m,\u001b[0m \u001b[0murl\u001b[0m\u001b[0;34m,\u001b[0m \u001b[0merror\u001b[0m \u001b[0;32mor\u001b[0m \u001b[0mResponseError\u001b[0m\u001b[0;34m(\u001b[0m\u001b[0mcause\u001b[0m\u001b[0;34m)\u001b[0m\u001b[0;34m)\u001b[0m\u001b[0;34m\u001b[0m\u001b[0;34m\u001b[0m\u001b[0m\n\u001b[0m\u001b[1;32m    399\u001b[0m \u001b[0;34m\u001b[0m\u001b[0m\n",
      "\u001b[0;31mMaxRetryError\u001b[0m: HTTPSConnectionPool(host='github-not-found.com', port=443): Max retries exceeded with url: / (Caused by NewConnectionError('<urllib3.connection.VerifiedHTTPSConnection object at 0x7f06e047f8d0>: Failed to establish a new connection: [Errno -2] Name or service not known',))",
      "\nDuring handling of the above exception, another exception occurred:\n",
      "\u001b[0;31mConnectionError\u001b[0m                           Traceback (most recent call last)",
      "\u001b[0;32m<ipython-input-38-97c587b9e74b>\u001b[0m in \u001b[0;36m<module>\u001b[0;34m()\u001b[0m\n\u001b[1;32m      1\u001b[0m \u001b[0murl\u001b[0m \u001b[0;34m=\u001b[0m \u001b[0;34m\"https://github-not-found.com\"\u001b[0m\u001b[0;34m\u001b[0m\u001b[0;34m\u001b[0m\u001b[0m\n\u001b[0;32m----> 2\u001b[0;31m \u001b[0mresponse\u001b[0m \u001b[0;34m=\u001b[0m \u001b[0mrequests\u001b[0m\u001b[0;34m.\u001b[0m\u001b[0mget\u001b[0m\u001b[0;34m(\u001b[0m\u001b[0murl\u001b[0m\u001b[0;34m)\u001b[0m\u001b[0;34m\u001b[0m\u001b[0;34m\u001b[0m\u001b[0m\n\u001b[0m",
      "\u001b[0;32m/usr/lib/python3/dist-packages/requests/api.py\u001b[0m in \u001b[0;36mget\u001b[0;34m(url, params, **kwargs)\u001b[0m\n\u001b[1;32m     70\u001b[0m \u001b[0;34m\u001b[0m\u001b[0m\n\u001b[1;32m     71\u001b[0m     \u001b[0mkwargs\u001b[0m\u001b[0;34m.\u001b[0m\u001b[0msetdefault\u001b[0m\u001b[0;34m(\u001b[0m\u001b[0;34m'allow_redirects'\u001b[0m\u001b[0;34m,\u001b[0m \u001b[0;32mTrue\u001b[0m\u001b[0;34m)\u001b[0m\u001b[0;34m\u001b[0m\u001b[0;34m\u001b[0m\u001b[0m\n\u001b[0;32m---> 72\u001b[0;31m     \u001b[0;32mreturn\u001b[0m \u001b[0mrequest\u001b[0m\u001b[0;34m(\u001b[0m\u001b[0;34m'get'\u001b[0m\u001b[0;34m,\u001b[0m \u001b[0murl\u001b[0m\u001b[0;34m,\u001b[0m \u001b[0mparams\u001b[0m\u001b[0;34m=\u001b[0m\u001b[0mparams\u001b[0m\u001b[0;34m,\u001b[0m \u001b[0;34m**\u001b[0m\u001b[0mkwargs\u001b[0m\u001b[0;34m)\u001b[0m\u001b[0;34m\u001b[0m\u001b[0;34m\u001b[0m\u001b[0m\n\u001b[0m\u001b[1;32m     73\u001b[0m \u001b[0;34m\u001b[0m\u001b[0m\n\u001b[1;32m     74\u001b[0m \u001b[0;34m\u001b[0m\u001b[0m\n",
      "\u001b[0;32m/usr/lib/python3/dist-packages/requests/api.py\u001b[0m in \u001b[0;36mrequest\u001b[0;34m(method, url, **kwargs)\u001b[0m\n\u001b[1;32m     56\u001b[0m     \u001b[0;31m# cases, and look like a memory leak in others.\u001b[0m\u001b[0;34m\u001b[0m\u001b[0;34m\u001b[0m\u001b[0;34m\u001b[0m\u001b[0m\n\u001b[1;32m     57\u001b[0m     \u001b[0;32mwith\u001b[0m \u001b[0msessions\u001b[0m\u001b[0;34m.\u001b[0m\u001b[0mSession\u001b[0m\u001b[0;34m(\u001b[0m\u001b[0;34m)\u001b[0m \u001b[0;32mas\u001b[0m \u001b[0msession\u001b[0m\u001b[0;34m:\u001b[0m\u001b[0;34m\u001b[0m\u001b[0;34m\u001b[0m\u001b[0m\n\u001b[0;32m---> 58\u001b[0;31m         \u001b[0;32mreturn\u001b[0m \u001b[0msession\u001b[0m\u001b[0;34m.\u001b[0m\u001b[0mrequest\u001b[0m\u001b[0;34m(\u001b[0m\u001b[0mmethod\u001b[0m\u001b[0;34m=\u001b[0m\u001b[0mmethod\u001b[0m\u001b[0;34m,\u001b[0m \u001b[0murl\u001b[0m\u001b[0;34m=\u001b[0m\u001b[0murl\u001b[0m\u001b[0;34m,\u001b[0m \u001b[0;34m**\u001b[0m\u001b[0mkwargs\u001b[0m\u001b[0;34m)\u001b[0m\u001b[0;34m\u001b[0m\u001b[0;34m\u001b[0m\u001b[0m\n\u001b[0m\u001b[1;32m     59\u001b[0m \u001b[0;34m\u001b[0m\u001b[0m\n\u001b[1;32m     60\u001b[0m \u001b[0;34m\u001b[0m\u001b[0m\n",
      "\u001b[0;32m/usr/lib/python3/dist-packages/requests/sessions.py\u001b[0m in \u001b[0;36mrequest\u001b[0;34m(self, method, url, params, data, headers, cookies, files, auth, timeout, allow_redirects, proxies, hooks, stream, verify, cert, json)\u001b[0m\n\u001b[1;32m    518\u001b[0m         }\n\u001b[1;32m    519\u001b[0m         \u001b[0msend_kwargs\u001b[0m\u001b[0;34m.\u001b[0m\u001b[0mupdate\u001b[0m\u001b[0;34m(\u001b[0m\u001b[0msettings\u001b[0m\u001b[0;34m)\u001b[0m\u001b[0;34m\u001b[0m\u001b[0;34m\u001b[0m\u001b[0m\n\u001b[0;32m--> 520\u001b[0;31m         \u001b[0mresp\u001b[0m \u001b[0;34m=\u001b[0m \u001b[0mself\u001b[0m\u001b[0;34m.\u001b[0m\u001b[0msend\u001b[0m\u001b[0;34m(\u001b[0m\u001b[0mprep\u001b[0m\u001b[0;34m,\u001b[0m \u001b[0;34m**\u001b[0m\u001b[0msend_kwargs\u001b[0m\u001b[0;34m)\u001b[0m\u001b[0;34m\u001b[0m\u001b[0;34m\u001b[0m\u001b[0m\n\u001b[0m\u001b[1;32m    521\u001b[0m \u001b[0;34m\u001b[0m\u001b[0m\n\u001b[1;32m    522\u001b[0m         \u001b[0;32mreturn\u001b[0m \u001b[0mresp\u001b[0m\u001b[0;34m\u001b[0m\u001b[0;34m\u001b[0m\u001b[0m\n",
      "\u001b[0;32m/usr/lib/python3/dist-packages/requests/sessions.py\u001b[0m in \u001b[0;36msend\u001b[0;34m(self, request, **kwargs)\u001b[0m\n\u001b[1;32m    628\u001b[0m \u001b[0;34m\u001b[0m\u001b[0m\n\u001b[1;32m    629\u001b[0m         \u001b[0;31m# Send the request\u001b[0m\u001b[0;34m\u001b[0m\u001b[0;34m\u001b[0m\u001b[0;34m\u001b[0m\u001b[0m\n\u001b[0;32m--> 630\u001b[0;31m         \u001b[0mr\u001b[0m \u001b[0;34m=\u001b[0m \u001b[0madapter\u001b[0m\u001b[0;34m.\u001b[0m\u001b[0msend\u001b[0m\u001b[0;34m(\u001b[0m\u001b[0mrequest\u001b[0m\u001b[0;34m,\u001b[0m \u001b[0;34m**\u001b[0m\u001b[0mkwargs\u001b[0m\u001b[0;34m)\u001b[0m\u001b[0;34m\u001b[0m\u001b[0;34m\u001b[0m\u001b[0m\n\u001b[0m\u001b[1;32m    631\u001b[0m \u001b[0;34m\u001b[0m\u001b[0m\n\u001b[1;32m    632\u001b[0m         \u001b[0;31m# Total elapsed time of the request (approximately)\u001b[0m\u001b[0;34m\u001b[0m\u001b[0;34m\u001b[0m\u001b[0;34m\u001b[0m\u001b[0m\n",
      "\u001b[0;32m/usr/lib/python3/dist-packages/requests/adapters.py\u001b[0m in \u001b[0;36msend\u001b[0;34m(self, request, stream, timeout, verify, cert, proxies)\u001b[0m\n\u001b[1;32m    506\u001b[0m                 \u001b[0;32mraise\u001b[0m \u001b[0mSSLError\u001b[0m\u001b[0;34m(\u001b[0m\u001b[0me\u001b[0m\u001b[0;34m,\u001b[0m \u001b[0mrequest\u001b[0m\u001b[0;34m=\u001b[0m\u001b[0mrequest\u001b[0m\u001b[0;34m)\u001b[0m\u001b[0;34m\u001b[0m\u001b[0;34m\u001b[0m\u001b[0m\n\u001b[1;32m    507\u001b[0m \u001b[0;34m\u001b[0m\u001b[0m\n\u001b[0;32m--> 508\u001b[0;31m             \u001b[0;32mraise\u001b[0m \u001b[0mConnectionError\u001b[0m\u001b[0;34m(\u001b[0m\u001b[0me\u001b[0m\u001b[0;34m,\u001b[0m \u001b[0mrequest\u001b[0m\u001b[0;34m=\u001b[0m\u001b[0mrequest\u001b[0m\u001b[0;34m)\u001b[0m\u001b[0;34m\u001b[0m\u001b[0;34m\u001b[0m\u001b[0m\n\u001b[0m\u001b[1;32m    509\u001b[0m \u001b[0;34m\u001b[0m\u001b[0m\n\u001b[1;32m    510\u001b[0m         \u001b[0;32mexcept\u001b[0m \u001b[0mClosedPoolError\u001b[0m \u001b[0;32mas\u001b[0m \u001b[0me\u001b[0m\u001b[0;34m:\u001b[0m\u001b[0;34m\u001b[0m\u001b[0;34m\u001b[0m\u001b[0m\n",
      "\u001b[0;31mConnectionError\u001b[0m: HTTPSConnectionPool(host='github-not-found.com', port=443): Max retries exceeded with url: / (Caused by NewConnectionError('<urllib3.connection.VerifiedHTTPSConnection object at 0x7f06e047f8d0>: Failed to establish a new connection: [Errno -2] Name or service not known',))"
     ]
    }
   ],
   "source": [
    "url = \"https://github-not-found.com\"\n",
    "response = requests.get(url)"
   ]
  },
  {
   "cell_type": "code",
   "execution_count": 37,
   "metadata": {},
   "outputs": [
    {
     "name": "stdout",
     "output_type": "stream",
     "text": [
      "HTTPSConnectionPool(host='github-not-found.com', port=443): Max retries exceeded with url: / (Caused by NewConnectionError('<urllib3.connection.VerifiedHTTPSConnection object at 0x7f06e04d5cf8>: Failed to establish a new connection: [Errno -2] Name or service not known',))\n"
     ]
    }
   ],
   "source": [
    "url = \"https://github-not-found.com\"\n",
    "try:\n",
    "    response = requests.get(url)\n",
    "except requests.RequestException as err:\n",
    "    print(err)"
   ]
  },
  {
   "cell_type": "markdown",
   "metadata": {},
   "source": [
    "Давайте зададим аргумент timeout для метода requests.get() и напишем обработку исключения Timeout (мы получим его, если не получим ответ в течение указанного времени). Также давайте обрабатывать исключение HTTPError (неправильный адрес) и все остальные исключения из библиотеки requests\n",
    "\n",
    "Напишем программу, которая скачивает URL и обрабатывает все нужные исключения, которые могут возникнуть при работе с библиотекой requests"
   ]
  },
  {
   "cell_type": "code",
   "execution_count": 36,
   "metadata": {},
   "outputs": [
    {
     "name": "stdout",
     "output_type": "stream",
     "text": [
      "ошибка url: https://github.com/not_found\n",
      "попробуйте позже timeout: 0.1\n",
      "ошибка url: https://github.com/not_found\n",
      "попробуйте позже timeout: 0.2\n",
      "ошибка url: https://github.com/not_found\n",
      "попробуйте позже timeout: 0.4\n",
      "ошибка url: https://github.com/not_found, code: 404\n",
      "404\n"
     ]
    },
    {
     "ename": "HTTPError",
     "evalue": "404 Client Error: Not Found for url: https://github.com/not_found",
     "output_type": "error",
     "traceback": [
      "\u001b[0;31m---------------------------------------------------------------------------\u001b[0m",
      "\u001b[0;31mHTTPError\u001b[0m                                 Traceback (most recent call last)",
      "\u001b[0;32m<ipython-input-36-6bf783b33f98>\u001b[0m in \u001b[0;36m<module>\u001b[0;34m()\u001b[0m\n\u001b[1;32m      8\u001b[0m         \u001b[0mresponse\u001b[0m \u001b[0;34m=\u001b[0m \u001b[0mrequests\u001b[0m\u001b[0;34m.\u001b[0m\u001b[0mget\u001b[0m\u001b[0;34m(\u001b[0m\u001b[0murl\u001b[0m\u001b[0;34m,\u001b[0m \u001b[0mtimeout\u001b[0m\u001b[0;34m=\u001b[0m\u001b[0mtimeout\u001b[0m\u001b[0;34m)\u001b[0m\u001b[0;34m\u001b[0m\u001b[0;34m\u001b[0m\u001b[0m\n\u001b[1;32m      9\u001b[0m \u001b[0;34m\u001b[0m\u001b[0m\n\u001b[0;32m---> 10\u001b[0;31m         \u001b[0mresponse\u001b[0m\u001b[0;34m.\u001b[0m\u001b[0mraise_for_status\u001b[0m\u001b[0;34m(\u001b[0m\u001b[0;34m)\u001b[0m\u001b[0;34m\u001b[0m\u001b[0;34m\u001b[0m\u001b[0m\n\u001b[0m\u001b[1;32m     11\u001b[0m         \u001b[0;32mbreak\u001b[0m\u001b[0;34m\u001b[0m\u001b[0;34m\u001b[0m\u001b[0m\n\u001b[1;32m     12\u001b[0m     \u001b[0;32mexcept\u001b[0m \u001b[0mrequests\u001b[0m\u001b[0;34m.\u001b[0m\u001b[0mTimeout\u001b[0m\u001b[0;34m:\u001b[0m\u001b[0;34m\u001b[0m\u001b[0;34m\u001b[0m\u001b[0m\n",
      "\u001b[0;32m/usr/lib/python3/dist-packages/requests/models.py\u001b[0m in \u001b[0;36mraise_for_status\u001b[0;34m(self)\u001b[0m\n\u001b[1;32m    933\u001b[0m \u001b[0;34m\u001b[0m\u001b[0m\n\u001b[1;32m    934\u001b[0m         \u001b[0;32mif\u001b[0m \u001b[0mhttp_error_msg\u001b[0m\u001b[0;34m:\u001b[0m\u001b[0;34m\u001b[0m\u001b[0;34m\u001b[0m\u001b[0m\n\u001b[0;32m--> 935\u001b[0;31m             \u001b[0;32mraise\u001b[0m \u001b[0mHTTPError\u001b[0m\u001b[0;34m(\u001b[0m\u001b[0mhttp_error_msg\u001b[0m\u001b[0;34m,\u001b[0m \u001b[0mresponse\u001b[0m\u001b[0;34m=\u001b[0m\u001b[0mself\u001b[0m\u001b[0;34m)\u001b[0m\u001b[0;34m\u001b[0m\u001b[0;34m\u001b[0m\u001b[0m\n\u001b[0m\u001b[1;32m    936\u001b[0m \u001b[0;34m\u001b[0m\u001b[0m\n\u001b[1;32m    937\u001b[0m     \u001b[0;32mdef\u001b[0m \u001b[0mclose\u001b[0m\u001b[0;34m(\u001b[0m\u001b[0mself\u001b[0m\u001b[0;34m)\u001b[0m\u001b[0;34m:\u001b[0m\u001b[0;34m\u001b[0m\u001b[0;34m\u001b[0m\u001b[0m\n",
      "\u001b[0;31mHTTPError\u001b[0m: 404 Client Error: Not Found for url: https://github.com/not_found"
     ]
    }
   ],
   "source": [
    "import requests\n",
    "import time\n",
    "\n",
    "url = \"https://github.com/not_found\"\n",
    "timeout = 0.1\n",
    "for _ in range(5): \n",
    "    try:\n",
    "        response = requests.get(url, timeout=timeout)\n",
    "        \n",
    "        response.raise_for_status()\n",
    "        break\n",
    "    # если запрос не успеет обработаться, то будет исключение\n",
    "    except requests.Timeout:\n",
    "        print(\"ошибка url:\", url)\n",
    "        print(\"попробуйте позже timeout:\", timeout)\n",
    "        timeout *= 2\n",
    "        time.sleep(timeout)\n",
    "    # если адрес не существует, то будет исключение\n",
    "    except requests.HTTPError as err:\n",
    "        code = err.response.status_code\n",
    "        print(\"ошибка url: {0}, code: {1}\".format(url, code))\n",
    "        print(err.response.status_code)\n",
    "        raise\n",
    "    # другие исключения\n",
    "    except requests.RequestException:\n",
    "        print(\"ошибка скачивания url: \", url)\n",
    "    else:\n",
    "        print(response.content)"
   ]
  },
  {
   "cell_type": "markdown",
   "metadata": {},
   "source": [
    "## Задание по программированию"
   ]
  },
  {
   "cell_type": "markdown",
   "metadata": {},
   "source": [
    "#### Реализация простого класса для чтения из файла\n",
    "\n",
    "Написать python-модуль solution.py, внутрь которого необходимо поместить код класса FileReader. Конструктор этого класса принимает один параметр: путь до файла на диске. В классе FileReader должен быть реализован метод read, возвращающий строку - содержимое файла, путь к которому был указан при создании экземпляра класса. Python модуль должен быть написан таким образом, чтобы импорт класса FileReader из него не вызвал ошибок.\n",
    "\n",
    "При написании реализации метода read, вам нужно учитывать случай, когда при инициализации был передан путь к несуществующему файлу. Требуется обработать возникающее при этом исключение FileNotFoundError и вернуть из метода read пустую строку.\n",
    "\n",
    "```python\n",
    "from solution import FileReader\n",
    "reader = FileReader('not_exist_file.txt')\n",
    "text = reader.read()\n",
    "text\n",
    "```\n",
    "\n",
    "''\n",
    "\n",
    "```python\n",
    "with open('some_file.txt', 'w') as file:\n",
    "    file.write('some text')\n",
    "reader = FileReader('some_file.txt')\n",
    "text = reader.read()\n",
    "text\n",
    "```\n",
    "\n",
    "'some text'\n",
    "\n",
    "```python\n",
    "type(reader)\n",
    "```\n",
    "\n",
    "<class 'solution.FileReader'>\n",
    "\n",
    "\n",
    "Решение:\n",
    "\n",
    "```python\n",
    "class FileReader:\n",
    "    def __init__(self, name):\n",
    "        self.file = name\n",
    "\n",
    "    def read(self):\n",
    "        try:\n",
    "            with open(self.file, 'r') as f:\n",
    "                return f.read()\n",
    "        except:\n",
    "            return ''\n",
    "```\n"
   ]
  },
  {
   "cell_type": "markdown",
   "metadata": {},
   "source": [
    "#### Классы и наследование\n",
    "\n",
    "Предположим есть данные о разных автомобилях и спецтехнике. Данные представлены в виде таблицы с характеристиками. Вся техника разделена на три вида: спецтехника, легковые и грузовые автомобили. Обратите внимание на то, что некоторые характеристики присущи только определенному виду техники. Например, у легковых автомобилей есть характеристика «кол-во пассажирских мест», а у грузовых автомобилей — габариты кузова: «длина», «ширина» и «высота».\n",
    "\n",
    "Вам необходимо создать свою иерархию классов для данных, которые описаны в таблице. Классы должны называться CarBase (базовый класс для всех типов машин), Car (легковые автомобили), Truck (грузовые автомобили) и SpecMachine (спецтехника). Все объекты имеют обязательные атрибуты:\n",
    "\n",
    "- car_type, значение типа объекта и может принимать одно из значений: «car», «truck», «spec_machine».\n",
    "\n",
    "- photo_file_name, имя файла с изображением машины, допустимы названия файлов изображений с расширением из списка: «.jpg», «.jpeg», «.png», «.gif»\n",
    "\n",
    "- brand, марка производителя машины\n",
    "\n",
    "- carrying, грузоподъемность\n",
    "\n",
    "В базовом классе CarBase нужно реализовать метод get_photo_file_ext для получения расширения файла изображения. Расширение файла можно получить при помощи os.path.splitext.\n",
    "\n",
    "Для грузового автомобиля необходимо в конструкторе класса определить атрибуты: body_length, body_width, body_height, отвечающие соответственно за габариты кузова — длину, ширину и высоту. Габариты передаются в параметре body_whl (строка, в которой размеры разделены латинской буквой «x»). Обратите внимание на то, что характеристики кузова должны быть вещественными числами и характеристики кузова могут быть не валидными (например, пустая строка). В таком случае всем атрибутам, отвечающим за габариты кузова, присваивается значение равное нулю.\n",
    "\n",
    "Также для класса грузового автомобиля необходимо реализовать метод get_body_volume, возвращающий объем кузова.\n",
    "\n",
    "В классе Car должен быть определен атрибут passenger_seats_count (количество пассажирских мест), а в классе SpecMachine — extra (дополнительное описание машины).\n",
    "\n",
    "Обратите внимание, что у каждого объекта из иерархии должен быть свой набор атрибутов и методов. Например, у класса легковой автомобиль не должно быть метода get_body_volume в отличие от класса грузового автомобиля. Имена атрибутов и методов должны совпадать с теми, что описаны выше.\n",
    "\n",
    "Далее вам необходимо реализовать функцию get_car_list, на вход которой подается имя файла в формате csv. Файл содержит данные, аналогичные строкам из таблицы. Вам необходимо прочитать этот файл построчно при помощи модуля стандартной библиотеки csv. Затем проанализировать строки на валидность и создать список объектов с автомобилями и специальной техникой. Функция должна возвращать список объектов.\n",
    "\n",
    "Первая строка в исходном файле — это заголовок csv, который содержит имена колонок. Нужно пропустить первую строку из исходного файла. Обратите внимание на то, что в некоторых строках исходного файла , данные могут быть заполнены некорректно, например, отсутствовать обязательные поля или иметь не валидное значение. В таком случае нужно проигнорировать подобные строки и не создавать объекты. Строки с пустым или не валидным значением для body_whl игнорироваться не должны.  Вы можете использовать стандартный механизм обработки исключений в процессе чтения, валидации и создания объектов из строк csv-файла. Проверьте работу вашего кода с входным файлом, прежде чем загружать задание для оценки.\n",
    "\n",
    "Пример кода, демонстрирующего чтение csv файла:\n",
    "\n",
    "```python\n",
    "import csv\n",
    "\n",
    "with open(csv_filename) as csv_fd:\n",
    "    reader = csv.reader(csv_fd, delimiter=';')\n",
    "    next(reader)  # пропускаем заголовок\n",
    "    for row in reader:\n",
    "        print(row)\n",
    "```\n",
    "\n",
    "Несколько примеров работы:\n",
    "\n",
    "```python\n",
    "from solution import *\n",
    "cars = get_car_list('cars_week3.csv')\n",
    "len(cars)\n",
    "```\n",
    "\n",
    "4\n",
    "\n",
    "```python\n",
    "for car in cars:\n",
    "    print(type(car))\n",
    "``` \n",
    "\n",
    "<class 'solution.Car'>\n",
    "<class 'solution.Truck'>\n",
    "<class 'solution.Truck'>\n",
    "<class 'solution.Car'>\n",
    "\n",
    "```python\n",
    "cars[0].passenger_seats_count\n",
    "```\n",
    "\n",
    "4\n",
    "\n",
    "```python\n",
    "cars[1].get_body_volume()\n",
    "```\n",
    "\n",
    "60.0\n",
    "\n",
    "Решение:\n",
    "\n",
    "```python\n",
    "import csv\n",
    "\n",
    "class CarBase:\n",
    "    def __init__(self, brand, photo, carry):\n",
    "        self.car_type = None\n",
    "        self.brand = brand\n",
    "        self.photo_file_name = photo\n",
    "        self.carrying = float(carry)\n",
    "        \n",
    "    def get_photo_file_ext(self):\n",
    "        return '.' + self.photo_file_name.rpartition('.')[-1]\n",
    "\n",
    "\n",
    "class Car(CarBase):\n",
    "    def __init__(self, brand, photo, carry, passengers):\n",
    "        super().__init__(brand, photo, carry)\n",
    "        self.car_type = 'car'\n",
    "        self.passenger_seats_count = int(passengers) if passengers else 0\n",
    "\n",
    "\n",
    "class Truck(CarBase):\n",
    "    def __init__(self, brand, photo, carry, body_whl=''):\n",
    "        super().__init__(brand, photo, carry)\n",
    "        self.car_type = 'truck'\n",
    "        try:\n",
    "            self.body_length, self.body_width, self.body_height = \\\n",
    "                (float(i) if i else 0.0 for i in body_whl.split('x'))\n",
    "        except:\n",
    "            self.body_length = self.body_width = self.body_height = 0.0\n",
    "\n",
    "    def get_body_volume(self):\n",
    "        return self.body_width * self.body_height * self.body_length\n",
    "\n",
    "\n",
    "class SpecMachine(CarBase):\n",
    "    def __init__(self, brand, photo, carry, extra):\n",
    "        super().__init__(brand, photo, carry)\n",
    "        self.car_type = 'spec_machine'\n",
    "        self.extra = extra\n",
    "\n",
    "\n",
    "def analyzer(car):\n",
    "    if car[0] and car[1] and car[3] and car[5]:\n",
    "        if ('.' + car[3].rpartition('.')[-1]) in {'.jpg', '.jpeg', '.png', '.gif'}:\n",
    "            if car[0] == 'car' and car[2]:\n",
    "                res = Car(car[1], car[3], car[5], car[2])\n",
    "            elif car[0] == 'truck':\n",
    "                res = Truck(car[1], car[3], car[5], car[4])\n",
    "            elif car[0] == 'spec_machine' and car[6]:\n",
    "                res = SpecMachine(car[1], car[3], car[5], car[6])\n",
    "            else:\n",
    "                raise Exception\n",
    "        else:\n",
    "            raise Exception\n",
    "    else:\n",
    "        raise Exception\n",
    "    return res\n",
    "\n",
    "\n",
    "\n",
    "def get_car_list(csv_filename):  \n",
    "    l = []\n",
    "    with open(csv_filename, \"r\") as csv_fd:\n",
    "        reader = csv.reader(csv_fd, delimiter=';')\n",
    "        next(reader)\n",
    "        for row in reader:\n",
    "            try:\n",
    "                l.append(analyzer(row))#[0].split(',')))\n",
    "            except:\n",
    "                pass\n",
    "    return l\n",
    "\n",
    "```"
   ]
  },
  {
   "cell_type": "code",
   "execution_count": null,
   "metadata": {},
   "outputs": [],
   "source": []
  },
  {
   "cell_type": "code",
   "execution_count": null,
   "metadata": {},
   "outputs": [],
   "source": []
  }
 ],
 "metadata": {
  "kernelspec": {
   "display_name": "Python 3",
   "language": "python",
   "name": "python3"
  },
  "language_info": {
   "codemirror_mode": {
    "name": "ipython",
    "version": 3
   },
   "file_extension": ".py",
   "mimetype": "text/x-python",
   "name": "python",
   "nbconvert_exporter": "python",
   "pygments_lexer": "ipython3",
   "version": "3.6.9"
  }
 },
 "nbformat": 4,
 "nbformat_minor": 2
}
