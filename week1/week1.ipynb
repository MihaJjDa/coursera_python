{
 "cells": [
  {
   "cell_type": "markdown",
   "metadata": {},
   "source": [
    "# Неделя 1\n",
    "\n",
    "# Введение в Python"
   ]
  },
  {
   "cell_type": "markdown",
   "metadata": {},
   "source": [
    "## 1.1. Введение\n",
    "\n",
    "Python --- это простой, гибкий, популярный, и, что самое главное, востребованный язык программирования, на котором можно написать практически всё. Создавать веб-проекты, заниматься машинным обучением и анализом данных, автоматизировать задачи системного администрирования и многое другое. "
   ]
  },
  {
   "cell_type": "markdown",
   "metadata": {},
   "source": [
    "## 1.2. Первые шаги\n",
    "\n",
    "### 1.2.1. О языке\n",
    "В конце 80-х годов прошлого века сотрудник голландского центра математики и информатики Гвидо ван Россум решил создать свой собственный язык программирования, отличающийся простотой и выразительностью. В 1991 году он опубликовал исходники языка, который получил название Python --- в честь популярного телешоу «Летающий цирк Монти Пайтона». Гвидо удалось создать интерпретируемый язык с динамической типизацией и автоматической сборкой мусора, на котором по-настоящему приятно писать код. Также большим плюсом Python-а является то, что за годы существования языка для него было написано множество готовых библиотек на все случаи жизни.\n",
    "\n",
    "Важным событием в истории Python-а был момент, когда разработчики выпустили третью версию, обратно несовместимую со второй, чтобы решить некоторые архитектурные недостатки второй версии языка. Обратная несовместимость привела к тому, что до сих пор многие продакшн-системы используют Python версии 2. Тем не менее, в 2020-м году официальная поддержка Python 2 прекратится, поэтому новые проекты стоит начинать именно на Python 3. В курсе будет рассказано о Python 3, а именно --- Python 3.6.\n",
    "\n",
    "Стоит отметить, что Python --- это название спецификации языка, \n",
    "основная его реали зация написана на языке C и называется CPython. Есть и другие реализации спецификации языка, однако в данном курсе под словом Python имеется в виду именно реализация на C --- CPython. Исходный код CPython открыт и доступен по ссылке на github. Также проект Python имеет великолепную документацию с большим количеством примеров, доступную на официальном сайте.\n",
    "\n",
    "Установка Python 3:\n",
    "\n",
    "```bash\n",
    "sudo apt-get update\n",
    "sudo apt-get install python3.6\n",
    "```\n",
    "\n",
    "Редакторы:\n",
    "- vim\n",
    "- Pycharm\n",
    "    - Create new project\n",
    "    - Выбрать интерпретатор\n",
    "    - New → Python File\n",
    "    - Правая кнопка → Run"
   ]
  },
  {
   "cell_type": "markdown",
   "metadata": {},
   "source": [
    "### 1.2.2. Начинаем программировать\n",
    "Python --- интерпретируемый язык программирования, и для него есть интерактивный интерпретатор, доступный из командной строки. Для его запуска, нужно набрать в командной строке команду python или python3 (в зависимости от вашей системы и способа установки интерпретатора).\n",
    "В интерактивной оболочке Python-а можно быстро проверить какую-нибудь гипотезу, поэкспериментировать или просто воспользоваться ей как калькулятором. Также можно напечатать какую-нибудь строку, используя для этого встроенную функцию print:"
   ]
  },
  {
   "cell_type": "code",
   "execution_count": 1,
   "metadata": {},
   "outputs": [
    {
     "data": {
      "text/plain": [
       "2"
      ]
     },
     "execution_count": 1,
     "metadata": {},
     "output_type": "execute_result"
    }
   ],
   "source": [
    "1 + 1"
   ]
  },
  {
   "cell_type": "code",
   "execution_count": 2,
   "metadata": {},
   "outputs": [
    {
     "data": {
      "text/plain": [
       "0.5"
      ]
     },
     "execution_count": 2,
     "metadata": {},
     "output_type": "execute_result"
    }
   ],
   "source": [
    "1 / 2"
   ]
  },
  {
   "cell_type": "code",
   "execution_count": 3,
   "metadata": {},
   "outputs": [
    {
     "name": "stdout",
     "output_type": "stream",
     "text": [
      "Hey\n"
     ]
    }
   ],
   "source": [
    "print(\"Hey\")"
   ]
  },
  {
   "cell_type": "markdown",
   "metadata": {},
   "source": [
    "Чтобы получить справку по какой-либо функции, можно воспользоваться функцией help(), например, так:"
   ]
  },
  {
   "cell_type": "code",
   "execution_count": 4,
   "metadata": {},
   "outputs": [
    {
     "name": "stdout",
     "output_type": "stream",
     "text": [
      "Help on built-in function print in module builtins:\n",
      "\n",
      "print(...)\n",
      "    print(value, ..., sep=' ', end='\\n', file=sys.stdout, flush=False)\n",
      "    \n",
      "    Prints the values to a stream, or to sys.stdout by default.\n",
      "    Optional keyword arguments:\n",
      "    file:  a file-like object (stream); defaults to the current sys.stdout.\n",
      "    sep:   string inserted between values, default a space.\n",
      "    end:   string appended after the last value, default a newline.\n",
      "    flush: whether to forcibly flush the stream.\n",
      "\n"
     ]
    }
   ],
   "source": [
    "help(print)"
   ]
  },
  {
   "cell_type": "markdown",
   "metadata": {},
   "source": [
    "Чтобы выйти из интерпретатора:\n",
    "\n",
    "```python\n",
    "exit()\n",
    "```"
   ]
  },
  {
   "cell_type": "markdown",
   "metadata": {},
   "source": [
    "В реальных проектах код на Python-е пишут не в интерактивном интерпретаторе, а в файлах. Давайте создадим простейший файл, который будет содержать код на Python-е и запустим его интерпретатором Python. Файл должен иметь расширение .py (например, example.py). Внутри файла напишем простейшую инструкцию print(\"hello\") и сохраним его."
   ]
  },
  {
   "cell_type": "code",
   "execution_count": 5,
   "metadata": {},
   "outputs": [
    {
     "name": "stdout",
     "output_type": "stream",
     "text": [
      "Hello\n"
     ]
    }
   ],
   "source": [
    "print(\"Hello\") "
   ]
  },
  {
   "cell_type": "markdown",
   "metadata": {},
   "source": [
    "Исполним файл, набрав в командной строке:\n",
    "\n",
    "```bash\n",
    "python3 example.py\n",
    "```"
   ]
  },
  {
   "cell_type": "markdown",
   "metadata": {},
   "source": [
    "Неотъемлемой частью языка являются переменные. Переменная — это то, что позволяет сохранить результат выполнения выражения для того, чтобы использовать его в дальнейшем. Для того, чтобы объявить переменную, используют следующий код:"
   ]
  },
  {
   "cell_type": "code",
   "execution_count": 7,
   "metadata": {},
   "outputs": [
    {
     "data": {
      "text/plain": [
       "1"
      ]
     },
     "execution_count": 7,
     "metadata": {},
     "output_type": "execute_result"
    }
   ],
   "source": [
    "num = 1 # присвоили переменной num значение 1\n",
    "# знак = является оператором присваивания\n",
    "num"
   ]
  },
  {
   "cell_type": "code",
   "execution_count": 9,
   "metadata": {},
   "outputs": [
    {
     "data": {
      "text/plain": [
       "2"
      ]
     },
     "execution_count": 9,
     "metadata": {},
     "output_type": "execute_result"
    }
   ],
   "source": [
    "num = 2\n",
    "num"
   ]
  },
  {
   "cell_type": "code",
   "execution_count": 12,
   "metadata": {},
   "outputs": [
    {
     "data": {
      "text/plain": [
       "'hello'"
      ]
     },
     "execution_count": 12,
     "metadata": {},
     "output_type": "execute_result"
    }
   ],
   "source": [
    "num = \"hello\"\n",
    "num"
   ]
  },
  {
   "cell_type": "markdown",
   "metadata": {},
   "source": [
    "В любой момент переменной можно присвоить другое значение или значение другого типа.\n",
    "\n",
    "В Python имена переменных могут содержать буквы, цифры и символ нижнего подчеркивания. При этом начинаться переменная должна либо с буквы, либо с символа нижнего подчеркивания. Если переменная состоит из нескольких слов, её принято называть snake_case-ом."
   ]
  },
  {
   "cell_type": "code",
   "execution_count": 13,
   "metadata": {},
   "outputs": [
    {
     "data": {
      "text/plain": [
       "1"
      ]
     },
     "execution_count": 13,
     "metadata": {},
     "output_type": "execute_result"
    }
   ],
   "source": [
    "name = 1\n",
    "name"
   ]
  },
  {
   "cell_type": "code",
   "execution_count": 14,
   "metadata": {},
   "outputs": [
    {
     "data": {
      "text/plain": [
       "1"
      ]
     },
     "execution_count": 14,
     "metadata": {},
     "output_type": "execute_result"
    }
   ],
   "source": [
    "_name = 1\n",
    "_name"
   ]
  },
  {
   "cell_type": "code",
   "execution_count": 15,
   "metadata": {},
   "outputs": [
    {
     "ename": "SyntaxError",
     "evalue": "invalid syntax (<ipython-input-15-06edccf21f0c>, line 1)",
     "output_type": "error",
     "traceback": [
      "\u001b[0;36m  File \u001b[0;32m\"<ipython-input-15-06edccf21f0c>\"\u001b[0;36m, line \u001b[0;32m1\u001b[0m\n\u001b[0;31m    1name = 1\u001b[0m\n\u001b[0m        ^\u001b[0m\n\u001b[0;31mSyntaxError\u001b[0m\u001b[0;31m:\u001b[0m invalid syntax\n"
     ]
    }
   ],
   "source": [
    "1name = 1\n",
    "1name"
   ]
  },
  {
   "cell_type": "code",
   "execution_count": 16,
   "metadata": {},
   "outputs": [
    {
     "data": {
      "text/plain": [
       "'snake_case'"
      ]
     },
     "execution_count": 16,
     "metadata": {},
     "output_type": "execute_result"
    }
   ],
   "source": [
    "snake_case = \"snake_case\"\n",
    "snake_case"
   ]
  },
  {
   "cell_type": "code",
   "execution_count": 17,
   "metadata": {},
   "outputs": [
    {
     "data": {
      "text/plain": [
       "'Так не принято'"
      ]
     },
     "execution_count": 17,
     "metadata": {},
     "output_type": "execute_result"
    }
   ],
   "source": [
    "camelCase = \"Так не принято\"\n",
    "camelCase"
   ]
  },
  {
   "cell_type": "markdown",
   "metadata": {},
   "source": [
    "Блоки кода в Python-е отделяются с помощью отступов. Для примера напишем небольшую программу в интерактивном интерпретаторе, которая будет печатать на экран числа от 0 до 3. Блок кода внутри конструкции for отделён с помощью четырех пробелов."
   ]
  },
  {
   "cell_type": "code",
   "execution_count": 18,
   "metadata": {},
   "outputs": [
    {
     "name": "stdout",
     "output_type": "stream",
     "text": [
      "0\n",
      "1\n",
      "2\n",
      "3\n"
     ]
    }
   ],
   "source": [
    "for i in range(4):\n",
    "    print(i)"
   ]
  },
  {
   "cell_type": "markdown",
   "metadata": {},
   "source": [
    "Комментарии в Python-е пишутся с использованием специального символа #, после которого идёт текст комментария. В программах также встречаются многострочные комментарии:"
   ]
  },
  {
   "cell_type": "code",
   "execution_count": 19,
   "metadata": {},
   "outputs": [
    {
     "name": "stdout",
     "output_type": "stream",
     "text": [
      "Hello\n"
     ]
    },
    {
     "data": {
      "text/plain": [
       "' А это\\nмногострочный комментарий.\\n'"
      ]
     },
     "execution_count": 19,
     "metadata": {},
     "output_type": "execute_result"
    }
   ],
   "source": [
    "print(\"Hello\") # это комментарий\n",
    "\"\"\" А это\n",
    "многострочный комментарий.\n",
    "\"\"\""
   ]
  },
  {
   "cell_type": "markdown",
   "metadata": {},
   "source": [
    "Однако, многострочный комментарий не игнорируется интерпретатором Python. Это строковый литерал, который можно увидеть как часть документации функции или класса. Этот строковый литерал становится частью объекта, к которому можно достучаться, используя специальное свойство doc у объекта. Например, функция print содержит атрибут doc, в котором содержится строка документирования, определённая у этой функции."
   ]
  },
  {
   "cell_type": "code",
   "execution_count": 20,
   "metadata": {},
   "outputs": [
    {
     "data": {
      "text/plain": [
       "\"print(value, ..., sep=' ', end='\\\\n', file=sys.stdout, flush=False)\\n\\nPrints the values to a stream, or to sys.stdout by default.\\nOptional keyword arguments:\\nfile:  a file-like object (stream); defaults to the current sys.stdout.\\nsep:   string inserted between values, default a space.\\nend:   string appended after the last value, default a newline.\\nflush: whether to forcibly flush the stream.\""
      ]
     },
     "execution_count": 20,
     "metadata": {},
     "output_type": "execute_result"
    }
   ],
   "source": [
    "print.__doc__"
   ]
  },
  {
   "cell_type": "markdown",
   "metadata": {},
   "source": [
    "Стиль кода на Python – в соответствии с PEP8. Autopep8 -  утилита для автоматического приведения кода к соответствующему виду"
   ]
  },
  {
   "cell_type": "markdown",
   "metadata": {},
   "source": [
    "## 1.3 Базовые типы и конструкции"
   ]
  },
  {
   "cell_type": "markdown",
   "metadata": {},
   "source": [
    "### 1.3.1. Базовые типы: численные типы"
   ]
  },
  {
   "cell_type": "markdown",
   "metadata": {},
   "source": [
    "#### Целые числа (int)\n",
    "Переменные в Python-е бывают разных типов. Например, тип int используется для целых чисел."
   ]
  },
  {
   "cell_type": "code",
   "execution_count": 21,
   "metadata": {},
   "outputs": [
    {
     "name": "stdout",
     "output_type": "stream",
     "text": [
      "13\n",
      "0\n",
      "-10\n"
     ]
    }
   ],
   "source": [
    "num = 13\n",
    "print(num)\n",
    "\n",
    "num = 0\n",
    "print(num)\n",
    "\n",
    "num = -10\n",
    "print(num)"
   ]
  },
  {
   "cell_type": "code",
   "execution_count": 22,
   "metadata": {},
   "outputs": [
    {
     "name": "stdout",
     "output_type": "stream",
     "text": [
      "100000000\n"
     ]
    }
   ],
   "source": [
    "num = 100_000_000\n",
    "print(num)"
   ]
  },
  {
   "cell_type": "markdown",
   "metadata": {},
   "source": [
    "#### Встроенная функция type\n",
    "\n",
    "Функция type() из этого примера возвращает тип переменной."
   ]
  },
  {
   "cell_type": "code",
   "execution_count": 23,
   "metadata": {},
   "outputs": [
    {
     "name": "stdout",
     "output_type": "stream",
     "text": [
      "<class 'int'>\n"
     ]
    }
   ],
   "source": [
    "num = 13 \n",
    "print(type(num))"
   ]
  },
  {
   "cell_type": "markdown",
   "metadata": {},
   "source": [
    "#### Вещественные числа (float)\n",
    "Python умеет работать с числами с плавающей точкой. Такие переменные имеют тип float, целая и дробная части отделяются точкой. Также Python поддерживает экспоненциальную нотацию записи вещественного числа."
   ]
  },
  {
   "cell_type": "code",
   "execution_count": 24,
   "metadata": {},
   "outputs": [
    {
     "name": "stdout",
     "output_type": "stream",
     "text": [
      "13.4\n",
      "0.0\n",
      "-10.2\n"
     ]
    }
   ],
   "source": [
    "num = 13.4\n",
    "print(num)\n",
    "\n",
    "num = 0.0\n",
    "print(num)\n",
    "\n",
    "num = -10.2\n",
    "print(num)"
   ]
  },
  {
   "cell_type": "code",
   "execution_count": 25,
   "metadata": {},
   "outputs": [
    {
     "name": "stdout",
     "output_type": "stream",
     "text": [
      "100000.000001\n"
     ]
    }
   ],
   "source": [
    "num = 100_000.000_001\n",
    "print(num)"
   ]
  },
  {
   "cell_type": "code",
   "execution_count": 26,
   "metadata": {},
   "outputs": [
    {
     "name": "stdout",
     "output_type": "stream",
     "text": [
      "150.0\n"
     ]
    }
   ],
   "source": [
    "# 1.5 умножить на 10 в степени 2\n",
    "num = 1.5e2\n",
    "print(num)"
   ]
  },
  {
   "cell_type": "markdown",
   "metadata": {},
   "source": [
    "Python поддерживает конвертацию типов.\n",
    "\n",
    "Конвертация типов:"
   ]
  },
  {
   "cell_type": "code",
   "execution_count": 27,
   "metadata": {},
   "outputs": [
    {
     "name": "stdout",
     "output_type": "stream",
     "text": [
      "<class 'float'>\n"
     ]
    }
   ],
   "source": [
    "num = 150.2\n",
    "print(type(num))"
   ]
  },
  {
   "cell_type": "code",
   "execution_count": 28,
   "metadata": {},
   "outputs": [
    {
     "name": "stdout",
     "output_type": "stream",
     "text": [
      "150 <class 'int'>\n",
      "150.0 <class 'float'>\n"
     ]
    }
   ],
   "source": [
    "num = int(num)\n",
    "print(num, type(num))\n",
    "\n",
    "num = float(num)\n",
    "print(num, type(num))"
   ]
  },
  {
   "cell_type": "markdown",
   "metadata": {},
   "source": [
    "Обратите внимание, что в процессе конвертации переменной num мы потеряли дробную часть вещественного числа."
   ]
  },
  {
   "cell_type": "markdown",
   "metadata": {},
   "source": [
    "#### Комплексные числа (complex)\n",
    "\n",
    "Python умеет работать с комплексными числами:"
   ]
  },
  {
   "cell_type": "code",
   "execution_count": 29,
   "metadata": {},
   "outputs": [
    {
     "name": "stdout",
     "output_type": "stream",
     "text": [
      "<class 'complex'>\n",
      "14.0\n",
      "1.0\n"
     ]
    }
   ],
   "source": [
    "num = 14 + 1j\n",
    "\n",
    "print(type(num))\n",
    "print(num.real)\n",
    "print(num.imag)"
   ]
  },
  {
   "cell_type": "markdown",
   "metadata": {},
   "source": [
    "Также в Python есть модули decimal (позволяет работать с вещественными числами с фиксированной точностью) и fractions (позволяет работать с рациональными числами, т.е. дробями)."
   ]
  },
  {
   "cell_type": "markdown",
   "metadata": {},
   "source": [
    "#### Основные операции с числами\n",
    "\n",
    "Как мы уже знаем, Python поддерживает арифметические операции с числами. При этом сумма или разность двух целых чисел будет целой, а если хотя бы одно из чисел вещественное --- результат также будет вещественным. Результат деления (обозначается символом /) всегда вещественный."
   ]
  },
  {
   "cell_type": "markdown",
   "metadata": {},
   "source": [
    "Сложение:"
   ]
  },
  {
   "cell_type": "code",
   "execution_count": 30,
   "metadata": {},
   "outputs": [
    {
     "data": {
      "text/plain": [
       "2"
      ]
     },
     "execution_count": 30,
     "metadata": {},
     "output_type": "execute_result"
    }
   ],
   "source": [
    "1 + 1"
   ]
  },
  {
   "cell_type": "code",
   "execution_count": 31,
   "metadata": {},
   "outputs": [
    {
     "data": {
      "text/plain": [
       "3.0"
      ]
     },
     "execution_count": 31,
     "metadata": {},
     "output_type": "execute_result"
    }
   ],
   "source": [
    "1 + 2.0"
   ]
  },
  {
   "cell_type": "markdown",
   "metadata": {},
   "source": [
    "Вычитание:"
   ]
  },
  {
   "cell_type": "code",
   "execution_count": 32,
   "metadata": {},
   "outputs": [
    {
     "data": {
      "text/plain": [
       "9"
      ]
     },
     "execution_count": 32,
     "metadata": {},
     "output_type": "execute_result"
    }
   ],
   "source": [
    "10 - 1"
   ]
  },
  {
   "cell_type": "code",
   "execution_count": 33,
   "metadata": {},
   "outputs": [
    {
     "data": {
      "text/plain": [
       "3.2"
      ]
     },
     "execution_count": 33,
     "metadata": {},
     "output_type": "execute_result"
    }
   ],
   "source": [
    "4.2 - 1"
   ]
  },
  {
   "cell_type": "markdown",
   "metadata": {},
   "source": [
    "Деление:"
   ]
  },
  {
   "cell_type": "code",
   "execution_count": 34,
   "metadata": {},
   "outputs": [
    {
     "data": {
      "text/plain": [
       "5.0"
      ]
     },
     "execution_count": 34,
     "metadata": {},
     "output_type": "execute_result"
    }
   ],
   "source": [
    "10 / 2"
   ]
  },
  {
   "cell_type": "markdown",
   "metadata": {},
   "source": [
    "Делить на 0 нельзя:"
   ]
  },
  {
   "cell_type": "code",
   "execution_count": 35,
   "metadata": {},
   "outputs": [
    {
     "ename": "ZeroDivisionError",
     "evalue": "division by zero",
     "output_type": "error",
     "traceback": [
      "\u001b[0;31m---------------------------------------------------------------------------\u001b[0m",
      "\u001b[0;31mZeroDivisionError\u001b[0m                         Traceback (most recent call last)",
      "\u001b[0;32m<ipython-input-35-8b4ac6d3a3e1>\u001b[0m in \u001b[0;36m<module>\u001b[0;34m()\u001b[0m\n\u001b[0;32m----> 1\u001b[0;31m \u001b[0;36m2\u001b[0m \u001b[0;34m/\u001b[0m \u001b[0;36m0\u001b[0m\u001b[0;34m\u001b[0m\u001b[0;34m\u001b[0m\u001b[0m\n\u001b[0m",
      "\u001b[0;31mZeroDivisionError\u001b[0m: division by zero"
     ]
    }
   ],
   "source": [
    "2 / 0"
   ]
  },
  {
   "cell_type": "markdown",
   "metadata": {},
   "source": [
    "Умножение:"
   ]
  },
  {
   "cell_type": "code",
   "execution_count": 36,
   "metadata": {},
   "outputs": [
    {
     "data": {
      "text/plain": [
       "21.0"
      ]
     },
     "execution_count": 36,
     "metadata": {},
     "output_type": "execute_result"
    }
   ],
   "source": [
    "4 * 5.25"
   ]
  },
  {
   "cell_type": "markdown",
   "metadata": {},
   "source": [
    "Возведение числа в степень:"
   ]
  },
  {
   "cell_type": "code",
   "execution_count": 37,
   "metadata": {},
   "outputs": [
    {
     "data": {
      "text/plain": [
       "16"
      ]
     },
     "execution_count": 37,
     "metadata": {},
     "output_type": "execute_result"
    }
   ],
   "source": [
    "2 ** 4"
   ]
  },
  {
   "cell_type": "markdown",
   "metadata": {},
   "source": [
    "Целочисленное деление:"
   ]
  },
  {
   "cell_type": "code",
   "execution_count": 38,
   "metadata": {},
   "outputs": [
    {
     "data": {
      "text/plain": [
       "3"
      ]
     },
     "execution_count": 38,
     "metadata": {},
     "output_type": "execute_result"
    }
   ],
   "source": [
    "10 // 3"
   ]
  },
  {
   "cell_type": "markdown",
   "metadata": {},
   "source": [
    "Остаток от деления:"
   ]
  },
  {
   "cell_type": "code",
   "execution_count": 39,
   "metadata": {},
   "outputs": [
    {
     "data": {
      "text/plain": [
       "1"
      ]
     },
     "execution_count": 39,
     "metadata": {},
     "output_type": "execute_result"
    }
   ],
   "source": [
    "10 % 3"
   ]
  },
  {
   "cell_type": "markdown",
   "metadata": {},
   "source": [
    "Порядок операций в выражениях с числами:"
   ]
  },
  {
   "cell_type": "code",
   "execution_count": 40,
   "metadata": {},
   "outputs": [
    {
     "name": "stdout",
     "output_type": "stream",
     "text": [
      "33\n",
      "60\n"
     ]
    }
   ],
   "source": [
    "print(10 * 3 + 3)\n",
    "print(10 * (3 + 3))"
   ]
  },
  {
   "cell_type": "code",
   "execution_count": 41,
   "metadata": {},
   "outputs": [
    {
     "ename": "ZeroDivisionError",
     "evalue": "division by zero",
     "output_type": "error",
     "traceback": [
      "\u001b[0;31m---------------------------------------------------------------------------\u001b[0m",
      "\u001b[0;31mZeroDivisionError\u001b[0m                         Traceback (most recent call last)",
      "\u001b[0;32m<ipython-input-41-1bb398977582>\u001b[0m in \u001b[0;36m<module>\u001b[0;34m()\u001b[0m\n\u001b[0;32m----> 1\u001b[0;31m \u001b[0;36m100\u001b[0m \u001b[0;34m/\u001b[0m \u001b[0;34m(\u001b[0m\u001b[0;36m100\u001b[0m \u001b[0;34m%\u001b[0m \u001b[0;36m1\u001b[0m\u001b[0;34m)\u001b[0m\u001b[0;34m\u001b[0m\u001b[0;34m\u001b[0m\u001b[0m\n\u001b[0m",
      "\u001b[0;31mZeroDivisionError\u001b[0m: division by zero"
     ]
    }
   ],
   "source": [
    "100 / (100 % 1)"
   ]
  },
  {
   "cell_type": "markdown",
   "metadata": {},
   "source": [
    "Побитовые операции:"
   ]
  },
  {
   "cell_type": "code",
   "execution_count": 43,
   "metadata": {},
   "outputs": [
    {
     "name": "stdout",
     "output_type": "stream",
     "text": [
      "Побитовое или: 7\n",
      "Побитовое исключающее или: 7\n",
      "Побитовое и: 0\n",
      "Битовый сдвиг влево: 32\n",
      "Битовый сдвиг вправо: 2\n",
      "Инверсия битов: -5\n"
     ]
    }
   ],
   "source": [
    "x = 4\n",
    "y = 3\n",
    "\n",
    "print(\"Побитовое или:\", x | y)\n",
    "print(\"Побитовое исключающее или:\", x ^ y)\n",
    "print(\"Побитовое и:\", x & y)\n",
    "print(\"Битовый сдвиг влево:\", x << 3)\n",
    "print(\"Битовый сдвиг вправо:\", x >> 1)\n",
    "print(\"Инверсия битов:\", ~x)"
   ]
  },
  {
   "cell_type": "markdown",
   "metadata": {},
   "source": [
    "Для примера рассмотрим следующую задачу. Задача: найти расстояние между двумя точками в декартовых координатах. Решение:"
   ]
  },
  {
   "cell_type": "code",
   "execution_count": 44,
   "metadata": {},
   "outputs": [
    {
     "name": "stdout",
     "output_type": "stream",
     "text": [
      "5.0\n"
     ]
    }
   ],
   "source": [
    "x1, y1 = 0, 0\n",
    "x2 = 3\n",
    "y2 = 4\n",
    "\n",
    "distance = ((x2 - x1) ** 2 + (y2 - y1) ** 2) ** 0.5\n",
    "print(distance)"
   ]
  },
  {
   "cell_type": "markdown",
   "metadata": {},
   "source": [
    "Меняем местами значения 2-х переменных:"
   ]
  },
  {
   "cell_type": "code",
   "execution_count": 45,
   "metadata": {},
   "outputs": [
    {
     "name": "stdout",
     "output_type": "stream",
     "text": [
      "100 200\n",
      "200 100\n"
     ]
    }
   ],
   "source": [
    "a = 100\n",
    "b = 200\n",
    "print(a, b)\n",
    "\n",
    "a, b = b, a\n",
    "print(a, b)"
   ]
  },
  {
   "cell_type": "markdown",
   "metadata": {},
   "source": [
    "Когда одной переменной присваивается значение другой переменной, необходимо помнить об изменяемых (mutable) и неизменяемых (innutable) типах в языке Python. Изменяемые объекты могут менять свое значение после создания, а неизменяемые – нет. Примитивные типы неизменяемы. Списки – изменяемы, поэтому при изменении объекта по ссылке он изменится по любым ссылкам. Об этом будет подробнее сказано в дальнейшем."
   ]
  },
  {
   "cell_type": "code",
   "execution_count": 46,
   "metadata": {},
   "outputs": [
    {
     "name": "stdout",
     "output_type": "stream",
     "text": [
      "1\n",
      "0\n"
     ]
    }
   ],
   "source": [
    "x = y = 0\n",
    "x += 1\n",
    "\n",
    "print(x)\n",
    "print(y)"
   ]
  },
  {
   "cell_type": "code",
   "execution_count": 47,
   "metadata": {},
   "outputs": [
    {
     "name": "stdout",
     "output_type": "stream",
     "text": [
      "[1, 2]\n",
      "[1, 2]\n"
     ]
    }
   ],
   "source": [
    "x = y = []\n",
    "x.append(1)\n",
    "x.append(2)\n",
    "\n",
    "print(x)\n",
    "print(y)"
   ]
  },
  {
   "cell_type": "markdown",
   "metadata": {},
   "source": [
    "### 1.3.2. Базовые типы: логический тип\n",
    "\n",
    "В Python существует логический тип bool. Переменные этого типа могут принимать значение либо True, либо False. Bool – подтип целого числа, и True  соответствует единице, а False – нулю. Логические типы нужны тогда, когда необходимо проверить на истинность некоторое выражение."
   ]
  },
  {
   "cell_type": "code",
   "execution_count": 48,
   "metadata": {},
   "outputs": [
    {
     "data": {
      "text/plain": [
       "True"
      ]
     },
     "execution_count": 48,
     "metadata": {},
     "output_type": "execute_result"
    }
   ],
   "source": [
    "True"
   ]
  },
  {
   "cell_type": "code",
   "execution_count": 49,
   "metadata": {},
   "outputs": [
    {
     "data": {
      "text/plain": [
       "False"
      ]
     },
     "execution_count": 49,
     "metadata": {},
     "output_type": "execute_result"
    }
   ],
   "source": [
    "False"
   ]
  },
  {
   "cell_type": "code",
   "execution_count": 50,
   "metadata": {},
   "outputs": [
    {
     "name": "stdout",
     "output_type": "stream",
     "text": [
      "<class 'bool'>\n"
     ]
    }
   ],
   "source": [
    "result = True\n",
    "print(type(result))"
   ]
  },
  {
   "cell_type": "markdown",
   "metadata": {},
   "source": [
    "Логические операции"
   ]
  },
  {
   "cell_type": "markdown",
   "metadata": {},
   "source": [
    "Оператор \"равно\":"
   ]
  },
  {
   "cell_type": "code",
   "execution_count": 51,
   "metadata": {},
   "outputs": [
    {
     "data": {
      "text/plain": [
       "True"
      ]
     },
     "execution_count": 51,
     "metadata": {},
     "output_type": "execute_result"
    }
   ],
   "source": [
    "13 == 13"
   ]
  },
  {
   "cell_type": "markdown",
   "metadata": {},
   "source": [
    "Оператор \"не равно\":"
   ]
  },
  {
   "cell_type": "code",
   "execution_count": 52,
   "metadata": {},
   "outputs": [
    {
     "data": {
      "text/plain": [
       "True"
      ]
     },
     "execution_count": 52,
     "metadata": {},
     "output_type": "execute_result"
    }
   ],
   "source": [
    "1 != 2"
   ]
  },
  {
   "cell_type": "markdown",
   "metadata": {},
   "source": [
    "Операторы сравнения:"
   ]
  },
  {
   "cell_type": "code",
   "execution_count": 53,
   "metadata": {},
   "outputs": [
    {
     "name": "stdout",
     "output_type": "stream",
     "text": [
      "False\n",
      "True\n",
      "True\n",
      "False\n"
     ]
    }
   ],
   "source": [
    "print(3 > 4) \n",
    "print(3 <= 3) \n",
    "print(6 >= 6) \n",
    "print(6 < 5)"
   ]
  },
  {
   "cell_type": "markdown",
   "metadata": {},
   "source": [
    "Существует множественное сравнение"
   ]
  },
  {
   "cell_type": "code",
   "execution_count": 54,
   "metadata": {},
   "outputs": [
    {
     "name": "stdout",
     "output_type": "stream",
     "text": [
      "True\n"
     ]
    }
   ],
   "source": [
    "x = 2\n",
    "print(1 < x < 3)"
   ]
  },
  {
   "cell_type": "markdown",
   "metadata": {},
   "source": [
    "Можно преобразовать целый и вещественный типы в логический\n",
    "\n",
    "Конвертация типов:"
   ]
  },
  {
   "cell_type": "code",
   "execution_count": 55,
   "metadata": {},
   "outputs": [
    {
     "data": {
      "text/plain": [
       "True"
      ]
     },
     "execution_count": 55,
     "metadata": {},
     "output_type": "execute_result"
    }
   ],
   "source": [
    "bool(12)"
   ]
  },
  {
   "cell_type": "code",
   "execution_count": 56,
   "metadata": {},
   "outputs": [
    {
     "data": {
      "text/plain": [
       "False"
      ]
     },
     "execution_count": 56,
     "metadata": {},
     "output_type": "execute_result"
    }
   ],
   "source": [
    "bool(0)"
   ]
  },
  {
   "cell_type": "code",
   "execution_count": 134,
   "metadata": {},
   "outputs": [
    {
     "data": {
      "text/plain": [
       "False"
      ]
     },
     "execution_count": 134,
     "metadata": {},
     "output_type": "execute_result"
    }
   ],
   "source": [
    "bool(0.0)"
   ]
  },
  {
   "cell_type": "code",
   "execution_count": 35,
   "metadata": {},
   "outputs": [
    {
     "data": {
      "text/plain": [
       "True"
      ]
     },
     "execution_count": 35,
     "metadata": {},
     "output_type": "execute_result"
    }
   ],
   "source": [
    "bool(0.000001)"
   ]
  },
  {
   "cell_type": "markdown",
   "metadata": {},
   "source": [
    "#### Логические выражения\n",
    "\n",
    "Из переменных можно составлять логические выражения, используя логические операторы:"
   ]
  },
  {
   "cell_type": "markdown",
   "metadata": {},
   "source": [
    "Логическое \"и\":"
   ]
  },
  {
   "cell_type": "code",
   "execution_count": 57,
   "metadata": {},
   "outputs": [
    {
     "name": "stdout",
     "output_type": "stream",
     "text": [
      "False\n"
     ]
    }
   ],
   "source": [
    "x, y = True, False\n",
    "print(x and y)"
   ]
  },
  {
   "cell_type": "markdown",
   "metadata": {},
   "source": [
    "Логическое \"или\":"
   ]
  },
  {
   "cell_type": "code",
   "execution_count": 58,
   "metadata": {},
   "outputs": [
    {
     "name": "stdout",
     "output_type": "stream",
     "text": [
      "True\n"
     ]
    }
   ],
   "source": [
    "x, y = True, False\n",
    "print(x or y)"
   ]
  },
  {
   "cell_type": "markdown",
   "metadata": {},
   "source": [
    "Логическое отрицание:"
   ]
  },
  {
   "cell_type": "code",
   "execution_count": 59,
   "metadata": {},
   "outputs": [
    {
     "name": "stdout",
     "output_type": "stream",
     "text": [
      "True\n"
     ]
    }
   ],
   "source": [
    "y = False\n",
    "print(not y)"
   ]
  },
  {
   "cell_type": "markdown",
   "metadata": {},
   "source": [
    "Составные логические выражения:"
   ]
  },
  {
   "cell_type": "code",
   "execution_count": 60,
   "metadata": {},
   "outputs": [
    {
     "name": "stdout",
     "output_type": "stream",
     "text": [
      "True\n"
     ]
    }
   ],
   "source": [
    "x, y, z = True, False, True\n",
    "result = x and y or z\n",
    "print(result)"
   ]
  },
  {
   "cell_type": "markdown",
   "metadata": {},
   "source": [
    "Логические выражения в Python ленивы: если кто-то истинный, то проверки дальше не будет, а числа и непустые строки – это истина."
   ]
  },
  {
   "cell_type": "code",
   "execution_count": 61,
   "metadata": {},
   "outputs": [
    {
     "name": "stdout",
     "output_type": "stream",
     "text": [
      "12\n"
     ]
    }
   ],
   "source": [
    "x = 12\n",
    "y = False\n",
    "\n",
    "print(x or y)"
   ]
  },
  {
   "cell_type": "code",
   "execution_count": 62,
   "metadata": {},
   "outputs": [
    {
     "name": "stdout",
     "output_type": "stream",
     "text": [
      "boom\n"
     ]
    }
   ],
   "source": [
    "x = 12\n",
    "z = \"boom\"\n",
    "\n",
    "print(x and z)"
   ]
  },
  {
   "cell_type": "code",
   "execution_count": 135,
   "metadata": {},
   "outputs": [
    {
     "data": {
      "text/plain": [
       "12"
      ]
     },
     "execution_count": 135,
     "metadata": {},
     "output_type": "execute_result"
    }
   ],
   "source": [
    "x = 0\n",
    "y = 12\n",
    "name = x or y\n",
    "name"
   ]
  },
  {
   "cell_type": "markdown",
   "metadata": {},
   "source": [
    "Задача: определить, является ли год високосным. Год является високосным если он кратен 4, но при этом не кратен 100, либо кратен 400. С использованием логических выражений решений реализуется в три строчки."
   ]
  },
  {
   "cell_type": "code",
   "execution_count": 63,
   "metadata": {},
   "outputs": [
    {
     "name": "stdout",
     "output_type": "stream",
     "text": [
      "False\n"
     ]
    }
   ],
   "source": [
    "year = 2017\n",
    "is_leap = year % 4 == 0 and (year % 100 != 0 or year % 400 == 0)\n",
    "print(is_leap)"
   ]
  },
  {
   "cell_type": "markdown",
   "metadata": {},
   "source": [
    "Эту задачу мы могли решить ещё проще --- всего в две строчки, используя модуль стандартной библиотеки calendar. (Python предоставляет очень много возможностей в своей стандартной библиотеке.) Внутри модуля calendar есть нужная нам функция isleap. Проверим:"
   ]
  },
  {
   "cell_type": "code",
   "execution_count": 64,
   "metadata": {},
   "outputs": [
    {
     "name": "stdout",
     "output_type": "stream",
     "text": [
      "True\n"
     ]
    }
   ],
   "source": [
    "import calendar \n",
    "print(calendar.isleap(1980))"
   ]
  },
  {
   "cell_type": "markdown",
   "metadata": {},
   "source": [
    "### 1.3.3. Базовые типы: строки и байтовые строки\n",
    "\n",
    "Строка – это неизменяемая последовательность юникодных символов."
   ]
  },
  {
   "cell_type": "code",
   "execution_count": 65,
   "metadata": {},
   "outputs": [
    {
     "name": "stdout",
     "output_type": "stream",
     "text": [
      "Курс про Python на Coursera\n"
     ]
    }
   ],
   "source": [
    "example_string = \"Курс про Python на Coursera\"\n",
    "print(example_string)"
   ]
  },
  {
   "cell_type": "code",
   "execution_count": 66,
   "metadata": {},
   "outputs": [
    {
     "name": "stdout",
     "output_type": "stream",
     "text": [
      "<class 'str'>\n"
     ]
    }
   ],
   "source": [
    "print(type(example_string))"
   ]
  },
  {
   "cell_type": "markdown",
   "metadata": {},
   "source": [
    "Для отображения двойных кавычек, строку можно оборачивать в одинарные. Также их можно экранировать."
   ]
  },
  {
   "cell_type": "code",
   "execution_count": 67,
   "metadata": {},
   "outputs": [
    {
     "name": "stdout",
     "output_type": "stream",
     "text": [
      "Курс про \"Python\" на \"Coursera\"\n"
     ]
    }
   ],
   "source": [
    "example_string = 'Курс про \"Python\" на \"Coursera\"'\n",
    "print(example_string)"
   ]
  },
  {
   "cell_type": "code",
   "execution_count": 68,
   "metadata": {},
   "outputs": [
    {
     "name": "stdout",
     "output_type": "stream",
     "text": [
      "Курс про \"Python\" на \"Coursera\"\n"
     ]
    }
   ],
   "source": [
    "example_string = \"Курс про \\\"Python\\\" на \\\"Coursera\\\"\"\n",
    "print(example_string)"
   ]
  },
  {
   "cell_type": "markdown",
   "metadata": {},
   "source": [
    "Также в Python-е есть концепция сырых строк. Мы можем с помощью сырых строк объявить строку и не экранировать специальные символы, которые находятся внутри этой строки."
   ]
  },
  {
   "cell_type": "code",
   "execution_count": 69,
   "metadata": {},
   "outputs": [
    {
     "name": "stdout",
     "output_type": "stream",
     "text": [
      "Файл на диске c:\\\\\n",
      "Файл на диске c:\\\\\n"
     ]
    }
   ],
   "source": [
    "example_string = \"Файл на диске c:\\\\\\\\\"\n",
    "print(example_string)\n",
    "\n",
    "example_string = r\"Файл на диске c:\\\\\"\n",
    "print(example_string)"
   ]
  },
  {
   "cell_type": "code",
   "execution_count": 136,
   "metadata": {},
   "outputs": [
    {
     "name": "stdout",
     "output_type": "stream",
     "text": [
      "//\\\\\n"
     ]
    }
   ],
   "source": [
    "print(r\"//\\\\\")"
   ]
  },
  {
   "cell_type": "markdown",
   "metadata": {},
   "source": [
    "Объявление строки можно разбивать в программе на несколько строк"
   ]
  },
  {
   "cell_type": "code",
   "execution_count": 70,
   "metadata": {},
   "outputs": [
    {
     "name": "stdout",
     "output_type": "stream",
     "text": [
      "Perl — это тот язык, который одинаково выглядит как до, так и после RSA шифрования.(Keith Bostic)\n"
     ]
    }
   ],
   "source": [
    "example_string = \"Perl — это тот язык, который одинаково \" \\\n",
    "                 \"выглядит как до, так и после RSA шифрования.\" \\\n",
    "                 \"(Keith Bostic)\"\n",
    "print(example_string)"
   ]
  },
  {
   "cell_type": "markdown",
   "metadata": {},
   "source": [
    "Для строк из нескольких абзацев или просто для длинных строк можно использовать тройные кавычки"
   ]
  },
  {
   "cell_type": "code",
   "execution_count": 71,
   "metadata": {
    "scrolled": false
   },
   "outputs": [
    {
     "name": "stdout",
     "output_type": "stream",
     "text": [
      "\n",
      "Есть всего два типа языков программирования: те, на которые \n",
      "люди всё время ругаются, и те, которые никто не использует.\n",
      "\n",
      "Bjarne Stroustrup\n",
      "\n"
     ]
    }
   ],
   "source": [
    "example_string = \"\"\"\n",
    "Есть всего два типа языков программирования: те, на которые \n",
    "люди всё время ругаются, и те, которые никто не использует.\n",
    "\n",
    "Bjarne Stroustrup\n",
    "\"\"\"\n",
    "print(example_string)"
   ]
  },
  {
   "cell_type": "code",
   "execution_count": 137,
   "metadata": {},
   "outputs": [
    {
     "data": {
      "text/plain": [
       "'строка'"
      ]
     },
     "execution_count": 137,
     "metadata": {},
     "output_type": "execute_result"
    }
   ],
   "source": [
    "\"\"\"строка\"\"\""
   ]
  },
  {
   "cell_type": "code",
   "execution_count": 138,
   "metadata": {},
   "outputs": [
    {
     "data": {
      "text/plain": [
       "'строка'"
      ]
     },
     "execution_count": 138,
     "metadata": {},
     "output_type": "execute_result"
    }
   ],
   "source": [
    "\"строка\""
   ]
  },
  {
   "cell_type": "code",
   "execution_count": 139,
   "metadata": {},
   "outputs": [
    {
     "data": {
      "text/plain": [
       "'строка'"
      ]
     },
     "execution_count": 139,
     "metadata": {},
     "output_type": "execute_result"
    }
   ],
   "source": [
    "'строка'"
   ]
  },
  {
   "cell_type": "code",
   "execution_count": 140,
   "metadata": {},
   "outputs": [
    {
     "data": {
      "text/plain": [
       "'строка'"
      ]
     },
     "execution_count": 140,
     "metadata": {},
     "output_type": "execute_result"
    }
   ],
   "source": [
    "f\"строка\""
   ]
  },
  {
   "cell_type": "code",
   "execution_count": 141,
   "metadata": {},
   "outputs": [
    {
     "data": {
      "text/plain": [
       "'строка'"
      ]
     },
     "execution_count": 141,
     "metadata": {},
     "output_type": "execute_result"
    }
   ],
   "source": [
    "r\"строка\""
   ]
  },
  {
   "cell_type": "markdown",
   "metadata": {},
   "source": [
    "Как объединить 2 строки в одну?"
   ]
  },
  {
   "cell_type": "code",
   "execution_count": 72,
   "metadata": {},
   "outputs": [
    {
     "data": {
      "text/plain": [
       "'Можно просто складывать строки'"
      ]
     },
     "execution_count": 72,
     "metadata": {},
     "output_type": "execute_result"
    }
   ],
   "source": [
    "\"Можно\" + \" просто \" + \"складывать\" + \" строки\""
   ]
  },
  {
   "cell_type": "code",
   "execution_count": 73,
   "metadata": {},
   "outputs": [
    {
     "data": {
      "text/plain": [
       "'Даже умножать!Даже умножать!Даже умножать!'"
      ]
     },
     "execution_count": 73,
     "metadata": {},
     "output_type": "execute_result"
    }
   ],
   "source": [
    "\"Даже умножать!\" * 3"
   ]
  },
  {
   "cell_type": "code",
   "execution_count": 142,
   "metadata": {},
   "outputs": [
    {
     "data": {
      "text/plain": [
       "'aaa'"
      ]
     },
     "execution_count": 142,
     "metadata": {},
     "output_type": "execute_result"
    }
   ],
   "source": [
    "\"a\"*3"
   ]
  },
  {
   "cell_type": "markdown",
   "metadata": {},
   "source": [
    "Важно помнить, что строки --- неизменяемый тип, а значит каждое такое действие создает новый объект и требует память."
   ]
  },
  {
   "cell_type": "code",
   "execution_count": 76,
   "metadata": {},
   "outputs": [
    {
     "name": "stdout",
     "output_type": "stream",
     "text": [
      "False\n"
     ]
    }
   ],
   "source": [
    "example_string = \"Привет\"\n",
    "a = id(example_string)\n",
    "\n",
    "example_string += \", Мир!\"\n",
    "print(a == id(example_string))"
   ]
  },
  {
   "cell_type": "markdown",
   "metadata": {},
   "source": [
    "Срезы строк (<string>[start:stop:step])  удобны для того, чтобы из строки вырезать какую-то подстроку. Синтаксис срезов посмотрим на примере:"
   ]
  },
  {
   "cell_type": "code",
   "execution_count": 77,
   "metadata": {},
   "outputs": [
    {
     "data": {
      "text/plain": [
       "'Python на Coursera'"
      ]
     },
     "execution_count": 77,
     "metadata": {},
     "output_type": "execute_result"
    }
   ],
   "source": [
    "example_string = \"Курс про Python на Coursera\"\n",
    "example_string[9:]"
   ]
  },
  {
   "cell_type": "code",
   "execution_count": 78,
   "metadata": {},
   "outputs": [
    {
     "data": {
      "text/plain": [
       "'Python'"
      ]
     },
     "execution_count": 78,
     "metadata": {},
     "output_type": "execute_result"
    }
   ],
   "source": [
    "example_string = \"Курс про Python на Coursera\"\n",
    "example_string[9:15]"
   ]
  },
  {
   "cell_type": "code",
   "execution_count": 79,
   "metadata": {},
   "outputs": [
    {
     "data": {
      "text/plain": [
       "'Coursera'"
      ]
     },
     "execution_count": 79,
     "metadata": {},
     "output_type": "execute_result"
    }
   ],
   "source": [
    "example_string = \"Курс про Python на Coursera\"\n",
    "example_string[-8:]"
   ]
  },
  {
   "cell_type": "markdown",
   "metadata": {},
   "source": [
    "Использование step:"
   ]
  },
  {
   "cell_type": "code",
   "execution_count": 80,
   "metadata": {},
   "outputs": [
    {
     "data": {
      "text/plain": [
       "'02468'"
      ]
     },
     "execution_count": 80,
     "metadata": {},
     "output_type": "execute_result"
    }
   ],
   "source": [
    "example_string = \"0123456789\"\n",
    "example_string[::2]"
   ]
  },
  {
   "cell_type": "code",
   "execution_count": 81,
   "metadata": {},
   "outputs": [
    {
     "data": {
      "text/plain": [
       "'авксоМ'"
      ]
     },
     "execution_count": 81,
     "metadata": {},
     "output_type": "execute_result"
    }
   ],
   "source": [
    "example_string = \"Москва\"\n",
    "example_string[::-1]"
   ]
  },
  {
   "cell_type": "code",
   "execution_count": 143,
   "metadata": {},
   "outputs": [
    {
     "data": {
      "text/plain": [
       "'тевирп'"
      ]
     },
     "execution_count": 143,
     "metadata": {},
     "output_type": "execute_result"
    }
   ],
   "source": [
    "\"привет\"[::-1]"
   ]
  },
  {
   "cell_type": "code",
   "execution_count": 144,
   "metadata": {},
   "outputs": [
    {
     "data": {
      "text/plain": [
       "'привет'"
      ]
     },
     "execution_count": 144,
     "metadata": {},
     "output_type": "execute_result"
    }
   ],
   "source": [
    "\"привет\"[:]"
   ]
  },
  {
   "cell_type": "code",
   "execution_count": 36,
   "metadata": {},
   "outputs": [
    {
     "data": {
      "text/plain": [
       "'п'"
      ]
     },
     "execution_count": 36,
     "metadata": {},
     "output_type": "execute_result"
    }
   ],
   "source": [
    "\"привет\"[0:1]"
   ]
  },
  {
   "cell_type": "markdown",
   "metadata": {},
   "source": [
    "У строк есть методы: count() (считает символы), capitalize() (делает первую букву большой), isdigit() (проверяет на число) и т.д. "
   ]
  },
  {
   "cell_type": "code",
   "execution_count": 82,
   "metadata": {},
   "outputs": [
    {
     "data": {
      "text/plain": [
       "6"
      ]
     },
     "execution_count": 82,
     "metadata": {},
     "output_type": "execute_result"
    }
   ],
   "source": [
    "quote = \"\"\"Болтовня ничего не стоит. Покажите мне код.\n",
    "\n",
    "Linus Torvalds\n",
    "\"\"\"\n",
    "quote.count(\"о\")"
   ]
  },
  {
   "cell_type": "code",
   "execution_count": 83,
   "metadata": {},
   "outputs": [
    {
     "data": {
      "text/plain": [
       "'Москва'"
      ]
     },
     "execution_count": 83,
     "metadata": {},
     "output_type": "execute_result"
    }
   ],
   "source": [
    "\"москва\".capitalize()"
   ]
  },
  {
   "cell_type": "code",
   "execution_count": 84,
   "metadata": {},
   "outputs": [
    {
     "data": {
      "text/plain": [
       "True"
      ]
     },
     "execution_count": 84,
     "metadata": {},
     "output_type": "execute_result"
    }
   ],
   "source": [
    "\"2017\".isdigit()"
   ]
  },
  {
   "cell_type": "markdown",
   "metadata": {},
   "source": [
    "Оператор in позволяет проверить наличие подстроки в строке:"
   ]
  },
  {
   "cell_type": "code",
   "execution_count": 85,
   "metadata": {},
   "outputs": [
    {
     "data": {
      "text/plain": [
       "True"
      ]
     },
     "execution_count": 85,
     "metadata": {},
     "output_type": "execute_result"
    }
   ],
   "source": [
    "\"3.14\" in \"Число Пи = 3.1415926\""
   ]
  },
  {
   "cell_type": "code",
   "execution_count": 86,
   "metadata": {},
   "outputs": [
    {
     "data": {
      "text/plain": [
       "False"
      ]
     },
     "execution_count": 86,
     "metadata": {},
     "output_type": "execute_result"
    }
   ],
   "source": [
    "\"Алексей\" in \"Александр Пушкин\""
   ]
  },
  {
   "cell_type": "markdown",
   "metadata": {},
   "source": [
    "Выражение for .. in позволяет итерироваться по строке:"
   ]
  },
  {
   "cell_type": "code",
   "execution_count": 87,
   "metadata": {},
   "outputs": [
    {
     "name": "stdout",
     "output_type": "stream",
     "text": [
      "Буква П\n",
      "Буква р\n",
      "Буква и\n",
      "Буква в\n",
      "Буква е\n",
      "Буква т\n"
     ]
    }
   ],
   "source": [
    "example_string = \"Привет\"\n",
    "for letter in example_string:\n",
    "    print(\"Буква\", letter)"
   ]
  },
  {
   "cell_type": "markdown",
   "metadata": {},
   "source": [
    "К строкам можно применить конвертацию типов. Например, мы можем преобразовать вещественное число в переменную типа str:"
   ]
  },
  {
   "cell_type": "code",
   "execution_count": 88,
   "metadata": {},
   "outputs": [
    {
     "name": "stdout",
     "output_type": "stream",
     "text": [
      "<class 'str'>\n"
     ]
    },
    {
     "data": {
      "text/plain": [
       "'999.01'"
      ]
     },
     "execution_count": 88,
     "metadata": {},
     "output_type": "execute_result"
    }
   ],
   "source": [
    "num = 999.01\n",
    "\n",
    "num_string = str(num)\n",
    "\n",
    "print(type(num_string))\n",
    "num_string"
   ]
  },
  {
   "cell_type": "markdown",
   "metadata": {},
   "source": [
    "Если мы попробуем преобразовать непустую строку к логическому типу, получим True. Пустая же строка (не содержащая ни одного символа) при конвертации в логический тип возвращает False."
   ]
  },
  {
   "cell_type": "code",
   "execution_count": 89,
   "metadata": {},
   "outputs": [
    {
     "data": {
      "text/plain": [
       "True"
      ]
     },
     "execution_count": 89,
     "metadata": {},
     "output_type": "execute_result"
    }
   ],
   "source": [
    "bool(\"Непустая строка\")"
   ]
  },
  {
   "cell_type": "code",
   "execution_count": 90,
   "metadata": {},
   "outputs": [
    {
     "data": {
      "text/plain": [
       "False"
      ]
     },
     "execution_count": 90,
     "metadata": {},
     "output_type": "execute_result"
    }
   ],
   "source": [
    "bool(\"\")"
   ]
  },
  {
   "cell_type": "code",
   "execution_count": 91,
   "metadata": {},
   "outputs": [
    {
     "name": "stdout",
     "output_type": "stream",
     "text": [
      "Имя не заполнено!\n"
     ]
    }
   ],
   "source": [
    "name = \"\"\n",
    "\n",
    "if not name:\n",
    "    print(\"Имя не заполнено!\")"
   ]
  },
  {
   "cell_type": "markdown",
   "metadata": {},
   "source": [
    "#### Форматирование строк\n",
    "\n",
    "Существует несколько способов форматирования строк."
   ]
  },
  {
   "cell_type": "markdown",
   "metadata": {},
   "source": [
    "1-ый способ форматирования:"
   ]
  },
  {
   "cell_type": "code",
   "execution_count": 92,
   "metadata": {},
   "outputs": [
    {
     "data": {
      "text/plain": [
       "'Лень — главное достоинство программиста. (Larry Wall)'"
      ]
     },
     "execution_count": 92,
     "metadata": {},
     "output_type": "execute_result"
    }
   ],
   "source": [
    "template = \"%s — главное достоинство программиста. (%s)\"\n",
    "template % (\"Лень\", \"Larry Wall\")"
   ]
  },
  {
   "cell_type": "markdown",
   "metadata": {},
   "source": [
    "https://docs.python.org/3/library/string.html#format-specification-mini-language"
   ]
  },
  {
   "cell_type": "markdown",
   "metadata": {},
   "source": [
    "2-ой способ:"
   ]
  },
  {
   "cell_type": "code",
   "execution_count": 93,
   "metadata": {},
   "outputs": [
    {
     "data": {
      "text/plain": [
       "'Цифры не лгут, но лжецы пользуются формулами. (Robert A. Heinlein)'"
      ]
     },
     "execution_count": 93,
     "metadata": {},
     "output_type": "execute_result"
    }
   ],
   "source": [
    "\"{} не лгут, но {} пользуются формулами. ({})\".format(\n",
    "    \"Цифры\", \"лжецы\", \"Robert A. Heinlein\"\n",
    ")"
   ]
  },
  {
   "cell_type": "markdown",
   "metadata": {},
   "source": [
    "Еще способ:"
   ]
  },
  {
   "cell_type": "code",
   "execution_count": 94,
   "metadata": {},
   "outputs": [
    {
     "data": {
      "text/plain": [
       "'640 Кб должно хватить для любых задач. (Bill Gates)'"
      ]
     },
     "execution_count": 94,
     "metadata": {},
     "output_type": "execute_result"
    }
   ],
   "source": [
    "\"{num} Кб должно хватить для любых задач. ({author})\".format(\n",
    "    num=640, author=\"Bill Gates\"\n",
    ")"
   ]
  },
  {
   "cell_type": "markdown",
   "metadata": {},
   "source": [
    "И ещё один (возможно, самый удобный) свособ форматирования строк, доступный начиная с версии Python 3.6: f-строки"
   ]
  },
  {
   "cell_type": "code",
   "execution_count": 95,
   "metadata": {},
   "outputs": [
    {
     "data": {
      "text/plain": [
       "'Преждевременная оптимизация — корень всех зол. (Donald Knuth)'"
      ]
     },
     "execution_count": 95,
     "metadata": {},
     "output_type": "execute_result"
    }
   ],
   "source": [
    "subject = \"оптимизация\"\n",
    "author = \"Donald Knuth\"\n",
    "\n",
    "f\"Преждевременная {subject} — корень всех зол. ({author})\""
   ]
  },
  {
   "cell_type": "markdown",
   "metadata": {},
   "source": [
    "Модификаторы форматирования позволяют указывать, как именно будет выводиться в строке какая-либо переменная. Посмотрим на примере:"
   ]
  },
  {
   "cell_type": "code",
   "execution_count": 96,
   "metadata": {},
   "outputs": [
    {
     "data": {
      "text/plain": [
       "'Binary: 0b1000'"
      ]
     },
     "execution_count": 96,
     "metadata": {},
     "output_type": "execute_result"
    }
   ],
   "source": [
    "num = 8\n",
    "f\"Binary: {num:#b}\" # число будет выводиться в двоичном представлении"
   ]
  },
  {
   "cell_type": "code",
   "execution_count": 97,
   "metadata": {},
   "outputs": [
    {
     "name": "stdout",
     "output_type": "stream",
     "text": [
      "0.6666666666666666\n",
      "0.667\n"
     ]
    }
   ],
   "source": [
    "num = 2 / 3\n",
    "print(num)\n",
    "\n",
    "print(f\"{num:.3f}\") # выводим число с точностью до 3-го знака"
   ]
  },
  {
   "cell_type": "code",
   "execution_count": 42,
   "metadata": {},
   "outputs": [
    {
     "data": {
      "text/plain": [
       "'3.14'"
      ]
     },
     "execution_count": 42,
     "metadata": {},
     "output_type": "execute_result"
    }
   ],
   "source": [
    "pi = 3.1415926\n",
    "pi_fmt = f\"{pi:.2f}\"\n",
    "pi_fmt"
   ]
  },
  {
   "cell_type": "markdown",
   "metadata": {},
   "source": [
    "Больше описания и примеров в документации:\n",
    "\n",
    "https://docs.python.org/3/library/string.html"
   ]
  },
  {
   "cell_type": "markdown",
   "metadata": {},
   "source": [
    "#### Встроенная функция input()\n",
    "\n",
    "Встроеннная функция input() позволяет получить ввод пользователя в виде строки:"
   ]
  },
  {
   "cell_type": "code",
   "execution_count": 98,
   "metadata": {},
   "outputs": [
    {
     "name": "stdout",
     "output_type": "stream",
     "text": [
      "Введи свое имя: Александр\n"
     ]
    },
    {
     "data": {
      "text/plain": [
       "'Привет, Александр!'"
      ]
     },
     "execution_count": 98,
     "metadata": {},
     "output_type": "execute_result"
    }
   ],
   "source": [
    "name = input(\"Введи свое имя: \")\n",
    "\n",
    "f\"Привет, {name}!\""
   ]
  },
  {
   "cell_type": "markdown",
   "metadata": {},
   "source": [
    "#### Байтовые строки (bytes)\n",
    "\n",
    "Байт --- минимальная единица хранения и обработки цифровой информации. Последовательность байт представляет собой какую-либо информацию (текст, картинку, мелодию...) \n",
    "\n",
    "Байтовая строка --- это неизменяемая последовательность чисел от 0 до 255. \n",
    "\n",
    "b-литерал для объявления байтовой строки:"
   ]
  },
  {
   "cell_type": "code",
   "execution_count": 99,
   "metadata": {},
   "outputs": [
    {
     "name": "stdout",
     "output_type": "stream",
     "text": [
      "<class 'bytes'>\n"
     ]
    }
   ],
   "source": [
    "example_bytes = b\"hello\"\n",
    "print(type(example_bytes))"
   ]
  },
  {
   "cell_type": "markdown",
   "metadata": {},
   "source": [
    "Давайте убедимся, что мы действительно получили байтовую строку:"
   ]
  },
  {
   "cell_type": "code",
   "execution_count": 100,
   "metadata": {},
   "outputs": [
    {
     "name": "stdout",
     "output_type": "stream",
     "text": [
      "104\n",
      "101\n",
      "108\n",
      "108\n",
      "111\n"
     ]
    }
   ],
   "source": [
    "for element in example_bytes:\n",
    "    print(element)"
   ]
  },
  {
   "cell_type": "markdown",
   "metadata": {},
   "source": [
    "Однако, если мы, например, попытаемся преобразовать строку \"привет\" в байты, мы получим ошибку. Здесь строка состоит из юникодных символов, которые преобразуются в байты при помощи кодировок. Самая известная кодировка --- это UTF-8. С помощью Python мы можем преобразовать строку в байтовую строку с использованием кодировки UTF-8."
   ]
  },
  {
   "cell_type": "code",
   "execution_count": 101,
   "metadata": {},
   "outputs": [
    {
     "ename": "SyntaxError",
     "evalue": "bytes can only contain ASCII literal characters. (<ipython-input-101-464a5586e9cf>, line 1)",
     "output_type": "error",
     "traceback": [
      "\u001b[0;36m  File \u001b[0;32m\"<ipython-input-101-464a5586e9cf>\"\u001b[0;36m, line \u001b[0;32m1\u001b[0m\n\u001b[0;31m    example_bytes = b\"привет\"\u001b[0m\n\u001b[0m                   ^\u001b[0m\n\u001b[0;31mSyntaxError\u001b[0m\u001b[0;31m:\u001b[0m bytes can only contain ASCII literal characters.\n"
     ]
    }
   ],
   "source": [
    "example_bytes = b\"привет\""
   ]
  },
  {
   "cell_type": "code",
   "execution_count": 146,
   "metadata": {},
   "outputs": [
    {
     "data": {
      "text/plain": [
       "b'test'"
      ]
     },
     "execution_count": 146,
     "metadata": {},
     "output_type": "execute_result"
    }
   ],
   "source": [
    "b\"test\""
   ]
  },
  {
   "cell_type": "code",
   "execution_count": 147,
   "metadata": {},
   "outputs": [
    {
     "ename": "SyntaxError",
     "evalue": "bytes can only contain ASCII literal characters. (<ipython-input-147-8945a81423be>, line 1)",
     "output_type": "error",
     "traceback": [
      "\u001b[0;36m  File \u001b[0;32m\"<ipython-input-147-8945a81423be>\"\u001b[0;36m, line \u001b[0;32m1\u001b[0m\n\u001b[0;31m    b\"тест\"\u001b[0m\n\u001b[0m           ^\u001b[0m\n\u001b[0;31mSyntaxError\u001b[0m\u001b[0;31m:\u001b[0m bytes can only contain ASCII literal characters.\n"
     ]
    }
   ],
   "source": [
    "b\"тест\""
   ]
  },
  {
   "cell_type": "code",
   "execution_count": 148,
   "metadata": {},
   "outputs": [
    {
     "data": {
      "text/plain": [
       "b''"
      ]
     },
     "execution_count": 148,
     "metadata": {},
     "output_type": "execute_result"
    }
   ],
   "source": [
    "b\"\""
   ]
  },
  {
   "cell_type": "markdown",
   "metadata": {},
   "source": [
    "Создадим строку Unicode"
   ]
  },
  {
   "cell_type": "code",
   "execution_count": 102,
   "metadata": {},
   "outputs": [
    {
     "name": "stdout",
     "output_type": "stream",
     "text": [
      "<class 'str'>\n",
      "привет\n"
     ]
    }
   ],
   "source": [
    "example_string = \"привет\"\n",
    "print(type(example_string))\n",
    "print(example_string)"
   ]
  },
  {
   "cell_type": "markdown",
   "metadata": {},
   "source": [
    "Метод encode принимает как параметр желаемую кодировку и кодирует строку в байтовую строку в этой кодировке"
   ]
  },
  {
   "cell_type": "code",
   "execution_count": 103,
   "metadata": {},
   "outputs": [
    {
     "name": "stdout",
     "output_type": "stream",
     "text": [
      "b'\\xd0\\xbf\\xd1\\x80\\xd0\\xb8\\xd0\\xb2\\xd0\\xb5\\xd1\\x82'\n",
      "<class 'bytes'>\n"
     ]
    }
   ],
   "source": [
    "encoded_string = example_string.encode(encoding=\"utf-8\")\n",
    "print(encoded_string)\n",
    "print(type(encoded_string))"
   ]
  },
  {
   "cell_type": "markdown",
   "metadata": {},
   "source": [
    "Можно проверить, что 2 первых символа \\xd0\\xbf действительно кодируют букву \"п\".\n",
    "\n",
    "Чтобы декодировать байтовую строку обратно в строку, можно воспользоваться методом decode:"
   ]
  },
  {
   "cell_type": "code",
   "execution_count": 104,
   "metadata": {},
   "outputs": [
    {
     "name": "stdout",
     "output_type": "stream",
     "text": [
      "привет\n"
     ]
    }
   ],
   "source": [
    "decoded_string = encoded_string.decode()\n",
    "print(decoded_string)"
   ]
  },
  {
   "cell_type": "markdown",
   "metadata": {},
   "source": [
    "Метод decode принимает параметром кодировку, но значение 'utf-8' --- это значение по умолчанию, поэтому мы ничего дополнительно не прописываем."
   ]
  },
  {
   "cell_type": "markdown",
   "metadata": {},
   "source": [
    "#### 1.3.4. Базовые типа: объект None\n",
    "\n",
    "Объект None является единственным значением специального типа NoneType, который используется для того, чтобы подчеркнуть отсутствие значения. Класс NoneType содержит только один объект None. Если вы знаете язык C, то вы можете рассматривать None как эквивалент нулевому указателю. Важно отметить, что при преобразовании None к типу bool всегда получается False."
   ]
  },
  {
   "cell_type": "code",
   "execution_count": 105,
   "metadata": {},
   "outputs": [],
   "source": [
    "answer = None\n",
    "answer"
   ]
  },
  {
   "cell_type": "code",
   "execution_count": 106,
   "metadata": {},
   "outputs": [
    {
     "name": "stdout",
     "output_type": "stream",
     "text": [
      "<class 'NoneType'>\n"
     ]
    }
   ],
   "source": [
    "print(type(None))"
   ]
  },
  {
   "cell_type": "code",
   "execution_count": 107,
   "metadata": {},
   "outputs": [
    {
     "data": {
      "text/plain": [
       "False"
      ]
     },
     "execution_count": 107,
     "metadata": {},
     "output_type": "execute_result"
    }
   ],
   "source": [
    "bool(None)"
   ]
  },
  {
   "cell_type": "code",
   "execution_count": 108,
   "metadata": {},
   "outputs": [
    {
     "name": "stdout",
     "output_type": "stream",
     "text": [
      "Ответ не получен\n"
     ]
    }
   ],
   "source": [
    "answer = None\n",
    "\n",
    "if not answer:\n",
    "    print(\"Ответ не получен\")"
   ]
  },
  {
   "cell_type": "markdown",
   "metadata": {},
   "source": [
    "Переменная со значением None может пригодиться, когда необходимо отличать её от нуля. Например, обозначим некоторой переменной доход от продаж. Он будет равен нулю, если мы ничего не заработали, и None, если даже не начали продавать.\n",
    "\n",
    "В условиях сравнения можно проверять, что некоторая переменная является None:"
   ]
  },
  {
   "cell_type": "code",
   "execution_count": 109,
   "metadata": {},
   "outputs": [
    {
     "name": "stdout",
     "output_type": "stream",
     "text": [
      "Ничего не заработали\n"
     ]
    }
   ],
   "source": [
    "income = 0\n",
    "\n",
    "if not income:\n",
    "    print(\"Ничего не заработали\")"
   ]
  },
  {
   "cell_type": "code",
   "execution_count": 110,
   "metadata": {},
   "outputs": [
    {
     "name": "stdout",
     "output_type": "stream",
     "text": [
      "Еще не начинали продавать\n"
     ]
    }
   ],
   "source": [
    "income = None\n",
    "\n",
    "if income is None:\n",
    "    print(\"Еще не начинали продавать\")\n",
    "elif not income:\n",
    "    print(\"Ничего не заработали\")"
   ]
  },
  {
   "cell_type": "markdown",
   "metadata": {},
   "source": [
    "Важно отметить, что мы проверяем равенство переменной income объекту None с помощью оператора is. Это идиоматичный способ проверки соответствия переменной объекту None в Python. Писать \n",
    "\n",
    "```python \n",
    "if income == None \n",
    "```\n",
    "\n",
    "неидиоматично в Python, потому что в Python оператор == можно переопределить с помощью магических методов, о которых будет сказано в дальнейшем.\n",
    "\n",
    "Вы часто увидите None в именованных аргументах функций или методах классов как значение по умолчанию --- это обычно применяется тогда, когда аргумент является не обязательным --- функция или метод будут работать и тогда, когда аргумент явным образом не передали при вызове. Также часто этим значением инициализируют атрибуты экземпляров классов, чтобы потом в нужный момент переопределить каким-то значением. Про функции и классы будет рассказано на следующих неделях курса. Также None возвращается из функций, которые ничего не вернули с помощью return."
   ]
  },
  {
   "cell_type": "markdown",
   "metadata": {},
   "source": [
    "### 1.3.5. Конструкции управления потоком\n",
    "\n",
    "Для проверки условий и выполнения соотвествующих действий используется конструкции if-else со следующим синтаксисом:"
   ]
  },
  {
   "cell_type": "code",
   "execution_count": 111,
   "metadata": {},
   "outputs": [
    {
     "name": "stdout",
     "output_type": "stream",
     "text": [
      "Условие выполнено!\n"
     ]
    }
   ],
   "source": [
    "company = \"my.com\"\n",
    "\n",
    "if \"my\" in company:\n",
    "    print(\"Условие выполнено!\")"
   ]
  },
  {
   "cell_type": "code",
   "execution_count": 130,
   "metadata": {},
   "outputs": [
    {
     "name": "stdout",
     "output_type": "stream",
     "text": [
      "Условие не выполнено!\n"
     ]
    }
   ],
   "source": [
    "company = \"google.com\"\n",
    "\n",
    "if \"my\" in company:\n",
    "    print(\"Условие выполнено!\")\n",
    "else:\n",
    "    print(\"Условие не выполнено!\")"
   ]
  },
  {
   "cell_type": "code",
   "execution_count": 131,
   "metadata": {},
   "outputs": [
    {
     "name": "stdout",
     "output_type": "stream",
     "text": [
      "Условие выполнено!\n"
     ]
    }
   ],
   "source": [
    "company = \"example.net\"\n",
    "\n",
    "if \"my\" in company or company.endswith(\".net\"):\n",
    "    print(\"Условие выполнено!\")"
   ]
  },
  {
   "cell_type": "markdown",
   "metadata": {},
   "source": [
    "Оператор elif используется, когда нужно проверить несколько разных условий друг за другом:"
   ]
  },
  {
   "cell_type": "code",
   "execution_count": 132,
   "metadata": {},
   "outputs": [
    {
     "name": "stdout",
     "output_type": "stream",
     "text": [
      "Подстрока google найдена\n"
     ]
    }
   ],
   "source": [
    "company = \"google.com\"\n",
    "\n",
    "if \"my\" in company:\n",
    "    print(\"Подстрока my найдена\")\n",
    "elif \"google\" in company:\n",
    "    print(\"Подстрока google найдена\")\n",
    "else:\n",
    "    print(\"Подстрока не найдена\")"
   ]
  },
  {
   "cell_type": "code",
   "execution_count": 145,
   "metadata": {},
   "outputs": [
    {
     "name": "stdout",
     "output_type": "stream",
     "text": [
      "3\n"
     ]
    }
   ],
   "source": [
    "x = \"Москва\"\n",
    "if \"ква\" not in x:\n",
    "    print(\"1\")\n",
    "elif \"ва\" not in x:\n",
    "    print(\"2\")\n",
    "else:\n",
    "    print(\"3\")"
   ]
  },
  {
   "cell_type": "markdown",
   "metadata": {},
   "source": [
    "Аналог тернарного оператора"
   ]
  },
  {
   "cell_type": "code",
   "execution_count": 114,
   "metadata": {},
   "outputs": [
    {
     "name": "stdout",
     "output_type": "stream",
     "text": [
      "Argentina\n"
     ]
    }
   ],
   "source": [
    "score_1 = 5\n",
    "score_2 = 0\n",
    "\n",
    "winner = \"Argentina\" if score_1 > score_2  else \"Jamaica\"\n",
    "\n",
    "print(winner)"
   ]
  },
  {
   "cell_type": "markdown",
   "metadata": {},
   "source": [
    "Оператор while позволяет выполнять блок кода до тех пор, пока выполняется условие:"
   ]
  },
  {
   "cell_type": "code",
   "execution_count": 115,
   "metadata": {},
   "outputs": [
    {
     "name": "stdout",
     "output_type": "stream",
     "text": [
      "100\n"
     ]
    }
   ],
   "source": [
    "i = 0\n",
    "\n",
    "while i < 100:\n",
    "    i += 1\n",
    "\n",
    "print(i)"
   ]
  },
  {
   "cell_type": "code",
   "execution_count": 133,
   "metadata": {},
   "outputs": [
    {
     "name": "stdout",
     "output_type": "stream",
     "text": [
      "2\n",
      "1\n",
      "0\n",
      "-1\n"
     ]
    }
   ],
   "source": [
    "i = 3\n",
    "while i >= 0:\n",
    "    i -= 1\n",
    "    print(i)"
   ]
  },
  {
   "cell_type": "markdown",
   "metadata": {},
   "source": [
    "Выражение for .. in это еще один способ выполнить блок кода - но оно позволяет выполнить блок кода для каждого из элементов из последовательности:"
   ]
  },
  {
   "cell_type": "code",
   "execution_count": 116,
   "metadata": {},
   "outputs": [
    {
     "name": "stdout",
     "output_type": "stream",
     "text": [
      "A\n",
      "l\n",
      "e\n",
      "x\n"
     ]
    }
   ],
   "source": [
    "name = \"Alex\"\n",
    "\n",
    "for letter in name:\n",
    "    print(letter)"
   ]
  },
  {
   "cell_type": "markdown",
   "metadata": {},
   "source": [
    "Встроенный объект range позволяет итерироваться по целым числам:"
   ]
  },
  {
   "cell_type": "code",
   "execution_count": 117,
   "metadata": {},
   "outputs": [
    {
     "name": "stdout",
     "output_type": "stream",
     "text": [
      "0\n",
      "1\n",
      "2\n"
     ]
    }
   ],
   "source": [
    "for i in range(3):\n",
    "    print(i)"
   ]
  },
  {
   "cell_type": "markdown",
   "metadata": {},
   "source": [
    "Мы не увидели число 3, т.к. объект range() не включает в себя последнее значение.\n",
    "\n",
    "Более сложный пример --- задача, которую Фридрих Гаусс однажды очень быстро решил на уроке математики. С помощью Python мы можем решить её не менее быстро:"
   ]
  },
  {
   "cell_type": "code",
   "execution_count": 120,
   "metadata": {},
   "outputs": [
    {
     "name": "stdout",
     "output_type": "stream",
     "text": [
      "5050\n"
     ]
    }
   ],
   "source": [
    "result = 0\n",
    "\n",
    "for i in range(101):\n",
    "    result += i\n",
    "\n",
    "print(result)"
   ]
  },
  {
   "cell_type": "markdown",
   "metadata": {},
   "source": [
    "Можно инициализировать объект range() с двумя аргументами --- чтобы указать, с какого числа начинать итерироваться и каким закончить:"
   ]
  },
  {
   "cell_type": "code",
   "execution_count": 121,
   "metadata": {},
   "outputs": [
    {
     "name": "stdout",
     "output_type": "stream",
     "text": [
      "5\n",
      "6\n",
      "7\n"
     ]
    }
   ],
   "source": [
    "for i in range(5, 8):\n",
    "    print(i)"
   ]
  },
  {
   "cell_type": "markdown",
   "metadata": {},
   "source": [
    "Если же проинициализировать range() с тремя аргументами, последним из них будет шаг итерации:"
   ]
  },
  {
   "cell_type": "code",
   "execution_count": 122,
   "metadata": {},
   "outputs": [
    {
     "name": "stdout",
     "output_type": "stream",
     "text": [
      "1\n",
      "3\n",
      "5\n",
      "7\n",
      "9\n"
     ]
    }
   ],
   "source": [
    "for i in range(1, 10, 2):\n",
    "    print(i)"
   ]
  },
  {
   "cell_type": "markdown",
   "metadata": {},
   "source": [
    "Также есть возможность итерироваться по числам в порядке уменьшения, используя отрицательное значение шага:"
   ]
  },
  {
   "cell_type": "code",
   "execution_count": 123,
   "metadata": {},
   "outputs": [
    {
     "name": "stdout",
     "output_type": "stream",
     "text": [
      "10\n",
      "9\n",
      "8\n",
      "7\n",
      "6\n"
     ]
    }
   ],
   "source": [
    "for i in range(10, 5, -1):\n",
    "    print(i)"
   ]
  },
  {
   "cell_type": "code",
   "execution_count": 150,
   "metadata": {},
   "outputs": [
    {
     "name": "stdout",
     "output_type": "stream",
     "text": [
      "2468\n"
     ]
    }
   ],
   "source": [
    "s = \"\"\n",
    "\n",
    "for i in range(2, 10, 2):\n",
    "    s += str(i)\n",
    "\n",
    "print(s)"
   ]
  },
  {
   "cell_type": "markdown",
   "metadata": {},
   "source": [
    "Для циклов существует ещё несколько полезных комманд: pass (определяет пустой блок, который ничего не делает), break (позволяет выйти из цикла досрочно) и continue (перейти к следующей итерации цикла без выполнения оставшихся инструкций в блоке)."
   ]
  },
  {
   "cell_type": "code",
   "execution_count": 124,
   "metadata": {},
   "outputs": [],
   "source": [
    "for i in range(100):\n",
    "    pass"
   ]
  },
  {
   "cell_type": "code",
   "execution_count": 125,
   "metadata": {},
   "outputs": [
    {
     "name": "stdout",
     "output_type": "stream",
     "text": [
      "100\n"
     ]
    }
   ],
   "source": [
    "result = 0\n",
    "\n",
    "while True:\n",
    "    result += 1\n",
    "    if result >= 100:\n",
    "        break\n",
    "\n",
    "print(result)"
   ]
  },
  {
   "cell_type": "code",
   "execution_count": 126,
   "metadata": {},
   "outputs": [
    {
     "name": "stdout",
     "output_type": "stream",
     "text": [
      "0\n",
      "1\n",
      "2\n",
      "3\n",
      "4\n"
     ]
    }
   ],
   "source": [
    "for i in range(10):\n",
    "    if i == 5:\n",
    "        break\n",
    "    print(i)"
   ]
  },
  {
   "cell_type": "code",
   "execution_count": 127,
   "metadata": {},
   "outputs": [
    {
     "name": "stdout",
     "output_type": "stream",
     "text": [
      "20\n"
     ]
    }
   ],
   "source": [
    "result = 0\n",
    "\n",
    "for i in range(10):\n",
    "    if i % 2 != 0:\n",
    "        continue\n",
    "    result += i\n",
    "\n",
    "print(result)"
   ]
  },
  {
   "cell_type": "code",
   "execution_count": 149,
   "metadata": {},
   "outputs": [
    {
     "name": "stdout",
     "output_type": "stream",
     "text": [
      "0\n"
     ]
    }
   ],
   "source": [
    "n = 0\n",
    "while n < 3:\n",
    "    if n > 0:\n",
    "        continue\n",
    "    else:\n",
    "        break\n",
    "    n += 1\n",
    "\n",
    "print(n)"
   ]
  },
  {
   "cell_type": "markdown",
   "metadata": {},
   "source": [
    "### 1.3.6. Пример на управление потоком"
   ]
  },
  {
   "cell_type": "code",
   "execution_count": 129,
   "metadata": {},
   "outputs": [
    {
     "name": "stdout",
     "output_type": "stream",
     "text": [
      "Угадайте число: ope\n",
      "Введите правильное число\n",
      "Угадайте число: a\n",
      "Введите правильное число\n",
      "Угадайте число: 1\n",
      "Загаданное число больше\n",
      "Угадайте число: 2\n",
      "Загаданное число больше\n",
      "Угадайте число: 3\n",
      "Загаданное число больше\n",
      "Угадайте число: \n",
      "Выход из программы\n"
     ]
    }
   ],
   "source": [
    "import random\n",
    "\n",
    "number = random.randint(0, 100)\n",
    "\n",
    "while True:\n",
    "    answer = input('Угадайте число: ')\n",
    "    if answer == \"\" or answer == \"exit\":\n",
    "        print(\"Выход из программы\")\n",
    "        break\n",
    "\n",
    "    if not answer.isdigit():\n",
    "        print(\"Введите правильное число\")\n",
    "        continue\n",
    "        \n",
    "    answer = int(answer)\n",
    "    \n",
    "    if answer == number:\n",
    "        print('Совершенно верно!')\n",
    "        break\n",
    "\n",
    "    elif answer < number:\n",
    "        print('Загаданное число больше')\n",
    "    else:\n",
    "        print('Загаданное число меньше')"
   ]
  },
  {
   "cell_type": "markdown",
   "metadata": {},
   "source": [
    "Кратко рассмотрим, как написать подобную программу в среде разработки Pycharm. Сначала в Pycharm создаём новый проект, прописываем путь до проекта и до питоновского интерпретатора. В проекте создаём новый файл с расширением .py. Откроется редактор, в котором можно писать код."
   ]
  },
  {
   "cell_type": "markdown",
   "metadata": {},
   "source": [
    "## 1.4. Организация кода и окружение\n",
    "\n",
    "### 1.4.1. Модули и пакеты\n",
    "\n",
    "В Python разделение кода больших программ осуществляется с помощью модулей и пакетов. Модуль в Python --- это обычный файл с расширением .py, который содержит определения переменных, функций, классов, и который также может содержать импорты других модулей. Импорт выполняется стандартной командой import.\n",
    "\n",
    "Python импортирует модуль и выполняет все инструкции, которые в этом модуле на верхнем уровне определены.\n",
    "\n",
    "Создадим модуль mymodule.py в каталоге playground:"
   ]
  },
  {
   "cell_type": "code",
   "execution_count": 1,
   "metadata": {},
   "outputs": [
    {
     "name": "stdout",
     "output_type": "stream",
     "text": [
      "['', '/usr/lib/python36.zip', '/usr/lib/python3.6', '/usr/lib/python3.6/lib-dynload', '/usr/local/lib/python3.6/dist-packages', '/usr/lib/python3/dist-packages', '/usr/lib/python3/dist-packages/IPython/extensions', '/home/puchkinda/.ipython']\n"
     ]
    }
   ],
   "source": [
    "import sys\n",
    "\n",
    "print(sys.path)"
   ]
  },
  {
   "cell_type": "markdown",
   "metadata": {},
   "source": [
    "Python будет искать модули в каталогах, полученных выше, в том числе и в текущем. Подключим этот модуль в интерпретаторе:"
   ]
  },
  {
   "cell_type": "code",
   "execution_count": 3,
   "metadata": {},
   "outputs": [
    {
     "name": "stdout",
     "output_type": "stream",
     "text": [
      "['', '/usr/lib/python36.zip', '/usr/lib/python3.6', '/usr/lib/python3.6/lib-dynload', '/usr/local/lib/python3.6/dist-packages', '/usr/lib/python3/dist-packages', '/usr/lib/python3/dist-packages/IPython/extensions', '/home/puchkinda/.ipython']\n"
     ]
    }
   ],
   "source": [
    "import mymodule"
   ]
  },
  {
   "cell_type": "markdown",
   "metadata": {},
   "source": [
    "Python импортирует модуль только один раз:"
   ]
  },
  {
   "cell_type": "code",
   "execution_count": 4,
   "metadata": {},
   "outputs": [],
   "source": [
    "import mymodule"
   ]
  },
  {
   "cell_type": "markdown",
   "metadata": {},
   "source": [
    "Иногда модулей недостаточно, используются более крупные объединения --- пакеты. Пакеты в Python --- это директория, которая содержит один или больше модулей. Внутри пакетов могут содержаться другие пакеты. Внутри директории с пакетом должен находиться файл \\_\\_init\\_\\_.py (обычно пустой). Этот файл выполняется каждый раз, когда мы импортируем пакет.\n",
    "Конструкция from mymodule import my_function позволяет импортировать только определённые объявления из модуля. Чтобы импортировать все объявления из модуля, пишут from mymodule import *."
   ]
  },
  {
   "cell_type": "markdown",
   "metadata": {},
   "source": [
    "Создадим каталог playground1, в котором создадим пакет в директории mypackage1 (то есть опишем в нем файл \\_\\_init\\_\\_.py). Создадим в каталоге playground1 новый модуль mymodule1.py:"
   ]
  },
  {
   "cell_type": "code",
   "execution_count": 6,
   "metadata": {},
   "outputs": [
    {
     "name": "stdout",
     "output_type": "stream",
     "text": [
      "<module 'mypackage1' from '/home/puchkinda/home/coursera/python1/week1/mypackage1/__init__.py'>\n"
     ]
    }
   ],
   "source": [
    "import mypackage1\n",
    "\n",
    "print(mypackage1)"
   ]
  },
  {
   "cell_type": "markdown",
   "metadata": {},
   "source": [
    "Создадим каталог playground2, в котором создадим пакет в директории mypackage2 (то есть опишем в нем файл \\_\\_init\\_\\_.py). Опишем \\_\\_init.py\\_\\_: "
   ]
  },
  {
   "cell_type": "code",
   "execution_count": 7,
   "metadata": {},
   "outputs": [
    {
     "name": "stdout",
     "output_type": "stream",
     "text": [
      "importing mypackage2\n"
     ]
    }
   ],
   "source": [
    "print(\"importing mypackage2\")"
   ]
  },
  {
   "cell_type": "markdown",
   "metadata": {},
   "source": [
    "Создадим в каталоге playground2 новый модуль mymodule2.py:"
   ]
  },
  {
   "cell_type": "code",
   "execution_count": 8,
   "metadata": {},
   "outputs": [
    {
     "name": "stdout",
     "output_type": "stream",
     "text": [
      "importing mypackage2\n",
      "<module 'mypackage2' from '/home/puchkinda/home/coursera/python1/week1/mypackage2/__init__.py'>\n"
     ]
    }
   ],
   "source": [
    "import mypackage2\n",
    "\n",
    "print(mypackage2)"
   ]
  },
  {
   "cell_type": "markdown",
   "metadata": {},
   "source": [
    "Файл \\_\\_init\\_\\_.py был выполнен.\n",
    "\n",
    "Помимо этого, в директории пакета создался файл \\_\\_init\\_\\_.pyc (байткод) и каталог \\_\\_pycache\\_\\_"
   ]
  },
  {
   "cell_type": "markdown",
   "metadata": {},
   "source": [
    "Каждый модуль содержит в своем пространстве имен переменную \\_\\_name\\_\\_ с двумя подчеркиваниями, которая определяет название модуля, в котором выполняется код. Это позволяет разделить те моменты, когда наш модуль используется напрямую интерпретатором Python, либо он был импортирован из другого модуля. "
   ]
  },
  {
   "cell_type": "markdown",
   "metadata": {},
   "source": [
    "Создадим каталог playground3, в котором создадим пакет в директории mypackage3 (то есть опишем в нем файл \\_\\_init\\_\\_.py). Опишем \\_\\_init.py\\_\\_: "
   ]
  },
  {
   "cell_type": "code",
   "execution_count": 10,
   "metadata": {},
   "outputs": [
    {
     "name": "stdout",
     "output_type": "stream",
     "text": [
      "importing mypackage3\n"
     ]
    }
   ],
   "source": [
    "print(\"importing mypackage3\")"
   ]
  },
  {
   "cell_type": "markdown",
   "metadata": {},
   "source": [
    "Создадим в каталоге playground3 новый модуль mymodule3.py:"
   ]
  },
  {
   "cell_type": "code",
   "execution_count": 12,
   "metadata": {},
   "outputs": [
    {
     "name": "stdout",
     "output_type": "stream",
     "text": [
      "importing mypackage3\n",
      "hello\n"
     ]
    }
   ],
   "source": [
    "import mypackage3\n",
    "\n",
    "if __name__ == \"__main__\":\n",
    "    print(\"hello\")"
   ]
  },
  {
   "cell_type": "markdown",
   "metadata": {},
   "source": [
    "При подключении, а не выполнении, hello не выведется"
   ]
  },
  {
   "cell_type": "code",
   "execution_count": 18,
   "metadata": {},
   "outputs": [
    {
     "name": "stdout",
     "output_type": "stream",
     "text": [
      "importing mypackage3\n"
     ]
    }
   ],
   "source": [
    "import mymodule3\n",
    "print(\"importing mypackage3\") \n",
    "# сам не выводит так как был уже подключен\n",
    "# hello не выведено"
   ]
  },
  {
   "cell_type": "markdown",
   "metadata": {},
   "source": [
    "Создадим каталог playground4, в котором создадим пакет в директории mypackage3 (то есть опишем в нем файл \\_\\_init\\_\\_.py). Опишем \\_\\_init.py\\_\\_: "
   ]
  },
  {
   "cell_type": "code",
   "execution_count": 19,
   "metadata": {},
   "outputs": [
    {
     "name": "stdout",
     "output_type": "stream",
     "text": [
      "importing mypackage4\n"
     ]
    }
   ],
   "source": [
    "print(\"importing mypackage4\")"
   ]
  },
  {
   "cell_type": "markdown",
   "metadata": {},
   "source": [
    "В ней же опишем модуль utils.py"
   ]
  },
  {
   "cell_type": "code",
   "execution_count": 22,
   "metadata": {},
   "outputs": [],
   "source": [
    "def multiply(a, b):\n",
    "    return a * b"
   ]
  },
  {
   "cell_type": "markdown",
   "metadata": {},
   "source": [
    "Создадим в каталоге playground4 новый модуль mymodule4.py:"
   ]
  },
  {
   "cell_type": "code",
   "execution_count": 23,
   "metadata": {},
   "outputs": [
    {
     "name": "stdout",
     "output_type": "stream",
     "text": [
      "importing mypackage4\n",
      "6\n"
     ]
    }
   ],
   "source": [
    "import mypackage4.utils\n",
    "\n",
    "if __name__ == \"__main__\":\n",
    "    print(mypackage4.utils.multiply(2, 3))"
   ]
  },
  {
   "cell_type": "markdown",
   "metadata": {},
   "source": [
    "Сделаем запись менее громоздкой в модуле mymodule4.py:"
   ]
  },
  {
   "cell_type": "code",
   "execution_count": 24,
   "metadata": {},
   "outputs": [
    {
     "name": "stdout",
     "output_type": "stream",
     "text": [
      "6\n"
     ]
    }
   ],
   "source": [
    "from mypackage4.utils import multiply\n",
    "\n",
    "if __name__ == \"__main__\":\n",
    "    print(multiply(2, 3))"
   ]
  },
  {
   "cell_type": "markdown",
   "metadata": {},
   "source": [
    "Еще менее громоздкой для подключения всего:"
   ]
  },
  {
   "cell_type": "code",
   "execution_count": 26,
   "metadata": {},
   "outputs": [
    {
     "name": "stdout",
     "output_type": "stream",
     "text": [
      "6\n"
     ]
    }
   ],
   "source": [
    "from mypackage4.utils import *\n",
    "\n",
    "if __name__ == \"__main__\":\n",
    "    print(multiply(2, 3))"
   ]
  },
  {
   "cell_type": "markdown",
   "metadata": {},
   "source": [
    "На практике импортировать все не стоит, так как\n",
    "\n",
    "- Теряется читабельность\n",
    "- Пространство имен перегружается неиспользованными объектами\n",
    "- Возможны конфликты имен\n",
    "\n",
    "Рассмотрим, как узнать расположение модуля на примере модуля с правилами, которым должен следовать каждый python-программист:"
   ]
  },
  {
   "cell_type": "code",
   "execution_count": 27,
   "metadata": {},
   "outputs": [
    {
     "name": "stdout",
     "output_type": "stream",
     "text": [
      "The Zen of Python, by Tim Peters\n",
      "\n",
      "Beautiful is better than ugly.\n",
      "Explicit is better than implicit.\n",
      "Simple is better than complex.\n",
      "Complex is better than complicated.\n",
      "Flat is better than nested.\n",
      "Sparse is better than dense.\n",
      "Readability counts.\n",
      "Special cases aren't special enough to break the rules.\n",
      "Although practicality beats purity.\n",
      "Errors should never pass silently.\n",
      "Unless explicitly silenced.\n",
      "In the face of ambiguity, refuse the temptation to guess.\n",
      "There should be one-- and preferably only one --obvious way to do it.\n",
      "Although that way may not be obvious at first unless you're Dutch.\n",
      "Now is better than never.\n",
      "Although never is often better than *right* now.\n",
      "If the implementation is hard to explain, it's a bad idea.\n",
      "If the implementation is easy to explain, it may be a good idea.\n",
      "Namespaces are one honking great idea -- let's do more of those!\n"
     ]
    }
   ],
   "source": [
    "import this"
   ]
  },
  {
   "cell_type": "code",
   "execution_count": 29,
   "metadata": {},
   "outputs": [
    {
     "data": {
      "text/plain": [
       "'/usr/lib/python3.6/this.py'"
      ]
     },
     "execution_count": 29,
     "metadata": {},
     "output_type": "execute_result"
    }
   ],
   "source": [
    "import inspect\n",
    "inspect.getfile(this)"
   ]
  },
  {
   "cell_type": "markdown",
   "metadata": {},
   "source": [
    "Выведем все модули:"
   ]
  },
  {
   "cell_type": "code",
   "execution_count": 32,
   "metadata": {},
   "outputs": [
    {
     "name": "stdout",
     "output_type": "stream",
     "text": [
      "['_collections_abc.py', 'sqlite3', 'concurrent', 'ssl.py', 'xdrlib.py', '_bootlocale.py', 'weakref.py', 'pipes.py', 'queue.py', '_dummy_thread.py', 'enum.py', 'importlib', 'asyncore.py', 'random.py', 'telnetlib.py', 'doctest.py', 'unittest', 'selectors.py', 'chunk.py', 'socketserver.py', 'csv.py', 'cgitb.py', 'stat.py', 'this.py', 'poplib.py', 'lib2to3', '_pyio.py', 'xmlrpc', 'inspect.py', 'asyncio', '_pydecimal.py', 'tracemalloc.py', 'cmd.py', 'turtle.py', 'bdb.py', 'struct.py', 're.py', 'hmac.py', 'glob.py', 'ctypes', 'contextlib.py', 'imaplib.py', 'locale.py', 'typing.py', 'multiprocessing', 'statistics.py', 'argparse.py', 'stringprep.py', 'pkgutil.py', 'pty.py', 'urllib', 'colorsys.py', 'wsgiref', 'fnmatch.py', 'site.py', 'smtpd.py', 'secrets.py', 'nturl2path.py', '_weakrefset.py', '_sysconfigdata_m_linux_x86_64-linux-gnu.py', 'sunau.py', 'email', '_sitebuiltins.py', '_osx_support.py', 'sre_constants.py', 'tarfile.py', 'netrc.py', 'zipapp.py', 'imghdr.py', '_compat_pickle.py', 'py_compile.py', 'shlex.py', 'json', 'test', '__future__.py', 'difflib.py', 'crypt.py', 'types.py', '__phello__.foo.py', 'distutils', 'linecache.py', 'cgi.py', 'signal.py', 'pdb.py', 'codecs.py', 'pstats.py', 'xml', 'dbm', 'LICENSE.txt', 'genericpath.py', 'code.py', 'hashlib.py', 'runpy.py', 'ftplib.py', 'nntplib.py', 'modulefinder.py', '_strptime.py', 'http', 'operator.py', 'heapq.py', 'zipfile.py', 'copy.py', '_threading_local.py', 'macurl2path.py', 'symtable.py', 'uuid.py', '_markupbase.py', 'dis.py', 'timeit.py', 'opcode.py', 'encodings', 'lib-dynload', 'logging', 'posixpath.py', 'asynchat.py', 'os.py', 'codeop.py', 'configparser.py', 'pydoc.py', 'keyword.py', 'collections', 'mimetypes.py', 'traceback.py', 'shelve.py', 'rlcompleter.py', 'tempfile.py', 'smtplib.py', 'mailbox.py', 'curses', 'numbers.py', 'webbrowser.py', 'gettext.py', 'io.py', 'platform.py', 'wave.py', 'fractions.py', 'ast.py', 'getpass.py', 'html', 'copyreg.py', 'cProfile.py', 'trace.py', 'quopri.py', 'profile.py', 'warnings.py', 'pathlib.py', 'ipaddress.py', 'decimal.py', 'binhex.py', 'tokenize.py', 'imp.py', 'venv', 'abc.py', 'textwrap.py', 'sched.py', 'pyclbr.py', '_compression.py', 'socket.py', 'uu.py', 'sre_parse.py', 'pydoc_data', 'sitecustomize.py', 'bz2.py', 'pprint.py', 'bisect.py', 'formatter.py', 'sndhdr.py', 'base64.py', 'getopt.py', 'pickle.py', 'plistlib.py', 'antigravity.py', 'tabnanny.py', '__pycache__', 'tty.py', 'reprlib.py', 'token.py', 'functools.py', 'mailcap.py', 'sysconfig.py', 'compileall.py', 'lzma.py', 'optparse.py', 'aifc.py', 'filecmp.py', 'shutil.py', 'pickletools.py', 'calendar.py', 'config-3.6m-x86_64-linux-gnu', 'string.py', 'fileinput.py', 'threading.py', 'gzip.py', 'ntpath.py', 'macpath.py', 'datetime.py', 'sre_compile.py', 'dummy_threading.py', 'ensurepip', 'subprocess.py', 'symbol.py']\n"
     ]
    }
   ],
   "source": [
    "import os\n",
    "print(os.listdir('/usr/lib/python3.6'))"
   ]
  },
  {
   "cell_type": "markdown",
   "metadata": {},
   "source": [
    "Установка сторонних пакетов производится с помощью утилиты pip, а описания библиотек можно посмотреть на сайте pypi.org."
   ]
  },
  {
   "cell_type": "markdown",
   "metadata": {},
   "source": [
    "### 1.4.2. Виртуальное окружение (Virtualenv). Установка и запуск Jupyter Notebook\n",
    "\n",
    "Чтобы поставить сторонний пакет на операционную систему, пользуются утилитой pip. В командной строке можно набрать \n",
    "\n",
    "```bash\n",
    "pip install\n",
    "```\n",
    "\n",
    "и название сторонней библиотеки, которую вам хочется поставить.\n",
    "\n",
    "Хорошей практикой при программировании на Python является использование виртуальных окружений. Виртуальное окружение в Python --- это окружение, которое позволяет изолировать зависимости для определённого проекта. Обычно для каждого проекта создаётся своё виртуальное окружение, в которое ставятся все пакеты, используемые в данном проекте.\n",
    "\n",
    "Чтобы создать виртуальное окружение, воспользуемся модулем venv. Синтаксис: \n",
    "\n",
    "```bash \n",
    "python3 −m venv \n",
    "```\n",
    "\n",
    "и далее название директории, в которой будет создано новое виртуальное окружение. Обычно папка с виртуальным окружением создаётся рядом с папкой проекта. Создадлим виртуальное окружение в каталоге env. Внутри появится каталог bin (исполняемые файлы python, pip, activate для запуска окружения). Виртуальное окружение активируется следующей командой:\n",
    "\n",
    "```bash\n",
    "source /bin/activate\n",
    "```\n",
    "\n",
    "или\n",
    "\n",
    "```bash\n",
    ". /bin/activate\n",
    "```\n",
    "\n",
    "После этого в виртуальное окружение можно устанавливать пакеты известной нам командой pip install.\n",
    "\n",
    "Выход из виртуального окружения:\n",
    "\n",
    "```bash\n",
    "deactivate\n",
    "```"
   ]
  },
  {
   "cell_type": "markdown",
   "metadata": {},
   "source": [
    "Поставим известное приложение Jupyter Notebook. Jupyter Notebook --- очень распространённое приложение, которое применяется повсеместно разработчиками на Python, а также учёными для презентации своей работы и интерактивного запуска кода.\n",
    "\n",
    "```bash\n",
    "pip install jupyter\n",
    "```\n",
    "\n",
    "Вместе с jupyter установится полезный пакет ipython --- расширенная версия интерактивного интерпретатора Python, которая может служить его альтернативой.\n",
    "\n",
    "Чтобы запустить Jupyter Notebook, воспользуйтесь командой \n",
    "\n",
    "```bash\n",
    "jupyter-notebook\n",
    "```\n",
    "\n",
    "Это приложение запускается в веб-браузере. Внутри него можно создавать \"ноутбуки\", где в ячейках можно писать код и интерактивно его исполнять. Если запуск в браузере не произошел, то в командной строке будет ссылка, по которой нужно пройти."
   ]
  },
  {
   "cell_type": "markdown",
   "metadata": {},
   "source": [
    "### 1.4.3. Пример. Пишем программу.\n",
    "\n",
    "Ресурс freegeoip.net позволяет получить по IP-адресу информацию о нашем положении. Давайте получим эту информацию с помощью Python и напечатаем на экран. Для этого нужно создать рабочую директории, а в ней --- папку с виртуальным окружением и затем его активировать.\n",
    "Для правильной работы программы необходимо установить пакет requests --- пакет для работы с http-запросами.\n",
    "\n",
    "Создадим виртуальное окружение env:\n",
    "\n",
    "```bash\n",
    "python3 -m venv env\n",
    "```\n",
    "\n",
    "Перейдем в него:\n",
    "\n",
    "```bash\n",
    ". /bin/activate\n",
    "```\n",
    "\n",
    "Установим в нем пакет requests (для работы с http):\n",
    "\n",
    "```bash\n",
    "pip install requests\n",
    "```\n",
    "\n",
    "Создадим файл location.py:"
   ]
  },
  {
   "cell_type": "code",
   "execution_count": 34,
   "metadata": {},
   "outputs": [
    {
     "name": "stdout",
     "output_type": "stream",
     "text": [
      "{'as': 'AS29233 \"UMOS CENTER\" LLC',\n",
      " 'city': 'Moscow',\n",
      " 'country': 'Russia',\n",
      " 'countryCode': 'RU',\n",
      " 'isp': 'UMOS-Center NGN infrastructure',\n",
      " 'lat': 55.7527,\n",
      " 'lon': 37.6172,\n",
      " 'org': 'Moscow State University',\n",
      " 'query': '85.89.127.33',\n",
      " 'region': 'MOW',\n",
      " 'regionName': 'Moscow',\n",
      " 'status': 'success',\n",
      " 'timezone': 'Europe/Moscow',\n",
      " 'zip': '129128'}\n"
     ]
    }
   ],
   "source": [
    "import requests\n",
    "import pprint\n",
    "\n",
    "def get_location_info():\n",
    "    # get - http запрос как в браузере\n",
    "    # ,json - из json в словарь\n",
    "    return requests.get(\"http://ip-api.com/json/\").json()\n",
    "\n",
    "if __name__ == \"__main__\": \n",
    "    # чтобы работала только когда ее исполняем\n",
    "    pprint.pprint(get_location_info())"
   ]
  },
  {
   "cell_type": "markdown",
   "metadata": {},
   "source": [
    "#### Сумма цифр в строке\n",
    "\n",
    "Написать программу (скрипт), которая будет запускаться из командной строки. Программа принимает в качестве аргумента строку, состоящую из цифр. Гарантируется, что других символов в переданном параметре нет и на вход всегда подается не пустая строка. Программа должна вычислить сумму цифр из которых состоит строка и вывести полученный результат на печать в стандартный вывод.\n",
    "\n",
    "Пример работы программы:\n",
    "\n",
    "```bash\n",
    "python solution.py 12345\n",
    "```\n",
    "\n",
    "15\n",
    "\n",
    "```bash\n",
    "python solution.py 160438521039\n",
    "```\n",
    "\n",
    "42"
   ]
  },
  {
   "cell_type": "markdown",
   "metadata": {},
   "source": [
    "Решение 1:\n",
    "\n",
    "```python\n",
    "import sys\n",
    "\n",
    "digit_string = sys.argv[1]\n",
    "s = 0\n",
    "for i in digit_string:\n",
    "    s += int(i)\n",
    "print(s)\n",
    "```\n",
    "\n",
    "Решение 2:\n",
    "\n",
    "```python\n",
    "import sys\n",
    "\n",
    "print(sum([int(x) for x in sys.argv[1]]))\n",
    "```"
   ]
  },
  {
   "cell_type": "markdown",
   "metadata": {},
   "source": [
    "#### Рисуем лестницу\n",
    "\n",
    "Написать скрипт, который «нарисует» (выведет на консоль) лестницу. Количество ступенек в лестнице передается скрипту в качестве параметра. Гарантируется, что на вход подаются только целые числа > 0. Чтение данных нужно произвести способом, аналогичным тому, что описан в предыдущем задании. Ступени должны отображаться с помощью символа решетки \"#\" и пробелов. \n",
    "\n",
    "Пример работы скрипта:\n",
    "\n",
    "```bash\n",
    "python solution.py 3\n",
    "  #\n",
    " ##\n",
    "###\n",
    "```\n",
    "\n",
    "```bash\n",
    "python solution.py 5\n",
    "    #\n",
    "   ##\n",
    "  ###\n",
    " ####\n",
    "#####\n",
    "```"
   ]
  },
  {
   "cell_type": "markdown",
   "metadata": {},
   "source": [
    "Решение:\n",
    "\n",
    "```python\n",
    "import sys\n",
    "\n",
    "num_steps = int(sys.argv[1])\n",
    "\n",
    "for i in range(num_steps):\n",
    "    print(\" \" * (num_steps-1-i), \"#\" * (i+1), sep = \"\")\n",
    "```"
   ]
  },
  {
   "cell_type": "markdown",
   "metadata": {},
   "source": [
    "#### Корни квадратного уравнения\n",
    "\n",
    "Написать программу, которая запускается в командной строке с параметрами, вычисляет значения корней квадратного уравнения и выводит их на печать. На вход программе подаются коэффициенты a, b и c. На печать должно выводиться два корня квадратного уравнения. Обратите внимание на то, как выводятся корни - каждый с новой строки.\n",
    "\n",
    "Чтобы не усложнять вашу задачу все коэффициенты, которые мы будем подавать вам на вход являются коэффициентами, которые в итоге дают 2 корня квадратного уравнения.\n",
    "\n",
    "Пример работ:\n",
    "\n",
    "```bash\n",
    "python solution.py 1 -3 -4\n",
    "```\n",
    "\n",
    "4\n",
    "-1\n",
    "\n",
    "```bash\n",
    "python solution.py 13 236 -396\n",
    "```\n",
    "\n",
    "1\n",
    "-19"
   ]
  },
  {
   "cell_type": "markdown",
   "metadata": {},
   "source": [
    "Решение\n",
    "\n",
    "```python\n",
    "import sys\n",
    "\n",
    "a = int(sys.argv[1])\n",
    "b = int(sys.argv[2])\n",
    "c = int(sys.argv[3])\n",
    "\n",
    "d = (b**2 - 4*a*c) ** 0.5\n",
    "\n",
    "print(int(((-1)*b + d)/(2*a)))\n",
    "print(int(((-1)*b - d)/(2*a)))\n",
    "```"
   ]
  },
  {
   "cell_type": "markdown",
   "metadata": {},
   "source": [
    "### 1.4.4. Объектная структура в Python\n",
    "\n",
    "Когда мы создаем переменную в языке Python, мы не просто присваиваем переменной значение, а создаём связь имени переменной с объектом. У переменных каждого типа существуют методы, например, у переменной типа int есть специальный метод \\_\\_add\\_\\_. Методы можно перечислить с помощью команды dir()."
   ]
  },
  {
   "cell_type": "code",
   "execution_count": 48,
   "metadata": {},
   "outputs": [
    {
     "data": {
      "text/plain": [
       "15"
      ]
     },
     "execution_count": 48,
     "metadata": {},
     "output_type": "execute_result"
    }
   ],
   "source": [
    "num = 13\n",
    "num.__add__(2)"
   ]
  },
  {
   "cell_type": "code",
   "execution_count": 49,
   "metadata": {},
   "outputs": [
    {
     "name": "stdout",
     "output_type": "stream",
     "text": [
      "['__abs__', '__add__', '__and__', '__bool__', '__ceil__', '__class__', '__delattr__', '__dir__', '__divmod__', '__doc__', '__eq__', '__float__', '__floor__', '__floordiv__', '__format__', '__ge__', '__getattribute__', '__getnewargs__', '__gt__', '__hash__', '__index__', '__init__', '__init_subclass__', '__int__', '__invert__', '__le__', '__lshift__', '__lt__', '__mod__', '__mul__', '__ne__', '__neg__', '__new__', '__or__', '__pos__', '__pow__', '__radd__', '__rand__', '__rdivmod__', '__reduce__', '__reduce_ex__', '__repr__', '__rfloordiv__', '__rlshift__', '__rmod__', '__rmul__', '__ror__', '__round__', '__rpow__', '__rrshift__', '__rshift__', '__rsub__', '__rtruediv__', '__rxor__', '__setattr__', '__sizeof__', '__str__', '__sub__', '__subclasshook__', '__truediv__', '__trunc__', '__xor__', 'bit_length', 'conjugate', 'denominator', 'from_bytes', 'imag', 'numerator', 'real', 'to_bytes']\n"
     ]
    }
   ],
   "source": [
    "print(dir(num))"
   ]
  },
  {
   "cell_type": "code",
   "execution_count": 50,
   "metadata": {},
   "outputs": [
    {
     "name": "stdout",
     "output_type": "stream",
     "text": [
      "['__add__', '__class__', '__contains__', '__delattr__', '__dir__', '__doc__', '__eq__', '__format__', '__ge__', '__getattribute__', '__getitem__', '__getnewargs__', '__gt__', '__hash__', '__init__', '__init_subclass__', '__iter__', '__le__', '__len__', '__lt__', '__mod__', '__mul__', '__ne__', '__new__', '__reduce__', '__reduce_ex__', '__repr__', '__rmod__', '__rmul__', '__setattr__', '__sizeof__', '__str__', '__subclasshook__', 'capitalize', 'casefold', 'center', 'count', 'encode', 'endswith', 'expandtabs', 'find', 'format', 'format_map', 'index', 'isalnum', 'isalpha', 'isdecimal', 'isdigit', 'isidentifier', 'islower', 'isnumeric', 'isprintable', 'isspace', 'istitle', 'isupper', 'join', 'ljust', 'lower', 'lstrip', 'maketrans', 'partition', 'replace', 'rfind', 'rindex', 'rjust', 'rpartition', 'rsplit', 'rstrip', 'split', 'splitlines', 'startswith', 'strip', 'swapcase', 'title', 'translate', 'upper', 'zfill']\n"
     ]
    }
   ],
   "source": [
    "print(dir(\"строка\"))"
   ]
  },
  {
   "cell_type": "markdown",
   "metadata": {},
   "source": [
    "Как мы видим, у переменной num огромное множество методов. Напрашивается вопрос о том, как вообще переменные могут обладать методами. Ответ --- в особенности устройства языка Python. Переменные могут обладать методами только потому, что на самом деле они являются объектами в языке Python. На C-уровне определена структура PyObject:\n",
    "\n",
    "```C\n",
    "typedef struct _object { \n",
    "    _PyObject_HEAD_EXTRA\n",
    "    Py_ssize_t ob_refcnt;\t     // Счетчик ссылок \n",
    "    struct _typeobject *ob_type; // Указатель на тип объекта\n",
    "} PyObject;\n",
    "```\n",
    "\n",
    "Эта структура содержит два важных поля. Поле ob_ refcnt --- счётчик ссылок, когда мы создаём новую связь переменной с объектом, он увеличивается на единицу. Если какая-то связь становится не нужна, соответствующий счётчик ссылок на единицу уменьшается. Когда он достигает нуля, объект удаляется из памяти. Так в Python организована автоматическая сборка мусора. Второе важное поле --- указатель на тип объекта. Этот указатель может менять своё значение в процессе работы программы, и именно таким образом в Python реализована динамическая типизация.\n",
    "\n",
    "Также есть структура PyVarObject, которая добавляет в структуру PyObject поле ob_ size. Это поле может, например, изпользоваться как контейнер для длинуы строки (чтобы каждый раз её не расчитывать). В различных типах это поле используется поразному.\n",
    "\n",
    "```C\n",
    "typedef struct {\n",
    "    PyObject ob_base;\n",
    "    Py_ssize_t ob_size; // Кол-во элементов в переменной части\n",
    "} PyVarObject;\n",
    "```\n",
    "\n",
    "Также на С-уровне определены два макроса, которые соответствуют PyObject и PyVarObject. Эти макросы используются для того, чтобы создавать новые объекты в Python. Все встроенные типы в Python расширяют структуры PyObject, либо PyVarObject.\n",
    "\n",
    "```C\n",
    "\n",
    "#define PyObject_HEAD PyObject ob_base; \n",
    "#define PyObject_VAR_HEAD PyVarObject ob_base;\n",
    "\n",
    "typedef struct PyMyObject { \n",
    "    PyObject_HEAD ...\n",
    "}\n",
    "//или\n",
    "typedef struct PyMyObject { \n",
    "    PyObject_VAR_HEAD ...\n",
    "}\n",
    "```\n",
    "\n",
    "Практически все в Python наследуется от PyObject, является объектом и может быть присвоено переменной и быть передано в качестве аргумента в функцию! Не только базовые типы, такие как int, float, bool, str и т.д., но также и функции и даже модули, содержащие наш код на Python.\n",
    "\n",
    "Теперь вы знаете, что почти все в Python имплементировано как объект, у каждого такого объекта есть счетчик ссылок и описание типа, и в конечном итоге у объекта определенного типа есть масса методов и атрибутов, которые мы с вами видели, например, вызывая функцию dir с целочисленным объектом в качестве аргумента. Также раскрыта тайна почему я постоянно произносил что мы связываем имя переменной с объектом, а не просто что мы присваиваем переменной значение. Я хотел подчеркнуть особенность объектной структуры Python, о которой мы только что поговорили."
   ]
  },
  {
   "cell_type": "markdown",
   "metadata": {},
   "source": [
    "### 1.4.5. Байткод\n",
    "\n",
    "При запуске функций, импортированных из модулей и пакетов, Python создаёт файлы с расширением pyc. В этих файлах и находится байткод, то есть скомпилированное представление вашего кода в форме, удобной Python для интерпретирования.\n",
    "\n",
    "Допустим, нами был создан модуль mymodule, содержащий единственную фукнцию multiply:"
   ]
  },
  {
   "cell_type": "code",
   "execution_count": 51,
   "metadata": {},
   "outputs": [],
   "source": [
    "def multiply(a, b):\n",
    "    return a * b"
   ]
  },
  {
   "cell_type": "markdown",
   "metadata": {},
   "source": [
    "Теперь эту функцию можно импортировать.\n",
    "Функция, как и всё в Python, является объектом, и сделав её импорт, мы можем перечислить её методы с помощью функции dir():"
   ]
  },
  {
   "cell_type": "code",
   "execution_count": 52,
   "metadata": {},
   "outputs": [
    {
     "data": {
      "text/plain": [
       "['__annotations__',\n",
       " '__call__',\n",
       " '__class__',\n",
       " '__closure__',\n",
       " '__code__',\n",
       " '__defaults__',\n",
       " '__delattr__',\n",
       " '__dict__',\n",
       " '__dir__',\n",
       " '__doc__',\n",
       " '__eq__',\n",
       " '__format__',\n",
       " '__ge__',\n",
       " '__get__',\n",
       " '__getattribute__',\n",
       " '__globals__',\n",
       " '__gt__',\n",
       " '__hash__',\n",
       " '__init__',\n",
       " '__init_subclass__',\n",
       " '__kwdefaults__',\n",
       " '__le__',\n",
       " '__lt__',\n",
       " '__module__',\n",
       " '__name__',\n",
       " '__ne__',\n",
       " '__new__',\n",
       " '__qualname__',\n",
       " '__reduce__',\n",
       " '__reduce_ex__',\n",
       " '__repr__',\n",
       " '__setattr__',\n",
       " '__sizeof__',\n",
       " '__str__',\n",
       " '__subclasshook__']"
      ]
     },
     "execution_count": 52,
     "metadata": {},
     "output_type": "execute_result"
    }
   ],
   "source": [
    "from mymodule import multiply \n",
    "\n",
    "dir(multiply)"
   ]
  },
  {
   "cell_type": "markdown",
   "metadata": {},
   "source": [
    "Один из атрибутов функции --- это \\_\\_code\\_\\_, в котором содержится code object --- объект, который оборачивает написанный код:"
   ]
  },
  {
   "cell_type": "code",
   "execution_count": 53,
   "metadata": {},
   "outputs": [
    {
     "data": {
      "text/plain": [
       "<code object multiply at 0x7f9c1ef0c540, file \"/home/puchkinda/home/coursera/python1/week1/mymodule.py\", line 3>"
      ]
     },
     "execution_count": 53,
     "metadata": {},
     "output_type": "execute_result"
    }
   ],
   "source": [
    "multiply.__code__"
   ]
  },
  {
   "cell_type": "markdown",
   "metadata": {},
   "source": [
    "У этого объекта есть метод co_code, который возвращает байткод, сгенерированный Python для этой функции (то есть инструкции для интерпретатора Python):"
   ]
  },
  {
   "cell_type": "code",
   "execution_count": 54,
   "metadata": {},
   "outputs": [
    {
     "data": {
      "text/plain": [
       "b'|\\x00|\\x01\\x14\\x00S\\x00'"
      ]
     },
     "execution_count": 54,
     "metadata": {},
     "output_type": "execute_result"
    }
   ],
   "source": [
    "multiply.__code__.co_code"
   ]
  },
  {
   "cell_type": "markdown",
   "metadata": {},
   "source": [
    "Чтобы привести байткод в читаемый вид (т.е. дизассемблировать), используется функция dis.dis() из пакета dis."
   ]
  },
  {
   "cell_type": "code",
   "execution_count": 55,
   "metadata": {},
   "outputs": [
    {
     "name": "stdout",
     "output_type": "stream",
     "text": [
      "  4           0 LOAD_FAST                0 (a)\n",
      "              2 LOAD_FAST                1 (b)\n",
      "              4 BINARY_MULTIPLY\n",
      "              6 RETURN_VALUE\n"
     ]
    }
   ],
   "source": [
    "import dis \n",
    "\n",
    "dis.dis(multiply)"
   ]
  },
  {
   "cell_type": "markdown",
   "metadata": {},
   "source": [
    "Мы видим, что функция преобразовывается в байткод из четырех инструкций. Каждая из этих инструкций содержит определённое действие. \n",
    "\n",
    "Первая --- это LOAD_FAST, которая загружает содержимое переменной a в память и помещает его на стек. Как только переменная a помещена на стек, мы переходим к аналогичной инструкции для переменной b. \n",
    "\n",
    "Следующая инструкция --- BINARY_MULTIPLY --- говорит интерпретатору Python взять два самых верхних значения на стеке и произвести их умножение. Заметьте, что мы могли передать в функцию значение любого типа: целые числа, вещественные числа или строки, байткод бы от этого не поменялся. Типизация начинает работать тогда, когда Python выполняет ту или иную инструкцию. В данном случае, когда выполняется инструкция BINARY_MULTIPLY, Python смотрит на тип объектов, и, например, если это два числа, производит умножение двух чисел. Результат умножения он поместит на вершину стека.\n",
    "\n",
    "И последняя инструкция --- это RETURN_VALUE, которая и возвращает переменную с вершины стека.\n",
    "\n",
    "Любой код на Python компилируется в байткод. Все возможные инструкции, которые Python выполняет на уровне байткода, можно посмотреть следующим образом:"
   ]
  },
  {
   "cell_type": "code",
   "execution_count": 57,
   "metadata": {},
   "outputs": [
    {
     "name": "stdout",
     "output_type": "stream",
     "text": [
      "{'POP_TOP': 1, 'ROT_TWO': 2, 'ROT_THREE': 3, 'DUP_TOP': 4, 'DUP_TOP_TWO': 5, 'NOP': 9, 'UNARY_POSITIVE': 10, 'UNARY_NEGATIVE': 11, 'UNARY_NOT': 12, 'UNARY_INVERT': 15, 'BINARY_MATRIX_MULTIPLY': 16, 'INPLACE_MATRIX_MULTIPLY': 17, 'BINARY_POWER': 19, 'BINARY_MULTIPLY': 20, 'BINARY_MODULO': 22, 'BINARY_ADD': 23, 'BINARY_SUBTRACT': 24, 'BINARY_SUBSCR': 25, 'BINARY_FLOOR_DIVIDE': 26, 'BINARY_TRUE_DIVIDE': 27, 'INPLACE_FLOOR_DIVIDE': 28, 'INPLACE_TRUE_DIVIDE': 29, 'GET_AITER': 50, 'GET_ANEXT': 51, 'BEFORE_ASYNC_WITH': 52, 'INPLACE_ADD': 55, 'INPLACE_SUBTRACT': 56, 'INPLACE_MULTIPLY': 57, 'INPLACE_MODULO': 59, 'STORE_SUBSCR': 60, 'DELETE_SUBSCR': 61, 'BINARY_LSHIFT': 62, 'BINARY_RSHIFT': 63, 'BINARY_AND': 64, 'BINARY_XOR': 65, 'BINARY_OR': 66, 'INPLACE_POWER': 67, 'GET_ITER': 68, 'GET_YIELD_FROM_ITER': 69, 'PRINT_EXPR': 70, 'LOAD_BUILD_CLASS': 71, 'YIELD_FROM': 72, 'GET_AWAITABLE': 73, 'INPLACE_LSHIFT': 75, 'INPLACE_RSHIFT': 76, 'INPLACE_AND': 77, 'INPLACE_XOR': 78, 'INPLACE_OR': 79, 'BREAK_LOOP': 80, 'WITH_CLEANUP_START': 81, 'WITH_CLEANUP_FINISH': 82, 'RETURN_VALUE': 83, 'IMPORT_STAR': 84, 'SETUP_ANNOTATIONS': 85, 'YIELD_VALUE': 86, 'POP_BLOCK': 87, 'END_FINALLY': 88, 'POP_EXCEPT': 89, 'STORE_NAME': 90, 'DELETE_NAME': 91, 'UNPACK_SEQUENCE': 92, 'FOR_ITER': 93, 'UNPACK_EX': 94, 'STORE_ATTR': 95, 'DELETE_ATTR': 96, 'STORE_GLOBAL': 97, 'DELETE_GLOBAL': 98, 'LOAD_CONST': 100, 'LOAD_NAME': 101, 'BUILD_TUPLE': 102, 'BUILD_LIST': 103, 'BUILD_SET': 104, 'BUILD_MAP': 105, 'LOAD_ATTR': 106, 'COMPARE_OP': 107, 'IMPORT_NAME': 108, 'IMPORT_FROM': 109, 'JUMP_FORWARD': 110, 'JUMP_IF_FALSE_OR_POP': 111, 'JUMP_IF_TRUE_OR_POP': 112, 'JUMP_ABSOLUTE': 113, 'POP_JUMP_IF_FALSE': 114, 'POP_JUMP_IF_TRUE': 115, 'LOAD_GLOBAL': 116, 'CONTINUE_LOOP': 119, 'SETUP_LOOP': 120, 'SETUP_EXCEPT': 121, 'SETUP_FINALLY': 122, 'LOAD_FAST': 124, 'STORE_FAST': 125, 'DELETE_FAST': 126, 'STORE_ANNOTATION': 127, 'RAISE_VARARGS': 130, 'CALL_FUNCTION': 131, 'MAKE_FUNCTION': 132, 'BUILD_SLICE': 133, 'LOAD_CLOSURE': 135, 'LOAD_DEREF': 136, 'STORE_DEREF': 137, 'DELETE_DEREF': 138, 'CALL_FUNCTION_KW': 141, 'CALL_FUNCTION_EX': 142, 'SETUP_WITH': 143, 'LIST_APPEND': 145, 'SET_ADD': 146, 'MAP_ADD': 147, 'LOAD_CLASSDEREF': 148, 'EXTENDED_ARG': 144, 'BUILD_LIST_UNPACK': 149, 'BUILD_MAP_UNPACK': 150, 'BUILD_MAP_UNPACK_WITH_CALL': 151, 'BUILD_TUPLE_UNPACK': 152, 'BUILD_SET_UNPACK': 153, 'SETUP_ASYNC_WITH': 154, 'FORMAT_VALUE': 155, 'BUILD_CONST_KEY_MAP': 156, 'BUILD_STRING': 157, 'BUILD_TUPLE_UNPACK_WITH_CALL': 158}\n"
     ]
    }
   ],
   "source": [
    "import opcode \n",
    "\n",
    "print(opcode.opmap)"
   ]
  },
  {
   "cell_type": "code",
   "execution_count": null,
   "metadata": {},
   "outputs": [],
   "source": []
  }
 ],
 "metadata": {
  "kernelspec": {
   "display_name": "Python 3",
   "language": "python",
   "name": "python3"
  },
  "language_info": {
   "codemirror_mode": {
    "name": "ipython",
    "version": 3
   },
   "file_extension": ".py",
   "mimetype": "text/x-python",
   "name": "python",
   "nbconvert_exporter": "python",
   "pygments_lexer": "ipython3",
   "version": "3.6.9"
  }
 },
 "nbformat": 4,
 "nbformat_minor": 2
}
