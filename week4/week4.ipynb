{
 "cells": [
  {
   "cell_type": "markdown",
   "metadata": {},
   "source": [
    "# Неделя 4\n",
    "\n",
    "# Углубленный Python"
   ]
  },
  {
   "cell_type": "markdown",
   "metadata": {},
   "source": [
    "## 4.1. Особые методы классов\n",
    "\n",
    "### 4.1.1. Магические методы\n",
    "\n",
    "Магический метод — это метод, определённый внутри класса, который начинается и заканчивается двумя подчёркиваниями. Например, магическим методом является метод \\_\\_init\\_\\_, который отвечает за инициализацию созданного объекта. Давайте определим класс User, который будет переопределять магический метод \\_\\_init\\_\\_. В нём будем записывать полученые имя и e-mail в атрибуты класса. Также определим метод, который возвращает атрибуты класса в виде словаря. С этим вы уже должны быть знакомы:"
   ]
  },
  {
   "cell_type": "code",
   "execution_count": 1,
   "metadata": {},
   "outputs": [
    {
     "name": "stdout",
     "output_type": "stream",
     "text": [
      "{'name': 'Jane Doe', 'email': 'janedoe@example.com'}\n"
     ]
    }
   ],
   "source": [
    "class User:\n",
    "    def __init__(self, name, email):\n",
    "        self.name = name\n",
    "        self.email = email\n",
    "    \n",
    "    def get_email_data(self):\n",
    "        return {\n",
    "            'name': self.name,\n",
    "            'email': self.email\n",
    "        }\n",
    "    \n",
    "jane = User('Jane Doe', 'janedoe@example.com')\n",
    "\n",
    "print(jane.get_email_data())"
   ]
  },
  {
   "cell_type": "markdown",
   "metadata": {},
   "source": [
    "Ещё одним магическим методом является метод \\_\\_new\\_\\_, в котором прописано, что происходит в момент создания объекта класса. Метод \\_\\_new\\_\\_ возвращает только что созданный объект класса. Например, создадим класс Singleton, который гарантирует то, что не может быть создано больше одного объекта данного класса. Например, мы можем\n",
    "попытаться создать два объекта a и b, которые в итоге окажутся одним и тем же объектом:"
   ]
  },
  {
   "cell_type": "code",
   "execution_count": 2,
   "metadata": {},
   "outputs": [
    {
     "data": {
      "text/plain": [
       "True"
      ]
     },
     "execution_count": 2,
     "metadata": {},
     "output_type": "execute_result"
    }
   ],
   "source": [
    "class Singleton:\n",
    "    instance = None\n",
    "\n",
    "    def __new__(cls):\n",
    "        if cls.instance is None:\n",
    "            cls.instance = super().__new__(cls)\n",
    "    \n",
    "        return cls.instance\n",
    "    \n",
    "\n",
    "a = Singleton()\n",
    "b = Singleton()\n",
    "\n",
    "a is b"
   ]
  },
  {
   "cell_type": "markdown",
   "metadata": {},
   "source": [
    "Существует также метод \\_\\_del\\_\\_, который определяет поведение при удалении объекта. Однако, он работает не всегда очевидно. Он вызывается не когда мы удаляем объект оператором del, а когда количество ссылок на наш объект стало равным нулю и вызывался garbage collector. Это не всегда происходит тогда, когда мы думаем, что это должно произойти, поэтому переопределять метод \\_\\_del\\_\\_ нежелательно."
   ]
  },
  {
   "cell_type": "markdown",
   "metadata": {},
   "source": [
    "#### \\_\\_str\\_\\_\n",
    "\n",
    "Одним из магических методов является метод \\_\\_str\\_\\_, который определяет поведение, при вызове функции print от класса. Метод \\_\\_str\\_\\_ должен определить человекочитаемое описание нашего класса, которое пользователь может потом вывести в интерфейсе. В следующем примере мы используем ранее написанный класс User, но теперь,\n",
    "если мы будем принтить наш объект, у нас будет выводиться понятное и читаемое название:"
   ]
  },
  {
   "cell_type": "code",
   "execution_count": 3,
   "metadata": {},
   "outputs": [
    {
     "name": "stdout",
     "output_type": "stream",
     "text": [
      "Jane Doe <janedoe@example.com>\n"
     ]
    }
   ],
   "source": [
    "class User:\n",
    "    def __init__(self, name, email):\n",
    "        self.name = name\n",
    "        self.email = email\n",
    "    \n",
    "    def __str__(self):\n",
    "        return '{} <{}>'.format(self.name, self.email)\n",
    "\n",
    "\n",
    "jane = User('Jane Doe', 'janedoe@example.com')\n",
    "\n",
    "print(jane)"
   ]
  },
  {
   "cell_type": "markdown",
   "metadata": {},
   "source": [
    "#### \\_\\_hash\\_\\_, \\_\\_eq\\_\\_\n",
    "\n",
    "Ещё двумя полезными методами магическими являются методы \\_\\_hash\\_\\_ и \\_\\_eq\\_\\_, которые определяют то, что происходит при вызове функции hash и как сравниваются объекты соответственно. Магический метод \\_\\_hash\\_\\_ переопределяет функцию хеширования, которая используется, например, когда мы получаем ключи в словаре. В следующем примере мы указываем в классе User, что при вызове функции hash в качестве\n",
    "хеша всегда берётся e-mail пользователя, и также при сравнении пользователей сравниваются их e-mail-ы. Таким образом, если мы создадим двух юзеров с разными именами, но одинаковыми e-mail-ами, при вызове функции сравнения Python покажет, что это один и тот же объект, потому что вызывается переопределённый метод \\_\\_eq\\_\\_, который сравнивает только e-mail-ы:"
   ]
  },
  {
   "cell_type": "code",
   "execution_count": 4,
   "metadata": {},
   "outputs": [
    {
     "name": "stdout",
     "output_type": "stream",
     "text": [
      "True\n"
     ]
    }
   ],
   "source": [
    "class User:\n",
    "    def __init__(self, name, email):\n",
    "        self.name = name\n",
    "        self.email = email\n",
    "    \n",
    "    def __hash__(self):\n",
    "        return hash(self.email)\n",
    "\n",
    "    def __eq__(self, obj):\n",
    "        return self.email == obj.email\n",
    "\n",
    "    \n",
    "jane = User('Jane Doe', 'jdoe@example.com')\n",
    "joe = User('Joe Doe', 'jdoe@example.com')\n",
    "\n",
    "\n",
    "print(jane == joe)"
   ]
  },
  {
   "cell_type": "markdown",
   "metadata": {},
   "source": [
    "Точно так же функция hash возвращает теперь одно и то же значение, потому что сравниваются только e-mail-ы, которые в данном случае одинаковы:"
   ]
  },
  {
   "cell_type": "code",
   "execution_count": 5,
   "metadata": {},
   "outputs": [
    {
     "name": "stdout",
     "output_type": "stream",
     "text": [
      "5884710760811039334\n",
      "5884710760811039334\n"
     ]
    }
   ],
   "source": [
    "print(hash(jane))\n",
    "print(hash(joe))"
   ]
  },
  {
   "cell_type": "markdown",
   "metadata": {},
   "source": [
    "Также, если мы попробуем создать словарь, где в качестве ключа будут использоваться уже созданные объекты класса User, то создастся словарь только с одним ключом, потому что оба объекта имеют одинаковое значение хеша:"
   ]
  },
  {
   "cell_type": "code",
   "execution_count": 6,
   "metadata": {},
   "outputs": [
    {
     "name": "stdout",
     "output_type": "stream",
     "text": [
      "{<__main__.User object at 0x7ffa68577908>: 'Joe Doe'}\n"
     ]
    }
   ],
   "source": [
    "user_email_map = {user: user.name for user in [jane, joe]}\n",
    "\n",
    "print(user_email_map)"
   ]
  },
  {
   "cell_type": "markdown",
   "metadata": {},
   "source": [
    "#### \\_\\_getattr\\_\\_, \\_\\_getattribute\\_\\_, \\_\\_setattr\\_\\_, \\_\\_delattr\\_\\_\n",
    "\n",
    "Очень важными магическими методами являются методы, определяющие доступ к атрибутам. Это методы \\_\\_getattr\\_\\_ и \\_\\_getattribute\\_\\_. Важно понимать отличия между ними. Итак, метод \\_\\_getattr\\_\\_ определяет поведение, когда наш атрибут, который мы пытаемся получить, не найден. Метод \\_\\_getattribute\\_\\_ вызывается в любом случае, когда мы обращаемся к какому-либо атрибуту объекта. Например, мы можем возвращать всегда какую-то строчку и ничего не делать, как в следующем примере. Мы определили класс и переопределили метод \\_\\_getattribute\\_\\_, который всегда возвращает одну и ту же строку. Таким образом, к какому бы атрибуту мы ни обратились, у нас всегда выведется эта строка:"
   ]
  },
  {
   "cell_type": "code",
   "execution_count": 1,
   "metadata": {},
   "outputs": [
    {
     "name": "stdout",
     "output_type": "stream",
     "text": [
      "nope\n",
      "nope\n",
      "nope\n"
     ]
    }
   ],
   "source": [
    "class Researcher:\n",
    "    def __getattr__(self, name):\n",
    "        return 'Nothing found :('\n",
    "    \n",
    "    def __getattribute__(self, name):\n",
    "        return 'nope'\n",
    "    \n",
    "\n",
    "obj = Researcher()\n",
    "\n",
    "print(obj.attr)\n",
    "print(obj.method)\n",
    "print(obj.DFG2H3J00KLL)"
   ]
  },
  {
   "cell_type": "markdown",
   "metadata": {},
   "source": [
    "\\_\\_getattr\\_\\_ вызывается в том случае, если атрибут не найден. В следующем примере внутри \\_\\_getattribute\\_\\_, который вызывается всегда, мы логируем, что пытаемся найти соответствующий атрибут и продолжаем выполнение, используя класс object, затем, если объект не найден, вызывается метод \\_\\_getattr\\_\\_:\n"
   ]
  },
  {
   "cell_type": "code",
   "execution_count": 19,
   "metadata": {},
   "outputs": [
    {
     "name": "stdout",
     "output_type": "stream",
     "text": [
      "Looking for attr\n",
      "Nothing found :()\n",
      "\n",
      "Looking for method\n",
      "Nothing found :()\n",
      "\n",
      "Looking for DFG2H3J00KLL\n",
      "Nothing found :()\n",
      "\n"
     ]
    }
   ],
   "source": [
    "class Researcher:\n",
    "    def __getattr__(self, name):\n",
    "        return 'Nothing found :()\\n'\n",
    "    \n",
    "    def __getattribute__(self, name):\n",
    "        print('Looking for {}'.format(name))\n",
    "        return object.__getattribute__(self, name)\n",
    "    \n",
    "\n",
    "obj = Researcher()\n",
    "\n",
    "print(obj.attr)\n",
    "print(obj.method)\n",
    "print(obj.DFG2H3J00KLL)"
   ]
  },
  {
   "cell_type": "markdown",
   "metadata": {},
   "source": [
    "Магический метод \\_\\_setattr\\_\\_, как вы могли догадаться, определяет поведение при присваивании значения к атрибуту. Например, вместо того, чтобы присвоить значение, мы можем опять же вернуть какую-то строчку и ничего не делать. В данном случае, если мы попытаемся присвоить значение атрибуту, у нас ничего не выйдет — атрибут не создастся:"
   ]
  },
  {
   "cell_type": "code",
   "execution_count": 9,
   "metadata": {},
   "outputs": [
    {
     "name": "stdout",
     "output_type": "stream",
     "text": [
      "Not gonna set math!\n"
     ]
    }
   ],
   "source": [
    "class Ignorant:\n",
    "    def __setattr__(self, name, value):\n",
    "        print('Not gonna set {}!'.format(name))\n",
    "        \n",
    "\n",
    "obj  = Ignorant()\n",
    "obj.math = True"
   ]
  },
  {
   "cell_type": "code",
   "execution_count": 10,
   "metadata": {},
   "outputs": [
    {
     "ename": "AttributeError",
     "evalue": "'Ignorant' object has no attribute 'math'",
     "output_type": "error",
     "traceback": [
      "\u001b[0;31m---------------------------------------------------------------------------\u001b[0m",
      "\u001b[0;31mAttributeError\u001b[0m                            Traceback (most recent call last)",
      "\u001b[0;32m<ipython-input-10-f41a5f04e4f0>\u001b[0m in \u001b[0;36m<module>\u001b[0;34m()\u001b[0m\n\u001b[0;32m----> 1\u001b[0;31m \u001b[0mprint\u001b[0m\u001b[0;34m(\u001b[0m\u001b[0mobj\u001b[0m\u001b[0;34m.\u001b[0m\u001b[0mmath\u001b[0m\u001b[0;34m)\u001b[0m\u001b[0;34m\u001b[0m\u001b[0;34m\u001b[0m\u001b[0m\n\u001b[0m",
      "\u001b[0;31mAttributeError\u001b[0m: 'Ignorant' object has no attribute 'math'"
     ]
    }
   ],
   "source": [
    "print(obj.math)"
   ]
  },
  {
   "cell_type": "markdown",
   "metadata": {},
   "source": [
    "Наконец, метод \\_\\_delattr\\_\\_ управляет поведением при удалении атрибута объекта. Например, его имеет смысл использовать, если мы хотим каскадно удалить объекты, связанные с нашим классом. В данном случае мы просто продолжаем удаление с помощью класса object и логируем то, что у нас происходит удаление:"
   ]
  },
  {
   "cell_type": "code",
   "execution_count": 11,
   "metadata": {},
   "outputs": [
    {
     "name": "stdout",
     "output_type": "stream",
     "text": [
      "Goodbye attr, you were 10!\n"
     ]
    }
   ],
   "source": [
    "class Polite:    \n",
    "    def __delattr__(self, name):\n",
    "        value = getattr(self, name)\n",
    "        print(f'Goodbye {name}, you were {value}!')\n",
    "\n",
    "        object.__delattr__(self, name)\n",
    "        \n",
    "\n",
    "obj = Polite()\n",
    "\n",
    "obj.attr = 10\n",
    "del obj.attr"
   ]
  },
  {
   "cell_type": "markdown",
   "metadata": {},
   "source": [
    "#### \\_\\_call\\_\\_\n",
    "\n",
    "Ещё одним магическим методом является метод \\_\\_call\\_\\_, который определяет поведение программы при вызове класса. Например, с помощью метода \\_\\_call\\_\\_ мы можем определить logger, который будем потом использовать в качестве декоратора (да, декоратором может быть не только функция, но и класс!). В примере ниже при инициализации\n",
    "класса Logger объект этого класса запоминает filename, который ему передан. Каждый раз, когда мы будем вызывать наш класс, он будет возвращать новую функцию в соответствии с протоколом декораторов и записывать в лог-файл строчку о вызове функции.\n",
    "\n",
    "При определении метода \\_\\_call\\_\\_, мы меняем поведение объекта класса при его вызове с помощью круглых скобочек. В данном примере объект logger вызывается, когда используется как декоратор, то есть при определении \"бессмысленной\" функции. Таким образом мы записываем в файл не вызов функции, а применение объекта в качестве декоратора.\n",
    "\n",
    "В данном случае мы определяем пустую функцию, и декоратор записывает все её вызовы:"
   ]
  },
  {
   "cell_type": "code",
   "execution_count": 23,
   "metadata": {},
   "outputs": [],
   "source": [
    "class Logger:\n",
    "    def __init__(self, filename):\n",
    "        self.filename = filename\n",
    "    \n",
    "    def __call__(self, func):\n",
    "        def wrapped(*args, **kwargs):\n",
    "            with open(self.filename, 'a') as f:\n",
    "                f.write('Oh Danny boy...')\n",
    "        \n",
    "            return func(*args, *kwargs)\n",
    "        return wrapped\n",
    "\n",
    "logger = Logger('log.txt')\n",
    "\n",
    "@logger\n",
    "def completely_useless_function():\n",
    "    pass"
   ]
  },
  {
   "cell_type": "code",
   "execution_count": 24,
   "metadata": {},
   "outputs": [
    {
     "name": "stdout",
     "output_type": "stream",
     "text": [
      "Oh Danny boy...Oh Danny boy...Oh Danny boy...\n"
     ]
    }
   ],
   "source": [
    "completely_useless_function()\n",
    "\n",
    "with open('log.txt') as f:\n",
    "    print(f.read())"
   ]
  },
  {
   "cell_type": "markdown",
   "metadata": {},
   "source": [
    "Магический метод call используется при вызове экземпляра класса, а не самого класса.\n",
    "\n",
    "Однако, если класс с переопределённым методом call является метаклассом (о них мы поговорим чуть позже), то экземпляром этого класса является новый класс. А это значит, что при создании объекта класса, метаклассом которого является класс с переопределённым магическим методом call, вызывается этот самый метод call. Причем вызывается он раньше new и init."
   ]
  },
  {
   "cell_type": "markdown",
   "metadata": {},
   "source": [
    "#### \\_\\_add\\_\\_\n",
    "\n",
    "Классическим примером на перегрузку операторов в других языках программирования является перегрузка оператора сложения. В Python-е за операцию сложения отвечает оператор \\_\\_add\\_\\_ (в свою очередь, вычитание можно перегрузить с помощью метода \\_\\_sub\\_\\_). В качестве примера определим класс NoisyInt, который будет работать почти как integer, но добавлять шум при сложении:"
   ]
  },
  {
   "cell_type": "code",
   "execution_count": 14,
   "metadata": {},
   "outputs": [],
   "source": [
    "import random\n",
    "\n",
    "\n",
    "class NoisyInt:\n",
    "    def __init__(self, value):\n",
    "        self.value = value\n",
    "\n",
    "    def __add__(self, obj):\n",
    "        noise = random.uniform(-1, 1)\n",
    "        return self.value + obj.value + noise\n",
    "\n",
    "    \n",
    "a = NoisyInt(10)\n",
    "b = NoisyInt(20)"
   ]
  },
  {
   "cell_type": "code",
   "execution_count": 15,
   "metadata": {},
   "outputs": [
    {
     "name": "stdout",
     "output_type": "stream",
     "text": [
      "30.67543026116697\n",
      "29.248722965725012\n",
      "30.141788977149655\n"
     ]
    }
   ],
   "source": [
    "for _ in range(3):\n",
    "    print(a + b)"
   ]
  },
  {
   "cell_type": "markdown",
   "metadata": {},
   "source": [
    "#### Написать свой контейнер с помощью \\_\\_getitem\\_\\_, \\_\\_setitem\\_\\_\n",
    "\n",
    "В качестве упражнения вам предлагается написать свой контейнер с помощью методов \\_\\_getitem\\_\\_ (определяет поведение объекта при доступе по индексу или ключу — obj[key]), \\_\\_setitem\\_\\_ (определяет поведение объекта при присваивании по индексу или ключу — obj[key] = value).\n",
    "\n",
    "Вот одно из возможных решений данного упражнения. Мы реализовали свой собственный класс PascalList, который имитирует поведение списков в Паскале. Как вы знаете, в Python-e списки нумеруются с нуля, а в Паскале — с единицы. Мы можем переопределить методы \\_\\_getitem\\_\\_ и \\_\\_setitem\\_\\_ так, чтобы они работали как в Паскале:"
   ]
  },
  {
   "cell_type": "code",
   "execution_count": 16,
   "metadata": {},
   "outputs": [
    {
     "name": "stdout",
     "output_type": "stream",
     "text": [
      "1\n"
     ]
    }
   ],
   "source": [
    "class PascalList:\n",
    "    def __init__(self, original_list=None):\n",
    "        self.container = original_list or []\n",
    "        \n",
    "    def __getitem__(self, index):\n",
    "        return self.container[index - 1]\n",
    "    \n",
    "    def __setitem__(self, index, value):\n",
    "        self.container[index - 1] = value\n",
    "        \n",
    "    def __str__(self):\n",
    "        return self.container.__str__()\n",
    "        \n",
    "        \n",
    "numbers = PascalList([1, 2, 3, 4, 5])\n",
    "\n",
    "print(numbers[1])"
   ]
  },
  {
   "cell_type": "code",
   "execution_count": 17,
   "metadata": {},
   "outputs": [
    {
     "name": "stdout",
     "output_type": "stream",
     "text": [
      "[1, 2, 3, 4, 25]\n"
     ]
    }
   ],
   "source": [
    "numbers[5] = 25\n",
    "\n",
    "print(numbers)"
   ]
  },
  {
   "cell_type": "markdown",
   "metadata": {},
   "source": [
    "### 4.1.2. Итераторы\n",
    "\n",
    "C итераторами вы уже работали раньше, когда, например, использовали функцию range для цикла for. Цикл for позволяет пробегать по итератору и, например, выводить подряд числа, как в случае с функцией range:"
   ]
  },
  {
   "cell_type": "code",
   "execution_count": 25,
   "metadata": {},
   "outputs": [
    {
     "name": "stdout",
     "output_type": "stream",
     "text": [
      "0\n",
      "1\n",
      "0\n",
      "1\n",
      "0\n"
     ]
    }
   ],
   "source": [
    "for number in range(5):\n",
    "    print(number & 1)"
   ]
  },
  {
   "cell_type": "markdown",
   "metadata": {},
   "source": [
    "Также простейшим итератором является строка или коллекция:"
   ]
  },
  {
   "cell_type": "code",
   "execution_count": 26,
   "metadata": {},
   "outputs": [
    {
     "name": "stdout",
     "output_type": "stream",
     "text": [
      "112\n",
      "121\n",
      "116\n",
      "104\n",
      "111\n",
      "110\n"
     ]
    }
   ],
   "source": [
    "for letter in 'python':\n",
    "    print(ord(letter))"
   ]
  },
  {
   "cell_type": "markdown",
   "metadata": {},
   "source": [
    "Итератор — это объект, по которому вы можете \"пробегаться\" или итерироваться. Можно создать свой простейший итератор при помощи встроенной функции iter() и, например, передать ей список. Внутри протокол итерации работает очень просто. Для получения следующего элемента каждый раз вызывается функция next(), которая возвращает\n",
    "следующий элемент. В данном случае это 1, 2 и 3. Когда элементы исчерпаны, то есть итератор закончился, выбрасывается исключение StopIteration, которое говорит о том, что, например, нужно выйти из цикла for:"
   ]
  },
  {
   "cell_type": "code",
   "execution_count": 27,
   "metadata": {},
   "outputs": [
    {
     "name": "stdout",
     "output_type": "stream",
     "text": [
      "1\n",
      "2\n",
      "3\n"
     ]
    },
    {
     "ename": "StopIteration",
     "evalue": "",
     "output_type": "error",
     "traceback": [
      "\u001b[0;31m---------------------------------------------------------------------------\u001b[0m",
      "\u001b[0;31mStopIteration\u001b[0m                             Traceback (most recent call last)",
      "\u001b[0;32m<ipython-input-27-b375d2dc859a>\u001b[0m in \u001b[0;36m<module>\u001b[0;34m()\u001b[0m\n\u001b[1;32m      3\u001b[0m \u001b[0mprint\u001b[0m\u001b[0;34m(\u001b[0m\u001b[0mnext\u001b[0m\u001b[0;34m(\u001b[0m\u001b[0miterator\u001b[0m\u001b[0;34m)\u001b[0m\u001b[0;34m)\u001b[0m\u001b[0;34m\u001b[0m\u001b[0;34m\u001b[0m\u001b[0m\n\u001b[1;32m      4\u001b[0m \u001b[0mprint\u001b[0m\u001b[0;34m(\u001b[0m\u001b[0mnext\u001b[0m\u001b[0;34m(\u001b[0m\u001b[0miterator\u001b[0m\u001b[0;34m)\u001b[0m\u001b[0;34m)\u001b[0m\u001b[0;34m\u001b[0m\u001b[0;34m\u001b[0m\u001b[0m\n\u001b[0;32m----> 5\u001b[0;31m \u001b[0mprint\u001b[0m\u001b[0;34m(\u001b[0m\u001b[0mnext\u001b[0m\u001b[0;34m(\u001b[0m\u001b[0miterator\u001b[0m\u001b[0;34m)\u001b[0m\u001b[0;34m)\u001b[0m\u001b[0;34m\u001b[0m\u001b[0;34m\u001b[0m\u001b[0m\n\u001b[0m",
      "\u001b[0;31mStopIteration\u001b[0m: "
     ]
    }
   ],
   "source": [
    "iterator = iter([1, 2, 3])\n",
    "print(next(iterator))\n",
    "print(next(iterator))\n",
    "print(next(iterator))\n",
    "print(next(iterator))"
   ]
  },
  {
   "cell_type": "markdown",
   "metadata": {},
   "source": [
    "В Python-е вы, конечно, можете реализовать свой собственный итератор, написав класс с соответствующими магическими методами. Эти магические методы — это методы \\_\\_iter\\_\\_ и \\_\\_next\\_\\_. Метод \\_\\_iter\\_\\_ должен возвращать сам итератор, а метод \\_\\_next\\_\\_ определяет то, какие элементы возвращаются при каждой следующей итерации.\n",
    "\n",
    "Давайте напишем свой класс SquareIterator, который будет аналогом функции range, но возвращающим не сами числа в определённом диапазоне, а квадраты чисел. В функции \\_\\_init\\_\\_ сохраняются пределы итерирования, а в функции \\_\\_next\\_\\_ указано, что происходит при вызове следующего элемента. Если элементы исчерпаны (current превысил end), выбрасываем исключение StopIteration, которое говорит протоколу итерации о том, что итерация должна закончиться. В любом другом случае мы возводим число в квадрат и инкрементируем счётчик:"
   ]
  },
  {
   "cell_type": "code",
   "execution_count": 30,
   "metadata": {},
   "outputs": [
    {
     "name": "stdout",
     "output_type": "stream",
     "text": [
      "1\n",
      "4\n",
      "9\n"
     ]
    }
   ],
   "source": [
    "class SquareIterator:\n",
    "    def __init__(self, start, end):\n",
    "        self.current = start\n",
    "        self.end = end\n",
    "        \n",
    "    def __iter__(self):\n",
    "        return self\n",
    "    \n",
    "    def __next__(self):\n",
    "        if self.current >= self.end:\n",
    "            raise StopIteration\n",
    "\n",
    "        result = self.current ** 2\n",
    "        self.current += 1\n",
    "        return result\n",
    "    \n",
    "    \n",
    "for num in SquareIterator(1, 4):\n",
    "    print(num)"
   ]
  },
  {
   "cell_type": "markdown",
   "metadata": {},
   "source": [
    "Python позволяет вам создавать собственные итераторы, и иногда это бывает полезно, когда вам нужно поддержать протокол итерации в своём классе. Что интересно, можно также определить свой собственный итератор, не определяя \\_\\_iter\\_\\_ и \\_\\_next\\_\\_.\n",
    "\n",
    "Это можно сделать, написав у класса метод \\_\\_getitem\\_\\_, который определяет работу класса при обращении к его объектам с помощью квадратных скобок (как к контейнеру). Мы можем создать свой собственный контейнер IndexIterable, прописав метод \\_\\_getitem\\_\\_:"
   ]
  },
  {
   "cell_type": "code",
   "execution_count": 29,
   "metadata": {},
   "outputs": [
    {
     "name": "stdout",
     "output_type": "stream",
     "text": [
      "s\n",
      "t\n",
      "r\n"
     ]
    }
   ],
   "source": [
    "class IndexIterable:\n",
    "    def __init__(self, obj):\n",
    "        self.obj = obj\n",
    "        \n",
    "    def __getitem__(self, index):\n",
    "        return self.obj[index]\n",
    "\n",
    "\n",
    "for letter in IndexIterable('str'):\n",
    "    print(letter)"
   ]
  },
  {
   "cell_type": "markdown",
   "metadata": {},
   "source": [
    "Это делается довольно редко. Чаще всего для того чтобы определить свой итератор, используются именно методы \\_\\_iter\\_\\_ и \\_\\_next\\_\\_."
   ]
  },
  {
   "cell_type": "markdown",
   "metadata": {},
   "source": [
    "### 4.1.3. Контекстные менеджеры\n",
    "\n",
    "С контекстными менеджерами вы уже работали, когда открывали файлы. Вам известно, что если использовать контекстный менеджер with для открытия файла, вам не нужно заботиться о том, чтобы потом его закрыть — контекстный менеджер сделает это сам.\n",
    "\n",
    "Контекстные менеджеры определяют поведение, которое происходит в начале и в конце блока исполнения (блока with). Часто после использования ресурса его необходимо закрыть (как, например, в случае с файлами, сокетами, соединениями). Чтобы об этом не заботиться, можно использовать контекстный менеджер. Также они используются при работе с транзакциями (когда обязательно нужно либо закончить транзакцию, либо ее откатить).\n",
    "\n",
    "Чтобы определить свой контекстный менеджер, нужно написать свой класс с магическими методами. Эти магические методы — \\_\\_enter\\_\\_ и \\_\\_exit\\_\\_, которые говорят о том, что происходит в начале и в конце исполнения кода внутри контекстного менеджера.\n",
    "\n",
    "Давайте попробуем написать аналог стандартного контекстного менеджера для открытия файлов и назовём его open_file. (Обратите внимание, что название класса пишется snake_case-ом, так как это контекстный менеджер.)"
   ]
  },
  {
   "cell_type": "code",
   "execution_count": 31,
   "metadata": {},
   "outputs": [],
   "source": [
    "with open('access_log.log', 'a') as f:\n",
    "    f.write('New Access')"
   ]
  },
  {
   "cell_type": "markdown",
   "metadata": {},
   "source": [
    "Итак, наш контекстный менеджер используется точно так же, как и стандартный. При вызове open_file создается файловый объект (вызывается метод \\_\\_init\\_\\_), который записывается в переменную класса f. Переменная f возвращается из метода \\_\\_enter\\_\\_ (метод \\_\\_enter\\_\\_ возвращает то, что требуется потом записать с помощью оператора as — мы можем ничего не возвращать из \\_\\_enter\\_\\_, но тогда не будет смысла использовать as). Соответственно, в методе \\_\\_exit\\_\\_ определяется поведение, которое происходит при выходе из блока контекстного менеджера:"
   ]
  },
  {
   "cell_type": "code",
   "execution_count": 32,
   "metadata": {},
   "outputs": [],
   "source": [
    "class open_file:\n",
    "    def __init__(self, filename, mode):\n",
    "        self.f = open(filename, mode)\n",
    "    \n",
    "    def __enter__(self):\n",
    "        return self.f\n",
    "    \n",
    "    def __exit__(self, *args):\n",
    "        self.f.close()"
   ]
  },
  {
   "cell_type": "code",
   "execution_count": 33,
   "metadata": {},
   "outputs": [],
   "source": [
    "with open_file('test.log', 'w') as f:\n",
    "    f.write('Inside `open_file` context manager')"
   ]
  },
  {
   "cell_type": "code",
   "execution_count": 34,
   "metadata": {},
   "outputs": [
    {
     "name": "stdout",
     "output_type": "stream",
     "text": [
      "['Inside `open_file` context manager']\n"
     ]
    }
   ],
   "source": [
    "with open_file('test.log', 'r') as f:\n",
    "    print(f.readlines())"
   ]
  },
  {
   "cell_type": "markdown",
   "metadata": {},
   "source": [
    "Итак, мы открыли файл и записали в него строчку. Если попробовать прочитать этот файл, окажется, что строчка действительно там, а файл открылся и закрылся сам.\n",
    "\n",
    "Контекстные менеджеры позволяют управлять исключениями, которые произошли внутри блока. Например, мы можем определить контекстный менеджер suppress_exception, который будет работать с exception-ами, которые произошли внутри. Обратите внимание, что в данном случае мы не используем оператор as, поэтому нам не важно, что возвращается из \\_\\_enter\\_\\_. Пусть наш контекстный менеджер будет принимать тип exception-а и затем проверять, произошло ли исключение данного типа. Если да — делаем вид, что ничего не произошло. (Нужно обязательно вернуть true из \\_\\_exit\\_\\_ при исключении, чтобы воспроизведение кода продолжилось и exception не был выброшен.)"
   ]
  },
  {
   "cell_type": "code",
   "execution_count": 35,
   "metadata": {},
   "outputs": [],
   "source": [
    "class suppress_exception:\n",
    "    def __init__(self, exc_type):\n",
    "        self.exc_type = exc_type\n",
    "        \n",
    "    def __enter__(self):\n",
    "        return\n",
    "\n",
    "    def __exit__(self, exc_type, exc_value, traceback):\n",
    "        if exc_type == self.exc_type:\n",
    "            print('Nothing happend.')\n",
    "            return True"
   ]
  },
  {
   "cell_type": "code",
   "execution_count": 36,
   "metadata": {},
   "outputs": [
    {
     "name": "stdout",
     "output_type": "stream",
     "text": [
      "Nothing happend.\n"
     ]
    }
   ],
   "source": [
    "with suppress_exception(ZeroDivisionError):\n",
    "    really_big_number = 1 / 0"
   ]
  },
  {
   "cell_type": "markdown",
   "metadata": {},
   "source": [
    "Что интересно, такой контекстный менеджер уже есть в стандартной библиотеке в contextlib:"
   ]
  },
  {
   "cell_type": "code",
   "execution_count": 37,
   "metadata": {},
   "outputs": [],
   "source": [
    "import contextlib\n",
    "\n",
    "\n",
    "with contextlib.suppress(ValueError):\n",
    "    raise ValueError"
   ]
  },
  {
   "cell_type": "markdown",
   "metadata": {},
   "source": [
    "В качестве примера реализуем контекстный менеджер, который считает время, за которое выполняется код внутри него. Для этого нужно завести переменную, которая фиксирует время запуска контекстного менеждера. Происходит это в методе \\_\\_init\\_\\_, когда создается объект класса. В \\_\\_exit\\_\\_ вернём разность текущего времени и сохранённого в методе \\_\\_init\\_\\_. Также, чтобы иметь возможность выводить внутри контекстного менеджера текущее время выполнения, пропишем return self в \\_\\_enter\\_\\_ и определим метод класса current_time:"
   ]
  },
  {
   "cell_type": "code",
   "execution_count": 38,
   "metadata": {},
   "outputs": [
    {
     "name": "stdout",
     "output_type": "stream",
     "text": [
      "Current: 1.001108169555664\n",
      "Elapsed: 2.002401828765869\n"
     ]
    }
   ],
   "source": [
    "import time\n",
    "\n",
    "\n",
    "class timer():\n",
    "    def __init__(self):\n",
    "        self.start = time.time()\n",
    "        \n",
    "    def current_time(self):\n",
    "        return time.time() - self.start\n",
    "    \n",
    "    def __enter__(self):\n",
    "        return self\n",
    "    \n",
    "    def __exit__(self, *args):\n",
    "        print('Elapsed: {}'.format(self.current_time()))\n",
    "    \n",
    "    \n",
    "with timer() as t:\n",
    "    time.sleep(1)\n",
    "    print('Current: {}'.format(t.current_time()))\n",
    "    time.sleep(1)"
   ]
  },
  {
   "cell_type": "markdown",
   "metadata": {},
   "source": [
    "## Задание по программированию\n",
    "\n",
    "#### Файл с магическими методами\n",
    "\n",
    "Создать интерфейс для работы с файлами. Интерфейс должен предоставлять следующие возможности по работе с файлами:\n",
    "\n",
    "- чтение из файла, метод read возвращает строку с текущим содержанием файла\n",
    "\n",
    "- запись в файл, метод write принимает в качестве аргумента строку с новым содержанием файла\n",
    "\n",
    "- сложение объектов типа File, результатом сложения является объект класса File, при этом создается новый файл и файловый объект, в котором содержимое второго файла добавляется к содержимому первого файла. Новый файл должен создаваться в директории, полученной с помощью функции tempfile.gettempdir. Для получения нового пути можно использовать os.path.join.\n",
    "\n",
    "- возвращать в качестве строкового представления объекта класса File полный путь до файла\n",
    "\n",
    "- поддерживать протокол итерации, причем итерация проходит по строкам файла\n",
    "\n",
    "При создании экземпляра класса File в конструктор передается полный путь до файла на файловой системе. Если файла с таким путем не существует, он должен быть создан при инициализации.\n",
    "\n",
    "Пример работы:\n",
    "\n",
    "```python\n",
    "import os.path\n",
    "from solution import File\n",
    "path_to_file = 'some_filename'\n",
    "os.path.exists(path_to_file)\n",
    "```\n",
    "\n",
    "False\n",
    "\n",
    "```python\n",
    "file_obj = File(path_to_file)\n",
    "os.path.exists(path_to_file)\n",
    "```\n",
    "\n",
    "True\n",
    "\n",
    "```python\n",
    "file_obj.read()\n",
    "```\n",
    "\n",
    "''\n",
    "\n",
    "```python\n",
    "file_obj.write('some text')\n",
    "```\n",
    "\n",
    "9\n",
    "\n",
    "```python\n",
    "file_obj.read()\n",
    "```\n",
    "\n",
    "'some text'\n",
    "\n",
    "```python\n",
    "file_obj.write('other text')\n",
    "```\n",
    "\n",
    "10\n",
    "\n",
    "```python\n",
    "file_obj.read()\n",
    "```\n",
    "\n",
    "'other text'\n",
    "\n",
    "```python\n",
    "file_obj_1 = File(path_to_file + '_1')\n",
    "file_obj_2 = File(path_to_file + '_2')\n",
    "file_obj_1.write('line 1\\n')\n",
    "```\n",
    "\n",
    "7\n",
    "\n",
    "```python\n",
    "file_obj_2.write('line 2\\n')\n",
    "```\n",
    "\n",
    "7\n",
    "\n",
    "```python\n",
    "new_file_obj = file_obj_1 + file_obj_2\n",
    "isinstance(new_file_obj, File)\n",
    "```\n",
    "\n",
    "True\n",
    "\n",
    "```python\n",
    "print(new_file_obj)\n",
    "```\n",
    "\n",
    "C:\\Users\\Media\\AppData\\Local\\Temp\\71b9e7b695f64d85a7488f07f2bc051c\n",
    "\n",
    "```python\n",
    "for line in new_file_obj:\n",
    "    print(ascii(line))  \n",
    "```\n",
    "\n",
    "'line 1\\n'\n",
    "\n",
    "'line 2\\n'\n",
    "\n",
    "Решение:\n",
    "\n",
    "```python\n",
    "import os\n",
    "import tempfile\n",
    "from random import randint\n",
    "\n",
    "class File:\n",
    "    def __init__(self, filename):\n",
    "        self.name = filename\n",
    "        if not os.path.exists(filename):\n",
    "            with open(filename, \"w\"):\n",
    "                pass\n",
    "    \n",
    "    def __add__(self, obj):\n",
    "        path = os.path.join(tempfile.gettempdir(), str(randint(0, 1000000000)))\n",
    "        while os.path.exists(path):\n",
    "            path = os.path.join(tempfile.gettempdir(), str(randint(0, 1000000000)))\n",
    "        f = File(path)\n",
    "        f.write(self.read() + obj.read())\n",
    "        return f\n",
    "\n",
    "    def __str__(self):\n",
    "        return os.path.abspath(self.name)\n",
    "\n",
    "    def __iter__(self):\n",
    "        self.it = self.read()\n",
    "        self.it = [x+'\\n' for x in self.it.split('\\n')[:-1]]\n",
    "        \n",
    "        self.cur = 0\n",
    "        self.end = len(self.it)\n",
    "        return self\n",
    "\n",
    "    def __next__(self):\n",
    "        if self.cur < self.end:\n",
    "            res = self.it[self.cur]\n",
    "            self.cur += 1\n",
    "            return res\n",
    "        else:\n",
    "            raise StopIteration\n",
    "                   \n",
    "\n",
    "    def read(self):\n",
    "        with open(self.name, \"r\") as f:\n",
    "            return f.read()\n",
    "\n",
    "    def write(self, s):\n",
    "        with open(self.name, \"w\") as f:\n",
    "            f.write(s)\n",
    "        return(len(s))\n",
    "```"
   ]
  },
  {
   "cell_type": "markdown",
   "metadata": {},
   "source": [
    "## 4.2. Механизм работы классов\n",
    "\n",
    "### 4.2.1. Дескрипторы\n",
    "\n",
    "С помощью дескрипторов в Python реализована практически вся магия при работе с объектами, классами и методами. Чтобы определить свой собственный дескриптор, нужно определить методы класса \\_\\_get\\_\\_, \\_\\_set\\_\\_ или \\_\\_delete\\_\\_. После этого мы можем создать какой-то новый класс и в атрибут этого класса записать объект типа дескриптор. Теперь у данного объекта будет переопределено поведение при доступе к атрибуту (метод \\_\\_get__), при присваивании значений (метод \\_\\_set\\_\\_) или при удалении (метод \\_\\_delete\\_\\_). Мы создадим объект класса Class и посмотрим, что будет происходить при обращении к атрибуту:"
   ]
  },
  {
   "cell_type": "code",
   "execution_count": 1,
   "metadata": {},
   "outputs": [],
   "source": [
    "class Descriptor:\n",
    "    def __get__(self, obj, obj_type):\n",
    "        print('get')\n",
    "        \n",
    "    def __set__(self, obj, value):\n",
    "        print('set')\n",
    "        \n",
    "    def __delete__(self, obj):\n",
    "        print('delete')\n",
    "\n",
    "\n",
    "class Class:\n",
    "    attr = Descriptor()\n",
    "    \n",
    "\n",
    "instance = Class()"
   ]
  },
  {
   "cell_type": "code",
   "execution_count": 2,
   "metadata": {},
   "outputs": [
    {
     "name": "stdout",
     "output_type": "stream",
     "text": [
      "get\n"
     ]
    }
   ],
   "source": [
    "instance.attr"
   ]
  },
  {
   "cell_type": "code",
   "execution_count": 3,
   "metadata": {},
   "outputs": [
    {
     "name": "stdout",
     "output_type": "stream",
     "text": [
      "set\n"
     ]
    }
   ],
   "source": [
    "instance.attr = 10"
   ]
  },
  {
   "cell_type": "code",
   "execution_count": 4,
   "metadata": {},
   "outputs": [
    {
     "name": "stdout",
     "output_type": "stream",
     "text": [
      "delete\n"
     ]
    }
   ],
   "source": [
    "del instance.attr"
   ]
  },
  {
   "cell_type": "markdown",
   "metadata": {},
   "source": [
    "Дескрипторы явялются мощным механизмом, который позволяет вам незаметно от пользователя переопределять поведение атрибутов в ваших классах. Например, мы можем определить дескриптор Value, который будет переопределять поведение при присваивании ему значения. Определим класс с атрибутом, который будет являться дескриптором, и будем наблюдать модифицированное поведение (умножение на 10) при присваивании значения:"
   ]
  },
  {
   "cell_type": "code",
   "execution_count": 5,
   "metadata": {},
   "outputs": [],
   "source": [
    "class Value:\n",
    "    def __init__(self):\n",
    "        self.value = None\n",
    "    \n",
    "    @staticmethod\n",
    "    def _prepare_value(value):\n",
    "        return value * 10\n",
    "\n",
    "    def __get__(self, obj, obj_type):\n",
    "        return self.value\n",
    "    \n",
    "    def __set__(self, obj, value):\n",
    "        self.value = self._prepare_value(value)"
   ]
  },
  {
   "cell_type": "code",
   "execution_count": 6,
   "metadata": {},
   "outputs": [
    {
     "name": "stdout",
     "output_type": "stream",
     "text": [
      "100\n"
     ]
    }
   ],
   "source": [
    "class Class:\n",
    "    attr = Value()\n",
    "\n",
    "    \n",
    "instance = Class()\n",
    "instance.attr = 10\n",
    "\n",
    "print(instance.attr)"
   ]
  },
  {
   "cell_type": "markdown",
   "metadata": {},
   "source": [
    "Для примера реализуем дескриптор, который записывает в файл все присваиваемые ему значения. Таким образом, если мы создадим класс с какой-то важной информацией (например, класс Account), где важная информация -- это amount, денежное значение, которое всегда нужно сохранять:"
   ]
  },
  {
   "cell_type": "code",
   "execution_count": 16,
   "metadata": {},
   "outputs": [
    {
     "name": "stdout",
     "output_type": "stream",
     "text": [
      "200\n"
     ]
    }
   ],
   "source": [
    "class ImportantValue:\n",
    "    def __init__(self, amount):\n",
    "        self.amount = amount\n",
    "    \n",
    "    def __get__(self, obj, obj_type):\n",
    "        return self.amount\n",
    "    \n",
    "    def __set__(self, obj, value):\n",
    "        with open('log.txt', 'w') as f:\n",
    "            f.write(str(value))\n",
    "            \n",
    "        self.amount = value\n",
    "\n",
    "class Account:\n",
    "    amount = ImportantValue(100)\n",
    "    \n",
    "bobs_account = Account()\n",
    "bobs_account.amount = 200\n",
    "\n",
    "with open('log.txt', 'r') as f:\n",
    "    print(f.read())"
   ]
  },
  {
   "cell_type": "markdown",
   "metadata": {},
   "source": [
    "#### Функции и методы\n",
    "\n",
    "Несмотря на то, что вы пользовались функциями и методами уже довольно давно, вы могли не знать, что на самом деле функции и методы реализованы с помощью дескрипторов. Чтобы понять, что это действительно так, можно попробовать обратиться к одному и тому же методу с помощью объекта класса и самого класса. Оказывается, когда\n",
    "мы обращаемся к методу с помощью obj.method, возвращается bound method — метод, привязанный к определённому объекту. А если мы обращаемся к методу от Class, получаем unbound method — это просто функция. В bound метод по умолчанию передается объект, с которым вызван метод (то есть атрибут self). В unbound метод по умолчанию не передается ничего: это просто функция класса, которая ожидает первым параметром экземлпяр класса. Как видите, один и тот же метод возвращает разные объекты в зависимости от того, как к нему обращаются. Это и есть поведение дескриптора:"
   ]
  },
  {
   "cell_type": "code",
   "execution_count": 8,
   "metadata": {},
   "outputs": [
    {
     "name": "stdout",
     "output_type": "stream",
     "text": [
      "<bound method Class.method of <__main__.Class object at 0x7f2a6c5200f0>>\n",
      "<function Class.method at 0x7f2a6c5169d8>\n"
     ]
    }
   ],
   "source": [
    "class Class:\n",
    "    def method(self):\n",
    "        pass\n",
    "    \n",
    "    \n",
    "obj = Class()    \n",
    "\n",
    "print(obj.method)\n",
    "print(Class.method)"
   ]
  },
  {
   "cell_type": "markdown",
   "metadata": {},
   "source": [
    "Вам уже знаком декоратор @property, который позволяет использовать функцию как атрибут класса. В данном случае мы можем определить full_name, который хоть и является функцией, которая возвращает строчку, используется потом так же, как и обычный атрибут, то есть без вызова скобок. При вызове full_name от объекта у нас вызывается функция full_name. Однако если мы пытаемся обратиться к full_name от класса, вернётся объект типа property. На самом деле, property реализовано с помощью дескрипторов, чем и объясняется разное поведение в зависимости от того, как вызывается этот объект:"
   ]
  },
  {
   "cell_type": "code",
   "execution_count": 9,
   "metadata": {},
   "outputs": [
    {
     "name": "stdout",
     "output_type": "stream",
     "text": [
      "Amy Jones\n",
      "<property object at 0x7f2a6c52b4a8>\n"
     ]
    }
   ],
   "source": [
    "class User:\n",
    "    def __init__(self, first_name, last_name):\n",
    "        self.first_name = first_name\n",
    "        self.last_name = last_name\n",
    "    \n",
    "    @property\n",
    "    def full_name(self):\n",
    "        return f'{self.first_name} {self.last_name}'\n",
    "    \n",
    "\n",
    "amy = User('Amy', 'Jones')\n",
    "\n",
    "print(amy.full_name)\n",
    "print(User.full_name)"
   ]
  },
  {
   "cell_type": "markdown",
   "metadata": {},
   "source": [
    "Напишем свой собственный класс, который будет эмулировать поведение стандартного property. Для этого нужно сохранить функцию, которую property получает. Когда объект вызывается от класса, мы просто возвращаем self, а если атрибут вызван от объекта, вызываем сохранённую функцию:"
   ]
  },
  {
   "cell_type": "code",
   "execution_count": 10,
   "metadata": {},
   "outputs": [],
   "source": [
    "class Property:\n",
    "    def __init__(self, getter):\n",
    "        self.getter = getter\n",
    "\n",
    "    def __get__(self, obj, obj_type=None):\n",
    "        if obj is None:\n",
    "            return self\n",
    "\n",
    "        return self.getter(obj)"
   ]
  },
  {
   "cell_type": "markdown",
   "metadata": {},
   "source": [
    "Протестируем работу только что созданного декоратора вместе со стандартным @property:"
   ]
  },
  {
   "cell_type": "code",
   "execution_count": 11,
   "metadata": {},
   "outputs": [],
   "source": [
    "class Class:\n",
    "    @property\n",
    "    def original(self):\n",
    "        return 'original'\n",
    "    \n",
    "    @Property\n",
    "    def custom_sugar(self):\n",
    "        return 'custom sugar'\n",
    "    \n",
    "    def custom_pure(self):\n",
    "        return 'custom pure'\n",
    "    \n",
    "    custom_pure = Property(custom_pure)"
   ]
  },
  {
   "cell_type": "code",
   "execution_count": 12,
   "metadata": {},
   "outputs": [
    {
     "name": "stdout",
     "output_type": "stream",
     "text": [
      "original\n",
      "custom sugar\n",
      "custom pure\n"
     ]
    }
   ],
   "source": [
    "obj = Class()\n",
    "\n",
    "print(obj.original)\n",
    "print(obj.custom_sugar)\n",
    "print(obj.custom_pure)"
   ]
  },
  {
   "cell_type": "markdown",
   "metadata": {},
   "source": [
    "Точно так же реализованы @staticmethod и @classmethod. Давайте опять напишем свою реализацию этих декораторов. StaticMethod будет просто сохранять функцию и возвращать её при вызове:"
   ]
  },
  {
   "cell_type": "code",
   "execution_count": 13,
   "metadata": {},
   "outputs": [],
   "source": [
    "class StaticMethod:\n",
    "    def __init__(self, func):\n",
    "        self.func = func\n",
    "\n",
    "    def __get__(self, obj, obj_type=None):\n",
    "        return self.func"
   ]
  },
  {
   "cell_type": "markdown",
   "metadata": {},
   "source": [
    "В то же время, ClassMethod возвращает функцию, которая первым аргументом принимает obj_type, то есть класс:"
   ]
  },
  {
   "cell_type": "code",
   "execution_count": 14,
   "metadata": {},
   "outputs": [],
   "source": [
    "class ClassMethod:\n",
    "    def __init__(self, func):\n",
    "        self.func = func\n",
    "\n",
    "    def __get__(self, obj, obj_type=None):\n",
    "        if obj_type is None:\n",
    "            obj_type = type(obj)\n",
    "\n",
    "        def new_func(*args, **kwargs):\n",
    "            return self.func(obj_type, *args, **kwargs)\n",
    "\n",
    "        return new_func"
   ]
  },
  {
   "cell_type": "markdown",
   "metadata": {},
   "source": [
    "#### \\_\\_slots\\_\\_\n",
    "\n",
    "Последний пример дескрипторов в стандартной библиотеке Python — конструкция \\_\\_slots\\_\\_, которая позволяет определить класс с жестко заданным набором атрибутов. Как вы помните, у каждого класса есть словарь, в котором хранятся все его атрибуты. Очень часто это бывает излишне. У вас может быть огромное количество объектов, и вы не хотите создавать для каждого объекта словарь. В таком случае конструкция \\_\\_slots\\_\\_ позволяет жестко задать количество элементов, которые ваш класс может содержать. В следующем примере мы постулируем, что в нашем классе должен быть только атрибут anakin. Если мы попытаемся добавить в наш класс еще один атрибут, ничего не получится:"
   ]
  },
  {
   "cell_type": "code",
   "execution_count": 15,
   "metadata": {},
   "outputs": [
    {
     "ename": "AttributeError",
     "evalue": "'Class' object has no attribute 'luke'",
     "output_type": "error",
     "traceback": [
      "\u001b[0;31m---------------------------------------------------------------------------\u001b[0m",
      "\u001b[0;31mAttributeError\u001b[0m                            Traceback (most recent call last)",
      "\u001b[0;32m<ipython-input-15-08c8cc46ecd8>\u001b[0m in \u001b[0;36m<module>\u001b[0;34m()\u001b[0m\n\u001b[1;32m      8\u001b[0m \u001b[0mobj\u001b[0m \u001b[0;34m=\u001b[0m \u001b[0mClass\u001b[0m\u001b[0;34m(\u001b[0m\u001b[0;34m)\u001b[0m\u001b[0;34m\u001b[0m\u001b[0;34m\u001b[0m\u001b[0m\n\u001b[1;32m      9\u001b[0m \u001b[0;34m\u001b[0m\u001b[0m\n\u001b[0;32m---> 10\u001b[0;31m \u001b[0mobj\u001b[0m\u001b[0;34m.\u001b[0m\u001b[0mluke\u001b[0m \u001b[0;34m=\u001b[0m \u001b[0;34m'the chosen too'\u001b[0m\u001b[0;34m\u001b[0m\u001b[0;34m\u001b[0m\u001b[0m\n\u001b[0m",
      "\u001b[0;31mAttributeError\u001b[0m: 'Class' object has no attribute 'luke'"
     ]
    }
   ],
   "source": [
    "class Class:\n",
    "    __slots__ = ['anakin']\n",
    "    \n",
    "    def __init__(self):\n",
    "        self.anakin = 'the chosen one'\n",
    "\n",
    "        \n",
    "obj = Class()\n",
    "\n",
    "obj.luke = 'the chosen too'"
   ]
  },
  {
   "cell_type": "markdown",
   "metadata": {},
   "source": [
    "Конструкция \\_\\_slots\\_\\_ реализуется с помощью определения дескрипторов для каждого из атрибутов."
   ]
  },
  {
   "cell_type": "markdown",
   "metadata": {},
   "source": [
    "### 4.2.2. Метаклассы\n",
    "\n",
    "Как вы уже знаете, всё в Python-е является объектом, и классы не исключение, а значит, эти классы кто-то создаёт. Давайте определим класс с названием Class и его объект. Тип нашего объекта является Class, потому что Class создал наш объект:"
   ]
  },
  {
   "cell_type": "code",
   "execution_count": 18,
   "metadata": {},
   "outputs": [],
   "source": [
    "class Class:\n",
    "    pass"
   ]
  },
  {
   "cell_type": "code",
   "execution_count": 19,
   "metadata": {},
   "outputs": [],
   "source": [
    "obj = Class()"
   ]
  },
  {
   "cell_type": "code",
   "execution_count": 20,
   "metadata": {},
   "outputs": [
    {
     "data": {
      "text/plain": [
       "__main__.Class"
      ]
     },
     "execution_count": 20,
     "metadata": {},
     "output_type": "execute_result"
    }
   ],
   "source": [
    "type(obj)"
   ]
  },
  {
   "cell_type": "markdown",
   "metadata": {},
   "source": [
    "Однако, у класса тоже есть тип — type, потому что type, создал наш класс. В данном случае type, является метаклассом, т.е. он создаёт другие классы:"
   ]
  },
  {
   "cell_type": "code",
   "execution_count": 21,
   "metadata": {},
   "outputs": [
    {
     "data": {
      "text/plain": [
       "type"
      ]
     },
     "execution_count": 21,
     "metadata": {},
     "output_type": "execute_result"
    }
   ],
   "source": [
    "type(Class)"
   ]
  },
  {
   "cell_type": "markdown",
   "metadata": {},
   "source": [
    "Типом самого type, кстати, является он сам. Это рекурсивное замыкание, которое реализовано внутри Python с помощью С:"
   ]
  },
  {
   "cell_type": "code",
   "execution_count": 22,
   "metadata": {},
   "outputs": [
    {
     "data": {
      "text/plain": [
       "type"
      ]
     },
     "execution_count": 22,
     "metadata": {},
     "output_type": "execute_result"
    }
   ],
   "source": [
    "type(type)"
   ]
  },
  {
   "cell_type": "markdown",
   "metadata": {},
   "source": [
    "Очень важно понимать разницу между созданием и наследованием. В данном случае класс не является subclass-ом type. Type его создаёт, но класс не наследуется от него, а наследуется от класса object:"
   ]
  },
  {
   "cell_type": "code",
   "execution_count": 23,
   "metadata": {},
   "outputs": [
    {
     "data": {
      "text/plain": [
       "False"
      ]
     },
     "execution_count": 23,
     "metadata": {},
     "output_type": "execute_result"
    }
   ],
   "source": [
    "issubclass(Class, type)"
   ]
  },
  {
   "cell_type": "code",
   "execution_count": 24,
   "metadata": {},
   "outputs": [
    {
     "data": {
      "text/plain": [
       "True"
      ]
     },
     "execution_count": 24,
     "metadata": {},
     "output_type": "execute_result"
    }
   ],
   "source": [
    "issubclass(Class, object)"
   ]
  },
  {
   "cell_type": "markdown",
   "metadata": {},
   "source": [
    "Класс object создаётся с помощью метакласса type, но не наследуется от него:"
   ]
  },
  {
   "cell_type": "code",
   "execution_count": 35,
   "metadata": {},
   "outputs": [
    {
     "data": {
      "text/plain": [
       "False"
      ]
     },
     "execution_count": 35,
     "metadata": {},
     "output_type": "execute_result"
    }
   ],
   "source": [
    "issubclass(object, type) "
   ]
  },
  {
   "cell_type": "markdown",
   "metadata": {},
   "source": [
    "При этом type является базовым метаклассом и создаёт в том числе базовый класс object."
   ]
  },
  {
   "cell_type": "markdown",
   "metadata": {},
   "source": [
    "Чтобы понять, как задаются классы, можно написать простую функцию, которая возвращает класс. В следующем примере мы определяем функцию, которая возвращает класс dummy_factory. Классы можно создавать на лету, и в данном случае мы создаём два разных объекта и возвращаем их:"
   ]
  },
  {
   "cell_type": "code",
   "execution_count": 25,
   "metadata": {},
   "outputs": [
    {
     "name": "stdout",
     "output_type": "stream",
     "text": [
      "False\n"
     ]
    }
   ],
   "source": [
    "def dummy_factory():\n",
    "    class Class:\n",
    "        pass\n",
    "    \n",
    "    return Class\n",
    "\n",
    "\n",
    "Dummy = dummy_factory()\n",
    "\n",
    "print(Dummy() is Dummy())"
   ]
  },
  {
   "cell_type": "markdown",
   "metadata": {},
   "source": [
    "Однако на самом деле, Python работает не так. Для создания классов используется метакласс type, и вы можете на лету создать класс, вызвав type и передав ему название класса. Для примера создадим класс NewClass без родителей и атрибутов. Это настоящий класс, мы создали его на лету без использования литерала class:"
   ]
  },
  {
   "cell_type": "code",
   "execution_count": 26,
   "metadata": {},
   "outputs": [
    {
     "name": "stdout",
     "output_type": "stream",
     "text": [
      "<class '__main__.NewClass'>\n",
      "<__main__.NewClass object at 0x7f2a6c520828>\n"
     ]
    }
   ],
   "source": [
    "NewClass = type('NewClass', (), {})\n",
    "print(NewClass)\n",
    "print(NewClass())"
   ]
  },
  {
   "cell_type": "markdown",
   "metadata": {},
   "source": [
    "Чаще всего классы создаются с помощью метаклассов. Давайте определим свой собственный метакласс Meta, который будет управлять поведением при создании класса.\n",
    "\n",
    "Для того чтобы он был метаклассом, он должен наследоваться от другого метакласса (type). Метод метакласса __new__ принимает название класса, его родителей и атрибуты. Мы можем определить новый класс A и указать, что его метаклассом является Meta. Именно этот метакласс и будет управлять поведением при создании нового класса. Таким образом, мы можем переопределить поведение при создании класса (например, добавить ему атрибут или сделать что-нибудь другое):"
   ]
  },
  {
   "cell_type": "code",
   "execution_count": 27,
   "metadata": {},
   "outputs": [
    {
     "name": "stdout",
     "output_type": "stream",
     "text": [
      "Creating A\n"
     ]
    }
   ],
   "source": [
    "class Meta(type):\n",
    "    def __new__(cls, name, parents, attrs):\n",
    "        print('Creating {}'.format(name))\n",
    "\n",
    "        if 'class_id' not in attrs:\n",
    "            attrs['class_id'] = name.lower()\n",
    "\n",
    "        return super().__new__(cls, name, parents, attrs)\n",
    "\n",
    "\n",
    "class A(metaclass=Meta):\n",
    "    pass"
   ]
  },
  {
   "cell_type": "code",
   "execution_count": 28,
   "metadata": {},
   "outputs": [
    {
     "name": "stdout",
     "output_type": "stream",
     "text": [
      "A.class_id: \"a\"\n"
     ]
    }
   ],
   "source": [
    "print('A.class_id: \"{}\"'.format(A.class_id))"
   ]
  },
  {
   "cell_type": "markdown",
   "metadata": {},
   "source": [
    "Например, мы можем определить метакласс, который переопределяет функцию \\_\\_init\\_\\_, и тогда каждый класс, созданный этим метаклассом, будет запоминать все созданные подклассы. Новый \\_\\_init\\_\\_ записывает свой собственный атрибут, в котором будет храниться словарь созданных классов. В следующем примере у нас вначале создаётся класс Base, метаклассом которого является Meta, и у него создаётся атрибут класса registry, в который мы будем записывать все его подклассы. Каждый раз, когда у нас создаётся какой-то класс, который наследуется от Base, мы записываем в registry соответствующее значение, то есть название созданного класса и ссылку на него:"
   ]
  },
  {
   "cell_type": "code",
   "execution_count": 29,
   "metadata": {},
   "outputs": [
    {
     "name": "stdout",
     "output_type": "stream",
     "text": [
      "Initializing — Base\n",
      "Initializing — A\n",
      "Initializing — B\n"
     ]
    }
   ],
   "source": [
    "class Meta(type):\n",
    "    def __init__(cls, name, bases, attrs):\n",
    "        print('Initializing — {}'.format(name))\n",
    "\n",
    "        if not hasattr(cls, 'registry'):\n",
    "            cls.registry = {}\n",
    "        else:\n",
    "            cls.registry[name.lower()] = cls\n",
    "            \n",
    "        super().__init__(name, bases, attrs)\n",
    "        \n",
    "        \n",
    "class Base(metaclass=Meta): pass\n",
    "\n",
    "class A(Base): pass\n",
    "\n",
    "class B(Base): pass"
   ]
  },
  {
   "cell_type": "code",
   "execution_count": 30,
   "metadata": {},
   "outputs": [
    {
     "name": "stdout",
     "output_type": "stream",
     "text": [
      "{'a': <class '__main__.A'>, 'b': <class '__main__.B'>}\n",
      "[<class '__main__.A'>, <class '__main__.B'>]\n"
     ]
    }
   ],
   "source": [
    "print(Base.registry)\n",
    "print(Base.__subclasses__())"
   ]
  },
  {
   "cell_type": "markdown",
   "metadata": {},
   "source": [
    "#### Абстрактные методы\n",
    "\n",
    "Очень часто при работе с объектно-ориентированной парадигмой в Python-е возникают вопросы про абстрактные методы, потому что они являются центральным понятием, например, в языке программирования C++. В Python-е абстрактные методы реализованы в стандартной библиотеки abc. Здесь также работают метаклассы — они могут создать абстрактный класс с методом @abstractmethod. Декоратор @abstractmethod гарантирует, что у нас не получится создать класс-наследник, не определив этот метод — мы обязаны его переопределить в классе, который наследуется от нашего класса. В следующем примере Child не переопределяет метод send, и поэтому вызывается ошибка:"
   ]
  },
  {
   "cell_type": "code",
   "execution_count": 31,
   "metadata": {},
   "outputs": [],
   "source": [
    "from abc import ABCMeta, abstractmethod\n",
    "\n",
    "class Sender(metaclass=ABCMeta):\n",
    "    @abstractmethod\n",
    "    def send(self):\n",
    "        \"\"\"Do something\"\"\""
   ]
  },
  {
   "cell_type": "code",
   "execution_count": 32,
   "metadata": {},
   "outputs": [
    {
     "ename": "TypeError",
     "evalue": "Can't instantiate abstract class Child with abstract methods send",
     "output_type": "error",
     "traceback": [
      "\u001b[0;31m---------------------------------------------------------------------------\u001b[0m",
      "\u001b[0;31mTypeError\u001b[0m                                 Traceback (most recent call last)",
      "\u001b[0;32m<ipython-input-32-a03e0b46bd6a>\u001b[0m in \u001b[0;36m<module>\u001b[0;34m()\u001b[0m\n\u001b[1;32m      1\u001b[0m \u001b[0;32mclass\u001b[0m \u001b[0mChild\u001b[0m\u001b[0;34m(\u001b[0m\u001b[0mSender\u001b[0m\u001b[0;34m)\u001b[0m\u001b[0;34m:\u001b[0m \u001b[0;32mpass\u001b[0m\u001b[0;34m\u001b[0m\u001b[0;34m\u001b[0m\u001b[0m\n\u001b[1;32m      2\u001b[0m \u001b[0;34m\u001b[0m\u001b[0m\n\u001b[0;32m----> 3\u001b[0;31m \u001b[0mChild\u001b[0m\u001b[0;34m(\u001b[0m\u001b[0;34m)\u001b[0m\u001b[0;34m\u001b[0m\u001b[0;34m\u001b[0m\u001b[0m\n\u001b[0m",
      "\u001b[0;31mTypeError\u001b[0m: Can't instantiate abstract class Child with abstract methods send"
     ]
    }
   ],
   "source": [
    "class Child(Sender): pass\n",
    "\n",
    "Child()"
   ]
  },
  {
   "cell_type": "markdown",
   "metadata": {},
   "source": [
    "Переопределим метод send, и программа будет работать:"
   ]
  },
  {
   "cell_type": "code",
   "execution_count": 33,
   "metadata": {},
   "outputs": [
    {
     "data": {
      "text/plain": [
       "<__main__.Child at 0x7f2a702f37f0>"
      ]
     },
     "execution_count": 33,
     "metadata": {},
     "output_type": "execute_result"
    }
   ],
   "source": [
    "class Child(Sender):\n",
    "    def send(self):\n",
    "        print('Sending')\n",
    "        \n",
    "\n",
    "Child()"
   ]
  },
  {
   "cell_type": "markdown",
   "metadata": {},
   "source": [
    "На самом деле, абстрактные методы используются в Python-е довольно редко, чаще всего вызывается исключение NotImplementedError, которое говорит о том, что этот метод нужно реализовать. Программист видит в определении класса, что в методе вызывается raise NotImplementedError, и понимает, что этот метод нужно переопределить в потомке:"
   ]
  },
  {
   "cell_type": "code",
   "execution_count": 34,
   "metadata": {},
   "outputs": [],
   "source": [
    "class PythonWay:\n",
    "    def send(self):\n",
    "        raise NotImplementedError"
   ]
  },
  {
   "cell_type": "markdown",
   "metadata": {},
   "source": [
    "## Задание по программированию\n",
    "\n",
    "#### Дескриптор с комиссией\n",
    "\n",
    "Напишите дескриптор Value, который будет использоваться в нашем классе Account. У аккаунта будет атрибут commission. Именно эту коммиссию и нужно вычитать при присваивании значений в amount.\n",
    "\n",
    "```python\n",
    "class Account:\n",
    "    amount = Value()\n",
    "    \n",
    "    def __init__(self, commission):\n",
    "        self.commission = commission\n",
    "        \n",
    "new_account = Account(0.1)\n",
    "new_account.amount = 100\n",
    "\n",
    "print(new_account.amount)\n",
    "```\n",
    "\n",
    "90\n",
    "\n",
    "Решение:\n",
    "\n",
    "```python\n",
    "class Value:\n",
    "    def __init__(self):\n",
    "        self.value = None\n",
    "\n",
    "    @staticmethod\n",
    "    def _prepare_value(value, com):\n",
    "        return value * (1-com)\n",
    "\n",
    "    def __get__(self, obj, obj_type):\n",
    "        return self.value\n",
    "\n",
    "    def __set__(self, obj, value):\n",
    "        self.value = self._prepare_value(value, obj.commission)\n",
    "```\n"
   ]
  },
  {
   "cell_type": "markdown",
   "metadata": {},
   "source": [
    "## 4.3. Отладка и тестирование\n",
    "\n",
    "### 4.3.1. Отладка\n",
    "\n",
    "Скорее всего отладкой вы уже занимались, когда пытались выяснить, почему ваша программа не работает или работает некорректно. Если вы программируете в IDE, скорее всего, там есть инструментарий для отладки кода, и вы можете запускать вашу программу под отладчиком, ставить брейкпоинты, следить за переменными и т.д. Мы разберём\n",
    "классический механизм отладки с помощью Python Debugger-а. Например, мы написали программу, которая принимает на вход сайт, URL сайта и какую-то строчку, и ищет в коде сайта эту строчку и считает, сколько раз там встретилась эта строка. Затем запустили программу в Jupyter Notebook. Эта программа выдаёт неочевидную ошибку (проверьте, запустив самостоятельно), которую мы хотим отладить:"
   ]
  },
  {
   "cell_type": "code",
   "execution_count": 10,
   "metadata": {},
   "outputs": [
    {
     "ename": "error",
     "evalue": "bad character range i-- at position 5974 (line 20, column 36)",
     "output_type": "error",
     "traceback": [
      "\u001b[0;31m---------------------------------------------------------------------------\u001b[0m",
      "\u001b[0;31merror\u001b[0m                                     Traceback (most recent call last)",
      "\u001b[0;32m<ipython-input-10-d866fb54f613>\u001b[0m in \u001b[0;36m<module>\u001b[0;34m()\u001b[0m\n\u001b[1;32m     19\u001b[0m \u001b[0;34m\u001b[0m\u001b[0m\n\u001b[1;32m     20\u001b[0m \u001b[0;34m\u001b[0m\u001b[0m\n\u001b[0;32m---> 21\u001b[0;31m \u001b[0mmain\u001b[0m\u001b[0;34m(\u001b[0m\u001b[0;34m'mail.ru'\u001b[0m\u001b[0;34m,\u001b[0m \u001b[0;34m'script'\u001b[0m\u001b[0;34m)\u001b[0m\u001b[0;34m\u001b[0m\u001b[0;34m\u001b[0m\u001b[0m\n\u001b[0m",
      "\u001b[0;32m<ipython-input-10-d866fb54f613>\u001b[0m in \u001b[0;36mmain\u001b[0;34m(site_url, substring)\u001b[0m\n\u001b[1;32m      4\u001b[0m \u001b[0;32mdef\u001b[0m \u001b[0mmain\u001b[0m\u001b[0;34m(\u001b[0m\u001b[0msite_url\u001b[0m\u001b[0;34m,\u001b[0m \u001b[0msubstring\u001b[0m\u001b[0;34m)\u001b[0m\u001b[0;34m:\u001b[0m\u001b[0;34m\u001b[0m\u001b[0;34m\u001b[0m\u001b[0m\n\u001b[1;32m      5\u001b[0m     \u001b[0msite_code\u001b[0m \u001b[0;34m=\u001b[0m \u001b[0mget_site_code\u001b[0m\u001b[0;34m(\u001b[0m\u001b[0msite_url\u001b[0m\u001b[0;34m)\u001b[0m\u001b[0;34m\u001b[0m\u001b[0;34m\u001b[0m\u001b[0m\n\u001b[0;32m----> 6\u001b[0;31m     \u001b[0mmatching_substrings\u001b[0m \u001b[0;34m=\u001b[0m \u001b[0mget_matching_substrings\u001b[0m\u001b[0;34m(\u001b[0m\u001b[0msite_code\u001b[0m\u001b[0;34m,\u001b[0m \u001b[0msubstring\u001b[0m\u001b[0;34m)\u001b[0m\u001b[0;34m\u001b[0m\u001b[0;34m\u001b[0m\u001b[0m\n\u001b[0m\u001b[1;32m      7\u001b[0m     print('\"{}\" found {} times in {}'.format(\n\u001b[1;32m      8\u001b[0m         \u001b[0msubstring\u001b[0m\u001b[0;34m,\u001b[0m \u001b[0mlen\u001b[0m\u001b[0;34m(\u001b[0m\u001b[0mmatching_substrings\u001b[0m\u001b[0;34m)\u001b[0m\u001b[0;34m,\u001b[0m \u001b[0msite_url\u001b[0m\u001b[0;34m\u001b[0m\u001b[0;34m\u001b[0m\u001b[0m\n",
      "\u001b[0;32m<ipython-input-10-d866fb54f613>\u001b[0m in \u001b[0;36mget_matching_substrings\u001b[0;34m(source, substring)\u001b[0m\n\u001b[1;32m     16\u001b[0m \u001b[0;34m\u001b[0m\u001b[0m\n\u001b[1;32m     17\u001b[0m \u001b[0;32mdef\u001b[0m \u001b[0mget_matching_substrings\u001b[0m\u001b[0;34m(\u001b[0m\u001b[0msource\u001b[0m\u001b[0;34m,\u001b[0m \u001b[0msubstring\u001b[0m\u001b[0;34m)\u001b[0m\u001b[0;34m:\u001b[0m\u001b[0;34m\u001b[0m\u001b[0;34m\u001b[0m\u001b[0m\n\u001b[0;32m---> 18\u001b[0;31m     \u001b[0;32mreturn\u001b[0m \u001b[0mre\u001b[0m\u001b[0;34m.\u001b[0m\u001b[0mfindall\u001b[0m\u001b[0;34m(\u001b[0m\u001b[0msource\u001b[0m\u001b[0;34m,\u001b[0m \u001b[0msubstring\u001b[0m\u001b[0;34m)\u001b[0m\u001b[0;34m\u001b[0m\u001b[0;34m\u001b[0m\u001b[0m\n\u001b[0m\u001b[1;32m     19\u001b[0m \u001b[0;34m\u001b[0m\u001b[0m\n\u001b[1;32m     20\u001b[0m \u001b[0;34m\u001b[0m\u001b[0m\n",
      "\u001b[0;32m/usr/lib/python3.6/re.py\u001b[0m in \u001b[0;36mfindall\u001b[0;34m(pattern, string, flags)\u001b[0m\n\u001b[1;32m    220\u001b[0m \u001b[0;34m\u001b[0m\u001b[0m\n\u001b[1;32m    221\u001b[0m     Empty matches are included in the result.\"\"\"\n\u001b[0;32m--> 222\u001b[0;31m     \u001b[0;32mreturn\u001b[0m \u001b[0m_compile\u001b[0m\u001b[0;34m(\u001b[0m\u001b[0mpattern\u001b[0m\u001b[0;34m,\u001b[0m \u001b[0mflags\u001b[0m\u001b[0;34m)\u001b[0m\u001b[0;34m.\u001b[0m\u001b[0mfindall\u001b[0m\u001b[0;34m(\u001b[0m\u001b[0mstring\u001b[0m\u001b[0;34m)\u001b[0m\u001b[0;34m\u001b[0m\u001b[0;34m\u001b[0m\u001b[0m\n\u001b[0m\u001b[1;32m    223\u001b[0m \u001b[0;34m\u001b[0m\u001b[0m\n\u001b[1;32m    224\u001b[0m \u001b[0;32mdef\u001b[0m \u001b[0mfinditer\u001b[0m\u001b[0;34m(\u001b[0m\u001b[0mpattern\u001b[0m\u001b[0;34m,\u001b[0m \u001b[0mstring\u001b[0m\u001b[0;34m,\u001b[0m \u001b[0mflags\u001b[0m\u001b[0;34m=\u001b[0m\u001b[0;36m0\u001b[0m\u001b[0;34m)\u001b[0m\u001b[0;34m:\u001b[0m\u001b[0;34m\u001b[0m\u001b[0;34m\u001b[0m\u001b[0m\n",
      "\u001b[0;32m/usr/lib/python3.6/re.py\u001b[0m in \u001b[0;36m_compile\u001b[0;34m(pattern, flags)\u001b[0m\n\u001b[1;32m    299\u001b[0m     \u001b[0;32mif\u001b[0m \u001b[0;32mnot\u001b[0m \u001b[0msre_compile\u001b[0m\u001b[0;34m.\u001b[0m\u001b[0misstring\u001b[0m\u001b[0;34m(\u001b[0m\u001b[0mpattern\u001b[0m\u001b[0;34m)\u001b[0m\u001b[0;34m:\u001b[0m\u001b[0;34m\u001b[0m\u001b[0;34m\u001b[0m\u001b[0m\n\u001b[1;32m    300\u001b[0m         \u001b[0;32mraise\u001b[0m \u001b[0mTypeError\u001b[0m\u001b[0;34m(\u001b[0m\u001b[0;34m\"first argument must be string or compiled pattern\"\u001b[0m\u001b[0;34m)\u001b[0m\u001b[0;34m\u001b[0m\u001b[0;34m\u001b[0m\u001b[0m\n\u001b[0;32m--> 301\u001b[0;31m     \u001b[0mp\u001b[0m \u001b[0;34m=\u001b[0m \u001b[0msre_compile\u001b[0m\u001b[0;34m.\u001b[0m\u001b[0mcompile\u001b[0m\u001b[0;34m(\u001b[0m\u001b[0mpattern\u001b[0m\u001b[0;34m,\u001b[0m \u001b[0mflags\u001b[0m\u001b[0;34m)\u001b[0m\u001b[0;34m\u001b[0m\u001b[0;34m\u001b[0m\u001b[0m\n\u001b[0m\u001b[1;32m    302\u001b[0m     \u001b[0;32mif\u001b[0m \u001b[0;32mnot\u001b[0m \u001b[0;34m(\u001b[0m\u001b[0mflags\u001b[0m \u001b[0;34m&\u001b[0m \u001b[0mDEBUG\u001b[0m\u001b[0;34m)\u001b[0m\u001b[0;34m:\u001b[0m\u001b[0;34m\u001b[0m\u001b[0;34m\u001b[0m\u001b[0m\n\u001b[1;32m    303\u001b[0m         \u001b[0;32mif\u001b[0m \u001b[0mlen\u001b[0m\u001b[0;34m(\u001b[0m\u001b[0m_cache\u001b[0m\u001b[0;34m)\u001b[0m \u001b[0;34m>=\u001b[0m \u001b[0m_MAXCACHE\u001b[0m\u001b[0;34m:\u001b[0m\u001b[0;34m\u001b[0m\u001b[0;34m\u001b[0m\u001b[0m\n",
      "\u001b[0;32m/usr/lib/python3.6/sre_compile.py\u001b[0m in \u001b[0;36mcompile\u001b[0;34m(p, flags)\u001b[0m\n\u001b[1;32m    560\u001b[0m     \u001b[0;32mif\u001b[0m \u001b[0misstring\u001b[0m\u001b[0;34m(\u001b[0m\u001b[0mp\u001b[0m\u001b[0;34m)\u001b[0m\u001b[0;34m:\u001b[0m\u001b[0;34m\u001b[0m\u001b[0;34m\u001b[0m\u001b[0m\n\u001b[1;32m    561\u001b[0m         \u001b[0mpattern\u001b[0m \u001b[0;34m=\u001b[0m \u001b[0mp\u001b[0m\u001b[0;34m\u001b[0m\u001b[0;34m\u001b[0m\u001b[0m\n\u001b[0;32m--> 562\u001b[0;31m         \u001b[0mp\u001b[0m \u001b[0;34m=\u001b[0m \u001b[0msre_parse\u001b[0m\u001b[0;34m.\u001b[0m\u001b[0mparse\u001b[0m\u001b[0;34m(\u001b[0m\u001b[0mp\u001b[0m\u001b[0;34m,\u001b[0m \u001b[0mflags\u001b[0m\u001b[0;34m)\u001b[0m\u001b[0;34m\u001b[0m\u001b[0;34m\u001b[0m\u001b[0m\n\u001b[0m\u001b[1;32m    563\u001b[0m     \u001b[0;32melse\u001b[0m\u001b[0;34m:\u001b[0m\u001b[0;34m\u001b[0m\u001b[0;34m\u001b[0m\u001b[0m\n\u001b[1;32m    564\u001b[0m         \u001b[0mpattern\u001b[0m \u001b[0;34m=\u001b[0m \u001b[0;32mNone\u001b[0m\u001b[0;34m\u001b[0m\u001b[0;34m\u001b[0m\u001b[0m\n",
      "\u001b[0;32m/usr/lib/python3.6/sre_parse.py\u001b[0m in \u001b[0;36mparse\u001b[0;34m(str, flags, pattern)\u001b[0m\n\u001b[1;32m    853\u001b[0m \u001b[0;34m\u001b[0m\u001b[0m\n\u001b[1;32m    854\u001b[0m     \u001b[0;32mtry\u001b[0m\u001b[0;34m:\u001b[0m\u001b[0;34m\u001b[0m\u001b[0;34m\u001b[0m\u001b[0m\n\u001b[0;32m--> 855\u001b[0;31m         \u001b[0mp\u001b[0m \u001b[0;34m=\u001b[0m \u001b[0m_parse_sub\u001b[0m\u001b[0;34m(\u001b[0m\u001b[0msource\u001b[0m\u001b[0;34m,\u001b[0m \u001b[0mpattern\u001b[0m\u001b[0;34m,\u001b[0m \u001b[0mflags\u001b[0m \u001b[0;34m&\u001b[0m \u001b[0mSRE_FLAG_VERBOSE\u001b[0m\u001b[0;34m,\u001b[0m \u001b[0;36m0\u001b[0m\u001b[0;34m)\u001b[0m\u001b[0;34m\u001b[0m\u001b[0;34m\u001b[0m\u001b[0m\n\u001b[0m\u001b[1;32m    856\u001b[0m     \u001b[0;32mexcept\u001b[0m \u001b[0mVerbose\u001b[0m\u001b[0;34m:\u001b[0m\u001b[0;34m\u001b[0m\u001b[0;34m\u001b[0m\u001b[0m\n\u001b[1;32m    857\u001b[0m         \u001b[0;31m# the VERBOSE flag was switched on inside the pattern.  to be\u001b[0m\u001b[0;34m\u001b[0m\u001b[0;34m\u001b[0m\u001b[0;34m\u001b[0m\u001b[0m\n",
      "\u001b[0;32m/usr/lib/python3.6/sre_parse.py\u001b[0m in \u001b[0;36m_parse_sub\u001b[0;34m(source, state, verbose, nested)\u001b[0m\n\u001b[1;32m    414\u001b[0m     \u001b[0;32mwhile\u001b[0m \u001b[0;32mTrue\u001b[0m\u001b[0;34m:\u001b[0m\u001b[0;34m\u001b[0m\u001b[0;34m\u001b[0m\u001b[0m\n\u001b[1;32m    415\u001b[0m         itemsappend(_parse(source, state, verbose, nested + 1,\n\u001b[0;32m--> 416\u001b[0;31m                            not nested and not items))\n\u001b[0m\u001b[1;32m    417\u001b[0m         \u001b[0;32mif\u001b[0m \u001b[0;32mnot\u001b[0m \u001b[0msourcematch\u001b[0m\u001b[0;34m(\u001b[0m\u001b[0;34m\"|\"\u001b[0m\u001b[0;34m)\u001b[0m\u001b[0;34m:\u001b[0m\u001b[0;34m\u001b[0m\u001b[0;34m\u001b[0m\u001b[0m\n\u001b[1;32m    418\u001b[0m             \u001b[0;32mbreak\u001b[0m\u001b[0;34m\u001b[0m\u001b[0;34m\u001b[0m\u001b[0m\n",
      "\u001b[0;32m/usr/lib/python3.6/sre_parse.py\u001b[0m in \u001b[0;36m_parse\u001b[0;34m(source, state, verbose, nested, first)\u001b[0m\n\u001b[1;32m    551\u001b[0m                     \u001b[0;32mif\u001b[0m \u001b[0mhi\u001b[0m \u001b[0;34m<\u001b[0m \u001b[0mlo\u001b[0m\u001b[0;34m:\u001b[0m\u001b[0;34m\u001b[0m\u001b[0;34m\u001b[0m\u001b[0m\n\u001b[1;32m    552\u001b[0m                         \u001b[0mmsg\u001b[0m \u001b[0;34m=\u001b[0m \u001b[0;34m\"bad character range %s-%s\"\u001b[0m \u001b[0;34m%\u001b[0m \u001b[0;34m(\u001b[0m\u001b[0mthis\u001b[0m\u001b[0;34m,\u001b[0m \u001b[0mthat\u001b[0m\u001b[0;34m)\u001b[0m\u001b[0;34m\u001b[0m\u001b[0;34m\u001b[0m\u001b[0m\n\u001b[0;32m--> 553\u001b[0;31m                         \u001b[0;32mraise\u001b[0m \u001b[0msource\u001b[0m\u001b[0;34m.\u001b[0m\u001b[0merror\u001b[0m\u001b[0;34m(\u001b[0m\u001b[0mmsg\u001b[0m\u001b[0;34m,\u001b[0m \u001b[0mlen\u001b[0m\u001b[0;34m(\u001b[0m\u001b[0mthis\u001b[0m\u001b[0;34m)\u001b[0m \u001b[0;34m+\u001b[0m \u001b[0;36m1\u001b[0m \u001b[0;34m+\u001b[0m \u001b[0mlen\u001b[0m\u001b[0;34m(\u001b[0m\u001b[0mthat\u001b[0m\u001b[0;34m)\u001b[0m\u001b[0;34m)\u001b[0m\u001b[0;34m\u001b[0m\u001b[0;34m\u001b[0m\u001b[0m\n\u001b[0m\u001b[1;32m    554\u001b[0m                     \u001b[0msetappend\u001b[0m\u001b[0;34m(\u001b[0m\u001b[0;34m(\u001b[0m\u001b[0mRANGE\u001b[0m\u001b[0;34m,\u001b[0m \u001b[0;34m(\u001b[0m\u001b[0mlo\u001b[0m\u001b[0;34m,\u001b[0m \u001b[0mhi\u001b[0m\u001b[0;34m)\u001b[0m\u001b[0;34m)\u001b[0m\u001b[0;34m)\u001b[0m\u001b[0;34m\u001b[0m\u001b[0;34m\u001b[0m\u001b[0m\n\u001b[1;32m    555\u001b[0m                 \u001b[0;32melse\u001b[0m\u001b[0;34m:\u001b[0m\u001b[0;34m\u001b[0m\u001b[0;34m\u001b[0m\u001b[0m\n",
      "\u001b[0;31merror\u001b[0m: bad character range i-- at position 5974 (line 20, column 36)"
     ]
    }
   ],
   "source": [
    "import re\n",
    "import requests\n",
    "\n",
    "def main(site_url, substring):    \n",
    "    site_code = get_site_code(site_url)\n",
    "    matching_substrings = get_matching_substrings(site_code, substring)\n",
    "    print('\"{}\" found {} times in {}'.format(\n",
    "        substring, len(matching_substrings), site_url\n",
    "    ))\n",
    "    \n",
    "def get_site_code(site_url):\n",
    "    if not site_url.startswith('http'):\n",
    "        site_url = 'http://' + site_url\n",
    "\n",
    "    return requests.get(site_url).text\n",
    "\n",
    "def get_matching_substrings(source, substring):\n",
    "    return re.findall(source, substring)\n",
    "\n",
    "\n",
    "main('mail.ru', 'script')"
   ]
  },
  {
   "cell_type": "markdown",
   "metadata": {},
   "source": [
    "Чтобы запустить отладчик в нашей программе, мы можем импортировать pdb и вызвать команду pdb.set_trace в том месте кода, где мы хотим остановить выполнение и начать отладку.\n",
    "\n",
    "Если мы теперь запустим программу, она не дойдёт до ошибки, а остановится именно в том месте, где мы определили наш отладчик. Можем посмотреть, где это находится, с помощью команды ll (long list). Печатаем эту команду прямо в окошко Pdb.\n",
    "\n",
    "Все команды отладчика посмотреть с помощью функции help. Чтобы узнать, что делает конкретная команда, пишут знак вопроса и затем название команды. Например, команда p — это сокращение от print, она выводит выражение (например, можем вывести переменную, которая находится в области нашей видимости).\n",
    "\n",
    "Есть полезная команда args, которая говорит о том, какие аргументы переданы функции, в которой мы находимся. Сейчас мы находимся в функции main, аргументы переданы правильно и всё корректно:\n",
    "\n",
    "Итак, дальше есть несколько опций. Мы можем написать continue или c и продолжить исполнение до конца, пока не закончится программа, не упадёт исключение или не появится брейкпоинт. Также мы можем написать step, чтобы попасть внутрь функции, однако у нас ошибка не внутри функции, а дальше, поэтому мы напишем next и перейдём на\n",
    "следующую строку. Следующая строка — это вызов функции get_matching_substrings, именно он нас интересует. Пройдём внуть функции, набрав step. Дальше — вызов функции findall, в котором и была ошибка.\n",
    "\n",
    "Итак, мы в findall передаём source и substring и пытаемся найти substring в source. Давайте зайдём в findall, которая определена в стандартной библиотеке.\n",
    "\n",
    "Внимательный читатель уже заметил, в чём была ошибка, посмотрев на определение findall. Функция findall принимает вначале паттерн, а потом строку, и ищет этот паттерн в строке, а мы передаём ровно наоборот. Именно это и является ошибкой. Давайте выйдем или продолжим исполнение. Чтобы выйти, нужно написать q или quit. "
   ]
  },
  {
   "cell_type": "code",
   "execution_count": 11,
   "metadata": {},
   "outputs": [
    {
     "name": "stdout",
     "output_type": "stream",
     "text": [
      "> <ipython-input-11-2b4911ff4c00>(8)main()\n",
      "-> site_code = get_site_code(site_url)\n",
      "(Pdb) ll\n",
      "  4  \tdef main(site_url, substring):\n",
      "  5  \t    import pdb\n",
      "  6  \t    pdb.set_trace()\n",
      "  7  \t\n",
      "  8  ->\t    site_code = get_site_code(site_url)\n",
      "  9  \t    matching_substrings = get_matching_substrings(site_code, substring)\n",
      " 10  \t    print('\"{}\" found {} times in {}'.format(\n",
      " 11  \t        substring, len(matching_substrings), site_url\n",
      " 12  \t    ))\n",
      "(Pdb) ? ll\n",
      "longlist | ll\n",
      "        List the whole source code for the current function or frame.\n",
      "(Pdb) ? p\n",
      "p expression\n",
      "        Print the value of the expression.\n",
      "(Pdb) p\n",
      "*** SyntaxError: unexpected EOF while parsing\n",
      "(Pdb) args\n",
      "site_url = 'mail.ru'\n",
      "substring = 'script'\n",
      "(Pdb) ? args\n",
      "a(rgs)\n",
      "        Print the argument list of the current function.\n",
      "(Pdb) next\n",
      "> <ipython-input-11-2b4911ff4c00>(9)main()\n",
      "-> matching_substrings = get_matching_substrings(site_code, substring)\n",
      "(Pdb) s\n",
      "--Call--\n",
      "> <ipython-input-11-2b4911ff4c00>(20)get_matching_substrings()\n",
      "-> def get_matching_substrings(source, substring):\n",
      "(Pdb) n\n",
      "> <ipython-input-11-2b4911ff4c00>(21)get_matching_substrings()\n",
      "-> return re.findall(substring, source)\n",
      "(Pdb) s\n",
      "--Call--\n",
      "> /usr/lib/python3.6/re.py(214)findall()\n",
      "-> def findall(pattern, string, flags=0):\n",
      "(Pdb) q\n"
     ]
    },
    {
     "ename": "BdbQuit",
     "evalue": "",
     "output_type": "error",
     "traceback": [
      "\u001b[0;31m---------------------------------------------------------------------------\u001b[0m",
      "\u001b[0;31mBdbQuit\u001b[0m                                   Traceback (most recent call last)",
      "\u001b[0;32m<ipython-input-11-2b4911ff4c00>\u001b[0m in \u001b[0;36m<module>\u001b[0;34m()\u001b[0m\n\u001b[1;32m     22\u001b[0m \u001b[0;34m\u001b[0m\u001b[0m\n\u001b[1;32m     23\u001b[0m \u001b[0;34m\u001b[0m\u001b[0m\n\u001b[0;32m---> 24\u001b[0;31m \u001b[0mmain\u001b[0m\u001b[0;34m(\u001b[0m\u001b[0;34m'mail.ru'\u001b[0m\u001b[0;34m,\u001b[0m \u001b[0;34m'script'\u001b[0m\u001b[0;34m)\u001b[0m\u001b[0;34m\u001b[0m\u001b[0;34m\u001b[0m\u001b[0m\n\u001b[0m",
      "\u001b[0;32m<ipython-input-11-2b4911ff4c00>\u001b[0m in \u001b[0;36mmain\u001b[0;34m(site_url, substring)\u001b[0m\n\u001b[1;32m      7\u001b[0m \u001b[0;34m\u001b[0m\u001b[0m\n\u001b[1;32m      8\u001b[0m     \u001b[0msite_code\u001b[0m \u001b[0;34m=\u001b[0m \u001b[0mget_site_code\u001b[0m\u001b[0;34m(\u001b[0m\u001b[0msite_url\u001b[0m\u001b[0;34m)\u001b[0m\u001b[0;34m\u001b[0m\u001b[0;34m\u001b[0m\u001b[0m\n\u001b[0;32m----> 9\u001b[0;31m     \u001b[0mmatching_substrings\u001b[0m \u001b[0;34m=\u001b[0m \u001b[0mget_matching_substrings\u001b[0m\u001b[0;34m(\u001b[0m\u001b[0msite_code\u001b[0m\u001b[0;34m,\u001b[0m \u001b[0msubstring\u001b[0m\u001b[0;34m)\u001b[0m\u001b[0;34m\u001b[0m\u001b[0;34m\u001b[0m\u001b[0m\n\u001b[0m\u001b[1;32m     10\u001b[0m     print('\"{}\" found {} times in {}'.format(\n\u001b[1;32m     11\u001b[0m         \u001b[0msubstring\u001b[0m\u001b[0;34m,\u001b[0m \u001b[0mlen\u001b[0m\u001b[0;34m(\u001b[0m\u001b[0mmatching_substrings\u001b[0m\u001b[0;34m)\u001b[0m\u001b[0;34m,\u001b[0m \u001b[0msite_url\u001b[0m\u001b[0;34m\u001b[0m\u001b[0;34m\u001b[0m\u001b[0m\n",
      "\u001b[0;32m<ipython-input-11-2b4911ff4c00>\u001b[0m in \u001b[0;36mget_matching_substrings\u001b[0;34m(source, substring)\u001b[0m\n\u001b[1;32m     19\u001b[0m \u001b[0;34m\u001b[0m\u001b[0m\n\u001b[1;32m     20\u001b[0m \u001b[0;32mdef\u001b[0m \u001b[0mget_matching_substrings\u001b[0m\u001b[0;34m(\u001b[0m\u001b[0msource\u001b[0m\u001b[0;34m,\u001b[0m \u001b[0msubstring\u001b[0m\u001b[0;34m)\u001b[0m\u001b[0;34m:\u001b[0m\u001b[0;34m\u001b[0m\u001b[0;34m\u001b[0m\u001b[0m\n\u001b[0;32m---> 21\u001b[0;31m     \u001b[0;32mreturn\u001b[0m \u001b[0mre\u001b[0m\u001b[0;34m.\u001b[0m\u001b[0mfindall\u001b[0m\u001b[0;34m(\u001b[0m\u001b[0msubstring\u001b[0m\u001b[0;34m,\u001b[0m \u001b[0msource\u001b[0m\u001b[0;34m)\u001b[0m\u001b[0;34m\u001b[0m\u001b[0;34m\u001b[0m\u001b[0m\n\u001b[0m\u001b[1;32m     22\u001b[0m \u001b[0;34m\u001b[0m\u001b[0m\n\u001b[1;32m     23\u001b[0m \u001b[0;34m\u001b[0m\u001b[0m\n",
      "\u001b[0;32m/usr/lib/python3.6/re.py\u001b[0m in \u001b[0;36mfindall\u001b[0;34m(pattern, string, flags)\u001b[0m\n\u001b[1;32m    212\u001b[0m     \u001b[0;32mreturn\u001b[0m \u001b[0m_compile\u001b[0m\u001b[0;34m(\u001b[0m\u001b[0mpattern\u001b[0m\u001b[0;34m,\u001b[0m \u001b[0mflags\u001b[0m\u001b[0;34m)\u001b[0m\u001b[0;34m.\u001b[0m\u001b[0msplit\u001b[0m\u001b[0;34m(\u001b[0m\u001b[0mstring\u001b[0m\u001b[0;34m,\u001b[0m \u001b[0mmaxsplit\u001b[0m\u001b[0;34m)\u001b[0m\u001b[0;34m\u001b[0m\u001b[0;34m\u001b[0m\u001b[0m\n\u001b[1;32m    213\u001b[0m \u001b[0;34m\u001b[0m\u001b[0m\n\u001b[0;32m--> 214\u001b[0;31m \u001b[0;32mdef\u001b[0m \u001b[0mfindall\u001b[0m\u001b[0;34m(\u001b[0m\u001b[0mpattern\u001b[0m\u001b[0;34m,\u001b[0m \u001b[0mstring\u001b[0m\u001b[0;34m,\u001b[0m \u001b[0mflags\u001b[0m\u001b[0;34m=\u001b[0m\u001b[0;36m0\u001b[0m\u001b[0;34m)\u001b[0m\u001b[0;34m:\u001b[0m\u001b[0;34m\u001b[0m\u001b[0;34m\u001b[0m\u001b[0m\n\u001b[0m\u001b[1;32m    215\u001b[0m     \"\"\"Return a list of all non-overlapping matches in the string.\n\u001b[1;32m    216\u001b[0m \u001b[0;34m\u001b[0m\u001b[0m\n",
      "\u001b[0;32m/usr/lib/python3.6/bdb.py\u001b[0m in \u001b[0;36mtrace_dispatch\u001b[0;34m(self, frame, event, arg)\u001b[0m\n\u001b[1;32m     51\u001b[0m             \u001b[0;32mreturn\u001b[0m \u001b[0mself\u001b[0m\u001b[0;34m.\u001b[0m\u001b[0mdispatch_line\u001b[0m\u001b[0;34m(\u001b[0m\u001b[0mframe\u001b[0m\u001b[0;34m)\u001b[0m\u001b[0;34m\u001b[0m\u001b[0;34m\u001b[0m\u001b[0m\n\u001b[1;32m     52\u001b[0m         \u001b[0;32mif\u001b[0m \u001b[0mevent\u001b[0m \u001b[0;34m==\u001b[0m \u001b[0;34m'call'\u001b[0m\u001b[0;34m:\u001b[0m\u001b[0;34m\u001b[0m\u001b[0;34m\u001b[0m\u001b[0m\n\u001b[0;32m---> 53\u001b[0;31m             \u001b[0;32mreturn\u001b[0m \u001b[0mself\u001b[0m\u001b[0;34m.\u001b[0m\u001b[0mdispatch_call\u001b[0m\u001b[0;34m(\u001b[0m\u001b[0mframe\u001b[0m\u001b[0;34m,\u001b[0m \u001b[0marg\u001b[0m\u001b[0;34m)\u001b[0m\u001b[0;34m\u001b[0m\u001b[0;34m\u001b[0m\u001b[0m\n\u001b[0m\u001b[1;32m     54\u001b[0m         \u001b[0;32mif\u001b[0m \u001b[0mevent\u001b[0m \u001b[0;34m==\u001b[0m \u001b[0;34m'return'\u001b[0m\u001b[0;34m:\u001b[0m\u001b[0;34m\u001b[0m\u001b[0;34m\u001b[0m\u001b[0m\n\u001b[1;32m     55\u001b[0m             \u001b[0;32mreturn\u001b[0m \u001b[0mself\u001b[0m\u001b[0;34m.\u001b[0m\u001b[0mdispatch_return\u001b[0m\u001b[0;34m(\u001b[0m\u001b[0mframe\u001b[0m\u001b[0;34m,\u001b[0m \u001b[0marg\u001b[0m\u001b[0;34m)\u001b[0m\u001b[0;34m\u001b[0m\u001b[0;34m\u001b[0m\u001b[0m\n",
      "\u001b[0;32m/usr/lib/python3.6/bdb.py\u001b[0m in \u001b[0;36mdispatch_call\u001b[0;34m(self, frame, arg)\u001b[0m\n\u001b[1;32m     84\u001b[0m             \u001b[0;32mreturn\u001b[0m \u001b[0mself\u001b[0m\u001b[0;34m.\u001b[0m\u001b[0mtrace_dispatch\u001b[0m\u001b[0;34m\u001b[0m\u001b[0;34m\u001b[0m\u001b[0m\n\u001b[1;32m     85\u001b[0m         \u001b[0mself\u001b[0m\u001b[0;34m.\u001b[0m\u001b[0muser_call\u001b[0m\u001b[0;34m(\u001b[0m\u001b[0mframe\u001b[0m\u001b[0;34m,\u001b[0m \u001b[0marg\u001b[0m\u001b[0;34m)\u001b[0m\u001b[0;34m\u001b[0m\u001b[0;34m\u001b[0m\u001b[0m\n\u001b[0;32m---> 86\u001b[0;31m         \u001b[0;32mif\u001b[0m \u001b[0mself\u001b[0m\u001b[0;34m.\u001b[0m\u001b[0mquitting\u001b[0m\u001b[0;34m:\u001b[0m \u001b[0;32mraise\u001b[0m \u001b[0mBdbQuit\u001b[0m\u001b[0;34m\u001b[0m\u001b[0;34m\u001b[0m\u001b[0m\n\u001b[0m\u001b[1;32m     87\u001b[0m         \u001b[0;32mreturn\u001b[0m \u001b[0mself\u001b[0m\u001b[0;34m.\u001b[0m\u001b[0mtrace_dispatch\u001b[0m\u001b[0;34m\u001b[0m\u001b[0;34m\u001b[0m\u001b[0m\n\u001b[1;32m     88\u001b[0m \u001b[0;34m\u001b[0m\u001b[0m\n",
      "\u001b[0;31mBdbQuit\u001b[0m: "
     ]
    }
   ],
   "source": [
    "import re\n",
    "import requests\n",
    "\n",
    "def main(site_url, substring):\n",
    "    import pdb\n",
    "    pdb.set_trace()\n",
    "    \n",
    "    site_code = get_site_code(site_url)\n",
    "    matching_substrings = get_matching_substrings(site_code, substring)\n",
    "    print('\"{}\" found {} times in {}'.format(\n",
    "        substring, len(matching_substrings), site_url\n",
    "    ))\n",
    "    \n",
    "def get_site_code(site_url):\n",
    "    if not site_url.startswith('http'):\n",
    "        site_url = 'http://' + site_url\n",
    "\n",
    "    return requests.get(site_url).text\n",
    "\n",
    "def get_matching_substrings(source, substring):\n",
    "    return re.findall(source, substring)\n",
    "\n",
    "\n",
    "main('mail.ru', 'script')"
   ]
  },
  {
   "cell_type": "markdown",
   "metadata": {},
   "source": [
    "Если мы исправим нашу ошибку, программа заработает и выдаст результат:"
   ]
  },
  {
   "cell_type": "code",
   "execution_count": 13,
   "metadata": {},
   "outputs": [
    {
     "name": "stdout",
     "output_type": "stream",
     "text": [
      "\"script\" found 294 times in mail.ru\n"
     ]
    }
   ],
   "source": [
    "import re\n",
    "import requests\n",
    "\n",
    "def main(site_url, substring):\n",
    "    site_code = get_site_code(site_url)\n",
    "    matching_substrings = get_matching_substrings(site_code, substring)\n",
    "    print('\"{}\" found {} times in {}'.format(\n",
    "        substring, len(matching_substrings), site_url\n",
    "    ))\n",
    "    \n",
    "def get_site_code(site_url):\n",
    "    if not site_url.startswith('http'):\n",
    "        site_url = 'http://' + site_url\n",
    "\n",
    "    return requests.get(site_url).text\n",
    "\n",
    "def get_matching_substrings(source, substring):\n",
    "    return re.findall(substring, source)\n",
    "\n",
    "\n",
    "main('mail.ru', 'script')"
   ]
  },
  {
   "cell_type": "markdown",
   "metadata": {},
   "source": [
    "Часто вам необходимо отлаживать не в одном месте, и вы хотите исполнение до определённого момента. На помощь приходят брейкпоинты, которые очень удобно ставятся в IDE. В pdb можно воспользоваться командой b, которая, если написать её без аргументов, выводит все брейкопоинты, которые мы уже определили. Если мы используем эту команду с номером строки (например, b 10), она поставит брейкопоинт на десятую строку. И когда исполнение программы дойдёт до этой строки, интерпретатор Python остановится. Мы можем написать continue и остановиться ровно на нашем брейкпоинте.\n",
    "\n",
    "Итак, мы познакомились с Python Debugger-ом — простым и удобным инструментом для отладки программ на Python, которым можно пользоваться как в Jupyter Notebook, так и в консоли."
   ]
  },
  {
   "cell_type": "markdown",
   "metadata": {},
   "source": [
    "### 4.3.2. Тестирование\n",
    "\n",
    "Настало время поговорить о тестировании, которого так бояться многие программисты.\n",
    "\n",
    "Если вы работаете над большим, быстро изменяющимся проектом с большим количеством разработчиков, вам нужно постоянно проверять, правильно ли работает ваша программа в различных условиях. Именно это и называется тестированием. Тестированию можно посвятить отдельную тему, курс и даже специализацию, потому что это огромная область. Мы с вами разберем наиболее популярный и распространенный вид тестирования — это unit-тестирование.\n",
    "\n",
    "Unit-тесты призваны протестировать небольшую функцию, класс или модуль — посмотреть, корректно ли он работает. Чтобы определить свой unittest можно воспользоваться стандартной библиотекой модулей unittest и определить свой класс, который наследуется от TestCase из модуля unittest. Внутри класса вы можете определить функции, которые и будут являться тестами. Каждая функция, которая начинается с test_ является тестом. В следующем примере мы хотим проверить, правильно ли у нас приводится типы, и например, корректно ли у нас работает функция get у пустого словаря. Делается это с помощью методов TestCase: assertEqual, assertIsNone, assertRaises и т.д. (подробнее можно прочесть в документации). Все они делают одно: проверяют, корректно ли работает выражение, правильно ли вызывается функция и так далее:\n",
    "\n",
    "```python\n",
    "# test_python.py\n",
    "\n",
    "import unittest\n",
    "\n",
    "\n",
    "class TestPython(unittest.TestCase):\n",
    "    def test_float_to_int_coercion(self):\n",
    "        self.assertEqual(1, int(1.0))\n",
    "        \n",
    "    def test_get_empty_dict(self):\n",
    "        self.assertIsNone({}.get('key'))\n",
    "\n",
    "    def test_trueness(self):\n",
    "        self.assertTrue(bool(10))\n",
    "```\n",
    "\n",
    "```bash\n",
    "python3 -m unittest test_python.py\n",
    "```\n",
    "\n",
    "...\n",
    "\n",
    "\\-\\-\\-\\-\\-\\-\\-\\-\\-\\-\\-\\-\\-\\-\\-\\-\\-\\-\\-\\-\\-\\-\\-\\-\\-\\-\\-\\-\\-\\-\\-\\-\\-\\-\\-\\-\\-\\-\\-\\-\\-\\-\\-\\-\\-\\-\\-\\-\\-\\-\\-\\-\\-\\-\\-\\-\\-\\-\\-\\-\\-\\-\\-\\-\\-\\-\\-\\-\\-\\-\n",
    "\n",
    "Ran 3 tests in 0.000s\n",
    "\n",
    "OK\n",
    "\n",
    "Наши тесты прошли --- об этом говорят три точки и надпись. "
   ]
  },
  {
   "cell_type": "markdown",
   "metadata": {},
   "source": [
    "Давайте запустим тест, который не должен проходить, и посмотрим, что из этого выйдет:\n",
    "\n",
    "```python\n",
    "# test_division.py\n",
    "\n",
    "import unittest\n",
    "\n",
    "\n",
    "class TestDivision(unittest.TestCase):\n",
    "    def test_integer_division(self):\n",
    "        self.assertIs(10 / 5, 2)\n",
    "```\n",
    "\n",
    "```bash\n",
    "python3 -m unittest test_division.py\n",
    "```\n",
    "\n",
    "F\n",
    "\n",
    "\\=\\=\\=\\=\\=\\=\\=\\=\\=\\=\\=\\=\\=\\=\\=\\=\\=\\=\\=\\=\\=\\=\\=\\=\\=\\=\\=\\=\\=\\=\\=\\=\\=\\=\\=\\=\\=\\=\\=\\=\\=\\=\\=\\=\\=\\=\\=\\=\\=\\=\\=\\=\\=\\=\\=\\=\\=\\=\\=\\=\\=\\=\\=\\=\\=\\=\\=\\=\\=\\=\n",
    "\n",
    "FAIL: test_integer_division (test_division.TestDivision)\n",
    "\n",
    "\\-\\-\\-\\-\\-\\-\\-\\-\\-\\-\\-\\-\\-\\-\\-\\-\\-\\-\\-\\-\\-\\-\\-\\-\\-\\-\\-\\-\\-\\-\\-\\-\\-\\-\\-\\-\\-\\-\\-\\-\\-\\-\\-\\-\\-\\-\\-\\-\\-\\-\\-\\-\\-\\-\\-\\-\\-\\-\\-\\-\\-\\-\\-\\-\\-\\-\\-\\-\\-\\-\n",
    "\n",
    "Traceback (most recent call last):\n",
    "  File \"/home/puchkinda/home/coursera/python1/week4/test_division.py\", line 8, in test_integer_division\n",
    "    self.assertIs(10 / 5, 2)\n",
    "AssertionError: 2.0 is not 2\n",
    "\n",
    "----------------------------------------------------------------------\n",
    "\n",
    "Ran 1 test in 0.000s\n",
    "\n",
    "FAILED (failures=1)\n",
    "\n",
    "Да, наш тест упал. Об этом говорит буква F и дальнейшее описание. Можем посмотреть, какая функция упала и с каким AssertionError.\n",
    "\n",
    "В случае падения одного из тестов остальные тестовые функции все равно запустятся, и мы получим результат для всех тестов."
   ]
  },
  {
   "cell_type": "markdown",
   "metadata": {},
   "source": [
    "Давайте посмотрим на конкретный пример — напишем свой собственный класс и попробуем его протестировать. Пусть это будет Asteroid для работы с открытым API NASA по астероидам и прочим телам, которые летают вокруг Земли:"
   ]
  },
  {
   "cell_type": "code",
   "execution_count": 18,
   "metadata": {},
   "outputs": [],
   "source": [
    "# asteroid.py\n",
    "\n",
    "import requests\n",
    "\n",
    "\n",
    "class Asteroid:\n",
    "    BASE_API_URL = 'https://api.nasa.gov/neo/rest/v1/neo/{}?api_key=DEMO_KEY'\n",
    "\n",
    "    def __init__(self, spk_id):\n",
    "        self.api_url = self.BASE_API_URL.format(spk_id)\n",
    "\n",
    "    def get_data(self):\n",
    "        return requests.get(self.api_url).json()\n",
    "\n",
    "    @property\n",
    "    def name(self):\n",
    "        return self.get_data()['name']\n",
    "\n",
    "    @property\n",
    "    def diameter(self):\n",
    "        return int(self.get_data()['estimated_diameter']['meters']['estimated_diameter_max'])\n",
    "    \n",
    "    @property\n",
    "    def closest_approach(self):\n",
    "        closest = {\n",
    "            'date': None,\n",
    "            'distance': float('inf')\n",
    "        }\n",
    "        for approach in self.get_data()['close_approach_data']:\n",
    "            distance = float(approach['miss_distance']['lunar'])\n",
    "            if distance < closest['distance']:\n",
    "                closest.update({\n",
    "                    'date': approach['close_approach_date'],\n",
    "                    'distance': distance\n",
    "                })\n",
    "        return closest"
   ]
  },
  {
   "cell_type": "markdown",
   "metadata": {},
   "source": [
    "Вы можете заметить, что мы каждый раз вызываем функцию get_data и каждый раз идем в Интернет. Действительно, это можно оптимизировать ,\n",
    "Давайте протестируем наш класс и посмотрим, корректно ли работают функции name и diameter. Однако, есть некоторая тонкость. Каждый раз, когда мы будем запускать тесты, TestCase будет ходить в Интернет, потому что запускается функция get_data. Это не всегда будет работать, т.к. мы можем запускать наши тесты в окружении без Интернета (или Интернет медленный, или мы экономим трафик). То же самое можно сказать про работу с сетями вообще или другими ресурсами, например, с диском (возможно, мы не хотим загружать диск). Что же делать в таком случае? Рассмотрим на примере несколько полезных механизмов.\n",
    "\n",
    "Итак, давайте протестируем наш класс Asteroid на примере астероида Апофис (довольно большой астероид, сближающийся с Землёй):"
   ]
  },
  {
   "cell_type": "code",
   "execution_count": 17,
   "metadata": {},
   "outputs": [
    {
     "name": "stdout",
     "output_type": "stream",
     "text": [
      "Name: 99942 Apophis (2004 MN4)\n",
      "Diameter: 682m\n"
     ]
    }
   ],
   "source": [
    "apophis = Asteroid(2099942)\n",
    "\n",
    "print(f'Name: {apophis.name}')\n",
    "print(f'Diameter: {apophis.diameter}m')"
   ]
  },
  {
   "cell_type": "markdown",
   "metadata": {},
   "source": [
    "Напишем TestCase для нашего класса. Сначала определяем новую функцию setUp, призванную \"засетапить\" окружение, которое будет работать во время исполнения тестовой функции. Таким образом, если нам нужно работать с объектом класса Asteroid, функция setUp будет в начале исполнения каждой функции создавать этот объект, чтобы не дублировать код в начале тестовых функций. (Существует симметричный метод, который называется tearDown, который позволяет закрывать ресурсы и удалять объекты в конце каждой тестовой функции.) То есть setUp запускается у объекта (не класса) каждый раз перед запуском очередного теста.\n",
    "\n",
    "Давайте напишем две тестовые функции, которые будут проверять работу name и diameter. Однако, что если мы тестируем наши функции в окружении без Интернета?\n",
    "\n",
    "На помощь приходит механизм mock-ов из модуля unittest.mock, который позволяет подменять одни функции другими. Таким образом, мы можем на самом деле не ходить в Интернет, а читать информацию из файла. В следующем примере мы подменим функцию get_data другой функцией, которая просто читает из файла. Делается это с помощью декоратора @patch. Мы можем проверять внутри тестовой функции определенные условия — в данном случае корректность имени астероида и значения его размера:\n",
    "\n",
    "```python\n",
    "# test_asteroid.py\n",
    "\n",
    "import json\n",
    "import unittest\n",
    "from unittest.mock import patch\n",
    "\n",
    "from asteroid import Asteroid\n",
    "\n",
    "\n",
    "class TestAsteroid(unittest.TestCase):\n",
    "    def setUp(self):\n",
    "        self.asteroid = Asteroid(2099942)\n",
    "\n",
    "    def mocked_get_data(self):\n",
    "        with open('apophis_fixture.txt') as f:\n",
    "            return json.loads(f.read())\n",
    "\n",
    "    @patch('asteroid.Asteroid.get_data', mocked_get_data)\n",
    "    def test_name(self):\n",
    "        self.assertEqual(\n",
    "            self.asteroid.name, '99942 Apophis (2004 MN4)'\n",
    "        )\n",
    "\n",
    "    @patch('asteroid.Asteroid.get_data', mocked_get_data)\n",
    "    def test_diameter(self):\n",
    "        self.assertEqual(self.asteroid.diameter, 682)\n",
    "```\n",
    "\n",
    "Запустим наш тестовый класс:\n",
    "\n",
    "```bash\n",
    "python3 -m unittest test_asteroid.py\n",
    "```\n",
    "\n",
    "...\n",
    "\n",
    "\\-\\-\\-\\-\\-\\-\\-\\-\\-\\-\\-\\-\\-\\-\\-\\-\\-\\-\\-\\-\\-\\-\\-\\-\\-\\-\\-\\-\\-\\-\\-\\-\\-\\-\\-\\-\\-\\-\\-\\-\\-\\-\\-\\-\\-\\-\\-\\-\\-\\-\\-\\-\\-\\-\\-\\-\\-\\-\\-\\-\\-\\-\\-\\-\\-\\-\\-\\-\\-\\-\n",
    "\n",
    "Ran 2 tests in 0.004s\n",
    "\n",
    "OK"
   ]
  },
  {
   "cell_type": "markdown",
   "metadata": {},
   "source": [
    "Скорее всего вы не будете запускать тесты вручную. Это будет запускать автоматическая система. Также существует возможность автоматического нахождения тестов, которые лежат в директории tests.\n",
    "\n",
    "Мы написали тест для нашего класса и знаем, что у атрибуты name и diameter работают корректно. Осталось только выяснить, когда прилетит астероид и насколько близко (как видите, довольно близко, но специалисты лаборатории реактивного движения NASA заявили, что возможность столкновения с Землёй в 2029 году исключена, LD --- расстояние от Земли до Луны, здесь это одна десятая):"
   ]
  },
  {
   "cell_type": "code",
   "execution_count": 19,
   "metadata": {},
   "outputs": [
    {
     "name": "stdout",
     "output_type": "stream",
     "text": [
      "Date: 2029-04-13\n",
      "Distance: 0.098 LD\n"
     ]
    }
   ],
   "source": [
    "print(f'Date: {apophis.closest_approach[\"date\"]}')\n",
    "print(f'Distance: {apophis.closest_approach[\"distance\"]:.2} LD')"
   ]
  }
 ],
 "metadata": {
  "kernelspec": {
   "display_name": "Python 3",
   "language": "python",
   "name": "python3"
  },
  "language_info": {
   "codemirror_mode": {
    "name": "ipython",
    "version": 3
   },
   "file_extension": ".py",
   "mimetype": "text/x-python",
   "name": "python",
   "nbconvert_exporter": "python",
   "pygments_lexer": "ipython3",
   "version": "3.6.9"
  }
 },
 "nbformat": 4,
 "nbformat_minor": 2
}
